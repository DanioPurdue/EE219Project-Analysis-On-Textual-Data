{
 "cells": [
  {
   "cell_type": "code",
   "execution_count": 8,
   "metadata": {},
   "outputs": [],
   "source": [
    "import numpy as np\n",
    "import pandas as pd\n",
    "import matplotlib.pyplot as plt\n",
    "import pylab as pl"
   ]
  },
  {
   "cell_type": "code",
   "execution_count": 2,
   "metadata": {},
   "outputs": [
    {
     "data": {
      "text/html": [
       "<div>\n",
       "<style scoped>\n",
       "    .dataframe tbody tr th:only-of-type {\n",
       "        vertical-align: middle;\n",
       "    }\n",
       "\n",
       "    .dataframe tbody tr th {\n",
       "        vertical-align: top;\n",
       "    }\n",
       "\n",
       "    .dataframe thead th {\n",
       "        text-align: right;\n",
       "    }\n",
       "</style>\n",
       "<table border=\"1\" class=\"dataframe\">\n",
       "  <thead>\n",
       "    <tr style=\"text-align: right;\">\n",
       "      <th></th>\n",
       "      <th>movieId</th>\n",
       "      <th>title</th>\n",
       "      <th>genres</th>\n",
       "    </tr>\n",
       "  </thead>\n",
       "  <tbody>\n",
       "    <tr>\n",
       "      <th>0</th>\n",
       "      <td>1</td>\n",
       "      <td>Toy Story (1995)</td>\n",
       "      <td>Adventure|Animation|Children|Comedy|Fantasy</td>\n",
       "    </tr>\n",
       "    <tr>\n",
       "      <th>1</th>\n",
       "      <td>2</td>\n",
       "      <td>Jumanji (1995)</td>\n",
       "      <td>Adventure|Children|Fantasy</td>\n",
       "    </tr>\n",
       "    <tr>\n",
       "      <th>2</th>\n",
       "      <td>3</td>\n",
       "      <td>Grumpier Old Men (1995)</td>\n",
       "      <td>Comedy|Romance</td>\n",
       "    </tr>\n",
       "    <tr>\n",
       "      <th>3</th>\n",
       "      <td>4</td>\n",
       "      <td>Waiting to Exhale (1995)</td>\n",
       "      <td>Comedy|Drama|Romance</td>\n",
       "    </tr>\n",
       "    <tr>\n",
       "      <th>4</th>\n",
       "      <td>5</td>\n",
       "      <td>Father of the Bride Part II (1995)</td>\n",
       "      <td>Comedy</td>\n",
       "    </tr>\n",
       "  </tbody>\n",
       "</table>\n",
       "</div>"
      ],
      "text/plain": [
       "   movieId                               title  \\\n",
       "0        1                    Toy Story (1995)   \n",
       "1        2                      Jumanji (1995)   \n",
       "2        3             Grumpier Old Men (1995)   \n",
       "3        4            Waiting to Exhale (1995)   \n",
       "4        5  Father of the Bride Part II (1995)   \n",
       "\n",
       "                                        genres  \n",
       "0  Adventure|Animation|Children|Comedy|Fantasy  \n",
       "1                   Adventure|Children|Fantasy  \n",
       "2                               Comedy|Romance  \n",
       "3                         Comedy|Drama|Romance  \n",
       "4                                       Comedy  "
      ]
     },
     "execution_count": 2,
     "metadata": {},
     "output_type": "execute_result"
    }
   ],
   "source": [
    "movies_df = pd.read_csv(\"ml-latest-small/movies.csv\")\n",
    "movies_df.head()"
   ]
  },
  {
   "cell_type": "code",
   "execution_count": 9,
   "metadata": {},
   "outputs": [
    {
     "data": {
      "text/html": [
       "<div>\n",
       "<style scoped>\n",
       "    .dataframe tbody tr th:only-of-type {\n",
       "        vertical-align: middle;\n",
       "    }\n",
       "\n",
       "    .dataframe tbody tr th {\n",
       "        vertical-align: top;\n",
       "    }\n",
       "\n",
       "    .dataframe thead th {\n",
       "        text-align: right;\n",
       "    }\n",
       "</style>\n",
       "<table border=\"1\" class=\"dataframe\">\n",
       "  <thead>\n",
       "    <tr style=\"text-align: right;\">\n",
       "      <th></th>\n",
       "      <th>userId</th>\n",
       "      <th>movieId</th>\n",
       "      <th>rating</th>\n",
       "      <th>timestamp</th>\n",
       "    </tr>\n",
       "  </thead>\n",
       "  <tbody>\n",
       "    <tr>\n",
       "      <th>0</th>\n",
       "      <td>1</td>\n",
       "      <td>1</td>\n",
       "      <td>4.0</td>\n",
       "      <td>964982703</td>\n",
       "    </tr>\n",
       "    <tr>\n",
       "      <th>1</th>\n",
       "      <td>1</td>\n",
       "      <td>3</td>\n",
       "      <td>4.0</td>\n",
       "      <td>964981247</td>\n",
       "    </tr>\n",
       "    <tr>\n",
       "      <th>2</th>\n",
       "      <td>1</td>\n",
       "      <td>6</td>\n",
       "      <td>4.0</td>\n",
       "      <td>964982224</td>\n",
       "    </tr>\n",
       "    <tr>\n",
       "      <th>3</th>\n",
       "      <td>1</td>\n",
       "      <td>47</td>\n",
       "      <td>5.0</td>\n",
       "      <td>964983815</td>\n",
       "    </tr>\n",
       "    <tr>\n",
       "      <th>4</th>\n",
       "      <td>1</td>\n",
       "      <td>50</td>\n",
       "      <td>5.0</td>\n",
       "      <td>964982931</td>\n",
       "    </tr>\n",
       "  </tbody>\n",
       "</table>\n",
       "</div>"
      ],
      "text/plain": [
       "   userId  movieId  rating  timestamp\n",
       "0       1        1     4.0  964982703\n",
       "1       1        3     4.0  964981247\n",
       "2       1        6     4.0  964982224\n",
       "3       1       47     5.0  964983815\n",
       "4       1       50     5.0  964982931"
      ]
     },
     "execution_count": 9,
     "metadata": {},
     "output_type": "execute_result"
    }
   ],
   "source": [
    "ratings_df = pd.read_csv(\"ml-latest-small/ratings.csv\")\n",
    "ratings_df.head()"
   ]
  },
  {
   "cell_type": "markdown",
   "metadata": {},
   "source": [
    "## Question 1"
   ]
  },
  {
   "cell_type": "code",
   "execution_count": 4,
   "metadata": {},
   "outputs": [
    {
     "name": "stdout",
     "output_type": "stream",
     "text": [
      "Total number of possible ratings: 5942620\n",
      "Total number of available ratings: 100836\n",
      "Sparsity 0.016968273253211548\n"
     ]
    }
   ],
   "source": [
    "total_users = ratings_df.userId.unique()\n",
    "len(total_users)\n",
    "all_pos_ratings = len(movies_df) * len(total_users)\n",
    "sparsity = len(ratings_df) / all_pos_ratings\n",
    "print(\"Total number of possible ratings:\", all_pos_ratings)\n",
    "print(\"Total number of available ratings:\", len(ratings_df))\n",
    "print(\"Sparsity\", sparsity)"
   ]
  },
  {
   "cell_type": "markdown",
   "metadata": {},
   "source": [
    "## Question 2"
   ]
  },
  {
   "cell_type": "code",
   "execution_count": 5,
   "metadata": {},
   "outputs": [
    {
     "name": "stdout",
     "output_type": "stream",
     "text": [
      "[0.0, 0.5, 1.0, 1.5, 2.0, 2.5, 3.0, 3.5, 4.0, 4.5, 5.0]\n"
     ]
    },
    {
     "data": {
      "image/png": "[encoded data removed]",
      "text/plain": [
       "<Figure size 432x288 with 1 Axes>"
      ]
     },
     "metadata": {
      "needs_background": "light"
     },
     "output_type": "display_data"
    }
   ],
   "source": [
    "r_bins = [x / 10.0 for x in range(0, 51, 5)]\n",
    "print(r_bins)\n",
    "plt.hist(ratings_df.rating, bins=r_bins)\n",
    "plt.xticks(r_bins)\n",
    "plt.show()"
   ]
  },
  {
   "cell_type": "markdown",
   "metadata": {},
   "source": [
    "The distribution is left skewed. People are more willing to rat the movies they like than rating the movies they displike."
   ]
  },
  {
   "cell_type": "markdown",
   "metadata": {},
   "source": [
    "## Question 3"
   ]
  },
  {
   "cell_type": "code",
   "execution_count": 6,
   "metadata": {},
   "outputs": [],
   "source": [
    "movie_ratings = dict()\n",
    "for i in range(len(ratings_df)):\n",
    "    id = ratings_df.loc[i, \"movieId\"]\n",
    "    if id in movie_ratings:\n",
    "        movie_ratings[id] = movie_ratings[id] + 1\n",
    "    else:\n",
    "        movie_ratings[id] = 1"
   ]
  },
  {
   "cell_type": "code",
   "execution_count": 7,
   "metadata": {},
   "outputs": [
    {
     "data": {
      "image/png": "[encoded data removed]",
      "text/plain": [
       "<Figure size 432x288 with 1 Axes>"
      ]
     },
     "metadata": {
      "needs_background": "light"
     },
     "output_type": "display_data"
    }
   ],
   "source": [
    "movie_lists = sorted(movie_ratings.items(), key=lambda x:-x[1]) #sorted by key\n",
    "x_id,y_cnt = zip(*movie_lists)\n",
    "xs = range(len(x_id))\n",
    "plt.plot(xs, y_cnt)\n",
    "plt.show()"
   ]
  },
  {
   "cell_type": "markdown",
   "metadata": {},
   "source": [
    "## Question 4"
   ]
  },
  {
   "cell_type": "code",
   "execution_count": 8,
   "metadata": {},
   "outputs": [
    {
     "data": {
      "image/png": "[encoded data removed]",
      "text/plain": [
       "<Figure size 432x288 with 1 Axes>"
      ]
     },
     "metadata": {
      "needs_background": "light"
     },
     "output_type": "display_data"
    }
   ],
   "source": [
    "user_cnt = dict()\n",
    "for i in range(len(ratings_df)):\n",
    "    id = ratings_df.loc[i, \"userId\"]\n",
    "    if id in user_cnt:\n",
    "        user_cnt[id] = user_cnt[id] + 1\n",
    "    else:\n",
    "        user_cnt[id] = 1\n",
    "user_list = sorted(user_cnt.items(), key=lambda x:-x[1])\n",
    "user_list\n",
    "u_id,y_cnt = zip(*movie_lists)\n",
    "xs = range(len(u_id))\n",
    "plt.plot(xs, y_cnt)\n",
    "plt.show()"
   ]
  },
  {
   "cell_type": "markdown",
   "metadata": {},
   "source": [
    "## Question 5"
   ]
  },
  {
   "cell_type": "markdown",
   "metadata": {},
   "source": [
    "The distribution has a really long tail, and this means that only a small portion of the movies have lots of ratings most of the movies have a small number of ratings. This means that the matrix is very sparse. The sparse matrix limits the coverage of neighborhood-based methods, and this creates challenges for robust similarity computation."
   ]
  },
  {
   "cell_type": "markdown",
   "metadata": {},
   "source": [
    "## Question 6"
   ]
  },
  {
   "cell_type": "code",
   "execution_count": 9,
   "metadata": {},
   "outputs": [
    {
     "data": {
      "image/png": "[encoded data removed]",
      "text/plain": [
       "<Figure size 432x288 with 1 Axes>"
      ]
     },
     "metadata": {
      "needs_background": "light"
     },
     "output_type": "display_data"
    }
   ],
   "source": [
    "movie_var = ratings_df.groupby(['movieId'])['rating'].var()\n",
    "movie_var.head()\n",
    "max_var = movie_var.max()\n",
    "min_var = movie_var.min()\n",
    "v_bins = [i / 10.0 for i in range(0, 106, 5)]\n",
    "movie_var.hist(bins=v_bins)\n",
    "# plt.xticks(v_bins)\n",
    "plt.show()"
   ]
  },
  {
   "cell_type": "markdown",
   "metadata": {},
   "source": [
    "The distribution means that the ratings on the movies are very consistent. Most of the movie have very low variance, and only small amount of movie have high variance in terms of reviews."
   ]
  },
  {
   "cell_type": "markdown",
   "metadata": {},
   "source": [
    "## Question 7"
   ]
  },
  {
   "cell_type": "markdown",
   "metadata": {},
   "source": [
    "$\\mu_u = \\frac{\\Sigma_{k \\in I_u}}{|I_u|}$"
   ]
  },
  {
   "cell_type": "markdown",
   "metadata": {},
   "source": [
    "## Question 8"
   ]
  },
  {
   "cell_type": "markdown",
   "metadata": {},
   "source": [
    "This means the set of items have been rated both by user u and user v. When the two sets are disjoint these two sets "
   ]
  },
  {
   "cell_type": "markdown",
   "metadata": {},
   "source": [
    "## Question 9"
   ]
  },
  {
   "cell_type": "code",
   "execution_count": 5,
   "metadata": {},
   "outputs": [],
   "source": [
    "import matplotlib.pyplot as plt\n",
    "from surprise.model_selection import cross_validate\n",
    "from surprise import Reader, Dataset\n",
    "from surprise.prediction_algorithms import KNNWithMeans"
   ]
  },
  {
   "cell_type": "code",
   "execution_count": 17,
   "metadata": {},
   "outputs": [
    {
     "name": "stdout",
     "output_type": "stream",
     "text": [
      "2\n",
      "MAE =  0.7856872667457255\n",
      "RMSE =  1.0188085042729784\n",
      "4\n",
      "MAE =  0.7263821905201636\n",
      "RMSE =  0.9445404030431577\n",
      "6\n",
      "MAE =  0.7054820948537612\n",
      "RMSE =  0.9205936503130573\n",
      "8\n",
      "MAE =  0.6948624559890721\n",
      "RMSE =  0.9084422317030947\n",
      "10\n",
      "MAE =  0.6881349895357249\n",
      "RMSE =  0.9010375543548482\n",
      "12\n",
      "MAE =  0.6857927280288949\n",
      "RMSE =  0.8981886378949792\n",
      "14\n",
      "MAE =  0.6827015756565276\n",
      "RMSE =  0.895291873805213\n",
      "16\n",
      "MAE =  0.6818014416582318\n",
      "RMSE =  0.8942904035922453\n",
      "18\n",
      "MAE =  0.6805886576060242\n",
      "RMSE =  0.8934922844101549\n",
      "20\n",
      "MAE =  0.6799084587789537\n",
      "RMSE =  0.8922824111855631\n",
      "22\n",
      "MAE =  0.6789599631002101\n",
      "RMSE =  0.8915487969049612\n",
      "24\n",
      "MAE =  0.6787271712879168\n",
      "RMSE =  0.8905525337665787\n",
      "26\n",
      "MAE =  0.6777672704467335\n",
      "RMSE =  0.8895148487649603\n",
      "28\n",
      "MAE =  0.6781123819019538\n",
      "RMSE =  0.8904472771605674\n",
      "30\n",
      "MAE =  0.6776141256957932\n",
      "RMSE =  0.8895019289059295\n",
      "32\n",
      "MAE =  0.6781272085420913\n",
      "RMSE =  0.8910016061116603\n",
      "34\n",
      "MAE =  0.6777823121313902\n",
      "RMSE =  0.8902143738266428\n",
      "36\n",
      "MAE =  0.6776078214385512\n",
      "RMSE =  0.8896428716177741\n",
      "38\n",
      "MAE =  0.6772786347186949\n",
      "RMSE =  0.8898542532112483\n",
      "40\n",
      "MAE =  0.6777422094659368\n",
      "RMSE =  0.890331694132032\n",
      "42\n",
      "MAE =  0.6768427532023228\n",
      "RMSE =  0.8892945044961481\n",
      "44\n",
      "MAE =  0.6762316259256127\n",
      "RMSE =  0.8884515976760415\n",
      "46\n",
      "MAE =  0.678116042981069\n",
      "RMSE =  0.8902732251203049\n",
      "48\n",
      "MAE =  0.6770382620195905\n",
      "RMSE =  0.8896245337931831\n",
      "50\n",
      "MAE =  0.6777880512940262\n",
      "RMSE =  0.889954949332776\n",
      "52\n",
      "MAE =  0.6778452421948753\n",
      "RMSE =  0.8905331684556519\n",
      "54\n",
      "MAE =  0.6777597944088369\n",
      "RMSE =  0.8902723352379549\n",
      "56\n",
      "MAE =  0.6781031542036768\n",
      "RMSE =  0.8910750371159519\n",
      "58\n",
      "MAE =  0.6779166281950245\n",
      "RMSE =  0.8905620043857384\n",
      "60\n",
      "MAE =  0.6775231251622058\n",
      "RMSE =  0.889708850511111\n",
      "62\n",
      "MAE =  0.678473737078345\n",
      "RMSE =  0.8909189891443562\n",
      "64\n",
      "MAE =  0.6779312867473279\n",
      "RMSE =  0.8904122788181876\n",
      "66\n",
      "MAE =  0.677691871418878\n",
      "RMSE =  0.8901506541646205\n",
      "68\n",
      "MAE =  0.6782698893841677\n",
      "RMSE =  0.890998668372516\n",
      "70\n",
      "MAE =  0.6787847994799753\n",
      "RMSE =  0.8914460383921545\n",
      "72\n",
      "MAE =  0.6778035552067115\n",
      "RMSE =  0.8897616057841589\n",
      "74\n",
      "MAE =  0.6778952014696149\n",
      "RMSE =  0.8902220285109976\n",
      "76\n",
      "MAE =  0.6777810457717257\n",
      "RMSE =  0.8903913509531243\n",
      "78\n",
      "MAE =  0.6780948624381538\n",
      "RMSE =  0.8899755745176391\n",
      "80\n",
      "MAE =  0.6778303858193864\n",
      "RMSE =  0.8902756325991199\n",
      "82\n",
      "MAE =  0.6788469282877783\n",
      "RMSE =  0.8911691935610438\n",
      "84\n",
      "MAE =  0.6779491528811546\n",
      "RMSE =  0.8900738847629945\n",
      "86\n",
      "MAE =  0.6780587622931685\n",
      "RMSE =  0.8901439723369815\n",
      "88\n",
      "MAE =  0.677915757778607\n",
      "RMSE =  0.8903480269956605\n",
      "90\n",
      "MAE =  0.6778024593564501\n",
      "RMSE =  0.8899058661836653\n",
      "92\n",
      "MAE =  0.6772459807255469\n",
      "RMSE =  0.8898750762984438\n",
      "94\n",
      "MAE =  0.6784019878789516\n",
      "RMSE =  0.8901925355535717\n",
      "96\n",
      "MAE =  0.6792660162479887\n",
      "RMSE =  0.8920296199641902\n",
      "98\n",
      "MAE =  0.677833007627245\n",
      "RMSE =  0.8901426546281408\n",
      "100\n",
      "MAE =  0.6782340525889546\n",
      "RMSE =  0.8910059968350238\n"
     ]
    },
    {
     "data": {
      "image/png": "[encoded data removed]",
      "text/plain": [
       "<Figure size 432x288 with 1 Axes>"
      ]
     },
     "metadata": {
      "needs_background": "light"
     },
     "output_type": "display_data"
    }
   ],
   "source": [
    "def knn_filter(data_set, krange):\n",
    "    mae_results = []\n",
    "    rmse_results = []\n",
    "\n",
    "    for i in krange:\n",
    "        result = cross_validate(KNNWithMeans(k=i, sim_options = {'name': 'pearson', 'user_base': True}, verbose=False),\n",
    "                                data_set, measures=['rmse', 'mae'], cv=10, verbose=False)\n",
    "        avg_mae = np.mean(result['test_mae'])\n",
    "        avg_rmse = np.mean(result['test_rmse'])\n",
    "        mae_results.append(avg_mae)\n",
    "        rmse_results.append(avg_rmse)\n",
    "\n",
    "        print(i)\n",
    "        print(\"MAE = \", avg_mae)\n",
    "        print(\"RMSE = \", avg_rmse)\n",
    "\n",
    "    plt.plot(krange, mae_results)\n",
    "    plt.plot(krange, rmse_results)\n",
    "    plt.show()\n",
    "\n",
    "\n",
    "reader = Reader(rating_scale=(0.5, 5))\n",
    "data_set = Dataset.load_from_df(ratings_df[['userId', 'movieId', 'rating']], reader)\n",
    "krange = range(2, 102, 2)\n",
    "knn_filter(data_set, krange)"
   ]
  },
  {
   "cell_type": "code",
   "execution_count": 28,
   "metadata": {},
   "outputs": [],
   "source": [
    "from surprise.model_selection import train_test_split\n",
    "from sklearn.metrics import auc\n",
    "from sklearn.metrics import roc_curve"
   ]
  },
  {
   "cell_type": "code",
   "execution_count": 37,
   "metadata": {},
   "outputs": [
    {
     "data": {
      "image/png": "[encoded data removed]",
      "text/plain": [
       "<Figure size 432x288 with 1 Axes>"
      ]
     },
     "metadata": {
      "needs_background": "light"
     },
     "output_type": "display_data"
    },
    {
     "name": "stdout",
     "output_type": "stream",
     "text": [
      "AUC =  0.8174318793467532\n",
      "10084\n"
     ]
    },
    {
     "data": {
      "image/png": "[encoded data removed]",
      "text/plain": [
       "<Figure size 432x288 with 1 Axes>"
      ]
     },
     "metadata": {
      "needs_background": "light"
     },
     "output_type": "display_data"
    },
    {
     "name": "stdout",
     "output_type": "stream",
     "text": [
      "AUC =  0.7786733708225209\n",
      "10084\n"
     ]
    },
    {
     "data": {
      "image/png": "[encoded data removed]",
      "text/plain": [
       "<Figure size 432x288 with 1 Axes>"
      ]
     },
     "metadata": {
      "needs_background": "light"
     },
     "output_type": "display_data"
    },
    {
     "name": "stdout",
     "output_type": "stream",
     "text": [
      "AUC =  0.7485230116237399\n",
      "10084\n"
     ]
    },
    {
     "data": {
      "image/png": "[encoded data removed]",
      "text/plain": [
       "<Figure size 432x288 with 1 Axes>"
      ]
     },
     "metadata": {
      "needs_background": "light"
     },
     "output_type": "display_data"
    },
    {
     "name": "stdout",
     "output_type": "stream",
     "text": [
      "AUC =  0.7454398338824823\n",
      "10084\n"
     ]
    }
   ],
   "source": [
    "def binary_predict(alg, data_set, thresholds):\n",
    "    training_set, test_set = train_test_split(data_set, test_size = 0.1)\n",
    "    alg.fit(training_set)\n",
    "    predictions = alg.test(test_set)\n",
    "    for t in thresholds:\n",
    "        binary_preditions = [0 if getattr(pred, 'est') < t else 1 for pred in predictions]\n",
    "        binary_truth = [getattr(pred, 'r_ui') for pred in predictions]\n",
    "        fpr, tpr, _ = roc_curve(binary_preditions, binary_truth)\n",
    "        draw_roc(fpr, tpr)\n",
    "\n",
    "def draw_roc(fpr, tpr):\n",
    "    roc_auc = auc(fpr, tpr)\n",
    "    plt.plot(fpr, tpr)\n",
    "    plt.plot([0, 1], [0, 1],'r--')\n",
    "    plt.xlim([0, 1])\n",
    "    plt.ylim([0, 1])\n",
    "    plt.ylabel('True Positive Rate')\n",
    "    plt.xlabel('False Positive Rate')\n",
    "    plt.show()\n",
    "    print('AUC = ', roc_auc)\n",
    "    \n",
    "reader = Reader(rating_scale=(0.5, 5))\n",
    "data_set = Dataset.load_from_df(ratings_df[['userId', 'movieId', 'rating']], reader)\n",
    "thresholds = [2.5, 3.0, 3.5, 4.0]\n",
    "binary_predict(KNNWithMeans(k=16, sim_options = {'name': 'pearson', 'user_base': True}, verbose=False), data_set, thresholds)"
   ]
  },
  {
   "cell_type": "code",
   "execution_count": 26,
   "metadata": {},
   "outputs": [
    {
     "name": "stdout",
     "output_type": "stream",
     "text": [
      "<surprise.dataset.DatasetAutoFolds object at 0x122855d30>\n"
     ]
    }
   ],
   "source": [
    "reader = Reader(rating_scale=(0.5, 5))\n",
    "data_set = Dataset.load_from_df(ratings_df[['userId', 'movieId', 'rating']], reader)\n",
    "print(data_set)"
   ]
  },
  {
   "cell_type": "markdown",
   "metadata": {},
   "source": [
    "## Question 17"
   ]
  },
  {
   "cell_type": "code",
   "execution_count": 10,
   "metadata": {},
   "outputs": [],
   "source": [
    "# def build_movie_mapping(ratings_df):\n",
    "#     mapping = {}\n",
    "#     for idx, row in movies_df.iterrows():\n",
    "#         movie_id = int(row['movieId'])\n",
    "#         if movie_id not in mapping:\n",
    "#             mapping[movie_id] = len(mapping) + 1\n",
    "#     return mapping\n",
    "\n",
    "# id_to_col = build_movie_mapping(ratings_df)\n",
    "# mapping movieId to 1 - 9742\n",
    "\n"
   ]
  },
  {
   "cell_type": "code",
   "execution_count": 11,
   "metadata": {},
   "outputs": [
    {
     "name": "stdout",
     "output_type": "stream",
     "text": [
      "610 9742\n"
     ]
    }
   ],
   "source": [
    "# def build_rating_matrix(num_user, num_movie, rarings_df, mapping):\n",
    "#     R_matrix = np.zeros((num_user, num_movie))\n",
    "#     for idx, row in ratings_df.iterrows():\n",
    "#         user_id, movie_id, rating = int(row['userId']), mapping[int(row['movieId'])], float(row['rating'])\n",
    "#         R_matrix[user_id-1][movie_id-1] = rating\n",
    "#     return R_matrix\n",
    "\n",
    "# print(len(total_users), len(movies_df))\n",
    "# R_matrix = build_rating_matrix(len(total_users), len(movies_df), ratings_df, id_to_col)\n"
   ]
  },
  {
   "cell_type": "code",
   "execution_count": 27,
   "metadata": {},
   "outputs": [
    {
     "name": "stdout",
     "output_type": "stream",
     "text": [
      "100836\n"
     ]
    }
   ],
   "source": [
    "from surprise.prediction_algorithms.matrix_factorization import NMF"
   ]
  },
  {
   "cell_type": "code",
   "execution_count": null,
   "metadata": {},
   "outputs": [],
   "source": []
  },
  {
   "cell_type": "code",
   "execution_count": 32,
   "metadata": {},
   "outputs": [
    {
     "name": "stdout",
     "output_type": "stream",
     "text": [
      "2\n",
      "MAE =  0.9616203309936271\n",
      "RMSE =  1.1437609712659786\n",
      "4\n",
      "MAE =  0.8491287236938216\n",
      "RMSE =  1.038805797617638\n",
      "6\n",
      "MAE =  0.7869687909657925\n",
      "RMSE =  0.9832903837747524\n",
      "8\n",
      "MAE =  0.7455003613451122\n",
      "RMSE =  0.9468202897687089\n",
      "10\n",
      "MAE =  0.7251955586568657\n",
      "RMSE =  0.9302878531917514\n",
      "12\n",
      "MAE =  0.7102268800390528\n",
      "RMSE =  0.9198031768731607\n",
      "14\n",
      "MAE =  0.7033949795794989\n",
      "RMSE =  0.9158753687801763\n",
      "16\n",
      "MAE =  0.696801034799028\n",
      "RMSE =  0.9122713786634818\n",
      "18\n",
      "MAE =  0.6951944730006574\n",
      "RMSE =  0.9140371441160788\n",
      "20\n",
      "MAE =  0.6937173926208843\n",
      "RMSE =  0.9142182671347798\n",
      "22\n",
      "MAE =  0.6949271298816658\n",
      "RMSE =  0.9175064056353012\n",
      "24\n",
      "MAE =  0.6955185606574582\n",
      "RMSE =  0.9204996598316558\n",
      "26\n",
      "MAE =  0.6961707814367288\n",
      "RMSE =  0.9213075886614492\n",
      "28\n",
      "MAE =  0.699194936358494\n",
      "RMSE =  0.9270985018990455\n",
      "30\n",
      "MAE =  0.7006730694781724\n",
      "RMSE =  0.9287511286552285\n",
      "32\n",
      "MAE =  0.7031417754772237\n",
      "RMSE =  0.9331357377637921\n",
      "34\n",
      "MAE =  0.706344161412339\n",
      "RMSE =  0.9373857799791377\n",
      "36\n",
      "MAE =  0.7106119920972722\n",
      "RMSE =  0.942826460739456\n",
      "38\n",
      "MAE =  0.7136749853486538\n",
      "RMSE =  0.9482418406899292\n",
      "40\n",
      "MAE =  0.7136455202726937\n",
      "RMSE =  0.9486331772132386\n",
      "42\n",
      "MAE =  0.7180691259311753\n",
      "RMSE =  0.9529117473940225\n",
      "44\n",
      "MAE =  0.7198971652399855\n",
      "RMSE =  0.9568382877634326\n",
      "46\n",
      "MAE =  0.7236828584465403\n",
      "RMSE =  0.9604400688054877\n",
      "48\n",
      "MAE =  0.7274154626789674\n",
      "RMSE =  0.9653256447488529\n",
      "50\n",
      "MAE =  0.7275136539070226\n",
      "RMSE =  0.9653789911786245\n",
      "Best k for MAE is:  20 MAE =  0.6937173926208843\n",
      "Best k for RMSE is:  16 RMSE =  0.9122713786634818\n"
     ]
    },
    {
     "data": {
      "image/png": "[encoded data removed]",
      "text/plain": [
       "<Figure size 432x288 with 1 Axes>"
      ]
     },
     "metadata": {
      "needs_background": "light"
     },
     "output_type": "display_data"
    }
   ],
   "source": [
    "def nnmf_filter(data_set, krange):\n",
    "    mae_results = []\n",
    "    min_mae = 99999999999\n",
    "    min_mae_i = -1\n",
    "\n",
    "    rmse_results = []\n",
    "    min_rmse = 9999999999\n",
    "    min_rmse_i = -1\n",
    "\n",
    "    for i in krange:\n",
    "        result = cross_validate(NMF(n_factors=i, biased=False), data_set, measures=['rmse', 'mae'], cv=10, verbose=False)\n",
    "        avg_mae = np.mean(result['test_mae'])\n",
    "        avg_rmse = np.mean(result['test_rmse'])\n",
    "        mae_results.append(avg_mae)\n",
    "        rmse_results.append(avg_rmse)\n",
    "\n",
    "        if avg_mae < min_mae:\n",
    "            min_mae = avg_mae\n",
    "            min_mae_i = i\n",
    "\n",
    "        if avg_rmse < min_rmse:\n",
    "            min_rmse = avg_rmse\n",
    "            min_rmse_i = i\n",
    "        print(i)\n",
    "        print(\"MAE = \", avg_mae)\n",
    "        print(\"RMSE = \", avg_rmse)\n",
    "\n",
    "    print(\"Best k for MAE is: \", min_mae_i, \"MAE = \", min_mae)\n",
    "    print(\"Best k for RMSE is: \", min_rmse_i, \"RMSE = \", min_rmse)\n",
    "    plt.plot(krange, mae_results)\n",
    "    plt.plot(krange, rmse_results)\n",
    "    plt.show()\n",
    "\n",
    "\n",
    "reader = Reader(rating_scale=(0.5, 5))\n",
    "data_set = Dataset.load_from_df(ratings_df[['userId', 'movieId', 'rating']], reader)\n",
    "krange = range(2, 52, 2)\n",
    "nnmf_filter(data_set, krange)"
   ]
  },
  {
   "cell_type": "code",
   "execution_count": null,
   "metadata": {},
   "outputs": [],
   "source": []
  }
 ],
 "metadata": {
  "kernelspec": {
   "display_name": "Python 3",
   "language": "python",
   "name": "python3"
  },
  "language_info": {
   "codemirror_mode": {
    "name": "ipython",
    "version": 3
   },
   "file_extension": ".py",
   "mimetype": "text/x-python",
   "name": "python",
   "nbconvert_exporter": "python",
   "pygments_lexer": "ipython3",
   "version": "3.6.7"
  }
 },
 "nbformat": 4,
 "nbformat_minor": 2
}
