{
 "cells": [
  {
   "cell_type": "code",
   "execution_count": 39,
   "metadata": {},
   "outputs": [],
   "source": [
    "import numpy as np\n",
    "import pandas as pd\n",
    "import matplotlib.pyplot as plt\n",
    "import pylab as pl"
   ]
  },
  {
   "cell_type": "code",
   "execution_count": 4,
   "metadata": {},
   "outputs": [
    {
     "data": {
      "text/html": [
       "<div>\n",
       "<style scoped>\n",
       "    .dataframe tbody tr th:only-of-type {\n",
       "        vertical-align: middle;\n",
       "    }\n",
       "\n",
       "    .dataframe tbody tr th {\n",
       "        vertical-align: top;\n",
       "    }\n",
       "\n",
       "    .dataframe thead th {\n",
       "        text-align: right;\n",
       "    }\n",
       "</style>\n",
       "<table border=\"1\" class=\"dataframe\">\n",
       "  <thead>\n",
       "    <tr style=\"text-align: right;\">\n",
       "      <th></th>\n",
       "      <th>movieId</th>\n",
       "      <th>title</th>\n",
       "      <th>genres</th>\n",
       "    </tr>\n",
       "  </thead>\n",
       "  <tbody>\n",
       "    <tr>\n",
       "      <th>0</th>\n",
       "      <td>1</td>\n",
       "      <td>Toy Story (1995)</td>\n",
       "      <td>Adventure|Animation|Children|Comedy|Fantasy</td>\n",
       "    </tr>\n",
       "    <tr>\n",
       "      <th>1</th>\n",
       "      <td>2</td>\n",
       "      <td>Jumanji (1995)</td>\n",
       "      <td>Adventure|Children|Fantasy</td>\n",
       "    </tr>\n",
       "    <tr>\n",
       "      <th>2</th>\n",
       "      <td>3</td>\n",
       "      <td>Grumpier Old Men (1995)</td>\n",
       "      <td>Comedy|Romance</td>\n",
       "    </tr>\n",
       "    <tr>\n",
       "      <th>3</th>\n",
       "      <td>4</td>\n",
       "      <td>Waiting to Exhale (1995)</td>\n",
       "      <td>Comedy|Drama|Romance</td>\n",
       "    </tr>\n",
       "    <tr>\n",
       "      <th>4</th>\n",
       "      <td>5</td>\n",
       "      <td>Father of the Bride Part II (1995)</td>\n",
       "      <td>Comedy</td>\n",
       "    </tr>\n",
       "  </tbody>\n",
       "</table>\n",
       "</div>"
      ],
      "text/plain": [
       "   movieId                               title  \\\n",
       "0        1                    Toy Story (1995)   \n",
       "1        2                      Jumanji (1995)   \n",
       "2        3             Grumpier Old Men (1995)   \n",
       "3        4            Waiting to Exhale (1995)   \n",
       "4        5  Father of the Bride Part II (1995)   \n",
       "\n",
       "                                        genres  \n",
       "0  Adventure|Animation|Children|Comedy|Fantasy  \n",
       "1                   Adventure|Children|Fantasy  \n",
       "2                               Comedy|Romance  \n",
       "3                         Comedy|Drama|Romance  \n",
       "4                                       Comedy  "
      ]
     },
     "execution_count": 4,
     "metadata": {},
     "output_type": "execute_result"
    }
   ],
   "source": [
    "movies_df = pd.read_csv(\"ml-latest-small/movies.csv\")\n",
    "movies_df.head()"
   ]
  },
  {
   "cell_type": "code",
   "execution_count": 40,
   "metadata": {},
   "outputs": [
    {
     "data": {
      "text/html": [
       "<div>\n",
       "<style scoped>\n",
       "    .dataframe tbody tr th:only-of-type {\n",
       "        vertical-align: middle;\n",
       "    }\n",
       "\n",
       "    .dataframe tbody tr th {\n",
       "        vertical-align: top;\n",
       "    }\n",
       "\n",
       "    .dataframe thead th {\n",
       "        text-align: right;\n",
       "    }\n",
       "</style>\n",
       "<table border=\"1\" class=\"dataframe\">\n",
       "  <thead>\n",
       "    <tr style=\"text-align: right;\">\n",
       "      <th></th>\n",
       "      <th>userId</th>\n",
       "      <th>movieId</th>\n",
       "      <th>rating</th>\n",
       "      <th>timestamp</th>\n",
       "    </tr>\n",
       "  </thead>\n",
       "  <tbody>\n",
       "    <tr>\n",
       "      <th>0</th>\n",
       "      <td>1</td>\n",
       "      <td>1</td>\n",
       "      <td>4.0</td>\n",
       "      <td>964982703</td>\n",
       "    </tr>\n",
       "    <tr>\n",
       "      <th>1</th>\n",
       "      <td>1</td>\n",
       "      <td>3</td>\n",
       "      <td>4.0</td>\n",
       "      <td>964981247</td>\n",
       "    </tr>\n",
       "    <tr>\n",
       "      <th>2</th>\n",
       "      <td>1</td>\n",
       "      <td>6</td>\n",
       "      <td>4.0</td>\n",
       "      <td>964982224</td>\n",
       "    </tr>\n",
       "    <tr>\n",
       "      <th>3</th>\n",
       "      <td>1</td>\n",
       "      <td>47</td>\n",
       "      <td>5.0</td>\n",
       "      <td>964983815</td>\n",
       "    </tr>\n",
       "    <tr>\n",
       "      <th>4</th>\n",
       "      <td>1</td>\n",
       "      <td>50</td>\n",
       "      <td>5.0</td>\n",
       "      <td>964982931</td>\n",
       "    </tr>\n",
       "  </tbody>\n",
       "</table>\n",
       "</div>"
      ],
      "text/plain": [
       "   userId  movieId  rating  timestamp\n",
       "0       1        1     4.0  964982703\n",
       "1       1        3     4.0  964981247\n",
       "2       1        6     4.0  964982224\n",
       "3       1       47     5.0  964983815\n",
       "4       1       50     5.0  964982931"
      ]
     },
     "execution_count": 40,
     "metadata": {},
     "output_type": "execute_result"
    }
   ],
   "source": [
    "ratings_df = pd.read_csv(\"ml-latest-small/ratings.csv\")\n",
    "ratings_df.head()"
   ]
  },
  {
   "cell_type": "markdown",
   "metadata": {},
   "source": [
    "## Question 1"
   ]
  },
  {
   "cell_type": "code",
   "execution_count": 6,
   "metadata": {},
   "outputs": [
    {
     "name": "stdout",
     "output_type": "stream",
     "text": [
      "Total number of possible ratings: 5942620\n",
      "Total number of available ratings: 100836\n",
      "Sparsity 0.016968273253211548\n"
     ]
    }
   ],
   "source": [
    "total_users = ratings_df.userId.unique()\n",
    "len(total_users)\n",
    "all_pos_ratings = len(movies_df) * len(total_users)\n",
    "sparsity = len(ratings_df) / all_pos_ratings\n",
    "print(\"Total number of possible ratings:\", all_pos_ratings)\n",
    "print(\"Total number of available ratings:\", len(ratings_df))\n",
    "print(\"Sparsity\", sparsity)"
   ]
  },
  {
   "cell_type": "markdown",
   "metadata": {},
   "source": [
    "## Question 2"
   ]
  },
  {
   "cell_type": "code",
   "execution_count": 7,
   "metadata": {},
   "outputs": [
    {
     "name": "stdout",
     "output_type": "stream",
     "text": [
      "[0.0, 0.5, 1.0, 1.5, 2.0, 2.5, 3.0, 3.5, 4.0, 4.5, 5.0]\n"
     ]
    },
    {
     "data": {
      "image/png": "[encoded data removed]",
      "text/plain": [
       "<Figure size 432x288 with 1 Axes>"
      ]
     },
     "metadata": {
      "needs_background": "light"
     },
     "output_type": "display_data"
    }
   ],
   "source": [
    "r_bins = [x / 10.0 for x in range(0, 51, 5)]\n",
    "print(r_bins)\n",
    "plt.hist(ratings_df.rating, bins=r_bins)\n",
    "plt.xticks(r_bins)\n",
    "plt.show()"
   ]
  },
  {
   "cell_type": "markdown",
   "metadata": {},
   "source": [
    "The distribution is left skewed. People are more willing to rat the movies they like than rating the movies they displike."
   ]
  },
  {
   "cell_type": "markdown",
   "metadata": {},
   "source": [
    "## Question 3"
   ]
  },
  {
   "cell_type": "code",
   "execution_count": 8,
   "metadata": {
    "collapsed": true
   },
   "outputs": [],
   "source": [
    "movie_ratings = dict()\n",
    "for i in range(len(ratings_df)):\n",
    "    id = ratings_df.loc[i, \"movieId\"]\n",
    "    if id in movie_ratings:\n",
    "        movie_ratings[id] = movie_ratings[id] + 1\n",
    "    else:\n",
    "        movie_ratings[id] = 1"
   ]
  },
  {
   "cell_type": "code",
   "execution_count": 9,
   "metadata": {},
   "outputs": [
    {
     "data": {
      "image/png": "[encoded data removed]",
      "text/plain": [
       "<Figure size 432x288 with 1 Axes>"
      ]
     },
     "metadata": {
      "needs_background": "light"
     },
     "output_type": "display_data"
    }
   ],
   "source": [
    "movie_lists = sorted(movie_ratings.items(), key=lambda x:-x[1]) #sorted by key\n",
    "x_id,y_cnt = zip(*movie_lists)\n",
    "xs = range(len(x_id))\n",
    "plt.plot(xs, y_cnt)\n",
    "plt.show()"
   ]
  },
  {
   "cell_type": "markdown",
   "metadata": {},
   "source": [
    "## Question 4"
   ]
  },
  {
   "cell_type": "code",
   "execution_count": 10,
   "metadata": {},
   "outputs": [
    {
     "data": {
      "image/png": "[encoded data removed]",
      "text/plain": [
       "<Figure size 432x288 with 1 Axes>"
      ]
     },
     "metadata": {
      "needs_background": "light"
     },
     "output_type": "display_data"
    }
   ],
   "source": [
    "user_cnt = dict()\n",
    "for i in range(len(ratings_df)):\n",
    "    id = ratings_df.loc[i, \"userId\"]\n",
    "    if id in user_cnt:\n",
    "        user_cnt[id] = user_cnt[id] + 1\n",
    "    else:\n",
    "        user_cnt[id] = 1\n",
    "user_list = sorted(user_cnt.items(), key=lambda x:-x[1])\n",
    "user_list\n",
    "u_id,y_cnt = zip(*movie_lists)\n",
    "xs = range(len(u_id))\n",
    "plt.plot(xs, y_cnt)\n",
    "plt.show()"
   ]
  },
  {
   "cell_type": "markdown",
   "metadata": {},
   "source": [
    "## Question 5"
   ]
  },
  {
   "cell_type": "markdown",
   "metadata": {},
   "source": [
    "The distribution has a really long tail, and this means that only a small portion of the movies have lots of ratings most of the movies have a small number of ratings. This means that the matrix is very sparse. The sparse matrix limits the coverage of neighborhood-based methods, and this creates challenges for robust similarity computation."
   ]
  },
  {
   "cell_type": "markdown",
   "metadata": {},
   "source": [
    "## Question 6"
   ]
  },
  {
   "cell_type": "code",
   "execution_count": 11,
   "metadata": {},
   "outputs": [
    {
     "data": {
      "image/png": "[encoded data removed]",
      "text/plain": [
       "<Figure size 432x288 with 1 Axes>"
      ]
     },
     "metadata": {
      "needs_background": "light"
     },
     "output_type": "display_data"
    }
   ],
   "source": [
    "movie_var = ratings_df.groupby(['movieId'])['rating'].var()\n",
    "movie_var.head()\n",
    "max_var = movie_var.max()\n",
    "min_var = movie_var.min()\n",
    "v_bins = [i / 10.0 for i in range(0, 106, 5)]\n",
    "movie_var.hist(bins=v_bins)\n",
    "# plt.xticks(v_bins)\n",
    "plt.show()"
   ]
  },
  {
   "cell_type": "markdown",
   "metadata": {},
   "source": [
    "The distribution means that the ratings on the movies are very consistent. Most of the movie have very low variance, and only small amount of movie have high variance in terms of reviews."
   ]
  },
  {
   "cell_type": "markdown",
   "metadata": {},
   "source": [
    "## Question 7"
   ]
  },
  {
   "cell_type": "markdown",
   "metadata": {},
   "source": [
    "$\\mu_u = \\frac{\\Sigma_{k \\in I_u}}{|I_u|}$"
   ]
  },
  {
   "cell_type": "markdown",
   "metadata": {},
   "source": [
    "## Question 8"
   ]
  },
  {
   "cell_type": "markdown",
   "metadata": {},
   "source": [
    "This means the set of items have been rated both by user u and user v. When the two sets are disjoint these two sets have not purchased any common item."
   ]
  },
  {
   "cell_type": "markdown",
   "metadata": {},
   "source": [
    "## Question 9"
   ]
  },
  {
   "cell_type": "code",
   "execution_count": 43,
   "metadata": {},
   "outputs": [],
   "source": [
    "import matplotlib.pyplot as plt\n",
    "from surprise.model_selection import cross_validate\n",
    "from surprise import Reader, Dataset\n",
    "from surprise.prediction_algorithms import KNNWithMeans"
   ]
  },
  {
   "cell_type": "code",
   "execution_count": null,
   "metadata": {},
   "outputs": [],
   "source": [
    "def knn_filter(data_set, krange):\n",
    "    mae_results = []\n",
    "    rmse_results = []\n",
    "\n",
    "    for i in krange:\n",
    "        result = cross_validate(KNNWithMeans(k=i, sim_options = {'name': 'pearson', 'user_base': True}, verbose=False),\n",
    "                                data_set, measures=['rmse', 'mae'], cv=10, verbose=False)\n",
    "        avg_mae = np.mean(result['test_mae'])\n",
    "        avg_rmse = np.mean(result['test_rmse'])\n",
    "        mae_results.append(avg_mae)\n",
    "        rmse_results.append(avg_rmse)\n",
    "\n",
    "#         print(i)\n",
    "#         print(\"MAE = \", avg_mae)\n",
    "#         print(\"RMSE = \", avg_rmse)\n",
    "    print(\"Minimum MAE = \"mae_resultsin(mae_results))\n",
    "    print(\"Minimum RMSE = \", min(rmse_results))\n",
    "    plt.plot(krange, mae_results)\n",
    "    plt.plot(krange, rmse_results)\n",
    "    plt.show()\n",
    "\n"
   ]
  },
  {
   "cell_type": "code",
   "execution_count": 44,
   "metadata": {},
   "outputs": [
    {
     "name": "stdout",
     "output_type": "stream",
     "text": [
      "2\n",
      "MAE =  0.7858430805750529\n",
      "RMSE =  1.0189213755664983\n",
      "4\n",
      "MAE =  0.7264441520411584\n",
      "RMSE =  0.9451077879377516\n",
      "6\n",
      "MAE =  0.7046581112652233\n",
      "RMSE =  0.9202266693666742\n",
      "8\n",
      "MAE =  0.6940723488247764\n",
      "RMSE =  0.9077723474564247\n",
      "10\n",
      "MAE =  0.6883164386155809\n",
      "RMSE =  0.9016826379004158\n",
      "12\n",
      "MAE =  0.6855756880640981\n",
      "RMSE =  0.8979649390130356\n",
      "14\n",
      "MAE =  0.6816161961862379\n",
      "RMSE =  0.8936195591776844\n",
      "16\n",
      "MAE =  0.6817317088609584\n",
      "RMSE =  0.8940476774555369\n",
      "18\n",
      "MAE =  0.6803022073563704\n",
      "RMSE =  0.892381274995846\n",
      "20\n",
      "MAE =  0.6787957468323398\n",
      "RMSE =  0.8913894218989629\n",
      "22\n",
      "MAE =  0.6792800784149398\n",
      "RMSE =  0.8916314057855862\n",
      "24\n",
      "MAE =  0.679103611536727\n",
      "RMSE =  0.8913456970414915\n",
      "26\n",
      "MAE =  0.6781200798546806\n",
      "RMSE =  0.890319913687787\n",
      "28\n",
      "MAE =  0.6782780410764561\n",
      "RMSE =  0.8909582738170247\n",
      "30\n",
      "MAE =  0.6782354208296921\n",
      "RMSE =  0.8897438153524238\n",
      "32\n",
      "MAE =  0.6773983397355057\n",
      "RMSE =  0.8902082073844859\n",
      "34\n",
      "MAE =  0.6774445222637283\n",
      "RMSE =  0.8903735571247537\n",
      "36\n",
      "MAE =  0.6773018048446247\n",
      "RMSE =  0.8898838276194608\n",
      "38\n",
      "MAE =  0.6768705892378406\n",
      "RMSE =  0.8895492042535155\n",
      "40\n",
      "MAE =  0.6773423933723925\n",
      "RMSE =  0.8896934459203637\n",
      "42\n",
      "MAE =  0.6780435639541608\n",
      "RMSE =  0.8902475608824421\n",
      "44\n",
      "MAE =  0.6779558421733582\n",
      "RMSE =  0.8902680758596733\n",
      "46\n",
      "MAE =  0.6773072480102129\n",
      "RMSE =  0.8897938505499845\n",
      "48\n",
      "MAE =  0.6772287864658212\n",
      "RMSE =  0.8893745993752518\n",
      "50\n",
      "MAE =  0.6777232094898906\n",
      "RMSE =  0.8903097712321483\n",
      "52\n",
      "MAE =  0.6781772320854318\n",
      "RMSE =  0.8907661614514593\n",
      "54\n",
      "MAE =  0.6779577929315338\n",
      "RMSE =  0.8902387578566262\n",
      "56\n",
      "MAE =  0.6771658385901803\n",
      "RMSE =  0.8899040848797808\n",
      "58\n",
      "MAE =  0.6771916008008128\n",
      "RMSE =  0.8892428452786214\n",
      "60\n",
      "MAE =  0.6781801706151962\n",
      "RMSE =  0.8906554077259689\n",
      "62\n",
      "MAE =  0.6775195945825436\n",
      "RMSE =  0.8902861020276763\n",
      "64\n",
      "MAE =  0.6776436292046286\n",
      "RMSE =  0.8894096256138632\n",
      "66\n",
      "MAE =  0.6781831718555092\n",
      "RMSE =  0.8904781690983608\n",
      "68\n",
      "MAE =  0.6781453556911881\n",
      "RMSE =  0.8909580133426687\n",
      "70\n",
      "MAE =  0.6771309351848512\n",
      "RMSE =  0.8892711660743912\n",
      "72\n",
      "MAE =  0.678127034982362\n",
      "RMSE =  0.8907197323975428\n",
      "74\n",
      "MAE =  0.6783771875596513\n",
      "RMSE =  0.8905843345730216\n",
      "76\n",
      "MAE =  0.6782779640890919\n",
      "RMSE =  0.8905853661992669\n",
      "78\n",
      "MAE =  0.678099744939512\n",
      "RMSE =  0.8906406610846014\n",
      "80\n",
      "MAE =  0.6772667464731389\n",
      "RMSE =  0.8900356221457237\n",
      "82\n",
      "MAE =  0.6777174116232396\n",
      "RMSE =  0.8902000508080729\n",
      "84\n",
      "MAE =  0.6768301680944776\n",
      "RMSE =  0.8892636410338743\n",
      "86\n",
      "MAE =  0.6783363316184012\n",
      "RMSE =  0.8909646767508417\n",
      "88\n",
      "MAE =  0.6781417966151017\n",
      "RMSE =  0.8904710605793198\n",
      "90\n",
      "MAE =  0.6777321951192754\n",
      "RMSE =  0.8906283445354433\n",
      "92\n",
      "MAE =  0.6785169372351619\n",
      "RMSE =  0.8905653500634644\n",
      "94\n",
      "MAE =  0.6781879219756902\n",
      "RMSE =  0.8908664286675233\n",
      "96\n",
      "MAE =  0.6786468190263191\n",
      "RMSE =  0.8914591692749927\n",
      "98\n",
      "MAE =  0.6778847296852621\n",
      "RMSE =  0.8907355571087253\n",
      "100\n",
      "MAE =  0.6779064735691911\n",
      "RMSE =  0.8898511224755611\n"
     ]
    },
    {
     "data": {
      "image/png": "[encoded data removed]",
      "text/plain": [
       "<Figure size 432x288 with 1 Axes>"
      ]
     },
     "metadata": {
      "needs_background": "light"
     },
     "output_type": "display_data"
    }
   ],
   "source": [
    "reader = Reader(rating_scale=(0.5, 5))\n",
    "data_set = Dataset.load_from_df(ratings_df[['userId', 'movieId', 'rating']], reader)\n",
    "krange = range(2, 102, 2)\n",
    "knn_filter(data_set, krange)"
   ]
  },
  {
   "cell_type": "code",
   "execution_count": 14,
   "metadata": {},
   "outputs": [
    {
     "ename": "ModuleNotFoundError",
     "evalue": "No module named 'surprise'",
     "output_type": "error",
     "traceback": [
      "\u001b[0;31m---------------------------------------------------------------------------\u001b[0m",
      "\u001b[0;31mModuleNotFoundError\u001b[0m                       Traceback (most recent call last)",
      "\u001b[0;32m<ipython-input-14-e8824bbbf74a>\u001b[0m in \u001b[0;36m<module>\u001b[0;34m\u001b[0m\n\u001b[0;32m----> 1\u001b[0;31m \u001b[0;32mfrom\u001b[0m \u001b[0msurprise\u001b[0m\u001b[0;34m.\u001b[0m\u001b[0mmodel_selection\u001b[0m \u001b[0;32mimport\u001b[0m \u001b[0mtrain_test_split\u001b[0m\u001b[0;34m\u001b[0m\u001b[0;34m\u001b[0m\u001b[0m\n\u001b[0m\u001b[1;32m      2\u001b[0m \u001b[0;32mfrom\u001b[0m \u001b[0msklearn\u001b[0m\u001b[0;34m.\u001b[0m\u001b[0mmetrics\u001b[0m \u001b[0;32mimport\u001b[0m \u001b[0mauc\u001b[0m\u001b[0;34m\u001b[0m\u001b[0;34m\u001b[0m\u001b[0m\n\u001b[1;32m      3\u001b[0m \u001b[0;32mfrom\u001b[0m \u001b[0msklearn\u001b[0m\u001b[0;34m.\u001b[0m\u001b[0mmetrics\u001b[0m \u001b[0;32mimport\u001b[0m \u001b[0mroc_curve\u001b[0m\u001b[0;34m\u001b[0m\u001b[0;34m\u001b[0m\u001b[0m\n",
      "\u001b[0;31mModuleNotFoundError\u001b[0m: No module named 'surprise'"
     ]
    }
   ],
   "source": [
    "from surprise.model_selection import train_test_split\n",
    "from sklearn.metrics import auc\n",
    "from sklearn.metrics import roc_curve"
   ]
  },
  {
   "cell_type": "markdown",
   "metadata": {},
   "source": [
    "## Question 12-14"
   ]
  },
  {
   "cell_type": "code",
   "execution_count": null,
   "metadata": {},
   "outputs": [],
   "source": [
    "# trim test dataset\n",
    "popular_movie_df = ratings_df.groupby(['movieId']).filter(lambda x: len(x) > 2)\n",
    "unpopular_movie_df = ratings_df.groupby(['movieId']).filter(lambda x: len(x) <= 2)\n",
    "at_least_5_ratings_df = ratings_df.groupby(['movieId']).filter(lambda x: len(x) >= 5)\n",
    "high_var_df = at_least_5_ratings_df.groupby(['movieId']).filter(lambda x: (x['rating']).var() >= 2)\n",
    "print(high_var_df.shape)\n",
    "print (ratings_df.shape)\n",
    "print (popular_movie_df.shape)\n",
    "print (unpopular_movie_df.shape)"
   ]
  },
  {
   "cell_type": "code",
   "execution_count": null,
   "metadata": {},
   "outputs": [],
   "source": [
    "print(\"Popular Movies\")\n",
    "knn_filter(Dataset.load_from_df(popular_movie_df, reader), krange)\n",
    "print(\"Unpopular Movies\")\n",
    "knn_filter(Dataset.load_from_df(unpopular_movie_df, reader), krange)\n",
    "print(\"High-variance Movies\")\n",
    "knn_filter(Dataset.load_from_df(high_var_df, reader), krange)"
   ]
  },
  {
   "cell_type": "markdown",
   "metadata": {},
   "source": [
    "## Question 15"
   ]
  },
  {
   "cell_type": "code",
   "execution_count": null,
   "metadata": {},
   "outputs": [],
   "source": [
    "def binary_predict(alg, data_set, thresholds):\n",
    "    training_set, test_set = train_test_split(data_set, test_size = 0.1)\n",
    "    alg.fit(training_set)\n",
    "    predictions = alg.test(test_set)\n",
    "    for t in thresholds:\n",
    "        binary_preditions = [0 if getattr(pred, 'est') < t else 1 for pred in predictions]\n",
    "        binary_truth = [getattr(pred, 'r_ui') for pred in predictions]\n",
    "        fpr, tpr, _ = roc_curve(binary_preditions, binary_truth)\n",
    "        draw_roc(fpr, tpr)\n",
    "\n",
    "def draw_roc(fpr, tpr):\n",
    "    roc_auc = auc(fpr, tpr)\n",
    "    plt.plot(fpr, tpr)\n",
    "    plt.plot([0, 1], [0, 1],'r--')\n",
    "    plt.xlim([0, 1])\n",
    "    plt.ylim([0, 1])\n",
    "    plt.ylabel('True Positive Rate')\n",
    "    plt.xlabel('False Positive Rate')\n",
    "    plt.show()\n",
    "    print('AUC = ', roc_auc)\n",
    "   "
   ]
  },
  {
   "cell_type": "code",
   "execution_count": 38,
   "metadata": {},
   "outputs": [
    {
     "data": {
      "image/png": "[encoded data removed]",
      "text/plain": [
       "<Figure size 432x288 with 1 Axes>"
      ]
     },
     "metadata": {
      "needs_background": "light"
     },
     "output_type": "display_data"
    },
    {
     "name": "stdout",
     "output_type": "stream",
     "text": [
      "AUC =  0.8251918970636436\n"
     ]
    },
    {
     "data": {
      "image/png": "[encoded data removed]",
      "text/plain": [
       "<Figure size 432x288 with 1 Axes>"
      ]
     },
     "metadata": {
      "needs_background": "light"
     },
     "output_type": "display_data"
    },
    {
     "name": "stdout",
     "output_type": "stream",
     "text": [
      "AUC =  0.7794464270687\n"
     ]
    },
    {
     "data": {
      "image/png": "[encoded data removed]",
      "text/plain": [
       "<Figure size 432x288 with 1 Axes>"
      ]
     },
     "metadata": {
      "needs_background": "light"
     },
     "output_type": "display_data"
    },
    {
     "name": "stdout",
     "output_type": "stream",
     "text": [
      "AUC =  0.7490120549998772\n"
     ]
    },
    {
     "data": {
      "image/png": "[encoded data removed]",
      "text/plain": [
       "<Figure size 432x288 with 1 Axes>"
      ]
     },
     "metadata": {
      "needs_background": "light"
     },
     "output_type": "display_data"
    },
    {
     "name": "stdout",
     "output_type": "stream",
     "text": [
      "AUC =  0.7511770268889293\n"
     ]
    }
   ],
   "source": [
    "reader = Reader(rating_scale=(0.5, 5))\n",
    "data_set = Dataset.load_from_df(ratings_df[['userId', 'movieId', 'rating']], reader)\n",
    "thresholds = [2.5, 3.0, 3.5, 4.0]\n",
    "binary_predict(KNNWithMeans(k=16, sim_options = {'name': 'pearson', 'user_base': True}, verbose=False), data_set, thresholds)"
   ]
  },
  {
   "cell_type": "markdown",
   "metadata": {},
   "source": [
    "## Question 17"
   ]
  },
  {
   "cell_type": "code",
   "execution_count": 10,
   "metadata": {
    "collapsed": true
   },
   "outputs": [],
   "source": [
    "# def build_movie_mapping(ratings_df):\n",
    "#     mapping = {}\n",
    "#     for idx, row in movies_df.iterrows():\n",
    "#         movie_id = int(row['movieId'])\n",
    "#         if movie_id not in mapping:\n",
    "#             mapping[movie_id] = len(mapping) + 1\n",
    "#     return mapping\n",
    "\n",
    "# id_to_col = build_movie_mapping(ratings_df)\n",
    "# mapping movieId to 1 - 9742\n",
    "\n"
   ]
  },
  {
   "cell_type": "code",
   "execution_count": 11,
   "metadata": {},
   "outputs": [
    {
     "name": "stdout",
     "output_type": "stream",
     "text": [
      "610 9742\n"
     ]
    }
   ],
   "source": [
    "# def build_rating_matrix(num_user, num_movie, rarings_df, mapping):\n",
    "#     R_matrix = np.zeros((num_user, num_movie))\n",
    "#     for idx, row in ratings_df.iterrows():\n",
    "#         user_id, movie_id, rating = int(row['userId']), mapping[int(row['movieId'])], float(row['rating'])\n",
    "#         R_matrix[user_id-1][movie_id-1] = rating\n",
    "#     return R_matrix\n",
    "\n",
    "# print(len(total_users), len(movies_df))\n",
    "# R_matrix = build_rating_matrix(len(total_users), len(movies_df), ratings_df, id_to_col)\n"
   ]
  },
  {
   "cell_type": "code",
   "execution_count": 27,
   "metadata": {},
   "outputs": [
    {
     "name": "stdout",
     "output_type": "stream",
     "text": [
      "100836\n"
     ]
    }
   ],
   "source": [
    "from surprise.prediction_algorithms.matrix_factorization import NMF"
   ]
  },
  {
   "cell_type": "code",
   "execution_count": null,
   "metadata": {},
   "outputs": [],
   "source": [
    "def nnmf_filter(data_set, krange):\n",
    "    mae_results = []\n",
    "    min_mae = 99999999999\n",
    "    min_mae_i = -1\n",
    "\n",
    "    rmse_results = []\n",
    "    min_rmse = 9999999999\n",
    "    min_rmse_i = -1\n",
    "\n",
    "    for i in krange:\n",
    "        result = cross_validate(NMF(n_factors=i, biased=False), data_set, measures=['rmse', 'mae'], cv=10, verbose=False)\n",
    "        avg_mae = np.mean(result['test_mae'])\n",
    "        avg_rmse = np.mean(result['test_rmse'])\n",
    "        mae_results.append(avg_mae)\n",
    "        rmse_results.append(avg_rmse)\n",
    "\n",
    "        if avg_mae < min_mae:\n",
    "            min_mae = avg_mae\n",
    "            min_mae_i = i\n",
    "\n",
    "        if avg_rmse < min_rmse:\n",
    "            min_rmse = avg_rmse\n",
    "            min_rmse_i = i\n",
    "        print(i)\n",
    "        print(\"MAE = \", avg_mae)\n",
    "        print(\"RMSE = \", avg_rmse)\n",
    "\n",
    "    print(\"Best k for MAE is: \", min_mae_i, \"MAE = \", min_mae)\n",
    "    print(\"Best k for RMSE is: \", min_rmse_i, \"RMSE = \", min_rmse)\n",
    "    plt.plot(krange, mae_results)\n",
    "    plt.plot(krange, rmse_results)\n",
    "    plt.show()"
   ]
  },
  {
   "cell_type": "code",
   "execution_count": 32,
   "metadata": {},
   "outputs": [
    {
     "name": "stdout",
     "output_type": "stream",
     "text": [
      "2\n",
      "MAE =  0.9616203309936271\n",
      "RMSE =  1.1437609712659786\n",
      "4\n",
      "MAE =  0.8491287236938216\n",
      "RMSE =  1.038805797617638\n",
      "6\n",
      "MAE =  0.7869687909657925\n",
      "RMSE =  0.9832903837747524\n",
      "8\n",
      "MAE =  0.7455003613451122\n",
      "RMSE =  0.9468202897687089\n",
      "10\n",
      "MAE =  0.7251955586568657\n",
      "RMSE =  0.9302878531917514\n",
      "12\n",
      "MAE =  0.7102268800390528\n",
      "RMSE =  0.9198031768731607\n",
      "14\n",
      "MAE =  0.7033949795794989\n",
      "RMSE =  0.9158753687801763\n",
      "16\n",
      "MAE =  0.696801034799028\n",
      "RMSE =  0.9122713786634818\n",
      "18\n",
      "MAE =  0.6951944730006574\n",
      "RMSE =  0.9140371441160788\n",
      "20\n",
      "MAE =  0.6937173926208843\n",
      "RMSE =  0.9142182671347798\n",
      "22\n",
      "MAE =  0.6949271298816658\n",
      "RMSE =  0.9175064056353012\n",
      "24\n",
      "MAE =  0.6955185606574582\n",
      "RMSE =  0.9204996598316558\n",
      "26\n",
      "MAE =  0.6961707814367288\n",
      "RMSE =  0.9213075886614492\n",
      "28\n",
      "MAE =  0.699194936358494\n",
      "RMSE =  0.9270985018990455\n",
      "30\n",
      "MAE =  0.7006730694781724\n",
      "RMSE =  0.9287511286552285\n",
      "32\n",
      "MAE =  0.7031417754772237\n",
      "RMSE =  0.9331357377637921\n",
      "34\n",
      "MAE =  0.706344161412339\n",
      "RMSE =  0.9373857799791377\n",
      "36\n",
      "MAE =  0.7106119920972722\n",
      "RMSE =  0.942826460739456\n",
      "38\n",
      "MAE =  0.7136749853486538\n",
      "RMSE =  0.9482418406899292\n",
      "40\n",
      "MAE =  0.7136455202726937\n",
      "RMSE =  0.9486331772132386\n",
      "42\n",
      "MAE =  0.7180691259311753\n",
      "RMSE =  0.9529117473940225\n",
      "44\n",
      "MAE =  0.7198971652399855\n",
      "RMSE =  0.9568382877634326\n",
      "46\n",
      "MAE =  0.7236828584465403\n",
      "RMSE =  0.9604400688054877\n",
      "48\n",
      "MAE =  0.7274154626789674\n",
      "RMSE =  0.9653256447488529\n",
      "50\n",
      "MAE =  0.7275136539070226\n",
      "RMSE =  0.9653789911786245\n",
      "Best k for MAE is:  20 MAE =  0.6937173926208843\n",
      "Best k for RMSE is:  16 RMSE =  0.9122713786634818\n"
     ]
    },
    {
     "data": {
      "image/png": "[encoded data removed]",
      "text/plain": [
       "<Figure size 432x288 with 1 Axes>"
      ]
     },
     "metadata": {
      "needs_background": "light"
     },
     "output_type": "display_data"
    }
   ],
   "source": [
    "reader = Reader(rating_scale=(0.5, 5))\n",
    "data_set = Dataset.load_from_df(ratings_df[['userId', 'movieId', 'rating']], reader)\n",
    "krange = range(2, 52, 2)\n",
    "nnmf_filter(data_set, krange)"
   ]
  },
  {
   "cell_type": "code",
   "execution_count": null,
   "metadata": {
    "collapsed": true
   },
   "outputs": [],
   "source": [
    "print(\"Popular Movies\")\n",
    "nnmf_filter(Dataset.load_from_df(popular_movie_df, reader), krange)\n",
    "print(\"Unpopular Movies\")\n",
    "nnmf_filter(Dataset.load_from_df(unpopular_movie_df, reader), krange)\n",
    "print(\"High-variance Movies\")\n",
    "nnmf_filter(Dataset.load_from_df(high_var_df, reader), krange)"
   ]
  }
 ],
 "metadata": {
  "kernelspec": {
   "display_name": "Python 3",
   "language": "python",
   "name": "python3"
  },
  "language_info": {
   "codemirror_mode": {
    "name": "ipython",
    "version": 3
   },
   "file_extension": ".py",
   "mimetype": "text/x-python",
   "name": "python",
   "nbconvert_exporter": "python",
   "pygments_lexer": "ipython3",
   "version": "3.6.7"
  }
 },
 "nbformat": 4,
 "nbformat_minor": 2
}
