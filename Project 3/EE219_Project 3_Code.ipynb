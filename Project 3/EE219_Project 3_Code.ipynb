{
 "cells": [
  {
   "cell_type": "code",
   "execution_count": 2,
   "metadata": {
    "collapsed": true
   },
   "outputs": [],
   "source": [
    "import numpy as np\n",
    "import pandas as pd\n",
    "import matplotlib.pyplot as plt\n",
    "import pylab as pl"
   ]
  },
  {
   "cell_type": "code",
   "execution_count": 3,
   "metadata": {},
   "outputs": [
    {
     "data": {
      "text/html": [
       "<div>\n",
       "<style scoped>\n",
       "    .dataframe tbody tr th:only-of-type {\n",
       "        vertical-align: middle;\n",
       "    }\n",
       "\n",
       "    .dataframe tbody tr th {\n",
       "        vertical-align: top;\n",
       "    }\n",
       "\n",
       "    .dataframe thead th {\n",
       "        text-align: right;\n",
       "    }\n",
       "</style>\n",
       "<table border=\"1\" class=\"dataframe\">\n",
       "  <thead>\n",
       "    <tr style=\"text-align: right;\">\n",
       "      <th></th>\n",
       "      <th>movieId</th>\n",
       "      <th>title</th>\n",
       "      <th>genres</th>\n",
       "    </tr>\n",
       "  </thead>\n",
       "  <tbody>\n",
       "    <tr>\n",
       "      <th>0</th>\n",
       "      <td>1</td>\n",
       "      <td>Toy Story (1995)</td>\n",
       "      <td>Adventure|Animation|Children|Comedy|Fantasy</td>\n",
       "    </tr>\n",
       "    <tr>\n",
       "      <th>1</th>\n",
       "      <td>2</td>\n",
       "      <td>Jumanji (1995)</td>\n",
       "      <td>Adventure|Children|Fantasy</td>\n",
       "    </tr>\n",
       "    <tr>\n",
       "      <th>2</th>\n",
       "      <td>3</td>\n",
       "      <td>Grumpier Old Men (1995)</td>\n",
       "      <td>Comedy|Romance</td>\n",
       "    </tr>\n",
       "    <tr>\n",
       "      <th>3</th>\n",
       "      <td>4</td>\n",
       "      <td>Waiting to Exhale (1995)</td>\n",
       "      <td>Comedy|Drama|Romance</td>\n",
       "    </tr>\n",
       "    <tr>\n",
       "      <th>4</th>\n",
       "      <td>5</td>\n",
       "      <td>Father of the Bride Part II (1995)</td>\n",
       "      <td>Comedy</td>\n",
       "    </tr>\n",
       "  </tbody>\n",
       "</table>\n",
       "</div>"
      ],
      "text/plain": [
       "   movieId                               title  \\\n",
       "0        1                    Toy Story (1995)   \n",
       "1        2                      Jumanji (1995)   \n",
       "2        3             Grumpier Old Men (1995)   \n",
       "3        4            Waiting to Exhale (1995)   \n",
       "4        5  Father of the Bride Part II (1995)   \n",
       "\n",
       "                                        genres  \n",
       "0  Adventure|Animation|Children|Comedy|Fantasy  \n",
       "1                   Adventure|Children|Fantasy  \n",
       "2                               Comedy|Romance  \n",
       "3                         Comedy|Drama|Romance  \n",
       "4                                       Comedy  "
      ]
     },
     "execution_count": 3,
     "metadata": {},
     "output_type": "execute_result"
    }
   ],
   "source": [
    "movies_df = pd.read_csv(\"ml-latest-small/movies.csv\")\n",
    "movies_df.head()"
   ]
  },
  {
   "cell_type": "code",
   "execution_count": 4,
   "metadata": {},
   "outputs": [
    {
     "data": {
      "text/html": [
       "<div>\n",
       "<style scoped>\n",
       "    .dataframe tbody tr th:only-of-type {\n",
       "        vertical-align: middle;\n",
       "    }\n",
       "\n",
       "    .dataframe tbody tr th {\n",
       "        vertical-align: top;\n",
       "    }\n",
       "\n",
       "    .dataframe thead th {\n",
       "        text-align: right;\n",
       "    }\n",
       "</style>\n",
       "<table border=\"1\" class=\"dataframe\">\n",
       "  <thead>\n",
       "    <tr style=\"text-align: right;\">\n",
       "      <th></th>\n",
       "      <th>userId</th>\n",
       "      <th>movieId</th>\n",
       "      <th>rating</th>\n",
       "      <th>timestamp</th>\n",
       "    </tr>\n",
       "  </thead>\n",
       "  <tbody>\n",
       "    <tr>\n",
       "      <th>0</th>\n",
       "      <td>1</td>\n",
       "      <td>1</td>\n",
       "      <td>4.0</td>\n",
       "      <td>964982703</td>\n",
       "    </tr>\n",
       "    <tr>\n",
       "      <th>1</th>\n",
       "      <td>1</td>\n",
       "      <td>3</td>\n",
       "      <td>4.0</td>\n",
       "      <td>964981247</td>\n",
       "    </tr>\n",
       "    <tr>\n",
       "      <th>2</th>\n",
       "      <td>1</td>\n",
       "      <td>6</td>\n",
       "      <td>4.0</td>\n",
       "      <td>964982224</td>\n",
       "    </tr>\n",
       "    <tr>\n",
       "      <th>3</th>\n",
       "      <td>1</td>\n",
       "      <td>47</td>\n",
       "      <td>5.0</td>\n",
       "      <td>964983815</td>\n",
       "    </tr>\n",
       "    <tr>\n",
       "      <th>4</th>\n",
       "      <td>1</td>\n",
       "      <td>50</td>\n",
       "      <td>5.0</td>\n",
       "      <td>964982931</td>\n",
       "    </tr>\n",
       "  </tbody>\n",
       "</table>\n",
       "</div>"
      ],
      "text/plain": [
       "   userId  movieId  rating  timestamp\n",
       "0       1        1     4.0  964982703\n",
       "1       1        3     4.0  964981247\n",
       "2       1        6     4.0  964982224\n",
       "3       1       47     5.0  964983815\n",
       "4       1       50     5.0  964982931"
      ]
     },
     "execution_count": 4,
     "metadata": {},
     "output_type": "execute_result"
    }
   ],
   "source": [
    "ratings_df = pd.read_csv(\"ml-latest-small/ratings.csv\")\n",
    "ratings_df.head()"
   ]
  },
  {
   "cell_type": "markdown",
   "metadata": {},
   "source": [
    "## Question 1"
   ]
  },
  {
   "cell_type": "code",
   "execution_count": 6,
   "metadata": {},
   "outputs": [
    {
     "name": "stdout",
     "output_type": "stream",
     "text": [
      "Total number of possible ratings: 5942620\n",
      "Total number of available ratings: 100836\n",
      "Sparsity 0.016968273253211548\n"
     ]
    }
   ],
   "source": [
    "total_users = ratings_df.userId.unique()\n",
    "len(total_users)\n",
    "all_pos_ratings = len(movies_df) * len(total_users)\n",
    "sparsity = len(ratings_df) / all_pos_ratings\n",
    "print(\"Total number of possible ratings:\", all_pos_ratings)\n",
    "print(\"Total number of available ratings:\", len(ratings_df))\n",
    "print(\"Sparsity\", sparsity)"
   ]
  },
  {
   "cell_type": "markdown",
   "metadata": {},
   "source": [
    "## Question 2"
   ]
  },
  {
   "cell_type": "code",
   "execution_count": 7,
   "metadata": {},
   "outputs": [
    {
     "name": "stdout",
     "output_type": "stream",
     "text": [
      "[0.0, 0.5, 1.0, 1.5, 2.0, 2.5, 3.0, 3.5, 4.0, 4.5, 5.0]\n"
     ]
    },
    {
     "data": {
      "image/png": "[encoded data removed]",
      "text/plain": [
       "<Figure size 432x288 with 1 Axes>"
      ]
     },
     "metadata": {
      "needs_background": "light"
     },
     "output_type": "display_data"
    }
   ],
   "source": [
    "r_bins = [x / 10.0 for x in range(0, 51, 5)]\n",
    "print(r_bins)\n",
    "plt.hist(ratings_df.rating, bins=r_bins)\n",
    "plt.xticks(r_bins)\n",
    "plt.show()"
   ]
  },
  {
   "cell_type": "markdown",
   "metadata": {},
   "source": [
    "The distribution is left skewed. People are more willing to rat the movies they like than rating the movies they displike."
   ]
  },
  {
   "cell_type": "markdown",
   "metadata": {},
   "source": [
    "## Question 3"
   ]
  },
  {
   "cell_type": "code",
   "execution_count": 8,
   "metadata": {
    "collapsed": true
   },
   "outputs": [],
   "source": [
    "movie_ratings = dict()\n",
    "for i in range(len(ratings_df)):\n",
    "    id = ratings_df.loc[i, \"movieId\"]\n",
    "    if id in movie_ratings:\n",
    "        movie_ratings[id] = movie_ratings[id] + 1\n",
    "    else:\n",
    "        movie_ratings[id] = 1"
   ]
  },
  {
   "cell_type": "code",
   "execution_count": 9,
   "metadata": {},
   "outputs": [
    {
     "data": {
      "image/png": "[encoded data removed]",
      "text/plain": [
       "<Figure size 432x288 with 1 Axes>"
      ]
     },
     "metadata": {
      "needs_background": "light"
     },
     "output_type": "display_data"
    }
   ],
   "source": [
    "movie_lists = sorted(movie_ratings.items(), key=lambda x:-x[1]) #sorted by key\n",
    "x_id,y_cnt = zip(*movie_lists)\n",
    "xs = range(len(x_id))\n",
    "plt.plot(xs, y_cnt)\n",
    "plt.show()"
   ]
  },
  {
   "cell_type": "markdown",
   "metadata": {},
   "source": [
    "## Question 4"
   ]
  },
  {
   "cell_type": "code",
   "execution_count": 10,
   "metadata": {},
   "outputs": [
    {
     "data": {
      "image/png": "[encoded data removed]",
      "text/plain": [
       "<Figure size 432x288 with 1 Axes>"
      ]
     },
     "metadata": {
      "needs_background": "light"
     },
     "output_type": "display_data"
    }
   ],
   "source": [
    "user_cnt = dict()\n",
    "for i in range(len(ratings_df)):\n",
    "    id = ratings_df.loc[i, \"userId\"]\n",
    "    if id in user_cnt:\n",
    "        user_cnt[id] = user_cnt[id] + 1\n",
    "    else:\n",
    "        user_cnt[id] = 1\n",
    "user_list = sorted(user_cnt.items(), key=lambda x:-x[1])\n",
    "user_list\n",
    "u_id,y_cnt = zip(*movie_lists)\n",
    "xs = range(len(u_id))\n",
    "plt.plot(xs, y_cnt)\n",
    "plt.show()"
   ]
  },
  {
   "cell_type": "markdown",
   "metadata": {},
   "source": [
    "## Question 5"
   ]
  },
  {
   "cell_type": "markdown",
   "metadata": {},
   "source": [
    "The distribution has a really long tail, and this means that only a small portion of the movies have lots of ratings most of the movies have a small number of ratings. This means that the matrix is very sparse. The sparse matrix limits the coverage of neighborhood-based methods, and this creates challenges for robust similarity computation."
   ]
  },
  {
   "cell_type": "markdown",
   "metadata": {},
   "source": [
    "## Question 6"
   ]
  },
  {
   "cell_type": "code",
   "execution_count": 11,
   "metadata": {},
   "outputs": [
    {
     "data": {
      "image/png": "[encoded data removed]",
      "text/plain": [
       "<Figure size 432x288 with 1 Axes>"
      ]
     },
     "metadata": {
      "needs_background": "light"
     },
     "output_type": "display_data"
    }
   ],
   "source": [
    "movie_var = ratings_df.groupby(['movieId'])['rating'].var()\n",
    "movie_var.head()\n",
    "max_var = movie_var.max()\n",
    "min_var = movie_var.min()\n",
    "v_bins = [i / 10.0 for i in range(0, 106, 5)]\n",
    "movie_var.hist(bins=v_bins)\n",
    "# plt.xticks(v_bins)\n",
    "plt.show()"
   ]
  },
  {
   "cell_type": "markdown",
   "metadata": {},
   "source": [
    "The distribution means that the ratings on the movies are very consistent. Most of the movie have very low variance, and only small amount of movie have high variance in terms of reviews."
   ]
  },
  {
   "cell_type": "markdown",
   "metadata": {},
   "source": [
    "## Question 7"
   ]
  },
  {
   "cell_type": "markdown",
   "metadata": {},
   "source": [
    "$\\mu_u = \\frac{\\Sigma_{k \\in I_u}}{|I_u|}$"
   ]
  },
  {
   "cell_type": "markdown",
   "metadata": {},
   "source": [
    "## Question 8"
   ]
  },
  {
   "cell_type": "markdown",
   "metadata": {},
   "source": [
    "This means the set of items have been rated both by user u and user v. When the two sets are disjoint these two sets have not purchased any common item."
   ]
  },
  {
   "cell_type": "markdown",
   "metadata": {},
   "source": [
    "## Question 9"
   ]
  },
  {
   "cell_type": "code",
   "execution_count": 43,
   "metadata": {
    "collapsed": true
   },
   "outputs": [],
   "source": [
    "import matplotlib.pyplot as plt\n",
    "from surprise.model_selection import cross_validate\n",
    "from surprise import Reader, Dataset\n",
    "from surprise.prediction_algorithms import KNNWithMeans"
   ]
  },
  {
   "cell_type": "markdown",
   "metadata": {},
   "source": [
    "## Question 10-11"
   ]
  },
  {
   "cell_type": "code",
   "execution_count": null,
   "metadata": {
    "collapsed": true
   },
   "outputs": [],
   "source": [
    "def knn_filter(data_set, krange):\n",
    "    mae_results = []\n",
    "    rmse_results = []\n",
    "\n",
    "    for i in krange:\n",
    "        result = cross_validate(KNNWithMeans(k=i, sim_options = {'name': 'pearson', 'user_base': True}, verbose=False),\n",
    "                                data_set, measures=['rmse', 'mae'], cv=10, verbose=False)\n",
    "        avg_mae = np.mean(result['test_mae'])\n",
    "        avg_rmse = np.mean(result['test_rmse'])\n",
    "        mae_results.append(avg_mae)\n",
    "        rmse_results.append(avg_rmse)\n",
    "\n",
    "#         print(i)\n",
    "#         print(\"MAE = \", avg_mae)\n",
    "#         print(\"RMSE = \", avg_rmse)\n",
    "    print(\"Minimum MAE = \"mae_resultsin(mae_results))\n",
    "    print(\"Minimum RMSE = \", min(rmse_results))\n",
    "    plt.plot(krange, mae_results)\n",
    "    plt.plot(krange, rmse_results)\n",
    "    plt.show()\n",
    "\n"
   ]
  },
  {
   "cell_type": "code",
   "execution_count": 44,
   "metadata": {},
   "outputs": [
    {
     "name": "stdout",
     "output_type": "stream",
     "text": [
      "2\n",
      "MAE =  0.7858430805750529\n",
      "RMSE =  1.0189213755664983\n",
      "4\n",
      "MAE =  0.7264441520411584\n",
      "RMSE =  0.9451077879377516\n",
      "6\n",
      "MAE =  0.7046581112652233\n",
      "RMSE =  0.9202266693666742\n",
      "8\n",
      "MAE =  0.6940723488247764\n",
      "RMSE =  0.9077723474564247\n",
      "10\n",
      "MAE =  0.6883164386155809\n",
      "RMSE =  0.9016826379004158\n",
      "12\n",
      "MAE =  0.6855756880640981\n",
      "RMSE =  0.8979649390130356\n",
      "14\n",
      "MAE =  0.6816161961862379\n",
      "RMSE =  0.8936195591776844\n",
      "16\n",
      "MAE =  0.6817317088609584\n",
      "RMSE =  0.8940476774555369\n",
      "18\n",
      "MAE =  0.6803022073563704\n",
      "RMSE =  0.892381274995846\n",
      "20\n",
      "MAE =  0.6787957468323398\n",
      "RMSE =  0.8913894218989629\n",
      "22\n",
      "MAE =  0.6792800784149398\n",
      "RMSE =  0.8916314057855862\n",
      "24\n",
      "MAE =  0.679103611536727\n",
      "RMSE =  0.8913456970414915\n",
      "26\n",
      "MAE =  0.6781200798546806\n",
      "RMSE =  0.890319913687787\n",
      "28\n",
      "MAE =  0.6782780410764561\n",
      "RMSE =  0.8909582738170247\n",
      "30\n",
      "MAE =  0.6782354208296921\n",
      "RMSE =  0.8897438153524238\n",
      "32\n",
      "MAE =  0.6773983397355057\n",
      "RMSE =  0.8902082073844859\n",
      "34\n",
      "MAE =  0.6774445222637283\n",
      "RMSE =  0.8903735571247537\n",
      "36\n",
      "MAE =  0.6773018048446247\n",
      "RMSE =  0.8898838276194608\n",
      "38\n",
      "MAE =  0.6768705892378406\n",
      "RMSE =  0.8895492042535155\n",
      "40\n",
      "MAE =  0.6773423933723925\n",
      "RMSE =  0.8896934459203637\n",
      "42\n",
      "MAE =  0.6780435639541608\n",
      "RMSE =  0.8902475608824421\n",
      "44\n",
      "MAE =  0.6779558421733582\n",
      "RMSE =  0.8902680758596733\n",
      "46\n",
      "MAE =  0.6773072480102129\n",
      "RMSE =  0.8897938505499845\n",
      "48\n",
      "MAE =  0.6772287864658212\n",
      "RMSE =  0.8893745993752518\n",
      "50\n",
      "MAE =  0.6777232094898906\n",
      "RMSE =  0.8903097712321483\n",
      "52\n",
      "MAE =  0.6781772320854318\n",
      "RMSE =  0.8907661614514593\n",
      "54\n",
      "MAE =  0.6779577929315338\n",
      "RMSE =  0.8902387578566262\n",
      "56\n",
      "MAE =  0.6771658385901803\n",
      "RMSE =  0.8899040848797808\n",
      "58\n",
      "MAE =  0.6771916008008128\n",
      "RMSE =  0.8892428452786214\n",
      "60\n",
      "MAE =  0.6781801706151962\n",
      "RMSE =  0.8906554077259689\n",
      "62\n",
      "MAE =  0.6775195945825436\n",
      "RMSE =  0.8902861020276763\n",
      "64\n",
      "MAE =  0.6776436292046286\n",
      "RMSE =  0.8894096256138632\n",
      "66\n",
      "MAE =  0.6781831718555092\n",
      "RMSE =  0.8904781690983608\n",
      "68\n",
      "MAE =  0.6781453556911881\n",
      "RMSE =  0.8909580133426687\n",
      "70\n",
      "MAE =  0.6771309351848512\n",
      "RMSE =  0.8892711660743912\n",
      "72\n",
      "MAE =  0.678127034982362\n",
      "RMSE =  0.8907197323975428\n",
      "74\n",
      "MAE =  0.6783771875596513\n",
      "RMSE =  0.8905843345730216\n",
      "76\n",
      "MAE =  0.6782779640890919\n",
      "RMSE =  0.8905853661992669\n",
      "78\n",
      "MAE =  0.678099744939512\n",
      "RMSE =  0.8906406610846014\n",
      "80\n",
      "MAE =  0.6772667464731389\n",
      "RMSE =  0.8900356221457237\n",
      "82\n",
      "MAE =  0.6777174116232396\n",
      "RMSE =  0.8902000508080729\n",
      "84\n",
      "MAE =  0.6768301680944776\n",
      "RMSE =  0.8892636410338743\n",
      "86\n",
      "MAE =  0.6783363316184012\n",
      "RMSE =  0.8909646767508417\n",
      "88\n",
      "MAE =  0.6781417966151017\n",
      "RMSE =  0.8904710605793198\n",
      "90\n",
      "MAE =  0.6777321951192754\n",
      "RMSE =  0.8906283445354433\n",
      "92\n",
      "MAE =  0.6785169372351619\n",
      "RMSE =  0.8905653500634644\n",
      "94\n",
      "MAE =  0.6781879219756902\n",
      "RMSE =  0.8908664286675233\n",
      "96\n",
      "MAE =  0.6786468190263191\n",
      "RMSE =  0.8914591692749927\n",
      "98\n",
      "MAE =  0.6778847296852621\n",
      "RMSE =  0.8907355571087253\n",
      "100\n",
      "MAE =  0.6779064735691911\n",
      "RMSE =  0.8898511224755611\n"
     ]
    },
    {
     "data": {
      "image/png": "[encoded data removed]",
      "text/plain": [
       "<Figure size 432x288 with 1 Axes>"
      ]
     },
     "metadata": {
      "needs_background": "light"
     },
     "output_type": "display_data"
    }
   ],
   "source": [
    "reader = Reader(rating_scale=(0.5, 5))\n",
    "data_set = Dataset.load_from_df(ratings_df[['userId', 'movieId', 'rating']], reader)\n",
    "krange = range(2, 102, 2)\n",
    "knn_filter(data_set, krange)"
   ]
  },
  {
   "cell_type": "code",
   "execution_count": 14,
   "metadata": {},
   "outputs": [
    {
     "ename": "ModuleNotFoundError",
     "evalue": "No module named 'surprise'",
     "output_type": "error",
     "traceback": [
      "\u001b[0;31m---------------------------------------------------------------------------\u001b[0m",
      "\u001b[0;31mModuleNotFoundError\u001b[0m                       Traceback (most recent call last)",
      "\u001b[0;32m<ipython-input-14-e8824bbbf74a>\u001b[0m in \u001b[0;36m<module>\u001b[0;34m\u001b[0m\n\u001b[0;32m----> 1\u001b[0;31m \u001b[0;32mfrom\u001b[0m \u001b[0msurprise\u001b[0m\u001b[0;34m.\u001b[0m\u001b[0mmodel_selection\u001b[0m \u001b[0;32mimport\u001b[0m \u001b[0mtrain_test_split\u001b[0m\u001b[0;34m\u001b[0m\u001b[0;34m\u001b[0m\u001b[0m\n\u001b[0m\u001b[1;32m      2\u001b[0m \u001b[0;32mfrom\u001b[0m \u001b[0msklearn\u001b[0m\u001b[0;34m.\u001b[0m\u001b[0mmetrics\u001b[0m \u001b[0;32mimport\u001b[0m \u001b[0mauc\u001b[0m\u001b[0;34m\u001b[0m\u001b[0;34m\u001b[0m\u001b[0m\n\u001b[1;32m      3\u001b[0m \u001b[0;32mfrom\u001b[0m \u001b[0msklearn\u001b[0m\u001b[0;34m.\u001b[0m\u001b[0mmetrics\u001b[0m \u001b[0;32mimport\u001b[0m \u001b[0mroc_curve\u001b[0m\u001b[0;34m\u001b[0m\u001b[0;34m\u001b[0m\u001b[0m\n",
      "\u001b[0;31mModuleNotFoundError\u001b[0m: No module named 'surprise'"
     ]
    }
   ],
   "source": [
    "from surprise.model_selection import train_test_split\n",
    "from sklearn.metrics import auc\n",
    "from sklearn.metrics import roc_curve"
   ]
  },
  {
   "cell_type": "markdown",
   "metadata": {},
   "source": [
    "## Question 12-14"
   ]
  },
  {
   "cell_type": "code",
   "execution_count": 54,
   "metadata": {},
   "outputs": [
    {
     "name": "stdout",
     "output_type": "stream",
     "text": [
      "(586, 4)\n",
      "(100836, 4)\n",
      "(94794, 4)\n",
      "(6042, 4)\n"
     ]
    }
   ],
   "source": [
    "# trim test dataset\n",
    "popular_movie_df = ratings_df.groupby(['movieId']).filter(lambda x: len(x) > 2)\n",
    "unpopular_movie_df = ratings_df.groupby(['movieId']).filter(lambda x: len(x) <= 2)\n",
    "at_least_5_ratings_df = ratings_df.groupby(['movieId']).filter(lambda x: len(x) >= 5)\n",
    "high_var_df = at_least_5_ratings_df.groupby(['movieId']).filter(lambda x: (x['rating']).var() >= 2)\n",
    "print(high_var_df.shape)\n",
    "print (ratings_df.shape)\n",
    "print (popular_movie_df.shape)\n",
    "print (unpopular_movie_df.shape)"
   ]
  },
  {
   "cell_type": "code",
   "execution_count": 55,
   "metadata": {},
   "outputs": [
    {
     "name": "stdout",
     "output_type": "stream",
     "text": [
      "Popular Movies\n"
     ]
    },
    {
     "ename": "NameError",
     "evalue": "name 'knn_filter' is not defined",
     "output_type": "error",
     "traceback": [
      "\u001b[0;31m---------------------------------------------------------------------------\u001b[0m",
      "\u001b[0;31mNameError\u001b[0m                                 Traceback (most recent call last)",
      "\u001b[0;32m<ipython-input-55-1a1eeecf8581>\u001b[0m in \u001b[0;36m<module>\u001b[0;34m()\u001b[0m\n\u001b[1;32m      1\u001b[0m \u001b[0mprint\u001b[0m\u001b[0;34m(\u001b[0m\u001b[0;34m\"Popular Movies\"\u001b[0m\u001b[0;34m)\u001b[0m\u001b[0;34m\u001b[0m\u001b[0m\n\u001b[0;32m----> 2\u001b[0;31m \u001b[0mknn_filter\u001b[0m\u001b[0;34m(\u001b[0m\u001b[0mDataset\u001b[0m\u001b[0;34m.\u001b[0m\u001b[0mload_from_df\u001b[0m\u001b[0;34m(\u001b[0m\u001b[0mpopular_movie_df\u001b[0m\u001b[0;34m,\u001b[0m \u001b[0mreader\u001b[0m\u001b[0;34m)\u001b[0m\u001b[0;34m,\u001b[0m \u001b[0mkrange\u001b[0m\u001b[0;34m)\u001b[0m\u001b[0;34m\u001b[0m\u001b[0m\n\u001b[0m\u001b[1;32m      3\u001b[0m \u001b[0mprint\u001b[0m\u001b[0;34m(\u001b[0m\u001b[0;34m\"Unpopular Movies\"\u001b[0m\u001b[0;34m)\u001b[0m\u001b[0;34m\u001b[0m\u001b[0m\n\u001b[1;32m      4\u001b[0m \u001b[0mknn_filter\u001b[0m\u001b[0;34m(\u001b[0m\u001b[0mDataset\u001b[0m\u001b[0;34m.\u001b[0m\u001b[0mload_from_df\u001b[0m\u001b[0;34m(\u001b[0m\u001b[0munpopular_movie_df\u001b[0m\u001b[0;34m,\u001b[0m \u001b[0mreader\u001b[0m\u001b[0;34m)\u001b[0m\u001b[0;34m,\u001b[0m \u001b[0mkrange\u001b[0m\u001b[0;34m)\u001b[0m\u001b[0;34m\u001b[0m\u001b[0m\n\u001b[1;32m      5\u001b[0m \u001b[0mprint\u001b[0m\u001b[0;34m(\u001b[0m\u001b[0;34m\"High-variance Movies\"\u001b[0m\u001b[0;34m)\u001b[0m\u001b[0;34m\u001b[0m\u001b[0m\n",
      "\u001b[0;31mNameError\u001b[0m: name 'knn_filter' is not defined"
     ]
    }
   ],
   "source": [
    "print(\"Popular Movies\")\n",
    "knn_filter(Dataset.load_from_df(popular_movie_df, reader), krange)\n",
    "print(\"Unpopular Movies\")\n",
    "knn_filter(Dataset.load_from_df(unpopular_movie_df, reader), krange)\n",
    "print(\"High-variance Movies\")\n",
    "knn_filter(Dataset.load_from_df(high_var_df, reader), krange)"
   ]
  },
  {
   "cell_type": "markdown",
   "metadata": {},
   "source": [
    "## Question 15"
   ]
  },
  {
   "cell_type": "code",
   "execution_count": null,
   "metadata": {
    "collapsed": true
   },
   "outputs": [],
   "source": [
    "def binary_predict(alg, data_set, thresholds):\n",
    "    training_set, test_set = train_test_split(data_set, test_size = 0.1)\n",
    "    alg.fit(training_set)\n",
    "    predictions = alg.test(test_set)\n",
    "    for t in thresholds:\n",
    "        binary_preditions = [0 if getattr(pred, 'est') < t else 1 for pred in predictions]\n",
    "        binary_truth = [getattr(pred, 'r_ui') for pred in predictions]\n",
    "        fpr, tpr, _ = roc_curve(binary_preditions, binary_truth)\n",
    "        draw_roc(fpr, tpr)\n",
    "\n",
    "def draw_roc(fpr, tpr):\n",
    "    roc_auc = auc(fpr, tpr)\n",
    "    plt.plot(fpr, tpr)\n",
    "    plt.plot([0, 1], [0, 1],'r--')\n",
    "    plt.xlim([0, 1])\n",
    "    plt.ylim([0, 1])\n",
    "    plt.ylabel('True Positive Rate')\n",
    "    plt.xlabel('False Positive Rate')\n",
    "    plt.show()\n",
    "    print('AUC = ', roc_auc)\n",
    "   "
   ]
  },
  {
   "cell_type": "code",
   "execution_count": 38,
   "metadata": {},
   "outputs": [
    {
     "data": {
      "image/png": "[encoded data removed]",
      "text/plain": [
       "<Figure size 432x288 with 1 Axes>"
      ]
     },
     "metadata": {
      "needs_background": "light"
     },
     "output_type": "display_data"
    },
    {
     "name": "stdout",
     "output_type": "stream",
     "text": [
      "AUC =  0.8251918970636436\n"
     ]
    },
    {
     "data": {
      "image/png": "[encoded data removed]",
      "text/plain": [
       "<Figure size 432x288 with 1 Axes>"
      ]
     },
     "metadata": {
      "needs_background": "light"
     },
     "output_type": "display_data"
    },
    {
     "name": "stdout",
     "output_type": "stream",
     "text": [
      "AUC =  0.7794464270687\n"
     ]
    },
    {
     "data": {
      "image/png": "[encoded data removed]",
      "text/plain": [
       "<Figure size 432x288 with 1 Axes>"
      ]
     },
     "metadata": {
      "needs_background": "light"
     },
     "output_type": "display_data"
    },
    {
     "name": "stdout",
     "output_type": "stream",
     "text": [
      "AUC =  0.7490120549998772\n"
     ]
    },
    {
     "data": {
      "image/png": "[encoded data removed]",
      "text/plain": [
       "<Figure size 432x288 with 1 Axes>"
      ]
     },
     "metadata": {
      "needs_background": "light"
     },
     "output_type": "display_data"
    },
    {
     "name": "stdout",
     "output_type": "stream",
     "text": [
      "AUC =  0.7511770268889293\n"
     ]
    }
   ],
   "source": [
    "reader = Reader(rating_scale=(0.5, 5))\n",
    "data_set = Dataset.load_from_df(ratings_df[['userId', 'movieId', 'rating']], reader)\n",
    "thresholds = [2.5, 3.0, 3.5, 4.0]\n",
    "binary_predict(KNNWithMeans(k=16, sim_options = {'name': 'pearson', 'user_base': True}, verbose=False), data_set, thresholds)"
   ]
  },
  {
   "cell_type": "markdown",
   "metadata": {},
   "source": [
    "## Question 17 - 22 NNMF"
   ]
  },
  {
   "cell_type": "code",
   "execution_count": 10,
   "metadata": {
    "collapsed": true
   },
   "outputs": [],
   "source": [
    "# def build_movie_mapping(ratings_df):\n",
    "#     mapping = {}\n",
    "#     for idx, row in movies_df.iterrows():\n",
    "#         movie_id = int(row['movieId'])\n",
    "#         if movie_id not in mapping:\n",
    "#             mapping[movie_id] = len(mapping) + 1\n",
    "#     return mapping\n",
    "\n",
    "# id_to_col = build_movie_mapping(ratings_df)\n",
    "# mapping movieId to 1 - 9742\n",
    "\n"
   ]
  },
  {
   "cell_type": "code",
   "execution_count": 11,
   "metadata": {},
   "outputs": [
    {
     "name": "stdout",
     "output_type": "stream",
     "text": [
      "610 9742\n"
     ]
    }
   ],
   "source": [
    "# def build_rating_matrix(num_user, num_movie, rarings_df, mapping):\n",
    "#     R_matrix = np.zeros((num_user, num_movie))\n",
    "#     for idx, row in ratings_df.iterrows():\n",
    "#         user_id, movie_id, rating = int(row['userId']), mapping[int(row['movieId'])], float(row['rating'])\n",
    "#         R_matrix[user_id-1][movie_id-1] = rating\n",
    "#     return R_matrix\n",
    "\n",
    "# print(len(total_users), len(movies_df))\n",
    "# R_matrix = build_rating_matrix(len(total_users), len(movies_df), ratings_df, id_to_col)\n"
   ]
  },
  {
   "cell_type": "code",
   "execution_count": 61,
   "metadata": {},
   "outputs": [],
   "source": [
    "from surprise.prediction_algorithms.matrix_factorization import NMF"
   ]
  },
  {
   "cell_type": "code",
   "execution_count": null,
   "metadata": {
    "collapsed": true
   },
   "outputs": [],
   "source": [
    "def nnmf_filter(data_set, krange):\n",
    "    mae_results = []\n",
    "    min_mae = 99999999999\n",
    "    min_mae_i = -1\n",
    "\n",
    "    rmse_results = []\n",
    "    min_rmse = 9999999999\n",
    "    min_rmse_i = -1\n",
    "\n",
    "    for i in krange:\n",
    "        result = cross_validate(NMF(n_factors=i, biased=False), data_set, measures=['rmse', 'mae'], cv=10, verbose=False)\n",
    "        avg_mae = np.mean(result['test_mae'])\n",
    "        avg_rmse = np.mean(result['test_rmse'])\n",
    "        mae_results.append(avg_mae)\n",
    "        rmse_results.append(avg_rmse)\n",
    "\n",
    "        if avg_mae < min_mae:\n",
    "            min_mae = avg_mae\n",
    "            min_mae_i = i\n",
    "\n",
    "        if avg_rmse < min_rmse:\n",
    "            min_rmse = avg_rmse\n",
    "            min_rmse_i = i\n",
    "#         print(i)\n",
    "#         print(\"MAE = \", avg_mae)\n",
    "#         print(\"RMSE = \", avg_rmse)\n",
    "\n",
    "    print(\"Best k for MAE is: \", min_mae_i, \"MAE = \", min_mae)\n",
    "    print(\"Best k for RMSE is: \", min_rmse_i, \"RMSE = \", min_rmse)\n",
    "    plt.plot(krange, mae_results)\n",
    "    plt.plot(krange, rmse_results)\n",
    "    plt.show()"
   ]
  },
  {
   "cell_type": "code",
   "execution_count": 32,
   "metadata": {},
   "outputs": [
    {
     "name": "stdout",
     "output_type": "stream",
     "text": [
      "2\n",
      "MAE =  0.9616203309936271\n",
      "RMSE =  1.1437609712659786\n",
      "4\n",
      "MAE =  0.8491287236938216\n",
      "RMSE =  1.038805797617638\n",
      "6\n",
      "MAE =  0.7869687909657925\n",
      "RMSE =  0.9832903837747524\n",
      "8\n",
      "MAE =  0.7455003613451122\n",
      "RMSE =  0.9468202897687089\n",
      "10\n",
      "MAE =  0.7251955586568657\n",
      "RMSE =  0.9302878531917514\n",
      "12\n",
      "MAE =  0.7102268800390528\n",
      "RMSE =  0.9198031768731607\n",
      "14\n",
      "MAE =  0.7033949795794989\n",
      "RMSE =  0.9158753687801763\n",
      "16\n",
      "MAE =  0.696801034799028\n",
      "RMSE =  0.9122713786634818\n",
      "18\n",
      "MAE =  0.6951944730006574\n",
      "RMSE =  0.9140371441160788\n",
      "20\n",
      "MAE =  0.6937173926208843\n",
      "RMSE =  0.9142182671347798\n",
      "22\n",
      "MAE =  0.6949271298816658\n",
      "RMSE =  0.9175064056353012\n",
      "24\n",
      "MAE =  0.6955185606574582\n",
      "RMSE =  0.9204996598316558\n",
      "26\n",
      "MAE =  0.6961707814367288\n",
      "RMSE =  0.9213075886614492\n",
      "28\n",
      "MAE =  0.699194936358494\n",
      "RMSE =  0.9270985018990455\n",
      "30\n",
      "MAE =  0.7006730694781724\n",
      "RMSE =  0.9287511286552285\n",
      "32\n",
      "MAE =  0.7031417754772237\n",
      "RMSE =  0.9331357377637921\n",
      "34\n",
      "MAE =  0.706344161412339\n",
      "RMSE =  0.9373857799791377\n",
      "36\n",
      "MAE =  0.7106119920972722\n",
      "RMSE =  0.942826460739456\n",
      "38\n",
      "MAE =  0.7136749853486538\n",
      "RMSE =  0.9482418406899292\n",
      "40\n",
      "MAE =  0.7136455202726937\n",
      "RMSE =  0.9486331772132386\n",
      "42\n",
      "MAE =  0.7180691259311753\n",
      "RMSE =  0.9529117473940225\n",
      "44\n",
      "MAE =  0.7198971652399855\n",
      "RMSE =  0.9568382877634326\n",
      "46\n",
      "MAE =  0.7236828584465403\n",
      "RMSE =  0.9604400688054877\n",
      "48\n",
      "MAE =  0.7274154626789674\n",
      "RMSE =  0.9653256447488529\n",
      "50\n",
      "MAE =  0.7275136539070226\n",
      "RMSE =  0.9653789911786245\n",
      "Best k for MAE is:  20 MAE =  0.6937173926208843\n",
      "Best k for RMSE is:  16 RMSE =  0.9122713786634818\n"
     ]
    },
    {
     "data": {
      "image/png": "[encoded data removed]",
      "text/plain": [
       "<Figure size 432x288 with 1 Axes>"
      ]
     },
     "metadata": {
      "needs_background": "light"
     },
     "output_type": "display_data"
    }
   ],
   "source": [
    "reader = Reader(rating_scale=(0.5, 5))\n",
    "data_set = Dataset.load_from_df(ratings_df[['userId', 'movieId', 'rating']], reader)\n",
    "krange = range(2, 52, 2)\n",
    "nnmf_filter(data_set, krange)"
   ]
  },
  {
   "cell_type": "code",
   "execution_count": 59,
   "metadata": {},
   "outputs": [
    {
     "name": "stdout",
     "output_type": "stream",
     "text": [
      "Popular Movies\n"
     ]
    },
    {
     "ename": "NameError",
     "evalue": "name 'nnmf_filter' is not defined",
     "output_type": "error",
     "traceback": [
      "\u001b[0;31m---------------------------------------------------------------------------\u001b[0m",
      "\u001b[0;31mNameError\u001b[0m                                 Traceback (most recent call last)",
      "\u001b[0;32m<ipython-input-59-ddef1dd2da48>\u001b[0m in \u001b[0;36m<module>\u001b[0;34m\u001b[0m\n\u001b[1;32m      1\u001b[0m \u001b[0mprint\u001b[0m\u001b[0;34m(\u001b[0m\u001b[0;34m\"Popular Movies\"\u001b[0m\u001b[0;34m)\u001b[0m\u001b[0;34m\u001b[0m\u001b[0;34m\u001b[0m\u001b[0m\n\u001b[0;32m----> 2\u001b[0;31m \u001b[0mnnmf_filter\u001b[0m\u001b[0;34m(\u001b[0m\u001b[0mDataset\u001b[0m\u001b[0;34m.\u001b[0m\u001b[0mload_from_df\u001b[0m\u001b[0;34m(\u001b[0m\u001b[0mpopular_movie_df\u001b[0m\u001b[0;34m,\u001b[0m \u001b[0mreader\u001b[0m\u001b[0;34m)\u001b[0m\u001b[0;34m,\u001b[0m \u001b[0mkrange\u001b[0m\u001b[0;34m)\u001b[0m\u001b[0;34m\u001b[0m\u001b[0;34m\u001b[0m\u001b[0m\n\u001b[0m\u001b[1;32m      3\u001b[0m \u001b[0mprint\u001b[0m\u001b[0;34m(\u001b[0m\u001b[0;34m\"Unpopular Movies\"\u001b[0m\u001b[0;34m)\u001b[0m\u001b[0;34m\u001b[0m\u001b[0;34m\u001b[0m\u001b[0m\n\u001b[1;32m      4\u001b[0m \u001b[0mnnmf_filter\u001b[0m\u001b[0;34m(\u001b[0m\u001b[0mDataset\u001b[0m\u001b[0;34m.\u001b[0m\u001b[0mload_from_df\u001b[0m\u001b[0;34m(\u001b[0m\u001b[0munpopular_movie_df\u001b[0m\u001b[0;34m,\u001b[0m \u001b[0mreader\u001b[0m\u001b[0;34m)\u001b[0m\u001b[0;34m,\u001b[0m \u001b[0mkrange\u001b[0m\u001b[0;34m)\u001b[0m\u001b[0;34m\u001b[0m\u001b[0;34m\u001b[0m\u001b[0m\n\u001b[1;32m      5\u001b[0m \u001b[0mprint\u001b[0m\u001b[0;34m(\u001b[0m\u001b[0;34m\"High-variance Movies\"\u001b[0m\u001b[0;34m)\u001b[0m\u001b[0;34m\u001b[0m\u001b[0;34m\u001b[0m\u001b[0m\n",
      "\u001b[0;31mNameError\u001b[0m: name 'nnmf_filter' is not defined"
     ]
    }
   ],
   "source": [
    "print(\"Popular Movies\")\n",
    "nnmf_filter(Dataset.load_from_df(popular_movie_df, reader), krange)\n",
    "print(\"Unpopular Movies\")\n",
    "nnmf_filter(Dataset.load_from_df(unpopular_movie_df, reader), krange)\n",
    "print(\"High-variance Movies\")\n",
    "nnmf_filter(Dataset.load_from_df(high_var_df, reader), krange)"
   ]
  },
  {
   "cell_type": "markdown",
   "metadata": {},
   "source": [
    "## Question 22"
   ]
  },
  {
   "cell_type": "code",
   "execution_count": 62,
   "metadata": {},
   "outputs": [
    {
     "data": {
      "image/png": "[encoded data removed]",
      "text/plain": [
       "<Figure size 432x288 with 1 Axes>"
      ]
     },
     "metadata": {
      "needs_background": "light"
     },
     "output_type": "display_data"
    },
    {
     "name": "stdout",
     "output_type": "stream",
     "text": [
      "AUC =  0.7709763281586738\n"
     ]
    },
    {
     "data": {
      "image/png": "[encoded data removed]",
      "text/plain": [
       "<Figure size 432x288 with 1 Axes>"
      ]
     },
     "metadata": {
      "needs_background": "light"
     },
     "output_type": "display_data"
    },
    {
     "name": "stdout",
     "output_type": "stream",
     "text": [
      "AUC =  0.7549040758302543\n"
     ]
    },
    {
     "data": {
      "image/png": "[encoded data removed]",
      "text/plain": [
       "<Figure size 432x288 with 1 Axes>"
      ]
     },
     "metadata": {
      "needs_background": "light"
     },
     "output_type": "display_data"
    },
    {
     "name": "stdout",
     "output_type": "stream",
     "text": [
      "AUC =  0.732730598067276\n"
     ]
    },
    {
     "data": {
      "image/png": "[encoded data removed]",
      "text/plain": [
       "<Figure size 432x288 with 1 Axes>"
      ]
     },
     "metadata": {
      "needs_background": "light"
     },
     "output_type": "display_data"
    },
    {
     "name": "stdout",
     "output_type": "stream",
     "text": [
      "AUC =  0.7514716244753353\n"
     ]
    }
   ],
   "source": [
    "binary_predict(NMF(n_factors=16, biased=False), data_set, thresholds)"
   ]
  },
  {
   "cell_type": "markdown",
   "metadata": {},
   "source": [
    "## Question 23"
   ]
  },
  {
   "cell_type": "code",
   "execution_count": 112,
   "metadata": {},
   "outputs": [
    {
     "data": {
      "text/html": [
       "<div>\n",
       "<style scoped>\n",
       "    .dataframe tbody tr th:only-of-type {\n",
       "        vertical-align: middle;\n",
       "    }\n",
       "\n",
       "    .dataframe tbody tr th {\n",
       "        vertical-align: top;\n",
       "    }\n",
       "\n",
       "    .dataframe thead th {\n",
       "        text-align: right;\n",
       "    }\n",
       "</style>\n",
       "<table border=\"1\" class=\"dataframe\">\n",
       "  <thead>\n",
       "    <tr style=\"text-align: right;\">\n",
       "      <th></th>\n",
       "      <th>movieId</th>\n",
       "      <th>title</th>\n",
       "      <th>genres</th>\n",
       "    </tr>\n",
       "  </thead>\n",
       "  <tbody>\n",
       "    <tr>\n",
       "      <th>0</th>\n",
       "      <td>1</td>\n",
       "      <td>Toy Story (1995)</td>\n",
       "      <td>Adventure|Animation|Children|Comedy|Fantasy</td>\n",
       "    </tr>\n",
       "    <tr>\n",
       "      <th>1</th>\n",
       "      <td>2</td>\n",
       "      <td>Jumanji (1995)</td>\n",
       "      <td>Adventure|Children|Fantasy</td>\n",
       "    </tr>\n",
       "    <tr>\n",
       "      <th>2</th>\n",
       "      <td>3</td>\n",
       "      <td>Grumpier Old Men (1995)</td>\n",
       "      <td>Comedy|Romance</td>\n",
       "    </tr>\n",
       "    <tr>\n",
       "      <th>3</th>\n",
       "      <td>4</td>\n",
       "      <td>Waiting to Exhale (1995)</td>\n",
       "      <td>Comedy|Drama|Romance</td>\n",
       "    </tr>\n",
       "    <tr>\n",
       "      <th>4</th>\n",
       "      <td>5</td>\n",
       "      <td>Father of the Bride Part II (1995)</td>\n",
       "      <td>Comedy</td>\n",
       "    </tr>\n",
       "    <tr>\n",
       "      <th>5</th>\n",
       "      <td>6</td>\n",
       "      <td>Heat (1995)</td>\n",
       "      <td>Action|Crime|Thriller</td>\n",
       "    </tr>\n",
       "    <tr>\n",
       "      <th>6</th>\n",
       "      <td>7</td>\n",
       "      <td>Sabrina (1995)</td>\n",
       "      <td>Comedy|Romance</td>\n",
       "    </tr>\n",
       "    <tr>\n",
       "      <th>7</th>\n",
       "      <td>8</td>\n",
       "      <td>Tom and Huck (1995)</td>\n",
       "      <td>Adventure|Children</td>\n",
       "    </tr>\n",
       "    <tr>\n",
       "      <th>8</th>\n",
       "      <td>9</td>\n",
       "      <td>Sudden Death (1995)</td>\n",
       "      <td>Action</td>\n",
       "    </tr>\n",
       "    <tr>\n",
       "      <th>9</th>\n",
       "      <td>10</td>\n",
       "      <td>GoldenEye (1995)</td>\n",
       "      <td>Action|Adventure|Thriller</td>\n",
       "    </tr>\n",
       "    <tr>\n",
       "      <th>10</th>\n",
       "      <td>11</td>\n",
       "      <td>American President, The (1995)</td>\n",
       "      <td>Comedy|Drama|Romance</td>\n",
       "    </tr>\n",
       "    <tr>\n",
       "      <th>11</th>\n",
       "      <td>12</td>\n",
       "      <td>Dracula: Dead and Loving It (1995)</td>\n",
       "      <td>Comedy|Horror</td>\n",
       "    </tr>\n",
       "    <tr>\n",
       "      <th>12</th>\n",
       "      <td>13</td>\n",
       "      <td>Balto (1995)</td>\n",
       "      <td>Adventure|Animation|Children</td>\n",
       "    </tr>\n",
       "    <tr>\n",
       "      <th>13</th>\n",
       "      <td>14</td>\n",
       "      <td>Nixon (1995)</td>\n",
       "      <td>Drama</td>\n",
       "    </tr>\n",
       "    <tr>\n",
       "      <th>14</th>\n",
       "      <td>15</td>\n",
       "      <td>Cutthroat Island (1995)</td>\n",
       "      <td>Action|Adventure|Romance</td>\n",
       "    </tr>\n",
       "    <tr>\n",
       "      <th>15</th>\n",
       "      <td>16</td>\n",
       "      <td>Casino (1995)</td>\n",
       "      <td>Crime|Drama</td>\n",
       "    </tr>\n",
       "    <tr>\n",
       "      <th>16</th>\n",
       "      <td>17</td>\n",
       "      <td>Sense and Sensibility (1995)</td>\n",
       "      <td>Drama|Romance</td>\n",
       "    </tr>\n",
       "    <tr>\n",
       "      <th>17</th>\n",
       "      <td>18</td>\n",
       "      <td>Four Rooms (1995)</td>\n",
       "      <td>Comedy</td>\n",
       "    </tr>\n",
       "    <tr>\n",
       "      <th>18</th>\n",
       "      <td>19</td>\n",
       "      <td>Ace Ventura: When Nature Calls (1995)</td>\n",
       "      <td>Comedy</td>\n",
       "    </tr>\n",
       "    <tr>\n",
       "      <th>19</th>\n",
       "      <td>20</td>\n",
       "      <td>Money Train (1995)</td>\n",
       "      <td>Action|Comedy|Crime|Drama|Thriller</td>\n",
       "    </tr>\n",
       "    <tr>\n",
       "      <th>20</th>\n",
       "      <td>21</td>\n",
       "      <td>Get Shorty (1995)</td>\n",
       "      <td>Comedy|Crime|Thriller</td>\n",
       "    </tr>\n",
       "    <tr>\n",
       "      <th>21</th>\n",
       "      <td>22</td>\n",
       "      <td>Copycat (1995)</td>\n",
       "      <td>Crime|Drama|Horror|Mystery|Thriller</td>\n",
       "    </tr>\n",
       "    <tr>\n",
       "      <th>22</th>\n",
       "      <td>23</td>\n",
       "      <td>Assassins (1995)</td>\n",
       "      <td>Action|Crime|Thriller</td>\n",
       "    </tr>\n",
       "    <tr>\n",
       "      <th>23</th>\n",
       "      <td>24</td>\n",
       "      <td>Powder (1995)</td>\n",
       "      <td>Drama|Sci-Fi</td>\n",
       "    </tr>\n",
       "    <tr>\n",
       "      <th>24</th>\n",
       "      <td>25</td>\n",
       "      <td>Leaving Las Vegas (1995)</td>\n",
       "      <td>Drama|Romance</td>\n",
       "    </tr>\n",
       "    <tr>\n",
       "      <th>25</th>\n",
       "      <td>26</td>\n",
       "      <td>Othello (1995)</td>\n",
       "      <td>Drama</td>\n",
       "    </tr>\n",
       "    <tr>\n",
       "      <th>26</th>\n",
       "      <td>27</td>\n",
       "      <td>Now and Then (1995)</td>\n",
       "      <td>Children|Drama</td>\n",
       "    </tr>\n",
       "    <tr>\n",
       "      <th>27</th>\n",
       "      <td>28</td>\n",
       "      <td>Persuasion (1995)</td>\n",
       "      <td>Drama|Romance</td>\n",
       "    </tr>\n",
       "    <tr>\n",
       "      <th>28</th>\n",
       "      <td>29</td>\n",
       "      <td>City of Lost Children, The (Cité des enfants p...</td>\n",
       "      <td>Adventure|Drama|Fantasy|Mystery|Sci-Fi</td>\n",
       "    </tr>\n",
       "    <tr>\n",
       "      <th>29</th>\n",
       "      <td>30</td>\n",
       "      <td>Shanghai Triad (Yao a yao yao dao waipo qiao) ...</td>\n",
       "      <td>Crime|Drama</td>\n",
       "    </tr>\n",
       "    <tr>\n",
       "      <th>...</th>\n",
       "      <td>...</td>\n",
       "      <td>...</td>\n",
       "      <td>...</td>\n",
       "    </tr>\n",
       "    <tr>\n",
       "      <th>9712</th>\n",
       "      <td>188189</td>\n",
       "      <td>Sorry to Bother You (2018)</td>\n",
       "      <td>Comedy|Fantasy|Sci-Fi</td>\n",
       "    </tr>\n",
       "    <tr>\n",
       "      <th>9713</th>\n",
       "      <td>188301</td>\n",
       "      <td>Ant-Man and the Wasp (2018)</td>\n",
       "      <td>Action|Adventure|Comedy|Fantasy|Sci-Fi</td>\n",
       "    </tr>\n",
       "    <tr>\n",
       "      <th>9714</th>\n",
       "      <td>188675</td>\n",
       "      <td>Dogman (2018)</td>\n",
       "      <td>Crime|Drama</td>\n",
       "    </tr>\n",
       "    <tr>\n",
       "      <th>9715</th>\n",
       "      <td>188751</td>\n",
       "      <td>Mamma Mia: Here We Go Again! (2018)</td>\n",
       "      <td>Comedy|Romance</td>\n",
       "    </tr>\n",
       "    <tr>\n",
       "      <th>9716</th>\n",
       "      <td>188797</td>\n",
       "      <td>Tag (2018)</td>\n",
       "      <td>Comedy</td>\n",
       "    </tr>\n",
       "    <tr>\n",
       "      <th>9717</th>\n",
       "      <td>188833</td>\n",
       "      <td>The Man Who Killed Don Quixote (2018)</td>\n",
       "      <td>Adventure|Comedy|Fantasy</td>\n",
       "    </tr>\n",
       "    <tr>\n",
       "      <th>9718</th>\n",
       "      <td>189043</td>\n",
       "      <td>Boundaries (2018)</td>\n",
       "      <td>Comedy|Drama</td>\n",
       "    </tr>\n",
       "    <tr>\n",
       "      <th>9719</th>\n",
       "      <td>189111</td>\n",
       "      <td>Spiral (2018)</td>\n",
       "      <td>Documentary</td>\n",
       "    </tr>\n",
       "    <tr>\n",
       "      <th>9720</th>\n",
       "      <td>189333</td>\n",
       "      <td>Mission: Impossible - Fallout (2018)</td>\n",
       "      <td>Action|Adventure|Thriller</td>\n",
       "    </tr>\n",
       "    <tr>\n",
       "      <th>9721</th>\n",
       "      <td>189381</td>\n",
       "      <td>SuperFly (2018)</td>\n",
       "      <td>Action|Crime|Thriller</td>\n",
       "    </tr>\n",
       "    <tr>\n",
       "      <th>9722</th>\n",
       "      <td>189547</td>\n",
       "      <td>Iron Soldier (2010)</td>\n",
       "      <td>Action|Sci-Fi</td>\n",
       "    </tr>\n",
       "    <tr>\n",
       "      <th>9723</th>\n",
       "      <td>189713</td>\n",
       "      <td>BlacKkKlansman (2018)</td>\n",
       "      <td>Comedy|Crime|Drama</td>\n",
       "    </tr>\n",
       "    <tr>\n",
       "      <th>9724</th>\n",
       "      <td>190183</td>\n",
       "      <td>The Darkest Minds (2018)</td>\n",
       "      <td>Sci-Fi|Thriller</td>\n",
       "    </tr>\n",
       "    <tr>\n",
       "      <th>9725</th>\n",
       "      <td>190207</td>\n",
       "      <td>Tilt (2011)</td>\n",
       "      <td>Drama|Romance</td>\n",
       "    </tr>\n",
       "    <tr>\n",
       "      <th>9726</th>\n",
       "      <td>190209</td>\n",
       "      <td>Jeff Ross Roasts the Border (2017)</td>\n",
       "      <td>Comedy</td>\n",
       "    </tr>\n",
       "    <tr>\n",
       "      <th>9727</th>\n",
       "      <td>190213</td>\n",
       "      <td>John From (2015)</td>\n",
       "      <td>Drama</td>\n",
       "    </tr>\n",
       "    <tr>\n",
       "      <th>9728</th>\n",
       "      <td>190215</td>\n",
       "      <td>Liquid Truth (2017)</td>\n",
       "      <td>Drama</td>\n",
       "    </tr>\n",
       "    <tr>\n",
       "      <th>9729</th>\n",
       "      <td>190219</td>\n",
       "      <td>Bunny (1998)</td>\n",
       "      <td>Animation</td>\n",
       "    </tr>\n",
       "    <tr>\n",
       "      <th>9730</th>\n",
       "      <td>190221</td>\n",
       "      <td>Hommage à Zgougou (et salut à Sabine Mamou) (2...</td>\n",
       "      <td>Documentary</td>\n",
       "    </tr>\n",
       "    <tr>\n",
       "      <th>9731</th>\n",
       "      <td>191005</td>\n",
       "      <td>Gintama (2017)</td>\n",
       "      <td>Action|Adventure|Comedy|Sci-Fi</td>\n",
       "    </tr>\n",
       "    <tr>\n",
       "      <th>9732</th>\n",
       "      <td>193565</td>\n",
       "      <td>Gintama: The Movie (2010)</td>\n",
       "      <td>Action|Animation|Comedy|Sci-Fi</td>\n",
       "    </tr>\n",
       "    <tr>\n",
       "      <th>9733</th>\n",
       "      <td>193567</td>\n",
       "      <td>anohana: The Flower We Saw That Day - The Movi...</td>\n",
       "      <td>Animation|Drama</td>\n",
       "    </tr>\n",
       "    <tr>\n",
       "      <th>9734</th>\n",
       "      <td>193571</td>\n",
       "      <td>Silver Spoon (2014)</td>\n",
       "      <td>Comedy|Drama</td>\n",
       "    </tr>\n",
       "    <tr>\n",
       "      <th>9735</th>\n",
       "      <td>193573</td>\n",
       "      <td>Love Live! The School Idol Movie (2015)</td>\n",
       "      <td>Animation</td>\n",
       "    </tr>\n",
       "    <tr>\n",
       "      <th>9736</th>\n",
       "      <td>193579</td>\n",
       "      <td>Jon Stewart Has Left the Building (2015)</td>\n",
       "      <td>Documentary</td>\n",
       "    </tr>\n",
       "    <tr>\n",
       "      <th>9737</th>\n",
       "      <td>193581</td>\n",
       "      <td>Black Butler: Book of the Atlantic (2017)</td>\n",
       "      <td>Action|Animation|Comedy|Fantasy</td>\n",
       "    </tr>\n",
       "    <tr>\n",
       "      <th>9738</th>\n",
       "      <td>193583</td>\n",
       "      <td>No Game No Life: Zero (2017)</td>\n",
       "      <td>Animation|Comedy|Fantasy</td>\n",
       "    </tr>\n",
       "    <tr>\n",
       "      <th>9739</th>\n",
       "      <td>193585</td>\n",
       "      <td>Flint (2017)</td>\n",
       "      <td>Drama</td>\n",
       "    </tr>\n",
       "    <tr>\n",
       "      <th>9740</th>\n",
       "      <td>193587</td>\n",
       "      <td>Bungo Stray Dogs: Dead Apple (2018)</td>\n",
       "      <td>Action|Animation</td>\n",
       "    </tr>\n",
       "    <tr>\n",
       "      <th>9741</th>\n",
       "      <td>193609</td>\n",
       "      <td>Andrew Dice Clay: Dice Rules (1991)</td>\n",
       "      <td>Comedy</td>\n",
       "    </tr>\n",
       "  </tbody>\n",
       "</table>\n",
       "<p>9724 rows × 3 columns</p>\n",
       "</div>"
      ],
      "text/plain": [
       "      movieId                                              title  \\\n",
       "0           1                                   Toy Story (1995)   \n",
       "1           2                                     Jumanji (1995)   \n",
       "2           3                            Grumpier Old Men (1995)   \n",
       "3           4                           Waiting to Exhale (1995)   \n",
       "4           5                 Father of the Bride Part II (1995)   \n",
       "5           6                                        Heat (1995)   \n",
       "6           7                                     Sabrina (1995)   \n",
       "7           8                                Tom and Huck (1995)   \n",
       "8           9                                Sudden Death (1995)   \n",
       "9          10                                   GoldenEye (1995)   \n",
       "10         11                     American President, The (1995)   \n",
       "11         12                 Dracula: Dead and Loving It (1995)   \n",
       "12         13                                       Balto (1995)   \n",
       "13         14                                       Nixon (1995)   \n",
       "14         15                            Cutthroat Island (1995)   \n",
       "15         16                                      Casino (1995)   \n",
       "16         17                       Sense and Sensibility (1995)   \n",
       "17         18                                  Four Rooms (1995)   \n",
       "18         19              Ace Ventura: When Nature Calls (1995)   \n",
       "19         20                                 Money Train (1995)   \n",
       "20         21                                  Get Shorty (1995)   \n",
       "21         22                                     Copycat (1995)   \n",
       "22         23                                   Assassins (1995)   \n",
       "23         24                                      Powder (1995)   \n",
       "24         25                           Leaving Las Vegas (1995)   \n",
       "25         26                                     Othello (1995)   \n",
       "26         27                                Now and Then (1995)   \n",
       "27         28                                  Persuasion (1995)   \n",
       "28         29  City of Lost Children, The (Cité des enfants p...   \n",
       "29         30  Shanghai Triad (Yao a yao yao dao waipo qiao) ...   \n",
       "...       ...                                                ...   \n",
       "9712   188189                         Sorry to Bother You (2018)   \n",
       "9713   188301                        Ant-Man and the Wasp (2018)   \n",
       "9714   188675                                      Dogman (2018)   \n",
       "9715   188751                Mamma Mia: Here We Go Again! (2018)   \n",
       "9716   188797                                         Tag (2018)   \n",
       "9717   188833              The Man Who Killed Don Quixote (2018)   \n",
       "9718   189043                                  Boundaries (2018)   \n",
       "9719   189111                                      Spiral (2018)   \n",
       "9720   189333               Mission: Impossible - Fallout (2018)   \n",
       "9721   189381                                    SuperFly (2018)   \n",
       "9722   189547                                Iron Soldier (2010)   \n",
       "9723   189713                              BlacKkKlansman (2018)   \n",
       "9724   190183                           The Darkest Minds (2018)   \n",
       "9725   190207                                        Tilt (2011)   \n",
       "9726   190209                 Jeff Ross Roasts the Border (2017)   \n",
       "9727   190213                                   John From (2015)   \n",
       "9728   190215                                Liquid Truth (2017)   \n",
       "9729   190219                                       Bunny (1998)   \n",
       "9730   190221  Hommage à Zgougou (et salut à Sabine Mamou) (2...   \n",
       "9731   191005                                     Gintama (2017)   \n",
       "9732   193565                          Gintama: The Movie (2010)   \n",
       "9733   193567  anohana: The Flower We Saw That Day - The Movi...   \n",
       "9734   193571                                Silver Spoon (2014)   \n",
       "9735   193573            Love Live! The School Idol Movie (2015)   \n",
       "9736   193579           Jon Stewart Has Left the Building (2015)   \n",
       "9737   193581          Black Butler: Book of the Atlantic (2017)   \n",
       "9738   193583                       No Game No Life: Zero (2017)   \n",
       "9739   193585                                       Flint (2017)   \n",
       "9740   193587                Bungo Stray Dogs: Dead Apple (2018)   \n",
       "9741   193609                Andrew Dice Clay: Dice Rules (1991)   \n",
       "\n",
       "                                           genres  \n",
       "0     Adventure|Animation|Children|Comedy|Fantasy  \n",
       "1                      Adventure|Children|Fantasy  \n",
       "2                                  Comedy|Romance  \n",
       "3                            Comedy|Drama|Romance  \n",
       "4                                          Comedy  \n",
       "5                           Action|Crime|Thriller  \n",
       "6                                  Comedy|Romance  \n",
       "7                              Adventure|Children  \n",
       "8                                          Action  \n",
       "9                       Action|Adventure|Thriller  \n",
       "10                           Comedy|Drama|Romance  \n",
       "11                                  Comedy|Horror  \n",
       "12                   Adventure|Animation|Children  \n",
       "13                                          Drama  \n",
       "14                       Action|Adventure|Romance  \n",
       "15                                    Crime|Drama  \n",
       "16                                  Drama|Romance  \n",
       "17                                         Comedy  \n",
       "18                                         Comedy  \n",
       "19             Action|Comedy|Crime|Drama|Thriller  \n",
       "20                          Comedy|Crime|Thriller  \n",
       "21            Crime|Drama|Horror|Mystery|Thriller  \n",
       "22                          Action|Crime|Thriller  \n",
       "23                                   Drama|Sci-Fi  \n",
       "24                                  Drama|Romance  \n",
       "25                                          Drama  \n",
       "26                                 Children|Drama  \n",
       "27                                  Drama|Romance  \n",
       "28         Adventure|Drama|Fantasy|Mystery|Sci-Fi  \n",
       "29                                    Crime|Drama  \n",
       "...                                           ...  \n",
       "9712                        Comedy|Fantasy|Sci-Fi  \n",
       "9713       Action|Adventure|Comedy|Fantasy|Sci-Fi  \n",
       "9714                                  Crime|Drama  \n",
       "9715                               Comedy|Romance  \n",
       "9716                                       Comedy  \n",
       "9717                     Adventure|Comedy|Fantasy  \n",
       "9718                                 Comedy|Drama  \n",
       "9719                                  Documentary  \n",
       "9720                    Action|Adventure|Thriller  \n",
       "9721                        Action|Crime|Thriller  \n",
       "9722                                Action|Sci-Fi  \n",
       "9723                           Comedy|Crime|Drama  \n",
       "9724                              Sci-Fi|Thriller  \n",
       "9725                                Drama|Romance  \n",
       "9726                                       Comedy  \n",
       "9727                                        Drama  \n",
       "9728                                        Drama  \n",
       "9729                                    Animation  \n",
       "9730                                  Documentary  \n",
       "9731               Action|Adventure|Comedy|Sci-Fi  \n",
       "9732               Action|Animation|Comedy|Sci-Fi  \n",
       "9733                              Animation|Drama  \n",
       "9734                                 Comedy|Drama  \n",
       "9735                                    Animation  \n",
       "9736                                  Documentary  \n",
       "9737              Action|Animation|Comedy|Fantasy  \n",
       "9738                     Animation|Comedy|Fantasy  \n",
       "9739                                        Drama  \n",
       "9740                             Action|Animation  \n",
       "9741                                       Comedy  \n",
       "\n",
       "[9724 rows x 3 columns]"
      ]
     },
     "execution_count": 112,
     "metadata": {},
     "output_type": "execute_result"
    }
   ],
   "source": [
    "movie_to_genre = pd.read_csv('ml-latest-small/movies.csv')\n",
    "movie_to_rating = pd.read_csv('ml-latest-small/ratings.csv')\n",
    "# movie_names = movie_to_genre.movieId.unique()\n",
    "# df2 = movie_to_genre.set_index('movieId').join(movie_to_rating.set_index('movieId'), how = 'left').groupby(['movieId'])\n",
    "movie_names = movie_to_rating.movieId.unique()\n",
    "# m_to_g = list(set(movie_names) & set(movie_names2))\n",
    "# len(m_to_g)\n",
    "movie_to_genre[movie_to_genre[\"movieId\"].isin(movie_names)]\n",
    "# df2.head()"
   ]
  },
  {
   "cell_type": "code",
   "execution_count": 122,
   "metadata": {},
   "outputs": [
    {
     "name": "stdout",
     "output_type": "stream",
     "text": [
      "9724\n",
      "i =  0\n",
      "Adventure|Drama|Western\n",
      "Action|Drama|War\n",
      "Comedy\n",
      "Comedy|Drama|Romance\n",
      "Drama|Fantasy|Romance\n",
      "Crime|Drama\n",
      "Drama|Horror\n",
      "Action|Animation\n",
      "Comedy|Drama|Romance\n",
      "Action|Crime|Drama\n",
      "i =  1\n",
      "Comedy|Romance\n",
      "Action|Adventure|Thriller\n",
      "Comedy|Drama|Thriller\n",
      "Drama|Musical|Romance\n",
      "Action|Crime|Horror\n",
      "Drama\n",
      "Adventure|Comedy|Romance\n",
      "Comedy|Drama\n",
      "Drama\n",
      "Drama\n",
      "i =  2\n",
      "Action|Drama|Thriller\n",
      "Drama\n",
      "Drama|Horror|Mystery|Thriller\n",
      "Comedy\n",
      "Drama|Romance|War\n",
      "Adventure|Animation|Comedy\n",
      "Action|Crime|Drama|Thriller\n",
      "War\n",
      "Drama\n",
      "Crime|Drama|Mystery|Thriller\n",
      "i =  3\n",
      "Comedy|Drama|Romance\n",
      "Adventure|Children|Comedy\n",
      "Comedy|Horror|Romance|Thriller\n",
      "Comedy|Crime\n",
      "Action|Crime|Drama|Thriller\n",
      "Comedy\n",
      "Action|Adventure|Drama|War\n",
      "Crime|Horror|Thriller\n",
      "Drama|Romance\n",
      "Drama\n",
      "i =  4\n",
      "Drama|War\n",
      "Children|Comedy\n",
      "Action|Sci-Fi|Thriller\n",
      "Comedy|Horror\n",
      "Action|Drama|War\n",
      "Comedy\n",
      "Comedy|Romance\n",
      "Comedy|Drama\n",
      "Action|Crime|Fantasy|Thriller\n",
      "Comedy\n",
      "i =  5\n",
      "Drama|Mystery|Thriller\n",
      "Horror|Thriller\n",
      "Horror|Sci-Fi\n",
      "Drama\n",
      "Action|Drama|War\n",
      "Comedy\n",
      "Action|Drama|Romance|Thriller\n",
      "Drama\n",
      "Comedy|Romance\n",
      "Comedy\n",
      "i =  6\n",
      "Drama\n",
      "Drama\n",
      "Crime|Drama|Thriller\n",
      "Drama\n",
      "Crime|Drama|Film-Noir|Thriller\n",
      "Drama\n",
      "Drama\n",
      "Drama|Romance\n",
      "Adventure|Children|Comedy|Mystery\n",
      "Comedy\n",
      "i =  7\n",
      "Crime|Drama\n",
      "Crime|Drama\n",
      "Comedy\n",
      "Drama\n",
      "Horror|Sci-Fi\n",
      "Drama|Mystery|Thriller\n",
      "Drama\n",
      "Drama\n",
      "Children|Comedy\n",
      "Comedy\n",
      "i =  8\n",
      "Action|Thriller\n",
      "Comedy\n",
      "Action|Comedy\n",
      "Comedy|Drama\n",
      "Horror|Sci-Fi\n",
      "Action|Adventure|Sci-Fi\n",
      "Comedy\n",
      "Comedy\n",
      "Drama|Romance\n",
      "Drama\n",
      "i =  9\n",
      "Children|Drama\n",
      "Drama\n",
      "Action|Comedy|Sci-Fi|IMAX\n",
      "Action|Animation|Film-Noir|Sci-Fi|Thriller\n",
      "War\n",
      "Action|Crime|Drama\n",
      "Comedy\n",
      "Adventure|Comedy|Fantasy\n",
      "Drama\n",
      "Drama\n",
      "i =  10\n",
      "Children|Comedy\n",
      "Drama\n",
      "Fantasy|Mystery|Romance|Thriller\n",
      "Drama|Musical\n",
      "Comedy|Drama\n",
      "Action|Adventure|Drama\n",
      "Action|Adventure|Comedy\n",
      "Drama|Mystery\n",
      "Drama|Thriller\n",
      "Drama\n",
      "i =  11\n",
      "Drama\n",
      "Crime|Thriller\n",
      "Comedy|Musical|Romance\n",
      "Horror|Sci-Fi\n",
      "Comedy|Crime\n",
      "Crime|Drama\n",
      "Comedy|Crime|Romance|Thriller\n",
      "Comedy|Drama\n",
      "Drama|War\n",
      "Comedy|Drama|Horror\n",
      "i =  12\n",
      "Horror|Sci-Fi\n",
      "Action|Adventure|Fantasy\n",
      "Adventure|Comedy|Fantasy\n",
      "Comedy\n",
      "Crime|Fantasy|Horror\n",
      "Comedy|Romance\n",
      "Comedy|Romance\n",
      "Documentary\n",
      "Drama|Horror|Thriller\n",
      "Comedy|Drama\n",
      "i =  13\n",
      "Drama|Musical\n",
      "Comedy\n",
      "Drama\n",
      "Comedy|Drama\n",
      "Horror\n",
      "Comedy\n",
      "Crime|Drama|Thriller\n",
      "Action|Adventure|Drama\n",
      "Film-Noir|Thriller\n",
      "Drama|Musical|Romance\n",
      "i =  14\n",
      "Action|Comedy|Drama|Thriller\n",
      "Drama|Horror|Sci-Fi|Thriller\n",
      "Crime|Drama|Thriller\n",
      "Comedy\n",
      "Drama|Thriller\n",
      "Adventure|Drama\n",
      "Comedy|Drama\n",
      "Comedy\n",
      "Horror|Sci-Fi\n",
      "Drama\n",
      "i =  15\n",
      "Comedy|Horror|Sci-Fi\n",
      "Adventure|Animation|Children|Comedy\n",
      "Comedy|Romance\n",
      "Action|Comedy\n",
      "Drama\n",
      "Sci-Fi\n",
      "Comedy\n",
      "Drama|Romance\n",
      "Horror|Thriller\n",
      "Drama\n",
      "i =  16\n",
      "Animation|Fantasy|Mystery\n",
      "Horror|Sci-Fi|Thriller\n",
      "Action|Comedy|Crime\n",
      "Drama|Romance\n",
      "Documentary\n",
      "Drama|Romance\n",
      "Drama\n",
      "Crime|Drama|Thriller\n",
      "Comedy|Horror\n",
      "Drama\n",
      "i =  17\n",
      "Documentary\n",
      "Animation|Children\n",
      "Drama\n",
      "Action|Crime|Drama\n",
      "Action|Drama|Thriller\n",
      "Drama\n",
      "Action|Horror|Sci-Fi|Thriller\n",
      "Drama\n",
      "Adventure|Animation|Children|Drama|Sci-Fi\n",
      "Comedy|Drama\n",
      "i =  18\n",
      "Drama\n",
      "Adventure|Western\n",
      "Comedy|Romance\n",
      "Action|Animation|Horror\n",
      "Drama|Romance\n",
      "Action|Drama|Thriller\n",
      "Crime|Horror|Thriller\n",
      "Drama\n",
      "Action|Comedy|Fantasy|Horror\n",
      "Comedy|Drama|Romance\n",
      "i =  19\n",
      "Drama\n",
      "Comedy|Horror|Thriller\n",
      "Action|Drama|Thriller\n",
      "Drama\n",
      "Drama|Musical\n",
      "Comedy\n",
      "Drama|Fantasy|Horror|Romance\n",
      "Drama|Romance\n",
      "Comedy|Drama|Romance\n",
      "Drama\n"
     ]
    }
   ],
   "source": [
    "movie_to_genre = pd.read_csv('ml-latest-small/movies.csv')\n",
    "movie_to_rating = pd.read_csv('ml-latest-small/ratings.csv')\n",
    "movie_names = movie_to_rating.movieId.unique()\n",
    "m_to_g = movie_to_genre[movie_to_genre[\"movieId\"].isin(movie_names)]\n",
    "\n",
    "nnmf_clf = NMF(n_factors=20, biased=False)\n",
    "nnmf_clf.fit(data_set.build_full_trainset())\n",
    "V = nnmf_clf.qi\n",
    "print(len(list(V[:,0])))\n",
    "for i in range(20):\n",
    "    movies = list(V[:,i])\n",
    "    moviesTuple = []\n",
    "    for idx in range(len(movies)):\n",
    "        moviesTuple.append((idx, movies[idx]))\n",
    "    moviesTuple.sort(key = lambda x:x[1], reverse=True)\n",
    "    print (\"i = \", i)\n",
    "    for tup in moviesTuple[0:10]:\n",
    "        print (m_to_g['genres'][tup[0]])"
   ]
  },
  {
   "cell_type": "markdown",
   "metadata": {},
   "source": [
    "## Question 24-29 MF With Bias"
   ]
  },
  {
   "cell_type": "code",
   "execution_count": null,
   "metadata": {},
   "outputs": [],
   "source": [
    "from surprise.prediction_algorithms.matrix_factorization import SVD"
   ]
  },
  {
   "cell_type": "code",
   "execution_count": null,
   "metadata": {},
   "outputs": [],
   "source": [
    "def svd_filter(data_set, krange):\n",
    "    mae_results = []\n",
    "    min_mae = 99999999999\n",
    "    min_mae_i = -1\n",
    "\n",
    "    rmse_results = []\n",
    "    min_rmse = 9999999999\n",
    "    min_rmse_i = -1\n",
    "\n",
    "    for i in krange:\n",
    "        result = cross_validate(SVD(n_factors=i, biased=False), data_set, measures=['rmse', 'mae'], cv=10, verbose=False)\n",
    "        avg_mae = np.mean(result['test_mae'])\n",
    "        avg_rmse = np.mean(result['test_rmse'])\n",
    "        mae_results.append(avg_mae)\n",
    "        rmse_results.append(avg_rmse)\n",
    "\n",
    "        if avg_mae < min_mae:\n",
    "            min_mae = avg_mae\n",
    "            min_mae_i = i\n",
    "\n",
    "        if avg_rmse < min_rmse:\n",
    "            min_rmse = avg_rmse\n",
    "            min_rmse_i = i\n",
    "        print(i)\n",
    "#         print(\"MAE = \", avg_mae)\n",
    "#         print(\"RMSE = \", avg_rmse)\n",
    "\n",
    "    print(\"Best k for MAE is: \", min_mae_i, \"MAE = \", min_mae)\n",
    "    print(\"Best k for RMSE is: \", min_rmse_i, \"RMSE = \", min_rmse)\n",
    "    plt.plot(krange, mae_results)\n",
    "    plt.plot(krange, rmse_results)\n",
    "    plt.show()"
   ]
  },
  {
   "cell_type": "code",
   "execution_count": null,
   "metadata": {},
   "outputs": [],
   "source": [
    "data_set = Dataset.load_from_df(ratings_df[['userId', 'movieId', 'rating']], reader)\n",
    "svd_filter(data_set, krange)"
   ]
  },
  {
   "cell_type": "code",
   "execution_count": null,
   "metadata": {},
   "outputs": [],
   "source": [
    "print(\"Popular Movies\")\n",
    "svd_filter(Dataset.load_from_df(popular_movie_df, reader), krange)\n",
    "print(\"Unpopular Movies\")\n",
    "svd_filter(Dataset.load_from_df(unpopular_movie_df, reader), krange)\n",
    "print(\"High-variance Movies\")\n",
    "svd_filter(Dataset.load_from_df(high_var_df, reader), krange)"
   ]
  },
  {
   "cell_type": "markdown",
   "metadata": {},
   "source": [
    "## Question 29"
   ]
  },
  {
   "cell_type": "code",
   "execution_count": 67,
   "metadata": {},
   "outputs": [
    {
     "data": {
      "image/png": "[encoded data removed]",
      "text/plain": [
       "<Figure size 432x288 with 1 Axes>"
      ]
     },
     "metadata": {
      "needs_background": "light"
     },
     "output_type": "display_data"
    },
    {
     "name": "stdout",
     "output_type": "stream",
     "text": [
      "AUC =  0.7652853048594729\n"
     ]
    },
    {
     "data": {
      "image/png": "[encoded data removed]",
      "text/plain": [
       "<Figure size 432x288 with 1 Axes>"
      ]
     },
     "metadata": {
      "needs_background": "light"
     },
     "output_type": "display_data"
    },
    {
     "name": "stdout",
     "output_type": "stream",
     "text": [
      "AUC =  0.7640147844873751\n"
     ]
    },
    {
     "data": {
      "image/png": "[encoded data removed]",
      "text/plain": [
       "<Figure size 432x288 with 1 Axes>"
      ]
     },
     "metadata": {
      "needs_background": "light"
     },
     "output_type": "display_data"
    },
    {
     "name": "stdout",
     "output_type": "stream",
     "text": [
      "AUC =  0.7599305625622722\n"
     ]
    },
    {
     "data": {
      "image/png": "[encoded data removed]",
      "text/plain": [
       "<Figure size 432x288 with 1 Axes>"
      ]
     },
     "metadata": {
      "needs_background": "light"
     },
     "output_type": "display_data"
    },
    {
     "name": "stdout",
     "output_type": "stream",
     "text": [
      "AUC =  0.7679977387346729\n"
     ]
    }
   ],
   "source": [
    "binary_predict(SVD(n_factors=18, biased=False), data_set, thresholds)"
   ]
  },
  {
   "cell_type": "code",
   "execution_count": 145,
   "metadata": {},
   "outputs": [],
   "source": [
    "def user_ranking(clf_str, training_set_df, test_set_df):\n",
    "    if clf_str == \"MF\":\n",
    "        clf = SVD(n_factors=16, biased=False)\n",
    "    elif clf_str == \"NNMF\":\n",
    "        clf = NMF(n_factors=16, biased=False)\n",
    "    elif clf_str == \"KNN\":\n",
    "        clf = KNNWithMeans(k=16, sim_options = {'name': 'pearson', 'user_base': True}, verbose=False)\n",
    "    reader = Reader(rating_scale=(0.5, 5))\n",
    "    training_set = Dataset.load_from_df(training_set_df, reader).build_full_trainset()\n",
    "    test_set = Dataset.load_from_df(test_set_df, reader).build_full_trainset().build_testset()\n",
    "    clf.fit(training_set)\n",
    "    predictions = clf.test(test_set)\n",
    "    \n",
    "    pred_per_user = {}\n",
    "    for pred in predictions:\n",
    "        uid = pred.uid\n",
    "        if uid not in pred_per_user:\n",
    "            pred_per_user[uid] = [pred]\n",
    "        else:\n",
    "            pred_per_user[uid].append(pred)\n",
    "#     return pred_per_user\n",
    "    result = {}\n",
    "    for uid in pred_per_user:\n",
    "        pred_per_user[uid].sort(key = lambda x:x.est, reverse=True)\n",
    "        result_test[uid] = [x.est for x in pred_per_user[uid]]\n",
    "        result[uid] = [x.iid for x in pred_per_user[uid]]\n",
    "    return result_test"
   ]
  },
  {
   "cell_type": "code",
   "execution_count": 144,
   "metadata": {},
   "outputs": [
    {
     "name": "stdout",
     "output_type": "stream",
     "text": [
      "{610: [168252, 140174, 133771, 122882, 158238, 156371, 121231, 134853, 164179, 122886, 166528, 168248, 139385, 122920, 168250, 139644, 142488, 148626, 127198, 134130, 122922, 144976, 137857, 134368, 143385, 152081, 157296, 133802, 128360, 158872, 135569, 161582, 149406, 135133, 152077, 138632, 122892, 159093, 122904, 161634, 122900, 138036, 162350, 166534, 136020, 143859, 140247, 136598, 156726, 138210, 160527, 134393, 136016, 130840, 129313, 141408, 136602, 122924, 147657, 130634, 148424, 140267, 141400, 160080, 142598, 135536, 136864, 135815, 132046, 146309, 150401, 142420, 160571, 148166, 135803, 133832, 158721, 155064, 152372, 141799, 128838, 170875, 163981, 163937, 130052, 149011, 158956, 135534, 129937, 147662, 139655, 139511, 122884, 142366, 130050, 160836, 132422, 160341, 138610, 145951]}\n"
     ]
    }
   ],
   "source": [
    "training_df = ratings_df[['userId', 'movieId', 'rating']]\n",
    "test_df = ratings_df[['userId', 'movieId', 'rating']].tail(100)\n",
    "result = user_ranking(\"MF\", training_df, test_df)\n",
    "print(result)"
   ]
  },
  {
   "cell_type": "markdown",
   "metadata": {},
   "source": [
    "# Navie Collaborative Filtering"
   ]
  },
  {
   "cell_type": "code",
   "execution_count": null,
   "metadata": {},
   "outputs": [],
   "source": [
    "from sklearn.model_selection import KFold\n",
    "from sklearn.metrics import mean_squared_error"
   ]
  },
  {
   "cell_type": "markdown",
   "metadata": {},
   "source": [
    "## Question 30"
   ]
  },
  {
   "cell_type": "code",
   "execution_count": null,
   "metadata": {},
   "outputs": [],
   "source": [
    "class NaiveCollabFilter:\n",
    "    \n",
    "    def __init__(self, ratings_df):\n",
    "        self.user_means = ratings_df.groupby(['userId'])['rating'].mean()\n",
    "        self.total_mean = ratings_df[\"rating\"].mean()\n",
    "    \n",
    "    def predictCollab(self, user_id):\n",
    "        if user_id in self.user_means.index:\n",
    "            return self.user_means[user_id]\n",
    "        else:\n",
    "            return self.total_mean\n",
    "    \n",
    "clf = NaiveCollabFilter(ratings_df)"
   ]
  },
  {
   "cell_type": "code",
   "execution_count": null,
   "metadata": {},
   "outputs": [],
   "source": [
    "def K_FoldCollab(given_df):\n",
    "    kf = KFold(n_splits = 10)\n",
    "    kf.get_n_splits(given_df)\n",
    "    rmse = list()\n",
    "    for train_idx, test_idx in kf.split(given_df):\n",
    "        print (\"processing\")\n",
    "        clf = NaiveCollabFilter(given_df.iloc[train_idx])\n",
    "        y_pred = list()\n",
    "        y_true = list()\n",
    "        for t_idx in test_idx:\n",
    "            user_id = given_df.iloc[t_idx].userId\n",
    "            y_pred.append(clf.predictCollab(user_id))\n",
    "            y_true.append(given_df.iloc[t_idx].rating)\n",
    "        rmse.append(mean_squared_error(y_true, y_pred)**(1/2))\n",
    "    print (rmse)\n",
    "    print(\"Average RMSE: \", np.average(rmse))\n",
    "K_FoldCollab(ratings_df)"
   ]
  },
  {
   "cell_type": "markdown",
   "metadata": {},
   "source": [
    "## Question 31"
   ]
  },
  {
   "cell_type": "code",
   "execution_count": null,
   "metadata": {},
   "outputs": [],
   "source": [
    "popular_movie_df = ratings_df.groupby(['movieId']).filter(lambda x: len(x) > 2)\n",
    "K_FoldCollab(popular_movie_df)"
   ]
  },
  {
   "cell_type": "markdown",
   "metadata": {},
   "source": [
    "## Question 32"
   ]
  },
  {
   "cell_type": "code",
   "execution_count": null,
   "metadata": {},
   "outputs": [],
   "source": [
    "unpopular_movie_df = ratings_df.groupby(['movieId']).filter(lambda x: len(x) <= 2)\n",
    "K_FoldCollab(unpopular_movie_df)"
   ]
  },
  {
   "cell_type": "markdown",
   "metadata": {},
   "source": [
    "## Question 33"
   ]
  },
  {
   "cell_type": "code",
   "execution_count": null,
   "metadata": {},
   "outputs": [],
   "source": [
    "high_var_df = at_least_5_ratings_df.groupby(['movieId']).filter(lambda x: (x['rating']).var() >= 2)\n",
    "K_FoldCollab(high_var_df)"
   ]
  },
  {
   "cell_type": "markdown",
   "metadata": {},
   "source": [
    "## Question 35"
   ]
  },
  {
   "cell_type": "markdown",
   "metadata": {},
   "source": [
    "Precision: The percentage of recommended items that are liked by the users. This measures how many recommned items are liked by the users.\n",
    "Recall: The percentage of the liked items that are recommended to the users. This basically measures how many liked items have been recommended."
   ]
  },
  {
   "cell_type": "code",
   "execution_count": null,
   "metadata": {},
   "outputs": [],
   "source": []
  }
 ],
 "metadata": {
  "kernelspec": {
   "display_name": "Python 3",
   "language": "python",
   "name": "python3"
  },
  "language_info": {
   "codemirror_mode": {
    "name": "ipython",
    "version": 3
   },
   "file_extension": ".py",
   "mimetype": "text/x-python",
   "name": "python",
   "nbconvert_exporter": "python",
   "pygments_lexer": "ipython3",
   "version": "3.6.7"
  }
 },
 "nbformat": 4,
 "nbformat_minor": 2
}
