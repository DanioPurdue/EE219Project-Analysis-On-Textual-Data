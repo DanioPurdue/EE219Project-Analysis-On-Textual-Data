{
 "cells": [
  {
   "cell_type": "code",
   "execution_count": null,
   "metadata": {},
   "outputs": [],
   "source": [
    "# Question 1\n",
    "import pandas as pd\n",
    "import numpy as np\n",
    "import json\n",
    "import datetime\n",
    "from datetime import timedelta"
   ]
  },
  {
   "cell_type": "code",
   "execution_count": null,
   "metadata": {},
   "outputs": [],
   "source": [
    "file_direct = \"ECE219_tweet_data/\"\n",
    "filename = \"tweets_#superbowl.txt\"\n",
    "dest_file = open(\"updatedQ2_\"+filename, \"a\")\n",
    "with open(file_direct + filename, \"r\") as file:\n",
    "    line = file.readline()\n",
    "    while line:\n",
    "        json_object = json.loads(line)\n",
    "        json_lite = dict()\n",
    "        json_lite['text'] = json_object['tweet']['text']\n",
    "        json_lite['location'] = json_object['tweet']['user']['location']\n",
    "        json_lite['citation_date'] = json_object['citation_date']\n",
    "        json.dump(json_lite, dest_file)\n",
    "        dest_file.write('\\n')\n",
    "        line = file.readline()\n",
    "dest_file.close()"
   ]
  }
 ],
 "metadata": {
  "kernelspec": {
   "display_name": "Python 3",
   "language": "python",
   "name": "python3"
  },
  "language_info": {
   "codemirror_mode": {
    "name": "ipython",
    "version": 3
   },
   "file_extension": ".py",
   "mimetype": "text/x-python",
   "name": "python",
   "nbconvert_exporter": "python",
   "pygments_lexer": "ipython3",
   "version": "3.6.5"
  }
 },
 "nbformat": 4,
 "nbformat_minor": 2
}
