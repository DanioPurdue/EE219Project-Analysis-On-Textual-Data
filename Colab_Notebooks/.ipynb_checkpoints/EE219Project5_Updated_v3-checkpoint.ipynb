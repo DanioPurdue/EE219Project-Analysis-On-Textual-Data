{
 "cells": [
  {
   "cell_type": "markdown",
   "metadata": {
    "colab_type": "text",
    "id": "BuRRSNat2leR"
   },
   "source": [
    "## Mount the google drive"
   ]
  },
  {
   "cell_type": "code",
   "execution_count": 7,
   "metadata": {
    "colab": {
     "base_uri": "https://localhost:8080/",
     "height": 34
    },
    "colab_type": "code",
    "executionInfo": {
     "elapsed": 368,
     "status": "ok",
     "timestamp": 1552596003494,
     "user": {
      "displayName": "Yanzhao Wang",
      "photoUrl": "https://lh6.googleusercontent.com/-zSzQptIz5vU/AAAAAAAAAAI/AAAAAAAAAUE/mtV7G3_DDLM/s64/photo.jpg",
      "userId": "09399717079104501219"
     },
     "user_tz": 420
    },
    "id": "EQL2P5euqVfp",
    "outputId": "1c20b1ae-decc-4cd6-9d41-74be4e432c5e"
   },
   "outputs": [
    {
     "name": "stdout",
     "output_type": "stream",
     "text": [
      "Drive already mounted at /content/drive; to attempt to forcibly remount, call drive.mount(\"/content/drive\", force_remount=True).\n"
     ]
    }
   ],
   "source": [
    "# Load the Drive helper and mount\n",
    "from google.colab import drive\n",
    "\n",
    "# This will prompt for authorization.\n",
    "drive.mount('/content/drive')\n",
    "\n",
    "# Write a sample to test\n",
    "with open('to_upload.txt', 'w') as f:\n",
    "  f.write('my sample file')\n",
    "  "
   ]
  },
  {
   "cell_type": "code",
   "execution_count": 0,
   "metadata": {
    "colab": {},
    "colab_type": "code",
    "collapsed": true,
    "id": "C56VfxoEvoab"
   },
   "outputs": [],
   "source": [
    "with open('drive/My Drive/Colab Notebooks/foo.txt', 'w') as f:\n",
    "  f.write('I am a foo')"
   ]
  },
  {
   "cell_type": "markdown",
   "metadata": {
    "colab_type": "text",
    "id": "saSVVQBF7HdW"
   },
   "source": [
    "## Using Locally"
   ]
  },
  {
   "cell_type": "code",
   "execution_count": 24,
   "metadata": {
    "colab": {},
    "colab_type": "code",
    "id": "UAiAjBpHz7GD"
   },
   "outputs": [],
   "source": [
    "# Question 1\n",
    "import pandas as pd\n",
    "import numpy as np\n",
    "import json\n",
    "import datetime\n",
    "from datetime import timedelta\n",
    "import matplotlib.pyplot as plt\n",
    "import pytz\n",
    "import random\n",
    "import dateutil.parser\n",
    "\n",
    "# Question 3\n",
    "from sklearn import linear_model\n",
    "from sklearn.model_selection import train_test_split\n",
    "from sklearn.metrics import mean_squared_error, r2_score\n",
    "import statsmodels.api as sm\n",
    "\n",
    "# Question 8\n",
    "from sklearn.model_selection import GridSearchCV\n",
    "from sklearn.ensemble import RandomForestRegressor\n",
    "from sklearn.model_selection import KFold"
   ]
  },
  {
   "cell_type": "code",
   "execution_count": 4,
   "metadata": {
    "colab": {},
    "colab_type": "code",
    "collapsed": true,
    "id": "gkvvpwOQ1EIm"
   },
   "outputs": [],
   "source": [
    "google_file_direct = \"drive/My Drive/Colab Notebooks/ECE219_tweet_data/\"\n",
    "file_direct = \"ECE219_tweet_data_updated/\""
   ]
  },
  {
   "cell_type": "markdown",
   "metadata": {
    "colab_type": "text",
    "id": "A8LaJjfH1Idk"
   },
   "source": [
    "## How to load json data"
   ]
  },
  {
   "cell_type": "code",
   "execution_count": 5,
   "metadata": {
    "colab": {
     "base_uri": "https://localhost:8080/",
     "height": 236
    },
    "colab_type": "code",
    "collapsed": true,
    "executionInfo": {
     "elapsed": 657,
     "status": "error",
     "timestamp": 1552596026927,
     "user": {
      "displayName": "Yanzhao Wang",
      "photoUrl": "https://lh6.googleusercontent.com/-zSzQptIz5vU/AAAAAAAAAAI/AAAAAAAAAUE/mtV7G3_DDLM/s64/photo.jpg",
      "userId": "09399717079104501219"
     },
     "user_tz": 420
    },
    "id": "H2J6LsLa1Nqd",
    "outputId": "bc0e78c1-4ffc-48c8-9274-7764c949f838"
   },
   "outputs": [],
   "source": [
    "json_objects = list()\n",
    "filename = \"updated_tweets_#gopatriots.txt\"\n",
    "with open(file_direct + filename, \"r\") as file:\n",
    "    line = file.readline()\n",
    "    while line:\n",
    "        json_objects.append(json.loads(line))\n",
    "        line = file.readline()"
   ]
  },
  {
   "cell_type": "code",
   "execution_count": 26,
   "metadata": {
    "colab": {},
    "colab_type": "code",
    "collapsed": true,
    "id": "nr3xZ__v3Rum"
   },
   "outputs": [],
   "source": [
    "def getJsonObjects(filename):\n",
    "    json_list = list()\n",
    "    with open(file_direct + filename, \"r\") as jsonfile:\n",
    "        line = jsonfile.readline()\n",
    "        while line:\n",
    "            json_list.append(json.loads(line))\n",
    "            line = jsonfile.readline()\n",
    "        return json_list\n",
    "\n",
    "# list_cnt = 0\n",
    "def creationTimeParser(unix_time, time_zone = pytz.timezone('America/Los_Angeles')):\n",
    "    date_object = datetime.datetime.fromtimestamp(unix_time, time_zone)\n",
    "    date_object = date_object.replace(minute=0, second=0, microsecond=0)\n",
    "    return date_object\n",
    "  \n",
    "\n",
    "def getStat(json_objects, hr2cnt):\n",
    "    # Description:\n",
    "    # Get the the number of tweets, also features forom the tweet\n",
    "    list_cnt = 0\n",
    "    total_followers = 0\n",
    "    total_tweets = 0\n",
    "    time_zone = pytz.timezone('America/Los_Angeles')\n",
    "    for i in range(len(json_objects)):\n",
    "    # parse the avg tweet per hour\n",
    "        parsed_time = creationTimeParser(json_objects[i]['citation_date'],  time_zone)\n",
    "        if parsed_time in hr2cnt:\n",
    "          hr2cnt[parsed_time] += 1\n",
    "        else:\n",
    "          hr2cnt[parsed_time] = 1\n",
    "        total_followers += json_objects[i]['followers']\n",
    "        total_tweets += json_objects[i]['total_citations']\n",
    "    min_time = min(hr2cnt.keys())\n",
    "    max_time = max(hr2cnt.keys())\n",
    "    hour_time = min_time + timedelta(hours=1)\n",
    "    while hour_time < max_time:\n",
    "        if hour_time not in hr2cnt:\n",
    "            hr2cnt[hour_time] = 0\n",
    "        hour_time = hour_time + timedelta(hours=1)\n",
    "    hr_np = np.fromiter(hr2cnt.values(), dtype=np.int).reshape((len(hr2cnt),1))\n",
    "    min_time = min(hr2cnt.keys())\n",
    "    max_time = max(hr2cnt.keys())\n",
    "    diff_time = max_time - min_time + timedelta(hours=1)\n",
    "    avg_tweets = hr_np.sum() / (diff_time.total_seconds()/3600)\n",
    "    return {'avg tweets per hour' : avg_tweets, \n",
    "          'avg followers per tweet' : total_followers / len(json_objects),\n",
    "          'avg retweets per tweet' : total_tweets / len(json_objects)}"
   ]
  },
  {
   "cell_type": "code",
   "execution_count": 27,
   "metadata": {
    "colab": {},
    "colab_type": "code",
    "id": "vZ-Zu2P1-a9t",
    "outputId": "caf18f40-2304-4ae7-f173-ad254b695fea"
   },
   "outputs": [
    {
     "data": {
      "text/plain": [
       "{'avg followers per tweet': 1427.2526051635405,\n",
       " 'avg retweets per tweet': 1.4081919101697078,\n",
       " 'avg tweets per hour': 40.888695652173915}"
      ]
     },
     "execution_count": 27,
     "metadata": {},
     "output_type": "execute_result"
    }
   ],
   "source": [
    "# creationTimeParser(json_objects[0]['citation_date'])\n",
    "# print(type(json_objects[0]))\n",
    "hr2cnt = dict()\n",
    "getStat(json_objects, hr2cnt)"
   ]
  },
  {
   "cell_type": "markdown",
   "metadata": {
    "colab_type": "text",
    "id": "yJ8adLAYWRU-"
   },
   "source": [
    "## Question 2"
   ]
  },
  {
   "cell_type": "code",
   "execution_count": 28,
   "metadata": {
    "colab": {},
    "colab_type": "code",
    "collapsed": true,
    "id": "G6JXGZZoWW3n"
   },
   "outputs": [],
   "source": [
    "json_objects_patroits = getJsonObjects(filename)\n",
    "hr2cnt_patriots = dict()\n",
    "superbowl_stat = getStat(json_objects_patroits, hr2cnt_patriots)"
   ]
  },
  {
   "cell_type": "code",
   "execution_count": 29,
   "metadata": {
    "colab": {},
    "colab_type": "code",
    "collapsed": true,
    "id": "O7mqXk9o7Hdt"
   },
   "outputs": [],
   "source": [
    "def getTweetCount(json_objects):\n",
    "    hr2cnt = dict()\n",
    "    stat = getStat(json_objects, hr2cnt)\n",
    "    return hr2cnt\n",
    "    \n",
    "def getSortedKeys(hr2cnt):\n",
    "    keylist = sorted(hr2cnt.keys())\n",
    "    return keylist\n",
    "\n",
    "# TODO: change the x ticks to display properly\n",
    "def generatePlot(hr2cnt, tag_name):\n",
    "    sorted_time = getSortedKeys(hr2cnt)\n",
    "    sorted_vals = [hr2cnt[x] for x in sorted_time]\n",
    "    plt.plot(sorted_time, sorted_vals)\n",
    "    print(\"sorted_vals: \", len(sorted_vals))\n",
    "    plt.xlabel('time')\n",
    "    plt.ylabel('num of posts')\n",
    "    plt.title(\"Tag Name: \" + tag_name)\n",
    "    plt.show()\n",
    "\n",
    "def Question2(json_objects, tag_name):\n",
    "    hr2cnt = getTweetCount(json_objects)\n",
    "    keylist = getSortedKeys(hr2cnt)\n",
    "    generatePlot(hr2cnt, tag_name)"
   ]
  },
  {
   "cell_type": "code",
   "execution_count": 30,
   "metadata": {
    "colab": {},
    "colab_type": "code",
    "id": "BTsnx0C07Hdv",
    "outputId": "b9984a62-3042-4c00-ca6e-1285245c7387"
   },
   "outputs": [
    {
     "name": "stdout",
     "output_type": "stream",
     "text": [
      "sorted_vals:  575\n"
     ]
    },
    {
     "data": {
      "image/png": "[encoded data removed]",
      "text/plain": [
       "<matplotlib.figure.Figure at 0x1c1699df60>"
      ]
     },
     "metadata": {},
     "output_type": "display_data"
    }
   ],
   "source": [
    "Question2(json_objects_patroits, filename)"
   ]
  },
  {
   "cell_type": "markdown",
   "metadata": {
    "colab_type": "text",
    "id": "QpH7cyRx7Hdy"
   },
   "source": [
    "## Question 3"
   ]
  },
  {
   "cell_type": "code",
   "execution_count": 31,
   "metadata": {
    "colab": {},
    "colab_type": "code",
    "collapsed": true,
    "id": "700i9xKh7Hdz"
   },
   "outputs": [],
   "source": [
    "# TODO: Still need to check whether I got the right number\n",
    "# refactor the code to make it easy to use for different files"
   ]
  },
  {
   "cell_type": "code",
   "execution_count": 32,
   "metadata": {
    "colab": {},
    "colab_type": "code",
    "collapsed": true,
    "id": "nOXw9jVI7Hd1"
   },
   "outputs": [],
   "source": [
    "def featureExtraction(json_objects):\n",
    "    hr2feature = dict()\n",
    "    for i in range(len(json_objects)):\n",
    "        parsed_time = creationTimeParser(json_objects[i]['citation_date'])\n",
    "        if parsed_time in hr2feature:\n",
    "            hr2feature[parsed_time][\"num_tweets\"] += 1\n",
    "            hr2feature[parsed_time][\"num_retweets\"] += json_objects[i]['total_citations']\n",
    "            hr2feature[parsed_time][\"num_followers\"] += json_objects[i]['followers']\n",
    "            hr2feature[parsed_time][\"max_followers\"] = max(hr2feature[parsed_time][\"max_followers\"], json_objects[i]['followers'])\n",
    "        else:\n",
    "            hr2feature[parsed_time] = dict()\n",
    "            hr2feature[parsed_time][\"hr_of_day\"] = parsed_time.hour\n",
    "            hr2feature[parsed_time][\"num_tweets\"] = 1\n",
    "            hr2feature[parsed_time][\"num_retweets\"] = json_objects[i]['total_citations']\n",
    "            hr2feature[parsed_time][\"num_followers\"] = json_objects[i]['followers']\n",
    "            hr2feature[parsed_time][\"max_followers\"] = json_objects[i]['followers']\n",
    "    min_time = min(hr2feature.keys())\n",
    "    max_time = max(hr2feature.keys())\n",
    "    hour_time = min_time + timedelta(hours=1)\n",
    "    while hour_time < max_time:\n",
    "        if hour_time not in hr2feature:\n",
    "            hr2feature[hour_time] = dict()\n",
    "            hr2feature[hour_time][\"hr_of_day\"] = hour_time.hour\n",
    "            hr2feature[hour_time][\"num_tweets\"] = 0\n",
    "            hr2feature[hour_time][\"num_retweets\"] = 0\n",
    "            hr2feature[hour_time][\"num_followers\"] = 0\n",
    "            hr2feature[hour_time][\"max_followers\"] = 0\n",
    "        hour_time += timedelta(hours=1)\n",
    "    return hr2feature\n",
    "\n",
    "feature_list = ['hr_of_day', 'max_followers', 'num_followers', 'num_retweets', 'num_tweets', 'next_num_tweets']\n",
    "\n",
    "# convert a dictionary to numpy array\n",
    "def convertDictToNumpy(parsed_features, feature_list):\n",
    "    df = pd.DataFrame(parsed_features).T.sort_index()\n",
    "    # create the label column\n",
    "    df[\"next_num_tweets\"] = df[\"num_tweets\"].shift(-1)\n",
    "    df = df[feature_list] # reorder the column based on feature\n",
    "    df.drop(df.tail(1).index, inplace=True)\n",
    "    train_set = df.values[:,:-1]\n",
    "    labels = df.values[:,-1]\n",
    "    labels = labels.reshape((len(labels), 1))\n",
    "    return {\"features\" : train_set, \"labels\" : labels}\n",
    "\n",
    "def trainAndEvaluate(train_labels_pair, feature_list):\n",
    "    # OLS Top three features and P values\n",
    "    x_train = np.squeeze(sm.add_constant(train_labels_pair[\"features\"]))\n",
    "    y_train = np.squeeze(train_labels_pair[\"labels\"])\n",
    "    ols = sm.OLS(y_train, x_train)\n",
    "    res_vals = ols.fit()\n",
    "    pred_vals = res_vals.predict(x_train)\n",
    "    # The mean squared error\n",
    "    print(\"Mean squared error: %.2f\" % mean_squared_error(y_train, pred_vals))\n",
    "    print(\"P values: \", res_vals.pvalues)\n",
    "    idx_pvals_pair = list()\n",
    "    for i in range(res_vals.pvalues.shape[0]):\n",
    "        pair = (res_vals.pvalues[i], i)\n",
    "        idx_pvals_pair.append(pair)\n",
    "    idx_pvals_pair = sorted(idx_pvals_pair, key=lambda x: 666 if x[1] == 0 else x[0])\n",
    "    print(\"Top three features\")\n",
    "    for i in range(3):\n",
    "        print(\"feature:\", feature_list[idx_pvals_pair[i][1]], \", P value:\", idx_pvals_pair[i][0])\n",
    "    print (\"summary: \", res_vals.summary())\n",
    "    return pred_vals\n",
    "    "
   ]
  },
  {
   "cell_type": "code",
   "execution_count": 33,
   "metadata": {
    "colab": {},
    "colab_type": "code",
    "id": "P_Jqn_xD7Hd3",
    "outputId": "b485e09e-ffda-4bbc-9a95-81711fcf6042"
   },
   "outputs": [
    {
     "name": "stdout",
     "output_type": "stream",
     "text": [
      "Mean squared error: 27587.45\n",
      "P values:  [0.4948699  0.84490848 0.92929918 0.59944679 0.00983758 0.28376498]\n",
      "Top three features\n",
      "feature: num_tweets , P value: 0.009837577114207028\n",
      "feature: next_num_tweets , P value: 0.2837649750482316\n",
      "feature: num_retweets , P value: 0.5994467858735322\n",
      "summary:                              OLS Regression Results                            \n",
      "==============================================================================\n",
      "Dep. Variable:                      y   R-squared:                       0.629\n",
      "Model:                            OLS   Adj. R-squared:                  0.626\n",
      "Method:                 Least Squares   F-statistic:                     192.9\n",
      "Date:                Thu, 14 Mar 2019   Prob (F-statistic):          6.97e-120\n",
      "Time:                        23:55:28   Log-Likelihood:                -3749.1\n",
      "No. Observations:                 574   AIC:                             7510.\n",
      "Df Residuals:                     568   BIC:                             7536.\n",
      "Df Model:                           5                                         \n",
      "Covariance Type:            nonrobust                                         \n",
      "==============================================================================\n",
      "                 coef    std err          t      P>|t|      [0.025      0.975]\n",
      "------------------------------------------------------------------------------\n",
      "const          9.2632     13.562      0.683      0.495     -17.375      35.901\n",
      "x1            -0.1991      1.017     -0.196      0.845      -2.197       1.799\n",
      "x2         -1.937e-05      0.000     -0.089      0.929      -0.000       0.000\n",
      "x3            -0.0001      0.000     -0.525      0.599      -0.001       0.000\n",
      "x4             0.4947      0.191      2.590      0.010       0.120       0.870\n",
      "x5             0.3054      0.285      1.073      0.284      -0.254       0.865\n",
      "==============================================================================\n",
      "Omnibus:                      486.048   Durbin-Watson:                   1.909\n",
      "Prob(Omnibus):                  0.000   Jarque-Bera (JB):           291015.311\n",
      "Skew:                           2.526   Prob(JB):                         0.00\n",
      "Kurtosis:                     113.192   Cond. No.                     7.48e+05\n",
      "==============================================================================\n",
      "\n",
      "Warnings:\n",
      "[1] Standard Errors assume that the covariance matrix of the errors is correctly specified.\n",
      "[2] The condition number is large, 7.48e+05. This might indicate that there are\n",
      "strong multicollinearity or other numerical problems.\n"
     ]
    }
   ],
   "source": [
    "# Running Question 2\n",
    "parsed_features = featureExtraction(json_objects)\n",
    "train_labels_pair = convertDictToNumpy(parsed_features, feature_list)\n",
    "_ = trainAndEvaluate(train_labels_pair, feature_list)"
   ]
  },
  {
   "cell_type": "markdown",
   "metadata": {
    "colab_type": "text",
    "id": "waTIFJlG7Hd8"
   },
   "source": [
    "## Question 4"
   ]
  },
  {
   "cell_type": "markdown",
   "metadata": {},
   "source": [
    "### Selected Features\n",
    "count of happy emojis\n",
    "count of sad emojis\n",
    "url count\n",
    "user mentioned count\n"
   ]
  },
  {
   "cell_type": "code",
   "execution_count": 34,
   "metadata": {
    "colab": {},
    "colab_type": "code",
    "collapsed": true,
    "id": "fJw6TxMa7Hd_"
   },
   "outputs": [],
   "source": [
    "feature_list_updated = ['hr_of_day', 'max_followers', \n",
    "                        'num_followers', 'num_retweets', \n",
    "                        'happy_emoji_cnt', 'sad_emoji_cnt', \n",
    "                        'user_mentioned_cnt', 'url_cnt',\n",
    "                        'num_tweets' ,'next_num_tweets']\n",
    "def featureExtractionCustomized(json_objects):\n",
    "    hr2feature = dict()\n",
    "    happy_emoji = [\":)\", \":-)\", \":')\", \":]\", \"=]\", \":)\"]\n",
    "    sad_emoji = [\":-(\", \":'(\", \":[\", \"=[\"]\n",
    "    \n",
    "    for i in range(len(json_objects)):\n",
    "        parsed_time = creationTimeParser(json_objects[i]['citation_date'])\n",
    "        tweet_text = json_objects[i]['text']\n",
    "        if parsed_time in hr2feature:\n",
    "            hr2feature[parsed_time][\"num_tweets\"] += 1\n",
    "            hr2feature[parsed_time][\"num_retweets\"] += json_objects[i]['total_citations']\n",
    "            hr2feature[parsed_time][\"num_followers\"] += json_objects[i]['followers']\n",
    "            hr2feature[parsed_time][\"max_followers\"] = max(hr2feature[parsed_time][\"max_followers\"], json_objects[i]['followers'])\n",
    "            hr2feature[parsed_time][\"user_mentioned_cnt\"] += json_objects[i]['user_mentioned_cnt']\n",
    "            hr2feature[parsed_time][\"url_cnt\"] += json_objects[i]['url_cnt']\n",
    "        else:\n",
    "            hr2feature[parsed_time] = dict()\n",
    "            hr2feature[parsed_time][\"hr_of_day\"] = parsed_time.hour\n",
    "            hr2feature[parsed_time][\"num_tweets\"] = 1\n",
    "            hr2feature[parsed_time][\"num_retweets\"] = json_objects[i]['total_citations']\n",
    "            hr2feature[parsed_time][\"num_followers\"] = json_objects[i]['followers']\n",
    "            hr2feature[parsed_time][\"max_followers\"] = json_objects[i]['followers']\n",
    "            hr2feature[parsed_time][\"happy_emoji_cnt\"] = 0\n",
    "            hr2feature[parsed_time][\"sad_emoji_cnt\"] = 0\n",
    "            hr2feature[parsed_time][\"user_mentioned_cnt\"] = json_objects[i]['user_mentioned_cnt']\n",
    "            hr2feature[parsed_time][\"url_cnt\"] = json_objects[i]['url_cnt']\n",
    "        \n",
    "        if hasEmoticon(happy_emoji, tweet_text):\n",
    "            hr2feature[parsed_time][\"happy_emoji_cnt\"] += 1\n",
    "        if hasEmoticon(sad_emoji, tweet_text):\n",
    "            hr2feature[parsed_time][\"sad_emoji_cnt\"] += 1\n",
    "            \n",
    "    min_time = min(hr2feature.keys())\n",
    "    max_time = max(hr2feature.keys())\n",
    "    hour_time = min_time + timedelta(hours=1)\n",
    "    while hour_time < max_time:\n",
    "        if hour_time not in hr2feature:\n",
    "            hr2feature[hour_time] = dict()\n",
    "            hr2feature[hour_time][\"hr_of_day\"] = hour_time.hour\n",
    "            hr2feature[hour_time][\"num_tweets\"] = 0\n",
    "            hr2feature[hour_time][\"num_retweets\"] = 0\n",
    "            hr2feature[hour_time][\"num_followers\"] = 0\n",
    "            hr2feature[hour_time][\"max_followers\"] = 0\n",
    "            hr2feature[hour_time][\"sad_emoji_cnt\"] = 0\n",
    "            hr2feature[hour_time][\"happy_emoji_cnt\"] = 0\n",
    "            hr2feature[hour_time][\"user_mentioned_cnt\"] = 0\n",
    "            hr2feature[hour_time][\"url_cnt\"] = 0\n",
    "            \n",
    "        hour_time += timedelta(hours=1)\n",
    "    return hr2feature\n",
    "\n",
    "def hasEmoticon(emoji_list, tweet_text):\n",
    "    for emoji in emoji_list:\n",
    "        if emoji in tweet_text:\n",
    "            return True\n",
    "    return False"
   ]
  },
  {
   "cell_type": "code",
   "execution_count": 35,
   "metadata": {},
   "outputs": [
    {
     "name": "stdout",
     "output_type": "stream",
     "text": [
      "Mean squared error: 9316.57\n",
      "P values:  [4.66524600e-01 7.13371471e-01 8.17523013e-07 1.77126782e-05\n",
      " 8.36454435e-06 9.10207353e-81 3.40795634e-01 1.33152057e-73\n",
      " 1.27759863e-07 1.10736365e-01]\n",
      "Top three features\n",
      "feature: sad_emoji_cnt , P value: 9.102073527182206e-81\n",
      "feature: url_cnt , P value: 1.3315205667309248e-73\n",
      "feature: num_tweets , P value: 1.2775986286075584e-07\n",
      "summary:                              OLS Regression Results                            \n",
      "==============================================================================\n",
      "Dep. Variable:                      y   R-squared:                       0.875\n",
      "Model:                            OLS   Adj. R-squared:                  0.873\n",
      "Method:                 Least Squares   F-statistic:                     438.0\n",
      "Date:                Thu, 14 Mar 2019   Prob (F-statistic):          6.55e-248\n",
      "Time:                        23:55:29   Log-Likelihood:                -3437.5\n",
      "No. Observations:                 574   AIC:                             6895.\n",
      "Df Residuals:                     564   BIC:                             6939.\n",
      "Df Model:                           9                                         \n",
      "Covariance Type:            nonrobust                                         \n",
      "==============================================================================\n",
      "                 coef    std err          t      P>|t|      [0.025      0.975]\n",
      "------------------------------------------------------------------------------\n",
      "const         -5.7830      7.937     -0.729      0.467     -21.372       9.806\n",
      "x1            -0.2194      0.597     -0.368      0.713      -1.392       0.953\n",
      "x2            -0.0008      0.000     -4.987      0.000      -0.001      -0.000\n",
      "x3             0.0006      0.000      4.329      0.000       0.000       0.001\n",
      "x4            -0.5978      0.133     -4.497      0.000      -0.859      -0.337\n",
      "x5          -174.4724      7.736    -22.553      0.000    -189.667    -159.277\n",
      "x6           -93.0505     97.599     -0.953      0.341    -284.752      98.651\n",
      "x7             8.0522      0.381     21.162      0.000       7.305       8.800\n",
      "x8             3.0707      0.574      5.350      0.000       1.943       4.198\n",
      "x9            -0.3388      0.212     -1.597      0.111      -0.755       0.078\n",
      "==============================================================================\n",
      "Omnibus:                      271.238   Durbin-Watson:                   2.265\n",
      "Prob(Omnibus):                  0.000   Jarque-Bera (JB):            22500.303\n",
      "Skew:                           1.150   Prob(JB):                         0.00\n",
      "Kurtosis:                      33.586   Cond. No.                     9.22e+06\n",
      "==============================================================================\n",
      "\n",
      "Warnings:\n",
      "[1] Standard Errors assume that the covariance matrix of the errors is correctly specified.\n",
      "[2] The condition number is large, 9.22e+06. This might indicate that there are\n",
      "strong multicollinearity or other numerical problems.\n"
     ]
    }
   ],
   "source": [
    "# Running Question 4\n",
    "parsed_features = featureExtractionCustomized(json_objects)\n",
    "train_labels_pair = convertDictToNumpy(parsed_features, feature_list_updated)\n",
    "pred_value = trainAndEvaluate(train_labels_pair,feature_list_updated)"
   ]
  },
  {
   "cell_type": "markdown",
   "metadata": {},
   "source": [
    "## Question 5"
   ]
  },
  {
   "cell_type": "code",
   "execution_count": 36,
   "metadata": {
    "collapsed": true
   },
   "outputs": [],
   "source": [
    "def drawScatterPlots(feature_value, predicted_Y):\n",
    "    #Fitted values against true values\n",
    "    fig, ax = plt.subplots()\n",
    "    ax.scatter(x=feature_value, y= predicted_Y)\n",
    "    ax.set_xlabel('Feature values')\n",
    "    ax.set_ylabel('Predicted values')\n",
    "    plt.show()"
   ]
  },
  {
   "cell_type": "code",
   "execution_count": 37,
   "metadata": {},
   "outputs": [
    {
     "data": {
      "image/png": "[encoded data removed]",
      "text/plain": [
       "<matplotlib.figure.Figure at 0x1c1a529cc0>"
      ]
     },
     "metadata": {},
     "output_type": "display_data"
    },
    {
     "data": {
      "image/png": "[encoded data removed]",
      "text/plain": [
       "<matplotlib.figure.Figure at 0x1c1a4abd68>"
      ]
     },
     "metadata": {},
     "output_type": "display_data"
    },
    {
     "data": {
      "image/png": "[encoded data removed]",
      "text/plain": [
       "<matplotlib.figure.Figure at 0x1c1a4ab438>"
      ]
     },
     "metadata": {},
     "output_type": "display_data"
    }
   ],
   "source": [
    "drawScatterPlots(train_labels_pair[\"features\"][:,4], pred_value)\n",
    "drawScatterPlots(train_labels_pair[\"features\"][:,6], pred_value)\n",
    "drawScatterPlots(train_labels_pair[\"features\"][:,7], pred_value)"
   ]
  },
  {
   "cell_type": "markdown",
   "metadata": {},
   "source": [
    "## Question 6"
   ]
  },
  {
   "cell_type": "code",
   "execution_count": 60,
   "metadata": {},
   "outputs": [],
   "source": [
    "def createTime(year, month, date, hour, minute=0, second=0):\n",
    "    datetime_end = datetime.datetime(year, month, date, hour, minute,second)\n",
    "    time_zone = pytz.timezone(\"America/Los_Angeles\")\n",
    "    datetime_end = time_zone.localize(datetime_end)\n",
    "    print(datetime_end)\n",
    "    print(\"year\", datetime_end.year)\n",
    "    print(\"month\", datetime_end.month)\n",
    "    print(\"day\", datetime_end.day)\n",
    "    print(\"hour\", datetime_end.hour)\n",
    "    print(\"minute\", datetime_end.minute)\n",
    "    print(\"second\", datetime_end.second)\n",
    "    return datetime_end"
   ]
  },
  {
   "cell_type": "code",
   "execution_count": 62,
   "metadata": {},
   "outputs": [
    {
     "name": "stdout",
     "output_type": "stream",
     "text": [
      "2015-02-01 08:00:00-08:00\n",
      "year 2015\n",
      "month 2\n",
      "day 1\n",
      "hour 8\n",
      "minute 0\n",
      "second 0\n",
      "2015-02-01 20:00:00-08:00\n",
      "year 2015\n",
      "month 2\n",
      "day 1\n",
      "hour 20\n",
      "minute 0\n",
      "second 0\n"
     ]
    }
   ],
   "source": [
    "# format = \"%Y-%m-%dT%H:%M:%S%z\"\n",
    "# datatime_start = datetime.datetime.strptime('2015-02-01T08:00:00-08:00', format)\n",
    "# datatime_end = datetime.datetime.strptime('2015-02-01T20:00:00-08:00', format)\n",
    "# datetime_end = datetime.datetime(2015, 2, 1, 8, 0)\n",
    "# ## datetime object for 4/30/16 3:20:06\n",
    "# ##datetime1= datetime.datetime(2016,4,30,3,20,6)\n",
    "\n",
    "datatime_start = createTime(year=2015, month=2, date=1, hour=8)\n",
    "datatime_end = createTime(year=2015, month=2, date=1, hour=20)\n",
    "def splitTweetByTimePeriod(json_objects):\n",
    "    first_period_json = list()\n",
    "    second_period_json = list()\n",
    "    third_period_json = list()\n",
    "    for i in range(len(json_objects)):\n",
    "        parsed_time = creationTimeParser(json_objects[i]['citation_date'])\n",
    "        if parsed_time < datatime_start:\n",
    "            first_period_json.append(json_objects[i])\n",
    "        elif parsed_time > datatime_end:\n",
    "            third_period_json.append(json_objects[i])\n",
    "        else:\n",
    "            second_period_json.append(json_objects[i])\n",
    "            \n",
    "    return first_period_json, second_period_json, third_period_json"
   ]
  },
  {
   "cell_type": "code",
   "execution_count": 63,
   "metadata": {},
   "outputs": [
    {
     "name": "stdout",
     "output_type": "stream",
     "text": [
      "5961 16938 612\n"
     ]
    }
   ],
   "source": [
    "first_period_json, second_period_json, third_period_json = splitTweetByTimePeriod(json_objects)\n",
    "print(len(first_period_json), len(second_period_json), len(third_period_json))"
   ]
  },
  {
   "cell_type": "code",
   "execution_count": 64,
   "metadata": {
    "collapsed": true
   },
   "outputs": [],
   "source": [
    "def creationTimeParserFiveMinutes(unix_time, time_zone = pytz.timezone('America/Los_Angeles')):\n",
    "    date_object = datetime.datetime.fromtimestamp(unix_time, time_zone)\n",
    "    date_object = date_object - datetime.timedelta(minutes=date_object.minute%5, \n",
    "                                                  seconds = date_object.second,\n",
    "                                                  microseconds = date_object.microsecond)\n",
    "    return date_object\n",
    "  \n",
    "\n",
    "def featureExtractionCustomizedFiveMinutes(json_objects):\n",
    "    hr2feature = dict()\n",
    "    happy_emoji = [\":)\", \":-)\", \":')\", \":]\", \"=]\", \":)\"]\n",
    "    sad_emoji = [\":-(\", \":'(\", \":[\", \"=[\"]\n",
    "    \n",
    "    for i in range(len(json_objects)):\n",
    "        parsed_time = creationTimeParserFiveMinutes(json_objects[i]['citation_date'])\n",
    "        tweet_text = json_objects[i]['text']\n",
    "        if parsed_time in hr2feature:\n",
    "            hr2feature[parsed_time][\"num_tweets\"] += 1\n",
    "            hr2feature[parsed_time][\"num_retweets\"] += json_objects[i]['total_citations']\n",
    "            hr2feature[parsed_time][\"num_followers\"] += json_objects[i]['followers']\n",
    "            hr2feature[parsed_time][\"max_followers\"] = max(hr2feature[parsed_time][\"max_followers\"], json_objects[i]['followers'])\n",
    "            hr2feature[parsed_time][\"user_mentioned_cnt\"] += json_objects[i]['user_mentioned_cnt']\n",
    "            hr2feature[parsed_time][\"url_cnt\"] += json_objects[i]['url_cnt']\n",
    "        else:\n",
    "            hr2feature[parsed_time] = dict()\n",
    "            hr2feature[parsed_time][\"hr_of_day\"] = parsed_time.hour\n",
    "            hr2feature[parsed_time][\"num_tweets\"] = 1\n",
    "            hr2feature[parsed_time][\"num_retweets\"] = json_objects[i]['total_citations']\n",
    "            hr2feature[parsed_time][\"num_followers\"] = json_objects[i]['followers']\n",
    "            hr2feature[parsed_time][\"max_followers\"] = json_objects[i]['followers']\n",
    "            hr2feature[parsed_time][\"happy_emoji_cnt\"] = 0\n",
    "            hr2feature[parsed_time][\"sad_emoji_cnt\"] = 0\n",
    "            hr2feature[parsed_time][\"user_mentioned_cnt\"] = json_objects[i]['user_mentioned_cnt']\n",
    "            hr2feature[parsed_time][\"url_cnt\"] = json_objects[i]['url_cnt']\n",
    "        \n",
    "        if hasEmoticon(happy_emoji, tweet_text):\n",
    "            hr2feature[parsed_time][\"happy_emoji_cnt\"] += 1\n",
    "        if hasEmoticon(sad_emoji, tweet_text):\n",
    "            hr2feature[parsed_time][\"sad_emoji_cnt\"] += 1\n",
    "            \n",
    "    min_time = min(hr2feature.keys())\n",
    "    max_time = max(hr2feature.keys())\n",
    "    hour_time = min_time + timedelta(hours=1)\n",
    "    while hour_time < max_time:\n",
    "        if hour_time not in hr2feature:\n",
    "            hr2feature[hour_time] = dict()\n",
    "            hr2feature[hour_time][\"hr_of_day\"] = hour_time.hour\n",
    "            hr2feature[hour_time][\"num_tweets\"] = 0\n",
    "            hr2feature[hour_time][\"num_retweets\"] = 0\n",
    "            hr2feature[hour_time][\"num_followers\"] = 0\n",
    "            hr2feature[hour_time][\"max_followers\"] = 0\n",
    "            hr2feature[hour_time][\"sad_emoji_cnt\"] = 0\n",
    "            hr2feature[hour_time][\"happy_emoji_cnt\"] = 0\n",
    "            hr2feature[hour_time][\"user_mentioned_cnt\"] = 0\n",
    "            hr2feature[hour_time][\"url_cnt\"] = 0\n",
    "            \n",
    "        hour_time += timedelta(hours=1)\n",
    "    return hr2feature\n",
    "\n",
    "def hasEmoticon(emoji_list, tweet_text):\n",
    "    for emoji in emoji_list:\n",
    "        if emoji in tweet_text:\n",
    "            return True\n",
    "    return False"
   ]
  },
  {
   "cell_type": "code",
   "execution_count": 65,
   "metadata": {},
   "outputs": [
    {
     "name": "stdout",
     "output_type": "stream",
     "text": [
      "Mean squared error: 1419.59\n",
      "P values:  [3.99913022e-01 2.34755573e-01 1.19310720e-07 1.66601547e-07\n",
      " 7.30991534e-04 1.98422494e-05 3.17551543e-01 1.33117484e-17\n",
      " 9.72598875e-01 1.08363756e-09]\n",
      "Top three features\n",
      "feature: url_cnt , P value: 1.3311748393492418e-17\n",
      "feature: next_num_tweets , P value: 1.0836375594895893e-09\n",
      "feature: num_followers , P value: 1.1931072046445757e-07\n",
      "summary:                              OLS Regression Results                            \n",
      "==============================================================================\n",
      "Dep. Variable:                      y   R-squared:                       0.654\n",
      "Model:                            OLS   Adj. R-squared:                  0.647\n",
      "Method:                 Least Squares   F-statistic:                     89.81\n",
      "Date:                Fri, 15 Mar 2019   Prob (F-statistic):           7.58e-93\n",
      "Time:                        00:25:36   Log-Likelihood:                -2211.0\n",
      "No. Observations:                 438   AIC:                             4442.\n",
      "Df Residuals:                     428   BIC:                             4483.\n",
      "Df Model:                           9                                         \n",
      "Covariance Type:            nonrobust                                         \n",
      "==============================================================================\n",
      "                 coef    std err          t      P>|t|      [0.025      0.975]\n",
      "------------------------------------------------------------------------------\n",
      "const         -3.0628      3.635     -0.843      0.400     -10.207       4.082\n",
      "x1            -0.3176      0.267     -1.190      0.235      -0.842       0.207\n",
      "x2             0.0010      0.000      5.386      0.000       0.001       0.001\n",
      "x3            -0.0010      0.000     -5.321      0.000      -0.001      -0.001\n",
      "x4            -0.3802      0.112     -3.402      0.001      -0.600      -0.161\n",
      "x5           -22.8436      5.294     -4.315      0.000     -33.249     -12.438\n",
      "x6           -38.3548     38.329     -1.001      0.318    -113.692      36.982\n",
      "x7             3.5406      0.397      8.924      0.000       2.761       4.320\n",
      "x8            -0.0397      1.155     -0.034      0.973      -2.310       2.231\n",
      "x9             1.1901      0.191      6.235      0.000       0.815       1.565\n",
      "==============================================================================\n",
      "Omnibus:                      632.302   Durbin-Watson:                   1.875\n",
      "Prob(Omnibus):                  0.000   Jarque-Bera (JB):           180635.653\n",
      "Skew:                           7.281   Prob(JB):                         0.00\n",
      "Kurtosis:                     101.416   Cond. No.                     5.18e+06\n",
      "==============================================================================\n",
      "\n",
      "Warnings:\n",
      "[1] Standard Errors assume that the covariance matrix of the errors is correctly specified.\n",
      "[2] The condition number is large, 5.18e+06. This might indicate that there are\n",
      "strong multicollinearity or other numerical problems.\n"
     ]
    }
   ],
   "source": [
    "# Running Question 6\n",
    "parsed_features_first_period = featureExtractionCustomized(first_period_json)\n",
    "train_labels_pair_first_period = convertDictToNumpy(parsed_features_first_period, feature_list_updated)\n",
    "pred_value_first_period = trainAndEvaluate(train_labels_pair_first_period,feature_list_updated)"
   ]
  },
  {
   "cell_type": "code",
   "execution_count": 66,
   "metadata": {},
   "outputs": [
    {
     "name": "stdout",
     "output_type": "stream",
     "text": [
      "Mean squared error: 13446.95\n",
      "P values:  [0.29711991 0.04710427 0.58008805 0.4429821  0.04821956 0.52772477\n",
      " 0.29245659 0.10498621 0.0675261  0.64331425]\n",
      "Top three features\n",
      "feature: max_followers , P value: 0.047104267560254424\n",
      "feature: happy_emoji_cnt , P value: 0.04821956242884803\n",
      "feature: num_tweets , P value: 0.06752610023685952\n",
      "summary:                              OLS Regression Results                            \n",
      "==============================================================================\n",
      "Dep. Variable:                      y   R-squared:                       0.458\n",
      "Model:                            OLS   Adj. R-squared:                  0.428\n",
      "Method:                 Least Squares   F-statistic:                     14.92\n",
      "Date:                Fri, 15 Mar 2019   Prob (F-statistic):           1.07e-15\n",
      "Time:                        00:25:37   Log-Likelihood:                -925.83\n",
      "No. Observations:                 150   AIC:                             1870.\n",
      "Df Residuals:                     141   BIC:                             1897.\n",
      "Df Model:                           8                                         \n",
      "Covariance Type:            nonrobust                                         \n",
      "==============================================================================\n",
      "                 coef    std err          t      P>|t|      [0.025      0.975]\n",
      "------------------------------------------------------------------------------\n",
      "const        -42.5817     40.690     -1.047      0.297    -123.022      37.859\n",
      "x1             6.1253      3.058      2.003      0.047       0.079      12.171\n",
      "x2             0.0001      0.000      0.555      0.580      -0.000       0.001\n",
      "x3            -0.0001      0.000     -0.769      0.443      -0.001       0.000\n",
      "x4             0.5236      0.263      1.993      0.048       0.004       1.043\n",
      "x5             8.4306     13.317      0.633      0.528     -17.897      34.758\n",
      "x6          2.289e-13   2.17e-13      1.057      0.292   -1.99e-13    6.57e-13\n",
      "x7            -1.6416      1.006     -1.632      0.105      -3.631       0.347\n",
      "x8             2.3492      1.275      1.842      0.068      -0.172       4.870\n",
      "x9             0.1652      0.356      0.464      0.643      -0.539       0.869\n",
      "==============================================================================\n",
      "Omnibus:                      157.190   Durbin-Watson:                   1.999\n",
      "Prob(Omnibus):                  0.000   Jarque-Bera (JB):             2687.659\n",
      "Skew:                           3.998   Prob(JB):                         0.00\n",
      "Kurtosis:                      22.133   Cond. No.                     8.88e+20\n",
      "==============================================================================\n",
      "\n",
      "Warnings:\n",
      "[1] Standard Errors assume that the covariance matrix of the errors is correctly specified.\n",
      "[2] The smallest eigenvalue is 1.66e-29. This might indicate that there are\n",
      "strong multicollinearity problems or that the design matrix is singular.\n"
     ]
    }
   ],
   "source": [
    "parsed_features_second_period = featureExtractionCustomizedFiveMinutes(second_period_json)\n",
    "train_labels_pair_second_period = convertDictToNumpy(parsed_features_second_period, feature_list_updated)\n",
    "pred_value_second_period = trainAndEvaluate(train_labels_pair_second_period,feature_list_updated)"
   ]
  },
  {
   "cell_type": "code",
   "execution_count": 67,
   "metadata": {},
   "outputs": [
    {
     "name": "stdout",
     "output_type": "stream",
     "text": [
      "Mean squared error: 4.04\n",
      "P values:  [5.46922671e-01 6.80970677e-01 9.47534069e-01 3.02196191e-05\n",
      " 9.33248500e-08 5.08324794e-17 9.40391940e-17 2.09165289e-02\n",
      " 6.19245046e-03 4.01190202e-28]\n",
      "Top three features\n",
      "feature: next_num_tweets , P value: 4.0119020179897632e-28\n",
      "feature: sad_emoji_cnt , P value: 5.083247940071204e-17\n",
      "feature: user_mentioned_cnt , P value: 9.403919400537612e-17\n",
      "summary:                              OLS Regression Results                            \n",
      "==============================================================================\n",
      "Dep. Variable:                      y   R-squared:                       0.973\n",
      "Model:                            OLS   Adj. R-squared:                  0.971\n",
      "Method:                 Least Squares   F-statistic:                     511.6\n",
      "Date:                Fri, 15 Mar 2019   Prob (F-statistic):           5.50e-85\n",
      "Time:                        00:25:37   Log-Likelihood:                -258.24\n",
      "No. Observations:                 122   AIC:                             534.5\n",
      "Df Residuals:                     113   BIC:                             559.7\n",
      "Df Model:                           8                                         \n",
      "Covariance Type:            nonrobust                                         \n",
      "==============================================================================\n",
      "                 coef    std err          t      P>|t|      [0.025      0.975]\n",
      "------------------------------------------------------------------------------\n",
      "const         -0.2417      0.400     -0.604      0.547      -1.034       0.551\n",
      "x1             0.0117      0.028      0.412      0.681      -0.044       0.068\n",
      "x2          9.062e-06      0.000      0.066      0.948      -0.000       0.000\n",
      "x3            -0.0005      0.000     -4.348      0.000      -0.001      -0.000\n",
      "x4            -0.0513      0.009     -5.708      0.000      -0.069      -0.034\n",
      "x5            16.6024      1.677      9.903      0.000      13.281      19.924\n",
      "x6          5.049e-15   5.16e-16      9.788      0.000    4.03e-15    6.07e-15\n",
      "x7            -0.4138      0.177     -2.342      0.021      -0.764      -0.064\n",
      "x8             0.5296      0.190      2.790      0.006       0.153       0.906\n",
      "x9             1.3039      0.088     14.760      0.000       1.129       1.479\n",
      "==============================================================================\n",
      "Omnibus:                       34.211   Durbin-Watson:                   2.436\n",
      "Prob(Omnibus):                  0.000   Jarque-Bera (JB):              524.653\n",
      "Skew:                           0.055   Prob(JB):                    1.18e-114\n",
      "Kurtosis:                      13.159   Cond. No.                     3.49e+20\n",
      "==============================================================================\n",
      "\n",
      "Warnings:\n",
      "[1] Standard Errors assume that the covariance matrix of the errors is correctly specified.\n",
      "[2] The smallest eigenvalue is 1.94e-31. This might indicate that there are\n",
      "strong multicollinearity problems or that the design matrix is singular.\n"
     ]
    }
   ],
   "source": [
    "parsed_features_third_period = featureExtractionCustomized(third_period_json)\n",
    "train_labels_pair_third_period = convertDictToNumpy(parsed_features_third_period, feature_list_updated)\n",
    "pred_value_third_period = trainAndEvaluate(train_labels_pair_third_period,feature_list_updated)"
   ]
  },
  {
   "cell_type": "markdown",
   "metadata": {},
   "source": [
    "## Question 7"
   ]
  },
  {
   "cell_type": "code",
   "execution_count": 47,
   "metadata": {
    "collapsed": true
   },
   "outputs": [],
   "source": [
    "#Need to aggreagate all datasets"
   ]
  },
  {
   "cell_type": "markdown",
   "metadata": {},
   "source": [
    "## Problem 8 Ensemble Method"
   ]
  },
  {
   "cell_type": "code",
   "execution_count": 16,
   "metadata": {
    "collapsed": true
   },
   "outputs": [],
   "source": [
    "parameters = {'max_depth': [10, 20, 40, 60, 80, 100, 200, None], \n",
    " 'max_features': ['auto', 'sqrt'], \n",
    " 'min_samples_leaf': [1, 2, 4], \n",
    " 'min_samples_split': [2, 5, 10], \n",
    " 'n_estimators': [200, 400, 600, 800, 1000, 1200, 1400, 1600, 1800, 2000]}\n",
    "clf = RandomForestRegressor()\n",
    "grid_search = GridSearchCV(clf, param_grid=parameters, cv=KFold(5, shuffle=True), scoring='neg_mean_squared_error')\n",
    "# OLS Top three features and P values\n",
    "x_train = np.squeeze(sm.add_constant(train_labels_pair[\"features\"]))\n",
    "y_train = np.squeeze(train_labels_pair[\"labels\"])"
   ]
  },
  {
   "cell_type": "code",
   "execution_count": 17,
   "metadata": {
    "collapsed": true
   },
   "outputs": [],
   "source": [
    "# grid_search.fit(x_train, y_train)"
   ]
  },
  {
   "cell_type": "code",
   "execution_count": null,
   "metadata": {
    "collapsed": true
   },
   "outputs": [],
   "source": []
  },
  {
   "cell_type": "code",
   "execution_count": null,
   "metadata": {
    "collapsed": true
   },
   "outputs": [],
   "source": []
  }
 ],
 "metadata": {
  "colab": {
   "collapsed_sections": [],
   "name": "EE219Project5.ipynb",
   "provenance": [],
   "version": "0.3.2"
  },
  "kernelspec": {
   "display_name": "Python 3",
   "language": "python",
   "name": "python3"
  },
  "language_info": {
   "codemirror_mode": {
    "name": "ipython",
    "version": 3
   },
   "file_extension": ".py",
   "mimetype": "text/x-python",
   "name": "python",
   "nbconvert_exporter": "python",
   "pygments_lexer": "ipython3",
   "version": "3.6.3"
  }
 },
 "nbformat": 4,
 "nbformat_minor": 1
}
