{
 "cells": [
  {
   "cell_type": "markdown",
   "metadata": {
    "colab_type": "text",
    "id": "BuRRSNat2leR"
   },
   "source": [
    "## Mount the google drive"
   ]
  },
  {
   "cell_type": "code",
   "execution_count": 7,
   "metadata": {
    "colab": {
     "base_uri": "https://localhost:8080/",
     "height": 34
    },
    "colab_type": "code",
    "executionInfo": {
     "elapsed": 368,
     "status": "ok",
     "timestamp": 1552596003494,
     "user": {
      "displayName": "Yanzhao Wang",
      "photoUrl": "https://lh6.googleusercontent.com/-zSzQptIz5vU/AAAAAAAAAAI/AAAAAAAAAUE/mtV7G3_DDLM/s64/photo.jpg",
      "userId": "09399717079104501219"
     },
     "user_tz": 420
    },
    "id": "EQL2P5euqVfp",
    "outputId": "1c20b1ae-decc-4cd6-9d41-74be4e432c5e"
   },
   "outputs": [
    {
     "name": "stdout",
     "output_type": "stream",
     "text": [
      "Drive already mounted at /content/drive; to attempt to forcibly remount, call drive.mount(\"/content/drive\", force_remount=True).\n"
     ]
    }
   ],
   "source": [
    "# Load the Drive helper and mount\n",
    "from google.colab import drive\n",
    "\n",
    "# This will prompt for authorization.\n",
    "drive.mount('/content/drive')\n",
    "\n",
    "# Write a sample to test\n",
    "with open('to_upload.txt', 'w') as f:\n",
    "  f.write('my sample file')\n",
    "  "
   ]
  },
  {
   "cell_type": "code",
   "execution_count": 0,
   "metadata": {
    "colab": {},
    "colab_type": "code",
    "collapsed": true,
    "id": "C56VfxoEvoab"
   },
   "outputs": [],
   "source": [
    "with open('drive/My Drive/Colab Notebooks/foo.txt', 'w') as f:\n",
    "  f.write('I am a foo')"
   ]
  },
  {
   "cell_type": "markdown",
   "metadata": {
    "colab_type": "text",
    "id": "saSVVQBF7HdW"
   },
   "source": [
    "## Using Locally"
   ]
  },
  {
   "cell_type": "code",
   "execution_count": 390,
   "metadata": {
    "colab": {},
    "colab_type": "code",
    "collapsed": true,
    "id": "UAiAjBpHz7GD"
   },
   "outputs": [],
   "source": [
    "# Question 1\n",
    "import pandas as pd\n",
    "import numpy as np\n",
    "import json\n",
    "import datetime\n",
    "from datetime import timedelta\n",
    "import matplotlib.pyplot as plt\n",
    "import pytz\n",
    "\n",
    "# Question 3\n",
    "from sklearn import linear_model\n",
    "from sklearn.model_selection import train_test_split\n",
    "from sklearn.metrics import mean_squared_error, r2_score\n",
    "import statsmodels.api as sm\n",
    "\n",
    "# Question 8\n",
    "from sklearn.model_selection import GridSearchCV\n",
    "from sklearn.ensemble import RandomForestRegressor\n",
    "from sklearn.model_selection import KFold"
   ]
  },
  {
   "cell_type": "code",
   "execution_count": 284,
   "metadata": {
    "colab": {},
    "colab_type": "code",
    "collapsed": true,
    "id": "gkvvpwOQ1EIm"
   },
   "outputs": [],
   "source": [
    "google_file_direct = \"drive/My Drive/Colab Notebooks/ECE219_tweet_data/\"\n",
    "file_direct = \"ECE219_tweet_data/\""
   ]
  },
  {
   "cell_type": "markdown",
   "metadata": {
    "colab_type": "text",
    "id": "A8LaJjfH1Idk"
   },
   "source": [
    "## How to load json data"
   ]
  },
  {
   "cell_type": "code",
   "execution_count": 349,
   "metadata": {
    "colab": {
     "base_uri": "https://localhost:8080/",
     "height": 236
    },
    "colab_type": "code",
    "collapsed": true,
    "executionInfo": {
     "elapsed": 657,
     "status": "error",
     "timestamp": 1552596026927,
     "user": {
      "displayName": "Yanzhao Wang",
      "photoUrl": "https://lh6.googleusercontent.com/-zSzQptIz5vU/AAAAAAAAAAI/AAAAAAAAAUE/mtV7G3_DDLM/s64/photo.jpg",
      "userId": "09399717079104501219"
     },
     "user_tz": 420
    },
    "id": "H2J6LsLa1Nqd",
    "outputId": "bc0e78c1-4ffc-48c8-9274-7764c949f838"
   },
   "outputs": [],
   "source": [
    "json_objects = list()\n",
    "with open(file_direct + \"tweets_#gopatriots.txt\", \"r\") as file:\n",
    "    line = file.readline()\n",
    "    while line:\n",
    "        json_objects.append(json.loads(line))\n",
    "        line = file.readline()"
   ]
  },
  {
   "cell_type": "code",
   "execution_count": 355,
   "metadata": {
    "colab": {},
    "colab_type": "code",
    "collapsed": true,
    "id": "nr3xZ__v3Rum"
   },
   "outputs": [],
   "source": [
    "def getJsonObjects(filename):\n",
    "    json_list = list()\n",
    "    with open(file_direct + filename, \"r\") as jsonfile:\n",
    "        line = jsonfile.readline()\n",
    "        while line:\n",
    "            json_list.append(json.loads(line))\n",
    "            line = jsonfile.readline()\n",
    "        return json_list\n",
    "\n",
    "# list_cnt = 0\n",
    "def creationTimeParser(unix_time, time_zone = pytz.timezone('America/Los_Angeles')):\n",
    "    date_object = datetime.datetime.fromtimestamp(unix_time, time_zone)\n",
    "    date_object = date_object.replace(minute=0, second=0, microsecond=0)\n",
    "    return date_object\n",
    "  \n",
    "\n",
    "def getStat(json_objects, hr2cnt):\n",
    "    # Description:\n",
    "    # Get the the number of tweets, also features forom the tweet\n",
    "    list_cnt = 0\n",
    "    total_followers = 0\n",
    "    total_tweets = 0\n",
    "    time_zone = pytz.timezone('America/Los_Angeles')\n",
    "    for i in range(len(json_objects)):\n",
    "    # parse the avg tweet per hour\n",
    "        parsed_time = creationTimeParser(json_objects[i]['citation_date'],  time_zone)\n",
    "        if parsed_time in hr2cnt:\n",
    "          hr2cnt[parsed_time] += 1\n",
    "        else:\n",
    "          hr2cnt[parsed_time] = 1\n",
    "        total_followers += json_objects[i]['author']['followers']\n",
    "        total_tweets += json_objects[i]['metrics']['citations']['total']\n",
    "    min_time = min(hr2cnt.keys())\n",
    "    max_time = max(hr2cnt.keys())\n",
    "    hour_time = min_time + timedelta(hours=1)\n",
    "    while hour_time < max_time:\n",
    "        if hour_time not in hr2cnt:\n",
    "            hr2cnt[hour_time] = 0\n",
    "        hour_time = hour_time + timedelta(hours=1)\n",
    "    hr_np = np.fromiter(hr2cnt.values(), dtype=np.int).reshape((len(hr2cnt),1))\n",
    "    min_time = min(hr2cnt.keys())\n",
    "    max_time = max(hr2cnt.keys())\n",
    "    diff_time = max_time - min_time + timedelta(hours=1)\n",
    "    avg_tweets = hr_np.sum() / (diff_time.total_seconds()/3600)\n",
    "    return {'avg tweets per hour' : avg_tweets, \n",
    "          'avg followers per tweet' : total_followers / len(json_objects),\n",
    "          'avg retweets per tweet' : total_tweets / len(json_objects)}"
   ]
  },
  {
   "cell_type": "code",
   "execution_count": 351,
   "metadata": {
    "colab": {},
    "colab_type": "code",
    "id": "vZ-Zu2P1-a9t",
    "outputId": "caf18f40-2304-4ae7-f173-ad254b695fea"
   },
   "outputs": [
    {
     "data": {
      "text/plain": [
       "{'avg followers per tweet': 1427.2526051635405,\n",
       " 'avg retweets per tweet': 1.4081919101697078,\n",
       " 'avg tweets per hour': 40.888695652173915}"
      ]
     },
     "execution_count": 351,
     "metadata": {},
     "output_type": "execute_result"
    }
   ],
   "source": [
    "# creationTimeParser(json_objects[0]['citation_date'])\n",
    "# print(type(json_objects[0]))\n",
    "hr2cnt = dict()\n",
    "getStat(json_objects, hr2cnt)"
   ]
  },
  {
   "cell_type": "markdown",
   "metadata": {
    "colab_type": "text",
    "id": "yJ8adLAYWRU-"
   },
   "source": [
    "## Question 2"
   ]
  },
  {
   "cell_type": "code",
   "execution_count": 352,
   "metadata": {
    "colab": {},
    "colab_type": "code",
    "collapsed": true,
    "id": "G6JXGZZoWW3n"
   },
   "outputs": [],
   "source": [
    "json_objects_patroits = getJsonObjects(\"tweets_#gopatriots.txt\")\n",
    "hr2cnt_patriots = dict()\n",
    "superbowl_stat = getStat(json_objects_patroits, hr2cnt_patriots)"
   ]
  },
  {
   "cell_type": "code",
   "execution_count": 353,
   "metadata": {
    "colab": {},
    "colab_type": "code",
    "collapsed": true,
    "id": "O7mqXk9o7Hdt"
   },
   "outputs": [],
   "source": [
    "def getTweetCount(json_objects):\n",
    "    hr2cnt = dict()\n",
    "    stat = getStat(json_objects, hr2cnt)\n",
    "    return hr2cnt\n",
    "    \n",
    "def getSortedKeys(hr2cnt):\n",
    "    keylist = sorted(hr2cnt.keys())\n",
    "    return keylist\n",
    "\n",
    "# TODO: change the x ticks to display properly\n",
    "def generatePlot(hr2cnt, tag_name):\n",
    "    sorted_time = getSortedKeys(hr2cnt)\n",
    "    sorted_vals = [hr2cnt[x] for x in sorted_time]\n",
    "    plt.plot(sorted_time, sorted_vals)\n",
    "    print(\"sorted_vals: \", len(sorted_vals))\n",
    "    plt.xlabel('time')\n",
    "    plt.ylabel('num of posts')\n",
    "    plt.title(\"Tag Name: \" + tag_name)\n",
    "    plt.show()\n",
    "\n",
    "def Question2(json_objects, tag_name):\n",
    "    hr2cnt = getTweetCount(json_objects)\n",
    "    keylist = getSortedKeys(hr2cnt)\n",
    "    generatePlot(hr2cnt, tag_name)"
   ]
  },
  {
   "cell_type": "code",
   "execution_count": 354,
   "metadata": {
    "colab": {},
    "colab_type": "code",
    "id": "BTsnx0C07Hdv",
    "outputId": "b9984a62-3042-4c00-ca6e-1285245c7387"
   },
   "outputs": [
    {
     "name": "stdout",
     "output_type": "stream",
     "text": [
      "sorted_vals:  575\n"
     ]
    },
    {
     "data": {
      "image/png": "[encoded data removed]",
      "text/plain": [
       "<matplotlib.figure.Figure at 0x1a79ae21d0>"
      ]
     },
     "metadata": {},
     "output_type": "display_data"
    }
   ],
   "source": [
    "Question2(json_objects_patroits, \"Patriot\")"
   ]
  },
  {
   "cell_type": "markdown",
   "metadata": {
    "colab_type": "text",
    "id": "QpH7cyRx7Hdy"
   },
   "source": [
    "## Question 3"
   ]
  },
  {
   "cell_type": "code",
   "execution_count": 345,
   "metadata": {
    "colab": {},
    "colab_type": "code",
    "collapsed": true,
    "id": "700i9xKh7Hdz"
   },
   "outputs": [],
   "source": [
    "# TODO: Still need to check whether I got the right number\n",
    "# refactor the code to make it easy to use for different files"
   ]
  },
  {
   "cell_type": "code",
   "execution_count": 346,
   "metadata": {
    "colab": {},
    "colab_type": "code",
    "collapsed": true,
    "id": "nOXw9jVI7Hd1"
   },
   "outputs": [],
   "source": [
    "def featureExtraction(json_objects):\n",
    "    hr2feature = dict()\n",
    "    for i in range(len(json_objects)):\n",
    "        parsed_time = creationTimeParser(json_objects[i]['citation_date'])\n",
    "        if parsed_time in hr2feature:\n",
    "            hr2feature[parsed_time][\"num_tweets\"] += 1\n",
    "            hr2feature[parsed_time][\"num_retweets\"] += json_objects[i]['metrics']['citations']['total']\n",
    "            hr2feature[parsed_time][\"num_followers\"] += json_objects[i]['author']['followers']\n",
    "            hr2feature[parsed_time][\"max_followers\"] = max(hr2feature[parsed_time][\"max_followers\"], json_objects[i]['author']['followers'])\n",
    "        else:\n",
    "            hr2feature[parsed_time] = dict()\n",
    "            hr2feature[parsed_time][\"hr_of_day\"] = parsed_time.hour\n",
    "            hr2feature[parsed_time][\"num_tweets\"] = 1\n",
    "            hr2feature[parsed_time][\"num_retweets\"] = json_objects[i]['metrics']['citations']['total']\n",
    "            hr2feature[parsed_time][\"num_followers\"] = json_objects[i]['author']['followers']\n",
    "            hr2feature[parsed_time][\"max_followers\"] = json_objects[i]['author']['followers']\n",
    "    min_time = min(hr2feature.keys())\n",
    "    max_time = max(hr2feature.keys())\n",
    "    hour_time = min_time + timedelta(hours=1)\n",
    "    while hour_time < max_time:\n",
    "        if hour_time not in hr2feature:\n",
    "            hr2feature[hour_time] = dict()\n",
    "            hr2feature[hour_time][\"hr_of_day\"] = hour_time.hour\n",
    "            hr2feature[hour_time][\"num_tweets\"] = 0\n",
    "            hr2feature[hour_time][\"num_retweets\"] = 0\n",
    "            hr2feature[hour_time][\"num_followers\"] = 0\n",
    "            hr2feature[hour_time][\"max_followers\"] = 0\n",
    "        hour_time += timedelta(hours=1)\n",
    "    return hr2feature\n",
    "\n",
    "feature_list = ['hr_of_day', 'max_followers', 'num_followers', 'num_retweets', 'num_tweets', 'next_num_tweets']\n",
    "\n",
    "# convert a dictionary to numpy array\n",
    "def convertDictToNumpy(parsed_features, feature_list):\n",
    "    df = pd.DataFrame(parsed_features).T.sort_index()\n",
    "    # create the label column\n",
    "    df[\"next_num_tweets\"] = df[\"num_tweets\"].shift(-1)\n",
    "    df = df[feature_list] # reorder the column based on feature\n",
    "    df.drop(df.tail(1).index, inplace=True)\n",
    "    train_set = df.values[:,:-1]\n",
    "    labels = df.values[:,-1]\n",
    "    labels = labels.reshape((len(labels), 1))\n",
    "    return {\"features\" : train_set, \"labels\" : labels}\n",
    "\n",
    "def trainAndEvaluate(train_labels_pair):\n",
    "    # OLS Top three features and P values\n",
    "    x_train = np.squeeze(sm.add_constant(train_labels_pair[\"features\"]))\n",
    "    y_train = np.squeeze(train_labels_pair[\"labels\"])\n",
    "    ols = sm.OLS(y_train, x_train)\n",
    "    res_vals = ols.fit()\n",
    "    pred_vals = res_vals.predict(x_train)\n",
    "    # The mean squared error\n",
    "    print(\"Mean squared error: %.2f\" % mean_squared_error(y_train, pred_vals))\n",
    "    print(\"P values: \", res_vals.pvalues)\n",
    "    idx_pvals_pair = list()\n",
    "    for i in range(res_vals.pvalues.shape[0]):\n",
    "        pair = (res_vals.pvalues[i], i)\n",
    "        idx_pvals_pair.append(pair)\n",
    "    idx_pvals_pair = sorted(idx_pvals_pair, key=lambda x:x[0])\n",
    "    print(\"Top three features\")\n",
    "    for i in range(3):\n",
    "        print(\"feature:\", feature_list[idx_pvals_pair[i][1]], \", P value:\", idx_pvals_pair[i][0])\n",
    "    print (\"summary: \", res_vals.summary())\n",
    "    return\n",
    "    "
   ]
  },
  {
   "cell_type": "code",
   "execution_count": 347,
   "metadata": {
    "colab": {},
    "colab_type": "code",
    "id": "P_Jqn_xD7Hd3",
    "outputId": "b485e09e-ffda-4bbc-9a95-81711fcf6042"
   },
   "outputs": [
    {
     "name": "stdout",
     "output_type": "stream",
     "text": [
      "Mean squared error: 27587.45\n",
      "P values:  [0.4948699  0.84490848 0.92929918 0.59944679 0.00983758 0.28376498]\n",
      "Top three features\n",
      "feature: num_tweets , P value: 0.009837577114207028\n",
      "feature: next_num_tweets , P value: 0.2837649750482316\n",
      "feature: hr_of_day , P value: 0.49486990067531256\n",
      "summary:                              OLS Regression Results                            \n",
      "==============================================================================\n",
      "Dep. Variable:                      y   R-squared:                       0.629\n",
      "Model:                            OLS   Adj. R-squared:                  0.626\n",
      "Method:                 Least Squares   F-statistic:                     192.9\n",
      "Date:                Thu, 14 Mar 2019   Prob (F-statistic):          6.97e-120\n",
      "Time:                        16:01:15   Log-Likelihood:                -3749.1\n",
      "No. Observations:                 574   AIC:                             7510.\n",
      "Df Residuals:                     568   BIC:                             7536.\n",
      "Df Model:                           5                                         \n",
      "Covariance Type:            nonrobust                                         \n",
      "==============================================================================\n",
      "                 coef    std err          t      P>|t|      [0.025      0.975]\n",
      "------------------------------------------------------------------------------\n",
      "const          9.2632     13.562      0.683      0.495     -17.375      35.901\n",
      "x1            -0.1991      1.017     -0.196      0.845      -2.197       1.799\n",
      "x2         -1.937e-05      0.000     -0.089      0.929      -0.000       0.000\n",
      "x3            -0.0001      0.000     -0.525      0.599      -0.001       0.000\n",
      "x4             0.4947      0.191      2.590      0.010       0.120       0.870\n",
      "x5             0.3054      0.285      1.073      0.284      -0.254       0.865\n",
      "==============================================================================\n",
      "Omnibus:                      486.048   Durbin-Watson:                   1.909\n",
      "Prob(Omnibus):                  0.000   Jarque-Bera (JB):           291015.311\n",
      "Skew:                           2.526   Prob(JB):                         0.00\n",
      "Kurtosis:                     113.192   Cond. No.                     7.48e+05\n",
      "==============================================================================\n",
      "\n",
      "Warnings:\n",
      "[1] Standard Errors assume that the covariance matrix of the errors is correctly specified.\n",
      "[2] The condition number is large, 7.48e+05. This might indicate that there are\n",
      "strong multicollinearity or other numerical problems.\n"
     ]
    }
   ],
   "source": [
    "# Running Question 2\n",
    "parsed_features = featureExtraction(json_objects)\n",
    "train_labels_pair = convertDictToNumpy(parsed_features, feature_list)\n",
    "trainAndEvaluate(train_labels_pair)"
   ]
  },
  {
   "cell_type": "markdown",
   "metadata": {
    "colab_type": "text",
    "id": "waTIFJlG7Hd8"
   },
   "source": [
    "## Question 4"
   ]
  },
  {
   "cell_type": "markdown",
   "metadata": {},
   "source": [
    "### Selected Features\n",
    "count of happy emojis\n",
    "count of sad emojis\n",
    "url count\n",
    "user mentioned count\n"
   ]
  },
  {
   "cell_type": "code",
   "execution_count": 381,
   "metadata": {
    "colab": {},
    "colab_type": "code",
    "collapsed": true,
    "id": "fJw6TxMa7Hd_"
   },
   "outputs": [],
   "source": [
    "feature_list_updated = ['hr_of_day', 'max_followers', 'num_followers', 'num_retweets', 'next_num_tweets', 'happy_emoji_cnt', 'sad_emoji_cnt', 'user_mentioned_cnt', 'url_cnt', 'num_tweets']\n",
    "def featureExtraction(json_objects):\n",
    "    hr2feature = dict()\n",
    "    happy_emoji = [\":)\", \":-)\", \":')\", \":]\", \"=]\", \":)\"]\n",
    "    sad_emoji = [\":-(\", \":'(\", \":[\", \"=[\"]\n",
    "    \n",
    "    for i in range(len(json_objects)):\n",
    "        parsed_time = creationTimeParser(json_objects[i]['citation_date'])\n",
    "        tweet_text = json_objects[i]['tweet']['text']\n",
    "        if parsed_time in hr2feature:\n",
    "            hr2feature[parsed_time][\"num_tweets\"] += 1\n",
    "            hr2feature[parsed_time][\"num_retweets\"] += json_objects[i]['metrics']['citations']['total']\n",
    "            hr2feature[parsed_time][\"num_followers\"] += json_objects[i]['author']['followers']\n",
    "            hr2feature[parsed_time][\"max_followers\"] = max(hr2feature[parsed_time][\"max_followers\"], json_objects[i]['author']['followers'])\n",
    "            hr2feature[parsed_time][\"user_mentioned_cnt\"] += len(json_objects[i]['tweet']['entities']['user_mentions'])\n",
    "            hr2feature[parsed_time][\"url_cnt\"] += len(json_objects[i]['tweet']['entities']['urls'])\n",
    "        else:\n",
    "            hr2feature[parsed_time] = dict()\n",
    "            hr2feature[parsed_time][\"hr_of_day\"] = parsed_time.hour\n",
    "            hr2feature[parsed_time][\"num_tweets\"] = 1\n",
    "            hr2feature[parsed_time][\"num_retweets\"] = json_objects[i]['metrics']['citations']['total']\n",
    "            hr2feature[parsed_time][\"num_followers\"] = json_objects[i]['author']['followers']\n",
    "            hr2feature[parsed_time][\"max_followers\"] = json_objects[i]['author']['followers']\n",
    "            hr2feature[parsed_time][\"happy_emoji_cnt\"] = 0\n",
    "            hr2feature[parsed_time][\"sad_emoji_cnt\"] = 0\n",
    "            hr2feature[parsed_time][\"user_mentioned_cnt\"] = len(json_objects[i]['tweet']['entities']['user_mentions'])\n",
    "            hr2feature[parsed_time][\"url_cnt\"] = len(json_objects[i]['tweet']['entities']['urls'])\n",
    "        \n",
    "        if hasEmoticon(happy_emoji, tweet_text):\n",
    "            hr2feature[parsed_time][\"happy_emoji_cnt\"] += 1\n",
    "        if hasEmoticon(sad_emoji, tweet_text):\n",
    "            hr2feature[parsed_time][\"sad_emoji_cnt\"] += 1\n",
    "            \n",
    "    min_time = min(hr2feature.keys())\n",
    "    max_time = max(hr2feature.keys())\n",
    "    hour_time = min_time + timedelta(hours=1)\n",
    "    while hour_time < max_time:\n",
    "        if hour_time not in hr2feature:\n",
    "            hr2feature[hour_time] = dict()\n",
    "            hr2feature[hour_time][\"hr_of_day\"] = hour_time.hour\n",
    "            hr2feature[hour_time][\"num_tweets\"] = 0\n",
    "            hr2feature[hour_time][\"num_retweets\"] = 0\n",
    "            hr2feature[hour_time][\"num_followers\"] = 0\n",
    "            hr2feature[hour_time][\"max_followers\"] = 0\n",
    "            hr2feature[parsed_time][\"sad_emoji_cnt\"] = 0\n",
    "            hr2feature[parsed_time][\"user_mentioned_cnt\"] = 0\n",
    "            hr2feature[parsed_time][\"url_cnt\"] = 0\n",
    "            \n",
    "        hour_time += timedelta(hours=1)\n",
    "    return hr2feature\n",
    "\n",
    "def hasEmoticon(emoji_list, tweet_text):\n",
    "    for emoji in emoji_list:\n",
    "        if emoji in tweet_text:\n",
    "            return True\n",
    "    return False"
   ]
  },
  {
   "cell_type": "code",
   "execution_count": 382,
   "metadata": {
    "collapsed": true
   },
   "outputs": [],
   "source": [
    "len(json_objects)\n",
    "json_objects[1]['tweet']['entities']['urls']\n",
    "temp = featureExtraction(json_objects)"
   ]
  },
  {
   "cell_type": "markdown",
   "metadata": {},
   "source": [
    "## Problem 8 Ensemble Method"
   ]
  },
  {
   "cell_type": "code",
   "execution_count": 392,
   "metadata": {
    "collapsed": true
   },
   "outputs": [],
   "source": [
    "parameters = {'max_depth': [10, 20, 40, 60, 80, 100, 200, None], \n",
    " 'max_features': ['auto', 'sqrt'], \n",
    " 'min_samples_leaf': [1, 2, 4], \n",
    " 'min_samples_split': [2, 5, 10], \n",
    " 'n_estimators': [200, 400, 600, 800, 1000, 1200, 1400, 1600, 1800, 2000]}\n",
    "clf = RandomForestRegressor()\n",
    "grid_search = GridSearchCV(clf, param_grid=parameters, cv=KFold(5, shuffle=True), scoring='neg_mean_squared_error')\n",
    "# OLS Top three features and P values\n",
    "x_train = np.squeeze(sm.add_constant(train_labels_pair[\"features\"]))\n",
    "y_train = np.squeeze(train_labels_pair[\"labels\"])"
   ]
  },
  {
   "cell_type": "code",
   "execution_count": 394,
   "metadata": {},
   "outputs": [
    {
     "data": {
      "text/plain": [
       "GridSearchCV(cv=KFold(n_splits=5, random_state=None, shuffle=True),\n",
       "       error_score='raise',\n",
       "       estimator=RandomForestRegressor(bootstrap=True, criterion='mse', max_depth=None,\n",
       "           max_features='auto', max_leaf_nodes=None,\n",
       "           min_impurity_decrease=0.0, min_impurity_split=None,\n",
       "           min_samples_leaf=1, min_samples_split=2,\n",
       "           min_weight_fraction_leaf=0.0, n_estimators=10, n_jobs=1,\n",
       "           oob_score=False, random_state=None, verbose=0, warm_start=False),\n",
       "       fit_params=None, iid=True, n_jobs=1,\n",
       "       param_grid={'max_depth': [10, 20, 40, 60, 80, 100, 200, None], 'max_features': ['auto', 'sqrt'], 'min_samples_leaf': [1, 2, 4], 'min_samples_split': [2, 5, 10], 'n_estimators': [200, 400, 600, 800, 1000, 1200, 1400, 1600, 1800, 2000]},\n",
       "       pre_dispatch='2*n_jobs', refit=True, return_train_score='warn',\n",
       "       scoring='neg_mean_squared_error', verbose=0)"
      ]
     },
     "execution_count": 394,
     "metadata": {},
     "output_type": "execute_result"
    }
   ],
   "source": [
    "grid_search.fit(x_train, y_train)\n",
    "grid_search.best_params_"
   ]
  },
  {
   "cell_type": "code",
   "execution_count": 399,
   "metadata": {},
   "outputs": [
    {
     "data": {
      "text/plain": [
       "{'max_depth': None,\n",
       " 'max_features': 'auto',\n",
       " 'min_samples_leaf': 1,\n",
       " 'min_samples_split': 2,\n",
       " 'n_estimators': 200}"
      ]
     },
     "execution_count": 399,
     "metadata": {},
     "output_type": "execute_result"
    }
   ],
   "source": [
    "grid_search.best_params_"
   ]
  },
  {
   "cell_type": "code",
   "execution_count": null,
   "metadata": {
    "collapsed": true
   },
   "outputs": [],
   "source": []
  }
 ],
 "metadata": {
  "colab": {
   "collapsed_sections": [],
   "name": "EE219Project5.ipynb",
   "provenance": [],
   "version": "0.3.2"
  },
  "kernelspec": {
   "display_name": "Python 3",
   "language": "python",
   "name": "python3"
  },
  "language_info": {
   "codemirror_mode": {
    "name": "ipython",
    "version": 3
   },
   "file_extension": ".py",
   "mimetype": "text/x-python",
   "name": "python",
   "nbconvert_exporter": "python",
   "pygments_lexer": "ipython3",
   "version": "3.6.3"
  }
 },
 "nbformat": 4,
 "nbformat_minor": 1
}
