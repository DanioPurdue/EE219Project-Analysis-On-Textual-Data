{
 "cells": [
  {
   "cell_type": "markdown",
   "metadata": {
    "colab_type": "text",
    "id": "BuRRSNat2leR"
   },
   "source": [
    "## Mount the google drive"
   ]
  },
  {
   "cell_type": "code",
   "execution_count": 7,
   "metadata": {
    "colab": {
     "base_uri": "https://localhost:8080/",
     "height": 34
    },
    "colab_type": "code",
    "executionInfo": {
     "elapsed": 368,
     "status": "ok",
     "timestamp": 1552596003494,
     "user": {
      "displayName": "Yanzhao Wang",
      "photoUrl": "https://lh6.googleusercontent.com/-zSzQptIz5vU/AAAAAAAAAAI/AAAAAAAAAUE/mtV7G3_DDLM/s64/photo.jpg",
      "userId": "09399717079104501219"
     },
     "user_tz": 420
    },
    "id": "EQL2P5euqVfp",
    "outputId": "1c20b1ae-decc-4cd6-9d41-74be4e432c5e"
   },
   "outputs": [
    {
     "name": "stdout",
     "output_type": "stream",
     "text": [
      "Drive already mounted at /content/drive; to attempt to forcibly remount, call drive.mount(\"/content/drive\", force_remount=True).\n"
     ]
    }
   ],
   "source": [
    "# Load the Drive helper and mount\n",
    "from google.colab import drive\n",
    "\n",
    "# This will prompt for authorization.\n",
    "drive.mount('/content/drive')\n",
    "\n",
    "# Write a sample to test\n",
    "with open('to_upload.txt', 'w') as f:\n",
    "  f.write('my sample file')\n",
    "  "
   ]
  },
  {
   "cell_type": "code",
   "execution_count": 0,
   "metadata": {
    "colab": {},
    "colab_type": "code",
    "collapsed": true,
    "id": "C56VfxoEvoab"
   },
   "outputs": [],
   "source": [
    "with open('drive/My Drive/Colab Notebooks/foo.txt', 'w') as f:\n",
    "  f.write('I am a foo')"
   ]
  },
  {
   "cell_type": "markdown",
   "metadata": {
    "colab_type": "text",
    "id": "saSVVQBF7HdW"
   },
   "source": [
    "## Using Locally"
   ]
  },
  {
   "cell_type": "code",
   "execution_count": 74,
   "metadata": {
    "colab": {},
    "colab_type": "code",
    "collapsed": true,
    "id": "UAiAjBpHz7GD"
   },
   "outputs": [],
   "source": [
    "# Question 1\n",
    "import pandas as pd\n",
    "import numpy as np\n",
    "import json\n",
    "import datetime\n",
    "from datetime import timedelta\n",
    "import matplotlib.pyplot as plt\n",
    "import pytz\n",
    "import random\n",
    "import dateutil.parser\n",
    "\n",
    "# Question 3\n",
    "from sklearn import linear_model\n",
    "from sklearn.model_selection import train_test_split\n",
    "from sklearn.metrics import mean_squared_error, r2_score\n",
    "import statsmodels.api as sm\n",
    "\n",
    "# Question 8\n",
    "from sklearn.model_selection import GridSearchCV\n",
    "from sklearn.ensemble import RandomForestRegressor\n",
    "from sklearn.model_selection import KFold"
   ]
  },
  {
   "cell_type": "code",
   "execution_count": 75,
   "metadata": {
    "colab": {},
    "colab_type": "code",
    "collapsed": true,
    "id": "gkvvpwOQ1EIm"
   },
   "outputs": [],
   "source": [
    "google_file_direct = \"drive/My Drive/Colab Notebooks/ECE219_tweet_data/\"\n",
    "file_direct = \"ECE219_tweet_data_updated/\""
   ]
  },
  {
   "cell_type": "markdown",
   "metadata": {
    "colab_type": "text",
    "id": "A8LaJjfH1Idk"
   },
   "source": [
    "## How to load json data"
   ]
  },
  {
   "cell_type": "code",
   "execution_count": 76,
   "metadata": {
    "colab": {
     "base_uri": "https://localhost:8080/",
     "height": 236
    },
    "colab_type": "code",
    "executionInfo": {
     "elapsed": 657,
     "status": "error",
     "timestamp": 1552596026927,
     "user": {
      "displayName": "Yanzhao Wang",
      "photoUrl": "https://lh6.googleusercontent.com/-zSzQptIz5vU/AAAAAAAAAAI/AAAAAAAAAUE/mtV7G3_DDLM/s64/photo.jpg",
      "userId": "09399717079104501219"
     },
     "user_tz": 420
    },
    "id": "H2J6LsLa1Nqd",
    "outputId": "bc0e78c1-4ffc-48c8-9274-7764c949f838"
   },
   "outputs": [
    {
     "ename": "FileNotFoundError",
     "evalue": "[Errno 2] No such file or directory: 'ECE219_tweet_data_updated/updated_tweets_#gopatriots.txt'",
     "output_type": "error",
     "traceback": [
      "\u001b[0;31m---------------------------------------------------------------------------\u001b[0m",
      "\u001b[0;31mFileNotFoundError\u001b[0m                         Traceback (most recent call last)",
      "\u001b[0;32m<ipython-input-76-bd4be827c004>\u001b[0m in \u001b[0;36m<module>\u001b[0;34m()\u001b[0m\n\u001b[1;32m      1\u001b[0m \u001b[0mjson_objects\u001b[0m \u001b[0;34m=\u001b[0m \u001b[0mlist\u001b[0m\u001b[0;34m(\u001b[0m\u001b[0;34m)\u001b[0m\u001b[0;34m\u001b[0m\u001b[0m\n\u001b[1;32m      2\u001b[0m \u001b[0mfilename\u001b[0m \u001b[0;34m=\u001b[0m \u001b[0;34m\"updated_tweets_#gopatriots.txt\"\u001b[0m\u001b[0;34m\u001b[0m\u001b[0m\n\u001b[0;32m----> 3\u001b[0;31m \u001b[0;32mwith\u001b[0m \u001b[0mopen\u001b[0m\u001b[0;34m(\u001b[0m\u001b[0mfile_direct\u001b[0m \u001b[0;34m+\u001b[0m \u001b[0mfilename\u001b[0m\u001b[0;34m,\u001b[0m \u001b[0;34m\"r\"\u001b[0m\u001b[0;34m)\u001b[0m \u001b[0;32mas\u001b[0m \u001b[0mfile\u001b[0m\u001b[0;34m:\u001b[0m\u001b[0;34m\u001b[0m\u001b[0m\n\u001b[0m\u001b[1;32m      4\u001b[0m     \u001b[0mline\u001b[0m \u001b[0;34m=\u001b[0m \u001b[0mfile\u001b[0m\u001b[0;34m.\u001b[0m\u001b[0mreadline\u001b[0m\u001b[0;34m(\u001b[0m\u001b[0;34m)\u001b[0m\u001b[0;34m\u001b[0m\u001b[0m\n\u001b[1;32m      5\u001b[0m     \u001b[0;32mwhile\u001b[0m \u001b[0mline\u001b[0m\u001b[0;34m:\u001b[0m\u001b[0;34m\u001b[0m\u001b[0m\n",
      "\u001b[0;31mFileNotFoundError\u001b[0m: [Errno 2] No such file or directory: 'ECE219_tweet_data_updated/updated_tweets_#gopatriots.txt'"
     ]
    }
   ],
   "source": [
    "json_objects = list()\n",
    "filename = \"updated_tweets_#gopatriots.txt\"\n",
    "with open(file_direct + filename, \"r\") as file:\n",
    "    line = file.readline()\n",
    "    while line:\n",
    "        json_objects.append(json.loads(line))\n",
    "        line = file.readline()"
   ]
  },
  {
   "cell_type": "code",
   "execution_count": 77,
   "metadata": {
    "colab": {},
    "colab_type": "code",
    "collapsed": true,
    "id": "nr3xZ__v3Rum"
   },
   "outputs": [],
   "source": [
    "def getJsonObjects(filename):\n",
    "    json_list = list()\n",
    "    with open(file_direct + filename, \"r\") as jsonfile:\n",
    "        line = jsonfile.readline()\n",
    "        while line:\n",
    "            json_list.append(json.loads(line))\n",
    "            line = jsonfile.readline()\n",
    "        return json_list\n",
    "\n",
    "# list_cnt = 0\n",
    "def creationTimeParser(unix_time, time_zone = pytz.timezone('America/Los_Angeles')):\n",
    "    date_object = datetime.datetime.fromtimestamp(unix_time, time_zone)\n",
    "    date_object = date_object.replace(minute=0, second=0, microsecond=0)\n",
    "    return date_object\n",
    "  \n",
    "\n",
    "def getStat(json_objects, hr2cnt):\n",
    "    # Description:\n",
    "    # Get the the number of tweets, also features forom the tweet\n",
    "    list_cnt = 0\n",
    "    total_followers = 0\n",
    "    total_tweets = 0\n",
    "    time_zone = pytz.timezone('America/Los_Angeles')\n",
    "    for i in range(len(json_objects)):\n",
    "    # parse the avg tweet per hour\n",
    "        parsed_time = creationTimeParser(json_objects[i]['citation_date'],  time_zone)\n",
    "        if parsed_time in hr2cnt:\n",
    "          hr2cnt[parsed_time] += 1\n",
    "        else:\n",
    "          hr2cnt[parsed_time] = 1\n",
    "        total_followers += json_objects[i]['followers']\n",
    "        total_tweets += json_objects[i]['total_citations']\n",
    "    min_time = min(hr2cnt.keys())\n",
    "    max_time = max(hr2cnt.keys())\n",
    "    hour_time = min_time + timedelta(hours=1)\n",
    "    while hour_time < max_time:\n",
    "        if hour_time not in hr2cnt:\n",
    "            hr2cnt[hour_time] = 0\n",
    "        hour_time = hour_time + timedelta(hours=1)\n",
    "    hr_np = np.fromiter(hr2cnt.values(), dtype=np.int).reshape((len(hr2cnt),1))\n",
    "    min_time = min(hr2cnt.keys())\n",
    "    max_time = max(hr2cnt.keys())\n",
    "    diff_time = max_time - min_time + timedelta(hours=1)\n",
    "    avg_tweets = hr_np.sum() / (diff_time.total_seconds()/3600)\n",
    "    return {'avg tweets per hour' : avg_tweets, \n",
    "          'avg followers per tweet' : total_followers / len(json_objects),\n",
    "          'avg retweets per tweet' : total_tweets / len(json_objects)}"
   ]
  },
  {
   "cell_type": "code",
   "execution_count": 78,
   "metadata": {
    "colab": {},
    "colab_type": "code",
    "id": "vZ-Zu2P1-a9t",
    "outputId": "caf18f40-2304-4ae7-f173-ad254b695fea"
   },
   "outputs": [
    {
     "ename": "ValueError",
     "evalue": "min() arg is an empty sequence",
     "output_type": "error",
     "traceback": [
      "\u001b[0;31m---------------------------------------------------------------------------\u001b[0m",
      "\u001b[0;31mValueError\u001b[0m                                Traceback (most recent call last)",
      "\u001b[0;32m<ipython-input-78-89b3453376ec>\u001b[0m in \u001b[0;36m<module>\u001b[0;34m()\u001b[0m\n\u001b[1;32m      2\u001b[0m \u001b[0;31m# print(type(json_objects[0]))\u001b[0m\u001b[0;34m\u001b[0m\u001b[0;34m\u001b[0m\u001b[0m\n\u001b[1;32m      3\u001b[0m \u001b[0mhr2cnt\u001b[0m \u001b[0;34m=\u001b[0m \u001b[0mdict\u001b[0m\u001b[0;34m(\u001b[0m\u001b[0;34m)\u001b[0m\u001b[0;34m\u001b[0m\u001b[0m\n\u001b[0;32m----> 4\u001b[0;31m \u001b[0mgetStat\u001b[0m\u001b[0;34m(\u001b[0m\u001b[0mjson_objects\u001b[0m\u001b[0;34m,\u001b[0m \u001b[0mhr2cnt\u001b[0m\u001b[0;34m)\u001b[0m\u001b[0;34m\u001b[0m\u001b[0m\n\u001b[0m",
      "\u001b[0;32m<ipython-input-77-0e9ea8c69d57>\u001b[0m in \u001b[0;36mgetStat\u001b[0;34m(json_objects, hr2cnt)\u001b[0m\n\u001b[1;32m     31\u001b[0m         \u001b[0mtotal_followers\u001b[0m \u001b[0;34m+=\u001b[0m \u001b[0mjson_objects\u001b[0m\u001b[0;34m[\u001b[0m\u001b[0mi\u001b[0m\u001b[0;34m]\u001b[0m\u001b[0;34m[\u001b[0m\u001b[0;34m'followers'\u001b[0m\u001b[0;34m]\u001b[0m\u001b[0;34m\u001b[0m\u001b[0m\n\u001b[1;32m     32\u001b[0m         \u001b[0mtotal_tweets\u001b[0m \u001b[0;34m+=\u001b[0m \u001b[0mjson_objects\u001b[0m\u001b[0;34m[\u001b[0m\u001b[0mi\u001b[0m\u001b[0;34m]\u001b[0m\u001b[0;34m[\u001b[0m\u001b[0;34m'total_citations'\u001b[0m\u001b[0;34m]\u001b[0m\u001b[0;34m\u001b[0m\u001b[0m\n\u001b[0;32m---> 33\u001b[0;31m     \u001b[0mmin_time\u001b[0m \u001b[0;34m=\u001b[0m \u001b[0mmin\u001b[0m\u001b[0;34m(\u001b[0m\u001b[0mhr2cnt\u001b[0m\u001b[0;34m.\u001b[0m\u001b[0mkeys\u001b[0m\u001b[0;34m(\u001b[0m\u001b[0;34m)\u001b[0m\u001b[0;34m)\u001b[0m\u001b[0;34m\u001b[0m\u001b[0m\n\u001b[0m\u001b[1;32m     34\u001b[0m     \u001b[0mmax_time\u001b[0m \u001b[0;34m=\u001b[0m \u001b[0mmax\u001b[0m\u001b[0;34m(\u001b[0m\u001b[0mhr2cnt\u001b[0m\u001b[0;34m.\u001b[0m\u001b[0mkeys\u001b[0m\u001b[0;34m(\u001b[0m\u001b[0;34m)\u001b[0m\u001b[0;34m)\u001b[0m\u001b[0;34m\u001b[0m\u001b[0m\n\u001b[1;32m     35\u001b[0m     \u001b[0mhour_time\u001b[0m \u001b[0;34m=\u001b[0m \u001b[0mmin_time\u001b[0m \u001b[0;34m+\u001b[0m \u001b[0mtimedelta\u001b[0m\u001b[0;34m(\u001b[0m\u001b[0mhours\u001b[0m\u001b[0;34m=\u001b[0m\u001b[0;36m1\u001b[0m\u001b[0;34m)\u001b[0m\u001b[0;34m\u001b[0m\u001b[0m\n",
      "\u001b[0;31mValueError\u001b[0m: min() arg is an empty sequence"
     ]
    }
   ],
   "source": [
    "# creationTimeParser(json_objects[0]['citation_date'])\n",
    "# print(type(json_objects[0]))\n",
    "hr2cnt = dict()\n",
    "getStat(json_objects, hr2cnt)"
   ]
  },
  {
   "cell_type": "markdown",
   "metadata": {
    "colab_type": "text",
    "id": "yJ8adLAYWRU-"
   },
   "source": [
    "## Question 2"
   ]
  },
  {
   "cell_type": "code",
   "execution_count": 54,
   "metadata": {
    "colab": {},
    "colab_type": "code",
    "collapsed": true,
    "id": "G6JXGZZoWW3n"
   },
   "outputs": [],
   "source": [
    "json_objects_patroits = getJsonObjects(filename)\n",
    "hr2cnt_patriots = dict()\n",
    "superbowl_stat = getStat(json_objects_patroits, hr2cnt_patriots)"
   ]
  },
  {
   "cell_type": "code",
   "execution_count": 55,
   "metadata": {
    "colab": {},
    "colab_type": "code",
    "collapsed": true,
    "id": "O7mqXk9o7Hdt"
   },
   "outputs": [],
   "source": [
    "def getTweetCount(json_objects):\n",
    "    hr2cnt = dict()\n",
    "    stat = getStat(json_objects, hr2cnt)\n",
    "    return hr2cnt\n",
    "    \n",
    "def getSortedKeys(hr2cnt):\n",
    "    keylist = sorted(hr2cnt.keys())\n",
    "    return keylist\n",
    "\n",
    "# TODO: change the x ticks to display properly\n",
    "def generatePlot(hr2cnt, tag_name):\n",
    "    sorted_time = getSortedKeys(hr2cnt)\n",
    "    sorted_vals = [hr2cnt[x] for x in sorted_time]\n",
    "    plt.plot(sorted_time, sorted_vals)\n",
    "    print(\"sorted_vals: \", len(sorted_vals))\n",
    "    plt.xlabel('time')\n",
    "    plt.ylabel('num of posts')\n",
    "    plt.title(\"Tag Name: \" + tag_name)\n",
    "    plt.show()\n",
    "\n",
    "def Question2(json_objects, tag_name):\n",
    "    hr2cnt = getTweetCount(json_objects)\n",
    "    keylist = getSortedKeys(hr2cnt)\n",
    "    generatePlot(hr2cnt, tag_name)"
   ]
  },
  {
   "cell_type": "code",
   "execution_count": 14,
   "metadata": {
    "colab": {},
    "colab_type": "code",
    "id": "BTsnx0C07Hdv",
    "outputId": "b9984a62-3042-4c00-ca6e-1285245c7387"
   },
   "outputs": [
    {
     "name": "stdout",
     "output_type": "stream",
     "text": [
      "('sorted_vals: ', 575)\n"
     ]
    },
    {
     "name": "stderr",
     "output_type": "stream",
     "text": [
      "/usr/local/lib/python2.7/dist-packages/pandas/plotting/_converter.py:129: FutureWarning: Using an implicitly registered datetime converter for a matplotlib plotting method. The converter was registered by pandas on import. Future versions of pandas will require you to explicitly register matplotlib converters.\n",
      "\n",
      "To register the converters:\n",
      "\t>>> from pandas.plotting import register_matplotlib_converters\n",
      "\t>>> register_matplotlib_converters()\n",
      "  warnings.warn(msg, FutureWarning)\n"
     ]
    },
    {
     "data": {
      "image/png": "[encoded data removed]",
      "text/plain": [
       "<matplotlib.figure.Figure at 0x7f9bef265f50>"
      ]
     },
     "metadata": {},
     "output_type": "display_data"
    }
   ],
   "source": [
    "Question2(json_objects_patroits, filename)"
   ]
  },
  {
   "cell_type": "markdown",
   "metadata": {
    "colab_type": "text",
    "id": "QpH7cyRx7Hdy"
   },
   "source": [
    "## Question 3"
   ]
  },
  {
   "cell_type": "code",
   "execution_count": 15,
   "metadata": {
    "colab": {},
    "colab_type": "code",
    "collapsed": true,
    "id": "700i9xKh7Hdz"
   },
   "outputs": [],
   "source": [
    "# TODO: Still need to check whether I got the right number\n",
    "# refactor the code to make it easy to use for different files"
   ]
  },
  {
   "cell_type": "code",
   "execution_count": 72,
   "metadata": {
    "colab": {},
    "colab_type": "code",
    "collapsed": true,
    "id": "nOXw9jVI7Hd1"
   },
   "outputs": [],
   "source": [
    "def featureExtraction(json_objects):\n",
    "    hr2feature = dict()\n",
    "    for i in range(len(json_objects)):\n",
    "        parsed_time = creationTimeParser(json_objects[i]['citation_date'])\n",
    "        if parsed_time in hr2feature:\n",
    "            hr2feature[parsed_time][\"num_tweets\"] += 1\n",
    "            hr2feature[parsed_time][\"num_retweets\"] += json_objects[i]['total_citations']\n",
    "            hr2feature[parsed_time][\"num_followers\"] += json_objects[i]['followers']\n",
    "            hr2feature[parsed_time][\"max_followers\"] = max(hr2feature[parsed_time][\"max_followers\"], json_objects[i]['followers'])\n",
    "        else:\n",
    "            hr2feature[parsed_time] = dict()\n",
    "            hr2feature[parsed_time][\"hr_of_day\"] = parsed_time.hour\n",
    "            hr2feature[parsed_time][\"num_tweets\"] = 1\n",
    "            hr2feature[parsed_time][\"num_retweets\"] = json_objects[i]['total_citations']\n",
    "            hr2feature[parsed_time][\"num_followers\"] = json_objects[i]['followers']\n",
    "            hr2feature[parsed_time][\"max_followers\"] = json_objects[i]['followers']\n",
    "    min_time = min(hr2feature.keys())\n",
    "    max_time = max(hr2feature.keys())\n",
    "    hour_time = min_time + timedelta(hours=1)\n",
    "    while hour_time < max_time:\n",
    "        if hour_time not in hr2feature:\n",
    "            hr2feature[hour_time] = dict()\n",
    "            hr2feature[hour_time][\"hr_of_day\"] = hour_time.hour\n",
    "            hr2feature[hour_time][\"num_tweets\"] = 0\n",
    "            hr2feature[hour_time][\"num_retweets\"] = 0\n",
    "            hr2feature[hour_time][\"num_followers\"] = 0\n",
    "            hr2feature[hour_time][\"max_followers\"] = 0\n",
    "        hour_time += timedelta(hours=1)\n",
    "    return hr2feature\n",
    "\n",
    "feature_list = ['hr_of_day', 'max_followers', 'num_followers', 'num_retweets', 'num_tweets', 'next_num_tweets']\n",
    "\n",
    "# convert a dictionary to numpy array\n",
    "def convertDictToNumpy(parsed_features, feature_list):\n",
    "    df = pd.DataFrame(parsed_features).T.sort_index()\n",
    "    # create the label column\n",
    "    df[\"next_num_tweets\"] = df[\"num_tweets\"].shift(-1)\n",
    "    df = df[feature_list] # reorder the column based on feature\n",
    "    df.drop(df.tail(1).index, inplace=True)\n",
    "    train_set = df.values[:,:-1]\n",
    "    labels = df.values[:,-1]\n",
    "    labels = labels.reshape((len(labels), 1))\n",
    "    return {\"features\" : train_set, \"labels\" : labels}\n",
    "\n",
    "def trainAndEvaluate(train_labels_pair, feature_list):\n",
    "    # OLS Top three features and P values\n",
    "    x_train = np.squeeze((train_labels_pair[\"features\"]))\n",
    "    y_train = np.squeeze(train_labels_pair[\"labels\"])\n",
    "    ols = sm.OLS(y_train, x_train)\n",
    "    res_vals = ols.fit()\n",
    "    pred_vals = res_vals.predict(x_train)\n",
    "    # The mean squared error\n",
    "    print(\"Mean squared error: %.2f\" % mean_squared_error(y_train, pred_vals))\n",
    "    print(\"P values: \", res_vals.pvalues)\n",
    "    idx_pvals_pair = list()\n",
    "    for i in range(res_vals.pvalues.shape[0]):\n",
    "        pair = (res_vals.pvalues[i], i)\n",
    "        idx_pvals_pair.append(pair)\n",
    "    idx_pvals_pair = sorted(idx_pvals_pair, key=lambda x: 666 if x[0]==0 else x[1])\n",
    "    print(\"Top three features\")\n",
    "    print(idx_pvals_pair)\n",
    "    for i in range(3):\n",
    "        print(\"feature:\", feature_list[idx_pvals_pair[i][1]], \", P value:\", idx_pvals_pair[i][0])\n",
    "    print (\"summary: \", res_vals.summary())\n",
    "    return pred_vals\n",
    "    "
   ]
  },
  {
   "cell_type": "code",
   "execution_count": 73,
   "metadata": {
    "colab": {},
    "colab_type": "code",
    "id": "P_Jqn_xD7Hd3",
    "outputId": "b485e09e-ffda-4bbc-9a95-81711fcf6042"
   },
   "outputs": [
    {
     "name": "stdout",
     "output_type": "stream",
     "text": [
      "Mean squared error: 27610.11\n",
      "P values:  [0.47142064 0.95397142 0.5796288  0.00941955 0.27931161]\n",
      "Top three features\n",
      "[(0.47142064121292115, 0), (0.9539714183897611, 1), (0.5796288031440198, 2), (0.009419548144867047, 3), (0.2793116107349545, 4)]\n",
      "feature: hr_of_day , P value: 0.47142064121292115\n",
      "feature: max_followers , P value: 0.9539714183897611\n",
      "feature: num_followers , P value: 0.5796288031440198\n",
      "summary:                              OLS Regression Results                            \n",
      "==============================================================================\n",
      "Dep. Variable:                      y   R-squared:                       0.637\n",
      "Model:                            OLS   Adj. R-squared:                  0.634\n",
      "Method:                 Least Squares   F-statistic:                     199.9\n",
      "Date:                Thu, 14 Mar 2019   Prob (F-statistic):          9.65e-123\n",
      "Time:                        22:18:43   Log-Likelihood:                -3749.3\n",
      "No. Observations:                 574   AIC:                             7509.\n",
      "Df Residuals:                     569   BIC:                             7530.\n",
      "Df Model:                           5                                         \n",
      "Covariance Type:            nonrobust                                         \n",
      "==============================================================================\n",
      "                 coef    std err          t      P>|t|      [0.025      0.975]\n",
      "------------------------------------------------------------------------------\n",
      "x1             0.3895      0.540      0.721      0.471      -0.672       1.451\n",
      "x2         -1.258e-05      0.000     -0.058      0.954      -0.000       0.000\n",
      "x3            -0.0001      0.000     -0.554      0.580      -0.001       0.000\n",
      "x4             0.4972      0.191      2.605      0.009       0.122       0.872\n",
      "x5             0.3081      0.284      1.083      0.279      -0.251       0.867\n",
      "==============================================================================\n",
      "Omnibus:                      481.475   Durbin-Watson:                   1.908\n",
      "Prob(Omnibus):                  0.000   Jarque-Bera (JB):           290672.182\n",
      "Skew:                           2.478   Prob(JB):                         0.00\n",
      "Kurtosis:                     113.132   Cond. No.                     2.98e+04\n",
      "==============================================================================\n",
      "\n",
      "Warnings:\n",
      "[1] Standard Errors assume that the covariance matrix of the errors is correctly specified.\n",
      "[2] The condition number is large, 2.98e+04. This might indicate that there are\n",
      "strong multicollinearity or other numerical problems.\n"
     ]
    }
   ],
   "source": [
    "# Running Question 2\n",
    "parsed_features = featureExtraction(json_objects)\n",
    "train_labels_pair = convertDictToNumpy(parsed_features, feature_list)\n",
    "_ = trainAndEvaluate(train_labels_pair, feature_list)"
   ]
  },
  {
   "cell_type": "markdown",
   "metadata": {
    "colab_type": "text",
    "id": "waTIFJlG7Hd8"
   },
   "source": [
    "## Question 4"
   ]
  },
  {
   "cell_type": "markdown",
   "metadata": {},
   "source": [
    "### Selected Features\n",
    "count of happy emojis\n",
    "count of sad emojis\n",
    "url count\n",
    "user mentioned count\n"
   ]
  },
  {
   "cell_type": "code",
   "execution_count": 129,
   "metadata": {
    "colab": {},
    "colab_type": "code",
    "collapsed": true,
    "id": "fJw6TxMa7Hd_"
   },
   "outputs": [],
   "source": [
    "feature_list_updated = ['hr_of_day', 'max_followers', \n",
    "                        'num_followers', 'num_retweets', \n",
    "                        'happy_emoji_cnt', 'sad_emoji_cnt', \n",
    "                        'user_mentioned_cnt', 'url_cnt',\n",
    "                        'num_tweets' ,'next_num_tweets']\n",
    "def featureExtractionCustomized(json_objects):\n",
    "    hr2feature = dict()\n",
    "    happy_emoji = [\":)\", \":-)\", \":')\", \":]\", \"=]\", \":)\"]\n",
    "    sad_emoji = [\":-(\", \":'(\", \":[\", \"=[\"]\n",
    "    \n",
    "    for i in range(len(json_objects)):\n",
    "        parsed_time = creationTimeParser(json_objects[i]['citation_date'])\n",
    "        tweet_text = json_objects[i]['text']\n",
    "        if parsed_time in hr2feature:\n",
    "            hr2feature[parsed_time][\"num_tweets\"] += 1\n",
    "            hr2feature[parsed_time][\"num_retweets\"] += json_objects[i]['total_citations']\n",
    "            hr2feature[parsed_time][\"num_followers\"] += json_objects[i]['followers']\n",
    "            hr2feature[parsed_time][\"max_followers\"] = max(hr2feature[parsed_time][\"max_followers\"], json_objects[i]['followers'])\n",
    "            hr2feature[parsed_time][\"user_mentioned_cnt\"] += json_objects[i]['user_mentioned_cnt']\n",
    "            hr2feature[parsed_time][\"url_cnt\"] += json_objects[i]['url_cnt']\n",
    "        else:\n",
    "            hr2feature[parsed_time] = dict()\n",
    "            hr2feature[parsed_time][\"hr_of_day\"] = parsed_time.hour\n",
    "            hr2feature[parsed_time][\"num_tweets\"] = 1\n",
    "            hr2feature[parsed_time][\"num_retweets\"] = json_objects[i]['total_citations']\n",
    "            hr2feature[parsed_time][\"num_followers\"] = json_objects[i]['followers']\n",
    "            hr2feature[parsed_time][\"max_followers\"] = json_objects[i]['followers']\n",
    "            hr2feature[parsed_time][\"happy_emoji_cnt\"] = 0\n",
    "            hr2feature[parsed_time][\"sad_emoji_cnt\"] = 0\n",
    "            hr2feature[parsed_time][\"user_mentioned_cnt\"] = json_objects[i]['user_mentioned_cnt']\n",
    "            hr2feature[parsed_time][\"url_cnt\"] = json_objects[i]['url_cnt']\n",
    "        \n",
    "        if hasEmoticon(happy_emoji, tweet_text):\n",
    "            hr2feature[parsed_time][\"happy_emoji_cnt\"] += 1\n",
    "        if hasEmoticon(sad_emoji, tweet_text):\n",
    "            hr2feature[parsed_time][\"sad_emoji_cnt\"] += 1\n",
    "            \n",
    "    min_time = min(hr2feature.keys())\n",
    "    max_time = max(hr2feature.keys())\n",
    "    hour_time = min_time + timedelta(hours=1)\n",
    "    while hour_time < max_time:\n",
    "        if hour_time not in hr2feature:\n",
    "            hr2feature[hour_time] = dict()\n",
    "            hr2feature[hour_time][\"hr_of_day\"] = hour_time.hour\n",
    "            hr2feature[hour_time][\"num_tweets\"] = 0\n",
    "            hr2feature[hour_time][\"num_retweets\"] = 0\n",
    "            hr2feature[hour_time][\"num_followers\"] = 0\n",
    "            hr2feature[hour_time][\"max_followers\"] = 0\n",
    "            hr2feature[hour_time][\"sad_emoji_cnt\"] = 0\n",
    "            hr2feature[hour_time][\"happy_emoji_cnt\"] = 0\n",
    "            hr2feature[hour_time][\"user_mentioned_cnt\"] = 0\n",
    "            hr2feature[hour_time][\"url_cnt\"] = 0\n",
    "            \n",
    "        hour_time += timedelta(hours=1)\n",
    "    return hr2feature\n",
    "\n",
    "def hasEmoticon(emoji_list, tweet_text):\n",
    "    for emoji in emoji_list:\n",
    "        if emoji in tweet_text:\n",
    "            return True\n",
    "    return False"
   ]
  },
  {
   "cell_type": "code",
   "execution_count": 130,
   "metadata": {},
   "outputs": [
    {
     "name": "stdout",
     "output_type": "stream",
     "text": [
      "Mean squared error: 9325.34\n",
      "('P values: ', array([7.01529382e-02, 6.78204240e-07, 1.53634462e-05, 8.96991875e-06,\n",
      "       7.28216169e-81, 3.45205616e-01, 1.28988208e-73, 1.43881749e-07,\n",
      "       1.06749096e-01]))\n",
      "Top three features\n",
      "[(7.282161691950402e-81, 4), (1.2898820815363471e-73, 6), (1.4388174876531852e-07, 7), (6.782042403340838e-07, 1), (8.969918749686367e-06, 3), (1.5363446174612825e-05, 2), (0.07015293816884258, 0), (0.10674909621533532, 8), (0.34520561623594237, 5)]\n",
      "('feature:', 'happy_emoji_cnt', ', P value:', 7.282161691950402e-81)\n",
      "('feature:', 'user_mentioned_cnt', ', P value:', 1.2898820815363471e-73)\n",
      "('feature:', 'url_cnt', ', P value:', 1.4388174876531852e-07)\n",
      "('summary: ', <class 'statsmodels.iolib.summary.Summary'>\n",
      "\"\"\"\n",
      "                            OLS Regression Results                            \n",
      "==============================================================================\n",
      "Dep. Variable:                      y   R-squared:                       0.877\n",
      "Model:                            OLS   Adj. R-squared:                  0.876\n",
      "Method:                 Least Squares   F-statistic:                     449.6\n",
      "Date:                Thu, 14 Mar 2019   Prob (F-statistic):          5.66e-251\n",
      "Time:                        22:06:01   Log-Likelihood:                -3437.8\n",
      "No. Observations:                 574   AIC:                             6894.\n",
      "Df Residuals:                     565   BIC:                             6933.\n",
      "Df Model:                           9                                         \n",
      "Covariance Type:            nonrobust                                         \n",
      "==============================================================================\n",
      "                 coef    std err          t      P>|t|      [0.025      0.975]\n",
      "------------------------------------------------------------------------------\n",
      "x1            -0.5853      0.323     -1.814      0.070      -1.219       0.048\n",
      "x2            -0.0008      0.000     -5.025      0.000      -0.001      -0.000\n",
      "x3             0.0006      0.000      4.361      0.000       0.000       0.001\n",
      "x4            -0.5953      0.133     -4.482      0.000      -0.856      -0.334\n",
      "x5          -174.4892      7.733    -22.565      0.000    -189.678    -159.301\n",
      "x6           -92.1578     97.550     -0.945      0.345    -283.763      99.448\n",
      "x7             8.0445      0.380     21.158      0.000       7.298       8.791\n",
      "x8             3.0539      0.573      5.328      0.000       1.928       4.180\n",
      "x9            -0.3424      0.212     -1.616      0.107      -0.759       0.074\n",
      "==============================================================================\n",
      "Omnibus:                      275.285   Durbin-Watson:                   2.262\n",
      "Prob(Omnibus):                  0.000   Jarque-Bera (JB):            22503.528\n",
      "Skew:                           1.188   Prob(JB):                         0.00\n",
      "Kurtosis:                      33.582   Cond. No.                     9.22e+06\n",
      "==============================================================================\n",
      "\n",
      "Warnings:\n",
      "[1] Standard Errors assume that the covariance matrix of the errors is correctly specified.\n",
      "[2] The condition number is large, 9.22e+06. This might indicate that there are\n",
      "strong multicollinearity or other numerical problems.\n",
      "\"\"\")\n"
     ]
    }
   ],
   "source": [
    "# Running Question 2\n",
    "parsed_features = featureExtractionCustomized(json_objects)\n",
    "train_labels_pair = convertDictToNumpy(parsed_features, feature_list_updated)\n",
    "pred_value = trainAndEvaluate(train_labels_pair,feature_list_updated)"
   ]
  },
  {
   "cell_type": "markdown",
   "metadata": {},
   "source": [
    "## Question 5"
   ]
  },
  {
   "cell_type": "code",
   "execution_count": 131,
   "metadata": {
    "collapsed": true
   },
   "outputs": [],
   "source": [
    "def drawScatterPlots(feature_value, predicted_Y):\n",
    "    #Fitted values against true values\n",
    "    fig, ax = plt.subplots()\n",
    "    ax.scatter(x=feature_value, y= predicted_Y)\n",
    "    ax.set_xlabel('Feature values')\n",
    "    ax.set_ylabel('Predicted values')\n",
    "    plt.show()"
   ]
  },
  {
   "cell_type": "code",
   "execution_count": 132,
   "metadata": {},
   "outputs": [
    {
     "data": {
      "image/png": "[encoded data removed]",
      "text/plain": [
       "<matplotlib.figure.Figure at 0x7f9bf0abd390>"
      ]
     },
     "metadata": {},
     "output_type": "display_data"
    },
    {
     "data": {
      "image/png": "[encoded data removed]",
      "text/plain": [
       "<matplotlib.figure.Figure at 0x7f9bf0a4dbd0>"
      ]
     },
     "metadata": {},
     "output_type": "display_data"
    },
    {
     "data": {
      "image/png": "[encoded data removed]",
      "text/plain": [
       "<matplotlib.figure.Figure at 0x7f9bf1520950>"
      ]
     },
     "metadata": {},
     "output_type": "display_data"
    }
   ],
   "source": [
    "drawScatterPlots(train_labels_pair[\"features\"][:,4], pred_value)\n",
    "drawScatterPlots(train_labels_pair[\"features\"][:,6], pred_value)\n",
    "drawScatterPlots(train_labels_pair[\"features\"][:,7], pred_value)"
   ]
  },
  {
   "cell_type": "markdown",
   "metadata": {},
   "source": [
    "## Question 6"
   ]
  },
  {
   "cell_type": "markdown",
   "metadata": {},
   "source": [
    "## Problem 8 Ensemble Method"
   ]
  },
  {
   "cell_type": "code",
   "execution_count": 392,
   "metadata": {
    "collapsed": true
   },
   "outputs": [],
   "source": [
    "parameters = {'max_depth': [10, 20, 40, 60, 80, 100, 200, None], \n",
    " 'max_features': ['auto', 'sqrt'], \n",
    " 'min_samples_leaf': [1, 2, 4], \n",
    " 'min_samples_split': [2, 5, 10], \n",
    " 'n_estimators': [200, 400, 600, 800, 1000, 1200, 1400, 1600, 1800, 2000]}\n",
    "clf = RandomForestRegressor()\n",
    "grid_search = GridSearchCV(clf, param_grid=parameters, cv=KFold(5, shuffle=True), scoring='neg_mean_squared_error')\n",
    "# OLS Top three features and P values\n",
    "x_train = np.squeeze(sm.add_constant(train_labels_pair[\"features\"]))\n",
    "y_train = np.squeeze(train_labels_pair[\"labels\"])"
   ]
  },
  {
   "cell_type": "code",
   "execution_count": null,
   "metadata": {
    "collapsed": true
   },
   "outputs": [],
   "source": [
    "# grid_search.fit(x_train, y_train)"
   ]
  },
  {
   "cell_type": "code",
   "execution_count": null,
   "metadata": {
    "collapsed": true
   },
   "outputs": [],
   "source": []
  }
 ],
 "metadata": {
  "colab": {
   "collapsed_sections": [],
   "name": "EE219Project5.ipynb",
   "provenance": [],
   "version": "0.3.2"
  },
  "kernelspec": {
   "display_name": "Python 3",
   "language": "python",
   "name": "python3"
  },
  "language_info": {
   "codemirror_mode": {
    "name": "ipython",
    "version": 3
   },
   "file_extension": ".py",
   "mimetype": "text/x-python",
   "name": "python",
   "nbconvert_exporter": "python",
   "pygments_lexer": "ipython3",
   "version": "3.6.3"
  }
 },
 "nbformat": 4,
 "nbformat_minor": 1
}
