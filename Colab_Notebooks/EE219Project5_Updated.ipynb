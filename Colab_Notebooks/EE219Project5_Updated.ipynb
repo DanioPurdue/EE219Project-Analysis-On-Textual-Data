{
 "cells": [
  {
   "cell_type": "markdown",
   "metadata": {
    "colab_type": "text",
    "id": "BuRRSNat2leR"
   },
   "source": [
    "## Mount the google drive"
   ]
  },
  {
   "cell_type": "code",
   "execution_count": 27,
   "metadata": {
    "colab": {
     "base_uri": "https://localhost:8080/",
     "height": 34
    },
    "colab_type": "code",
    "executionInfo": {
     "elapsed": 368,
     "status": "ok",
     "timestamp": 1552596003494,
     "user": {
      "displayName": "Yanzhao Wang",
      "photoUrl": "https://lh6.googleusercontent.com/-zSzQptIz5vU/AAAAAAAAAAI/AAAAAAAAAUE/mtV7G3_DDLM/s64/photo.jpg",
      "userId": "09399717079104501219"
     },
     "user_tz": 420
    },
    "id": "EQL2P5euqVfp",
    "outputId": "1c20b1ae-decc-4cd6-9d41-74be4e432c5e"
   },
   "outputs": [
    {
     "ename": "ModuleNotFoundError",
     "evalue": "No module named 'google'",
     "output_type": "error",
     "traceback": [
      "\u001b[0;31m---------------------------------------------------------------------------\u001b[0m",
      "\u001b[0;31mModuleNotFoundError\u001b[0m                       Traceback (most recent call last)",
      "\u001b[0;32m<ipython-input-27-623a6bd423e5>\u001b[0m in \u001b[0;36m<module>\u001b[0;34m()\u001b[0m\n\u001b[1;32m      1\u001b[0m \u001b[0;31m# Load the Drive helper and mount\u001b[0m\u001b[0;34m\u001b[0m\u001b[0;34m\u001b[0m\u001b[0m\n\u001b[0;32m----> 2\u001b[0;31m \u001b[0;32mfrom\u001b[0m \u001b[0mgoogle\u001b[0m\u001b[0;34m.\u001b[0m\u001b[0mcolab\u001b[0m \u001b[0;32mimport\u001b[0m \u001b[0mdrive\u001b[0m\u001b[0;34m\u001b[0m\u001b[0m\n\u001b[0m\u001b[1;32m      3\u001b[0m \u001b[0;34m\u001b[0m\u001b[0m\n\u001b[1;32m      4\u001b[0m \u001b[0;31m# This will prompt for authorization.\u001b[0m\u001b[0;34m\u001b[0m\u001b[0;34m\u001b[0m\u001b[0m\n\u001b[1;32m      5\u001b[0m \u001b[0mdrive\u001b[0m\u001b[0;34m.\u001b[0m\u001b[0mmount\u001b[0m\u001b[0;34m(\u001b[0m\u001b[0;34m'/content/drive'\u001b[0m\u001b[0;34m)\u001b[0m\u001b[0;34m\u001b[0m\u001b[0m\n",
      "\u001b[0;31mModuleNotFoundError\u001b[0m: No module named 'google'"
     ]
    }
   ],
   "source": [
    "# Load the Drive helper and mount\n",
    "from google.colab import drive\n",
    "\n",
    "# This will prompt for authorization.\n",
    "drive.mount('/content/drive')\n",
    "\n",
    "# Write a sample to test\n",
    "with open('to_upload.txt', 'w') as f:\n",
    "  f.write('my sample file')\n",
    "  "
   ]
  },
  {
   "cell_type": "code",
   "execution_count": 28,
   "metadata": {
    "colab": {},
    "colab_type": "code",
    "id": "C56VfxoEvoab"
   },
   "outputs": [
    {
     "ename": "FileNotFoundError",
     "evalue": "[Errno 2] No such file or directory: 'drive/My Drive/Colab Notebooks/foo.txt'",
     "output_type": "error",
     "traceback": [
      "\u001b[0;31m---------------------------------------------------------------------------\u001b[0m",
      "\u001b[0;31mFileNotFoundError\u001b[0m                         Traceback (most recent call last)",
      "\u001b[0;32m<ipython-input-28-93f422d7b66e>\u001b[0m in \u001b[0;36m<module>\u001b[0;34m()\u001b[0m\n\u001b[0;32m----> 1\u001b[0;31m \u001b[0;32mwith\u001b[0m \u001b[0mopen\u001b[0m\u001b[0;34m(\u001b[0m\u001b[0;34m'drive/My Drive/Colab Notebooks/foo.txt'\u001b[0m\u001b[0;34m,\u001b[0m \u001b[0;34m'w'\u001b[0m\u001b[0;34m)\u001b[0m \u001b[0;32mas\u001b[0m \u001b[0mf\u001b[0m\u001b[0;34m:\u001b[0m\u001b[0;34m\u001b[0m\u001b[0m\n\u001b[0m\u001b[1;32m      2\u001b[0m   \u001b[0mf\u001b[0m\u001b[0;34m.\u001b[0m\u001b[0mwrite\u001b[0m\u001b[0;34m(\u001b[0m\u001b[0;34m'I am a foo'\u001b[0m\u001b[0;34m)\u001b[0m\u001b[0;34m\u001b[0m\u001b[0m\n",
      "\u001b[0;31mFileNotFoundError\u001b[0m: [Errno 2] No such file or directory: 'drive/My Drive/Colab Notebooks/foo.txt'"
     ]
    }
   ],
   "source": [
    "with open('drive/My Drive/Colab Notebooks/foo.txt', 'w') as f:\n",
    "  f.write('I am a foo')"
   ]
  },
  {
   "cell_type": "markdown",
   "metadata": {
    "colab_type": "text",
    "id": "saSVVQBF7HdW"
   },
   "source": [
    "## Using Locally"
   ]
  },
  {
   "cell_type": "code",
   "execution_count": 13,
   "metadata": {
    "colab": {},
    "colab_type": "code",
    "id": "UAiAjBpHz7GD"
   },
   "outputs": [],
   "source": [
    "# Question 1\n",
    "import pandas as pd\n",
    "import numpy as np\n",
    "import json\n",
    "import datetime\n",
    "from datetime import timedelta\n",
    "import matplotlib.pyplot as plt\n",
    "import pytz\n",
    "\n",
    "# Question 3\n",
    "from sklearn import linear_model\n",
    "from sklearn.model_selection import train_test_split\n",
    "from sklearn.metrics import mean_squared_error, r2_score\n",
    "import statsmodels.api as sm\n",
    "\n",
    "# Question 8\n",
    "from sklearn.model_selection import GridSearchCV\n",
    "from sklearn.ensemble import RandomForestRegressor\n",
    "from sklearn.model_selection import KFold"
   ]
  },
  {
   "cell_type": "code",
   "execution_count": 14,
   "metadata": {
    "colab": {},
    "colab_type": "code",
    "collapsed": true,
    "id": "gkvvpwOQ1EIm"
   },
   "outputs": [],
   "source": [
    "google_file_direct = \"drive/My Drive/Colab Notebooks/ECE219_tweet_data/\"\n",
    "file_direct = \"\""
   ]
  },
  {
   "cell_type": "markdown",
   "metadata": {
    "colab_type": "text",
    "id": "A8LaJjfH1Idk"
   },
   "source": [
    "## How to load json data"
   ]
  },
  {
   "cell_type": "code",
   "execution_count": 53,
   "metadata": {
    "colab": {
     "base_uri": "https://localhost:8080/",
     "height": 236
    },
    "colab_type": "code",
    "executionInfo": {
     "elapsed": 657,
     "status": "error",
     "timestamp": 1552596026927,
     "user": {
      "displayName": "Yanzhao Wang",
      "photoUrl": "https://lh6.googleusercontent.com/-zSzQptIz5vU/AAAAAAAAAAI/AAAAAAAAAUE/mtV7G3_DDLM/s64/photo.jpg",
      "userId": "09399717079104501219"
     },
     "user_tz": 420
    },
    "id": "H2J6LsLa1Nqd",
    "outputId": "bc0e78c1-4ffc-48c8-9274-7764c949f838"
   },
   "outputs": [],
   "source": [
    "json_objects = list()\n",
    "filename = \"updated_tweets_#gopatriots.txt\"\n",
    "with open(file_direct + filename, \"r\") as file:\n",
    "    line = file.readline()\n",
    "    while line:\n",
    "        json_objects.append(json.loads(line))\n",
    "        line = file.readline()"
   ]
  },
  {
   "cell_type": "code",
   "execution_count": 54,
   "metadata": {
    "colab": {},
    "colab_type": "code",
    "collapsed": true,
    "id": "nr3xZ__v3Rum"
   },
   "outputs": [],
   "source": [
    "def getJsonObjects(filename):\n",
    "    json_list = list()\n",
    "    with open(file_direct + filename, \"r\") as jsonfile:\n",
    "        line = jsonfile.readline()\n",
    "        while line:\n",
    "            json_list.append(json.loads(line))\n",
    "            line = jsonfile.readline()\n",
    "        return json_list\n",
    "\n",
    "# list_cnt = 0\n",
    "def creationTimeParser(unix_time, time_zone = pytz.timezone('America/Los_Angeles')):\n",
    "    date_object = datetime.datetime.fromtimestamp(unix_time, time_zone)\n",
    "    date_object = date_object.replace(minute=0, second=0, microsecond=0)\n",
    "    return date_object\n",
    "  \n",
    "\n",
    "def getStat(json_objects, hr2cnt):\n",
    "    # Description:\n",
    "    # Get the the number of tweets, also features forom the tweet\n",
    "    list_cnt = 0\n",
    "    total_followers = 0\n",
    "    total_tweets = 0\n",
    "    time_zone = pytz.timezone('America/Los_Angeles')\n",
    "    for i in range(len(json_objects)):\n",
    "    # parse the avg tweet per hour\n",
    "        parsed_time = creationTimeParser(json_objects[i]['citation_date'],  time_zone)\n",
    "        if parsed_time in hr2cnt:\n",
    "          hr2cnt[parsed_time] += 1\n",
    "        else:\n",
    "          hr2cnt[parsed_time] = 1\n",
    "        total_followers += json_objects[i]['followers']\n",
    "        total_tweets += json_objects[i]['total_citations']\n",
    "    min_time = min(hr2cnt.keys())\n",
    "    max_time = max(hr2cnt.keys())\n",
    "    hour_time = min_time + timedelta(hours=1)\n",
    "    while hour_time < max_time:\n",
    "        if hour_time not in hr2cnt:\n",
    "            hr2cnt[hour_time] = 0\n",
    "        hour_time = hour_time + timedelta(hours=1)\n",
    "    hr_np = np.fromiter(hr2cnt.values(), dtype=np.int).reshape((len(hr2cnt),1))\n",
    "    min_time = min(hr2cnt.keys())\n",
    "    max_time = max(hr2cnt.keys())\n",
    "    diff_time = max_time - min_time + timedelta(hours=1)\n",
    "    avg_tweets = hr_np.sum() / (diff_time.total_seconds()/3600)\n",
    "    print(\"total retweets: \", total_tweets, \"len jsob_obj: \", len(json_objects))\n",
    "    return {'avg tweets per hour' : avg_tweets, \n",
    "          'avg followers per tweet' : total_followers / len(json_objects),\n",
    "          'avg retweets per tweet' : total_tweets / len(json_objects)}"
   ]
  },
  {
   "cell_type": "code",
   "execution_count": 55,
   "metadata": {
    "colab": {},
    "colab_type": "code",
    "id": "vZ-Zu2P1-a9t",
    "outputId": "caf18f40-2304-4ae7-f173-ad254b695fea"
   },
   "outputs": [
    {
     "name": "stdout",
     "output_type": "stream",
     "text": [
      "total retweets:  33108 len jsob_obj:  23511\n"
     ]
    },
    {
     "data": {
      "text/plain": [
       "{'avg followers per tweet': 1427.2526051635405,\n",
       " 'avg retweets per tweet': 1.4081919101697078,\n",
       " 'avg tweets per hour': 40.888695652173915}"
      ]
     },
     "execution_count": 55,
     "metadata": {},
     "output_type": "execute_result"
    }
   ],
   "source": [
    "# creationTimeParser(json_objects[0]['citation_date'])\n",
    "# print(type(json_objects[0]))\n",
    "hr2cnt = dict()\n",
    "getStat(json_objects, hr2cnt)"
   ]
  },
  {
   "cell_type": "markdown",
   "metadata": {
    "colab_type": "text",
    "id": "yJ8adLAYWRU-"
   },
   "source": [
    "## Question 2"
   ]
  },
  {
   "cell_type": "code",
   "execution_count": 56,
   "metadata": {
    "colab": {},
    "colab_type": "code",
    "id": "G6JXGZZoWW3n"
   },
   "outputs": [
    {
     "name": "stdout",
     "output_type": "stream",
     "text": [
      "total retweets:  33108 len jsob_obj:  23511\n"
     ]
    }
   ],
   "source": [
    "json_objects_patroits = getJsonObjects(filename)\n",
    "hr2cnt_patriots = dict()\n",
    "superbowl_stat = getStat(json_objects_patroits, hr2cnt_patriots)"
   ]
  },
  {
   "cell_type": "code",
   "execution_count": 57,
   "metadata": {
    "colab": {},
    "colab_type": "code",
    "collapsed": true,
    "id": "O7mqXk9o7Hdt"
   },
   "outputs": [],
   "source": [
    "def getTweetCount(json_objects):\n",
    "    hr2cnt = dict()\n",
    "    stat = getStat(json_objects, hr2cnt)\n",
    "    return hr2cnt\n",
    "    \n",
    "def getSortedKeys(hr2cnt):\n",
    "    keylist = sorted(hr2cnt.keys())\n",
    "    return keylist\n",
    "\n",
    "# TODO: change the x ticks to display properly\n",
    "def generatePlot(hr2cnt, tag_name):\n",
    "    sorted_time = getSortedKeys(hr2cnt)\n",
    "    sorted_vals = [hr2cnt[x] for x in sorted_time]\n",
    "    plt.plot(sorted_time, sorted_vals)\n",
    "    print(\"sorted_vals: \", len(sorted_vals))\n",
    "    plt.xlabel('time')\n",
    "    plt.ylabel('num of posts')\n",
    "    plt.title(\"Tag Name: \" + tag_name)\n",
    "    plt.show()\n",
    "\n",
    "def Question2(json_objects, tag_name):\n",
    "    hr2cnt = getTweetCount(json_objects)\n",
    "    keylist = getSortedKeys(hr2cnt)\n",
    "    generatePlot(hr2cnt, tag_name)"
   ]
  },
  {
   "cell_type": "code",
   "execution_count": 58,
   "metadata": {
    "colab": {},
    "colab_type": "code",
    "id": "BTsnx0C07Hdv",
    "outputId": "b9984a62-3042-4c00-ca6e-1285245c7387"
   },
   "outputs": [
    {
     "name": "stdout",
     "output_type": "stream",
     "text": [
      "total retweets:  33108 len jsob_obj:  23511\n",
      "sorted_vals:  575\n"
     ]
    },
    {
     "data": {
      "image/png": "[encoded data removed]",
      "text/plain": [
       "<matplotlib.figure.Figure at 0x1c20a85978>"
      ]
     },
     "metadata": {},
     "output_type": "display_data"
    }
   ],
   "source": [
    "Question2(json_objects_patroits, filename)"
   ]
  },
  {
   "cell_type": "markdown",
   "metadata": {
    "colab_type": "text",
    "id": "QpH7cyRx7Hdy"
   },
   "source": [
    "## Question 3"
   ]
  },
  {
   "cell_type": "code",
   "execution_count": 59,
   "metadata": {
    "colab": {},
    "colab_type": "code",
    "collapsed": true,
    "id": "700i9xKh7Hdz"
   },
   "outputs": [],
   "source": [
    "# TODO: Still need to check whether I got the right number\n",
    "# refactor the code to make it easy to use for different files"
   ]
  },
  {
   "cell_type": "code",
   "execution_count": 70,
   "metadata": {
    "colab": {},
    "colab_type": "code",
    "id": "nOXw9jVI7Hd1"
   },
   "outputs": [
    {
     "ename": "SyntaxError",
     "evalue": "invalid syntax (<ipython-input-70-6972de6f8a40>, line 60)",
     "output_type": "error",
     "traceback": [
      "\u001b[0;36m  File \u001b[0;32m\"<ipython-input-70-6972de6f8a40>\"\u001b[0;36m, line \u001b[0;32m60\u001b[0m\n\u001b[0;31m    idx_pvals_pair = sorted(idx_pvals_pair, key=lambda x: if x[1] == 0: 6666 else x[0])\u001b[0m\n\u001b[0m                                                           ^\u001b[0m\n\u001b[0;31mSyntaxError\u001b[0m\u001b[0;31m:\u001b[0m invalid syntax\n"
     ]
    }
   ],
   "source": [
    "def featureExtraction(json_objects):\n",
    "    hr2feature = dict()\n",
    "    for i in range(len(json_objects)):\n",
    "        parsed_time = creationTimeParser(json_objects[i]['citation_date'])\n",
    "        if parsed_time in hr2feature:\n",
    "            hr2feature[parsed_time][\"num_tweets\"] += 1\n",
    "            hr2feature[parsed_time][\"num_retweets\"] += json_objects[i]['total_citations']\n",
    "            hr2feature[parsed_time][\"num_followers\"] += json_objects[i]['followers']\n",
    "            hr2feature[parsed_time][\"max_followers\"] = max(hr2feature[parsed_time][\"max_followers\"], json_objects[i]['followers'])\n",
    "        else:\n",
    "            hr2feature[parsed_time] = dict()\n",
    "            hr2feature[parsed_time][\"hr_of_day\"] = parsed_time.hour\n",
    "            hr2feature[parsed_time][\"num_tweets\"] = 1\n",
    "            hr2feature[parsed_time][\"num_retweets\"] = json_objects[i]['total_citations']\n",
    "            hr2feature[parsed_time][\"num_followers\"] = json_objects[i]['followers']\n",
    "            hr2feature[parsed_time][\"max_followers\"] = json_objects[i]['followers']\n",
    "    min_time = min(hr2feature.keys())\n",
    "    max_time = max(hr2feature.keys())\n",
    "    hour_time = min_time + timedelta(hours=1)\n",
    "    while hour_time < max_time:\n",
    "        if hour_time not in hr2feature:\n",
    "            hr2feature[hour_time] = dict()\n",
    "            hr2feature[hour_time][\"hr_of_day\"] = hour_time.hour\n",
    "            hr2feature[hour_time][\"num_tweets\"] = 0\n",
    "            hr2feature[hour_time][\"num_retweets\"] = 0\n",
    "            hr2feature[hour_time][\"num_followers\"] = 0\n",
    "            hr2feature[hour_time][\"max_followers\"] = 0\n",
    "        hour_time += timedelta(hours=1)\n",
    "    return hr2feature\n",
    "\n",
    "feature_list = ['hr_of_day', 'max_followers', 'num_followers', 'num_retweets', 'num_tweets', 'next_num_tweets']\n",
    "\n",
    "# convert a dictionary to numpy array\n",
    "def convertDictToNumpy(parsed_features, feature_list):\n",
    "    df = pd.DataFrame(parsed_features).T.sort_index()\n",
    "    # create the label column\n",
    "    df[\"next_num_tweets\"] = df[\"num_tweets\"].shift(-1)\n",
    "    df = df[feature_list] # reorder the column based on feature\n",
    "    df.drop(df.tail(1).index, inplace=True)\n",
    "    train_set = df.values[:,:-1]\n",
    "    labels = df.values[:,-1]\n",
    "    labels = labels.reshape((len(labels), 1))\n",
    "    return {\"features\" : train_set, \"labels\" : labels}\n",
    "\n",
    "def trainAndEvaluate(train_labels_pair, feature_list):\n",
    "    # OLS Top three features and P values\n",
    "    x_train = np.squeeze(sm.add_constant(train_labels_pair[\"features\"]))\n",
    "    y_train = np.squeeze(train_labels_pair[\"labels\"])\n",
    "    ols = sm.OLS(y_train, x_train)\n",
    "    res_vals = ols.fit()\n",
    "    pred_vals = res_vals.predict(x_train)\n",
    "    # The mean squared error\n",
    "    print(\"Mean squared error: %.2f\" % mean_squared_error(y_train, pred_vals))\n",
    "    print(\"P values: \", res_vals.pvalues)\n",
    "    idx_pvals_pair = list()\n",
    "    print (\"pvals shape: \", res_vals.pvalues.shape)\n",
    "    for i in range(res_vals.pvalues.shape[0]):\n",
    "        pair = (res_vals.pvalues[i], i)\n",
    "        idx_pvals_pair.append(pair)\n",
    "    idx_pvals_pair = sorted(idx_pvals_pair, key=lambda x: if x[1] == 0: 6666 else x[0])\n",
    "    print(idx_pvals_pair)\n",
    "    print(\"Top three features\")\n",
    "    for i in range(3):\n",
    "        print(\"index val: \", idx_pvals_pair[i][1]-1)\n",
    "        print(\"feature:\", feature_list[idx_pvals_pair[i][1]-1], \", P value:\", idx_pvals_pair[i][0])\n",
    "    print (\"summary: \", res_vals.summary())\n",
    "    return\n",
    "    "
   ]
  },
  {
   "cell_type": "code",
   "execution_count": 71,
   "metadata": {
    "colab": {},
    "colab_type": "code",
    "id": "P_Jqn_xD7Hd3",
    "outputId": "b485e09e-ffda-4bbc-9a95-81711fcf6042"
   },
   "outputs": [
    {
     "name": "stdout",
     "output_type": "stream",
     "text": [
      "Mean squared error: 27587.45\n",
      "P values:  [0.4948699  0.84490848 0.92929918 0.59944679 0.00983758 0.28376498]\n",
      "pvals shape:  (6,)\n",
      "[(0.009837577114207028, 4), (0.2837649750482316, 5), (0.49486990067531256, 0), (0.5994467858735322, 3), (0.8449084844010921, 1), (0.9292991810103117, 2)]\n",
      "Top three features\n",
      "index val:  3\n",
      "feature: num_retweets , P value: 0.009837577114207028\n",
      "index val:  4\n",
      "feature: num_tweets , P value: 0.2837649750482316\n",
      "index val:  -1\n",
      "feature: next_num_tweets , P value: 0.49486990067531256\n",
      "summary:                              OLS Regression Results                            \n",
      "==============================================================================\n",
      "Dep. Variable:                      y   R-squared:                       0.629\n",
      "Model:                            OLS   Adj. R-squared:                  0.626\n",
      "Method:                 Least Squares   F-statistic:                     192.9\n",
      "Date:                Thu, 14 Mar 2019   Prob (F-statistic):          6.97e-120\n",
      "Time:                        22:12:16   Log-Likelihood:                -3749.1\n",
      "No. Observations:                 574   AIC:                             7510.\n",
      "Df Residuals:                     568   BIC:                             7536.\n",
      "Df Model:                           5                                         \n",
      "Covariance Type:            nonrobust                                         \n",
      "==============================================================================\n",
      "                 coef    std err          t      P>|t|      [0.025      0.975]\n",
      "------------------------------------------------------------------------------\n",
      "const          9.2632     13.562      0.683      0.495     -17.375      35.901\n",
      "x1            -0.1991      1.017     -0.196      0.845      -2.197       1.799\n",
      "x2         -1.937e-05      0.000     -0.089      0.929      -0.000       0.000\n",
      "x3            -0.0001      0.000     -0.525      0.599      -0.001       0.000\n",
      "x4             0.4947      0.191      2.590      0.010       0.120       0.870\n",
      "x5             0.3054      0.285      1.073      0.284      -0.254       0.865\n",
      "==============================================================================\n",
      "Omnibus:                      486.048   Durbin-Watson:                   1.909\n",
      "Prob(Omnibus):                  0.000   Jarque-Bera (JB):           291015.311\n",
      "Skew:                           2.526   Prob(JB):                         0.00\n",
      "Kurtosis:                     113.192   Cond. No.                     7.48e+05\n",
      "==============================================================================\n",
      "\n",
      "Warnings:\n",
      "[1] Standard Errors assume that the covariance matrix of the errors is correctly specified.\n",
      "[2] The condition number is large, 7.48e+05. This might indicate that there are\n",
      "strong multicollinearity or other numerical problems.\n"
     ]
    }
   ],
   "source": [
    "# Running Question 3\n",
    "parsed_features = featureExtraction(json_objects)\n",
    "train_labels_pair = convertDictToNumpy(parsed_features, feature_list)\n",
    "trainAndEvaluate(train_labels_pair, feature_list)"
   ]
  },
  {
   "cell_type": "markdown",
   "metadata": {
    "colab_type": "text",
    "id": "waTIFJlG7Hd8"
   },
   "source": [
    "## Question 4"
   ]
  },
  {
   "cell_type": "markdown",
   "metadata": {},
   "source": [
    "### Selected Features\n",
    "count of happy emojis\n",
    "count of sad emojis\n",
    "url count\n",
    "user mentioned count\n"
   ]
  },
  {
   "cell_type": "code",
   "execution_count": 42,
   "metadata": {
    "colab": {},
    "colab_type": "code",
    "collapsed": true,
    "id": "fJw6TxMa7Hd_"
   },
   "outputs": [],
   "source": [
    "feature_list_updated = ['hr_of_day', 'max_followers', \n",
    "                        'num_followers', 'num_retweets', \n",
    "                        'happy_emoji_cnt', 'sad_emoji_cnt', \n",
    "                        'user_mentioned_cnt', 'url_cnt', \n",
    "                        'num_tweets', 'next_num_tweets']\n",
    "def featureExtractionCustomized(json_objects):\n",
    "    hr2feature = dict()\n",
    "    happy_emoji = [\":)\", \":-)\", \":')\", \":]\", \"=]\", \":)\"]\n",
    "    sad_emoji = [\":-(\", \":'(\", \":[\", \"=[\"]\n",
    "    \n",
    "    for i in range(len(json_objects)):\n",
    "        parsed_time = creationTimeParser(json_objects[i]['citation_date'])\n",
    "        tweet_text = json_objects[i]['text']\n",
    "        if parsed_time in hr2feature:\n",
    "            hr2feature[parsed_time][\"num_tweets\"] += 1\n",
    "            hr2feature[parsed_time][\"num_retweets\"] += json_objects[i]['total_citations']\n",
    "            hr2feature[parsed_time][\"num_followers\"] += json_objects[i]['followers']\n",
    "            hr2feature[parsed_time][\"max_followers\"] = max(hr2feature[parsed_time][\"max_followers\"], json_objects[i]['followers'])\n",
    "            hr2feature[parsed_time][\"user_mentioned_cnt\"] += json_objects[i]['user_mentioned_cnt']\n",
    "            hr2feature[parsed_time][\"url_cnt\"] += json_objects[i]['url_cnt']\n",
    "        else:\n",
    "            hr2feature[parsed_time] = dict()\n",
    "            hr2feature[parsed_time][\"hr_of_day\"] = parsed_time.hour\n",
    "            hr2feature[parsed_time][\"num_tweets\"] = 1\n",
    "            hr2feature[parsed_time][\"num_retweets\"] = json_objects[i]['total_citations']\n",
    "            hr2feature[parsed_time][\"num_followers\"] = json_objects[i]['followers']\n",
    "            hr2feature[parsed_time][\"max_followers\"] = json_objects[i]['followers']\n",
    "            hr2feature[parsed_time][\"happy_emoji_cnt\"] = 0\n",
    "            hr2feature[parsed_time][\"sad_emoji_cnt\"] = 0\n",
    "            hr2feature[parsed_time][\"user_mentioned_cnt\"] = json_objects[i]['user_mentioned_cnt']\n",
    "            hr2feature[parsed_time][\"url_cnt\"] = json_objects[i]['url_cnt']\n",
    "        \n",
    "        if hasEmoticon(happy_emoji, tweet_text):\n",
    "            hr2feature[parsed_time][\"happy_emoji_cnt\"] += 1\n",
    "        if hasEmoticon(sad_emoji, tweet_text):\n",
    "            hr2feature[parsed_time][\"sad_emoji_cnt\"] += 1\n",
    "            \n",
    "    min_time = min(hr2feature.keys())\n",
    "    max_time = max(hr2feature.keys())\n",
    "    hour_time = min_time + timedelta(hours=1)\n",
    "    while hour_time < max_time:\n",
    "        if hour_time not in hr2feature:\n",
    "            hr2feature[hour_time] = dict()\n",
    "            hr2feature[hour_time][\"hr_of_day\"] = hour_time.hour\n",
    "            hr2feature[hour_time][\"num_tweets\"] = 0\n",
    "            hr2feature[hour_time][\"num_retweets\"] = 0\n",
    "            hr2feature[hour_time][\"num_followers\"] = 0\n",
    "            hr2feature[hour_time][\"max_followers\"] = 0\n",
    "            hr2feature[hour_time][\"sad_emoji_cnt\"] = 0\n",
    "            hr2feature[hour_time][\"happy_emoji_cnt\"] = 0\n",
    "            hr2feature[hour_time][\"user_mentioned_cnt\"] = 0\n",
    "            hr2feature[hour_time][\"url_cnt\"] = 0\n",
    "            \n",
    "        hour_time += timedelta(hours=1)\n",
    "    return hr2feature\n",
    "\n",
    "def hasEmoticon(emoji_list, tweet_text):\n",
    "    for emoji in emoji_list:\n",
    "        if emoji in tweet_text:\n",
    "            return True\n",
    "    return False"
   ]
  },
  {
   "cell_type": "code",
   "execution_count": 43,
   "metadata": {},
   "outputs": [
    {
     "name": "stdout",
     "output_type": "stream",
     "text": [
      "Mean squared error: 9316.57\n",
      "P values:  [4.66524600e-01 7.13371471e-01 8.17523013e-07 1.77126782e-05\n",
      " 8.36454435e-06 9.10207353e-81 3.40795634e-01 1.33152057e-73\n",
      " 1.27759863e-07 1.10736365e-01]\n",
      "[(9.102073527182206e-81, 5), (1.3315205667309248e-73, 7), (1.2775986286075584e-07, 8), (8.175230133816726e-07, 2), (8.364544353672544e-06, 4), (1.7712678221146835e-05, 3), (0.11073636496520672, 9), (0.3407956344262053, 6), (0.46652460039975874, 0), (0.7133714710757046, 1)]\n",
      "Top three features\n",
      "feature: sad_emoji_cnt , P value: 9.102073527182206e-81\n",
      "feature: url_cnt , P value: 1.3315205667309248e-73\n",
      "feature: num_tweets , P value: 1.2775986286075584e-07\n",
      "summary:                              OLS Regression Results                            \n",
      "==============================================================================\n",
      "Dep. Variable:                      y   R-squared:                       0.875\n",
      "Model:                            OLS   Adj. R-squared:                  0.873\n",
      "Method:                 Least Squares   F-statistic:                     438.0\n",
      "Date:                Thu, 14 Mar 2019   Prob (F-statistic):          6.55e-248\n",
      "Time:                        21:52:33   Log-Likelihood:                -3437.5\n",
      "No. Observations:                 574   AIC:                             6895.\n",
      "Df Residuals:                     564   BIC:                             6939.\n",
      "Df Model:                           9                                         \n",
      "Covariance Type:            nonrobust                                         \n",
      "==============================================================================\n",
      "                 coef    std err          t      P>|t|      [0.025      0.975]\n",
      "------------------------------------------------------------------------------\n",
      "const         -5.7830      7.937     -0.729      0.467     -21.372       9.806\n",
      "x1            -0.2194      0.597     -0.368      0.713      -1.392       0.953\n",
      "x2            -0.0008      0.000     -4.987      0.000      -0.001      -0.000\n",
      "x3             0.0006      0.000      4.329      0.000       0.000       0.001\n",
      "x4            -0.5978      0.133     -4.497      0.000      -0.859      -0.337\n",
      "x5          -174.4724      7.736    -22.553      0.000    -189.667    -159.277\n",
      "x6           -93.0505     97.599     -0.953      0.341    -284.752      98.651\n",
      "x7             8.0522      0.381     21.162      0.000       7.305       8.800\n",
      "x8             3.0707      0.574      5.350      0.000       1.943       4.198\n",
      "x9            -0.3388      0.212     -1.597      0.111      -0.755       0.078\n",
      "==============================================================================\n",
      "Omnibus:                      271.238   Durbin-Watson:                   2.265\n",
      "Prob(Omnibus):                  0.000   Jarque-Bera (JB):            22500.303\n",
      "Skew:                           1.150   Prob(JB):                         0.00\n",
      "Kurtosis:                      33.586   Cond. No.                     9.22e+06\n",
      "==============================================================================\n",
      "\n",
      "Warnings:\n",
      "[1] Standard Errors assume that the covariance matrix of the errors is correctly specified.\n",
      "[2] The condition number is large, 9.22e+06. This might indicate that there are\n",
      "strong multicollinearity or other numerical problems.\n"
     ]
    }
   ],
   "source": [
    "# Running Question 4\n",
    "parsed_features = featureExtractionCustomized(json_objects)\n",
    "train_labels_pair = convertDictToNumpy(parsed_features, feature_list_updated)\n",
    "trainAndEvaluate(train_labels_pair, feature_list_updated)"
   ]
  },
  {
   "cell_type": "markdown",
   "metadata": {},
   "source": [
    "## Problem 8 Ensemble Method"
   ]
  },
  {
   "cell_type": "code",
   "execution_count": 392,
   "metadata": {
    "collapsed": true
   },
   "outputs": [],
   "source": [
    "parameters = {'max_depth': [10, 20, 40, 60, 80, 100, 200, None], \n",
    " 'max_features': ['auto', 'sqrt'], \n",
    " 'min_samples_leaf': [1, 2, 4], \n",
    " 'min_samples_split': [2, 5, 10], \n",
    " 'n_estimators': [200, 400, 600, 800, 1000, 1200, 1400, 1600, 1800, 2000]}\n",
    "clf = RandomForestRegressor()\n",
    "grid_search = GridSearchCV(clf, param_grid=parameters, cv=KFold(5, shuffle=True), scoring='neg_mean_squared_error')\n",
    "# OLS Top three features and P values\n",
    "x_train = np.squeeze(sm.add_constant(train_labels_pair[\"features\"]))\n",
    "y_train = np.squeeze(train_labels_pair[\"labels\"])"
   ]
  },
  {
   "cell_type": "code",
   "execution_count": null,
   "metadata": {
    "collapsed": true
   },
   "outputs": [],
   "source": [
    "# grid_search.fit(x_train, y_train)"
   ]
  },
  {
   "cell_type": "code",
   "execution_count": null,
   "metadata": {
    "collapsed": true
   },
   "outputs": [],
   "source": []
  }
 ],
 "metadata": {
  "colab": {
   "collapsed_sections": [],
   "name": "EE219Project5.ipynb",
   "provenance": [],
   "version": "0.3.2"
  },
  "kernelspec": {
   "display_name": "Python 3",
   "language": "python",
   "name": "python3"
  },
  "language_info": {
   "codemirror_mode": {
    "name": "ipython",
    "version": 3
   },
   "file_extension": ".py",
   "mimetype": "text/x-python",
   "name": "python",
   "nbconvert_exporter": "python",
   "pygments_lexer": "ipython3",
   "version": "3.6.3"
  }
 },
 "nbformat": 4,
 "nbformat_minor": 1
}
