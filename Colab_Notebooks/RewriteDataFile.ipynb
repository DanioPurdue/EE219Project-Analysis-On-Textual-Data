{
 "cells": [
  {
   "cell_type": "markdown",
   "metadata": {},
   "source": [
    "This program rewrite the data and write back to the disk with the necessary information only"
   ]
  },
  {
   "cell_type": "code",
   "execution_count": 6,
   "metadata": {
    "collapsed": true
   },
   "outputs": [],
   "source": [
    "# Question 1\n",
    "import pandas as pd\n",
    "import numpy as np\n",
    "import json\n",
    "import datetime\n",
    "from datetime import timedelta"
   ]
  },
  {
   "cell_type": "code",
   "execution_count": 7,
   "metadata": {},
   "outputs": [],
   "source": [
    "file_direct = \"ECE219_tweet_data/\"\n",
    "filename = \"tweets_#gopatriots.txt\"\n",
    "dest_file = open(\"updated_\"+filename, \"a\")\n",
    "with open(file_direct + filename, \"r\") as file:\n",
    "    line = file.readline()\n",
    "    while line:\n",
    "        json_object = json.loads(line)\n",
    "        json_lite = dict()\n",
    "        json_lite['followers'] = json_object['author']['followers']\n",
    "        json_lite['total_citations'] = json_object['metrics']['citations']['total']\n",
    "        json_lite['citation_date'] = json_object['citation_date']\n",
    "        json_lite['followers'] = json_object['author']['followers']\n",
    "        json_lite['user_mentioned_cnt'] = len(json_object['tweet']['entities']['user_mentions'])\n",
    "        json_lite['url_cnt'] = len(json_object['tweet']['entities']['urls'])\n",
    "        json_lite['text'] = json_object['tweet']['text']\n",
    "        json.dump(json_lite, dest_file)\n",
    "        dest_file.write('\\n')\n",
    "        line = file.readline()\n",
    "dest_file.close()"
   ]
  },
  {
   "cell_type": "code",
   "execution_count": null,
   "metadata": {
    "collapsed": true
   },
   "outputs": [],
   "source": []
  }
 ],
 "metadata": {
  "kernelspec": {
   "display_name": "Python 3",
   "language": "python",
   "name": "python3"
  },
  "language_info": {
   "codemirror_mode": {
    "name": "ipython",
    "version": 3
   },
   "file_extension": ".py",
   "mimetype": "text/x-python",
   "name": "python",
   "nbconvert_exporter": "python",
   "pygments_lexer": "ipython3",
   "version": "3.6.3"
  }
 },
 "nbformat": 4,
 "nbformat_minor": 2
}
