{
 "cells": [
  {
   "cell_type": "markdown",
   "metadata": {
    "collapsed": true
   },
   "source": [
    "# Libraries"
   ]
  },
  {
   "cell_type": "code",
   "execution_count": 1,
   "metadata": {
    "collapsed": true
   },
   "outputs": [],
   "source": [
    "import numpy as np\n",
    "import random\n",
    "from sklearn.datasets import fetch_20newsgroups #news group data set\n",
    "from matplotlib import pyplot as plt\n",
    "from sklearn.feature_extraction.text import CountVectorizer\n",
    "import nltk\n",
    "from nltk import pos_tag\n",
    "from sklearn.feature_extraction.text import TfidfTransformer\n",
    "from sklearn.decomposition import NMF\n",
    "from sklearn.decomposition import TruncatedSVD\n",
    "from sklearn.svm import LinearSVC\n",
    "from sklearn import svm\n",
    "\n",
    "# Question 4 Library\n",
    "from sklearn.metrics import confusion_matrix\n",
    "from sklearn.metrics import accuracy_score\n",
    "from sklearn.metrics import precision_score\n",
    "from sklearn.metrics import recall_score\n",
    "from sklearn.metrics import roc_curve\n",
    "from sklearn.metrics import auc\n",
    "\n",
    "## Cross validation\n",
    "from sklearn.model_selection import cross_val_score\n",
    "from sklearn.model_selection import ShuffleSplit\n",
    "from sklearn import metrics"
   ]
  },
  {
   "cell_type": "markdown",
   "metadata": {},
   "source": [
    "# Question 1"
   ]
  },
  {
   "cell_type": "markdown",
   "metadata": {},
   "source": [
    "Plot a histogram of the number of training documents for each of the 20 categories to check if they are evenly distributed."
   ]
  },
  {
   "cell_type": "code",
   "execution_count": 2,
   "metadata": {
    "collapsed": true
   },
   "outputs": [],
   "source": [
    "newsgroups_train = fetch_20newsgroups(subset='train')"
   ]
  },
  {
   "cell_type": "code",
   "execution_count": 3,
   "metadata": {},
   "outputs": [
    {
     "data": {
      "image/png": "[encoded data removed]",
      "text/plain": [
       "<matplotlib.figure.Figure at 0x1a08cfef28>"
      ]
     },
     "metadata": {},
     "output_type": "display_data"
    }
   ],
   "source": [
    "type(newsgroups_train.target)\n",
    "news_target = newsgroups_train.target\n",
    "plt.hist(news_target)\n",
    "plt.xlabel('Categories')\n",
    "plt.ylabel('Counts')\n",
    "plt.xticks(list(range(20)))\n",
    "plt.title('Question 1: Number of Documents for each categories')\n",
    "plt.show()"
   ]
  },
  {
   "cell_type": "markdown",
   "metadata": {},
   "source": [
    "# Question 2"
   ]
  },
  {
   "cell_type": "markdown",
   "metadata": {},
   "source": [
    "Use the following specs to extract features from the textual data:\n",
    "• Use the “english” stopwords of the CountVectorizer\n",
    "• Exclude terms that are numbers (e.g. “123”, “-45”, “6.7” etc.)\n",
    "• Perform lemmatization with nltk.wordnet.WordNetLemmatizer and pos_tag\n",
    "• Use min_df=3\n",
    "Report the shape of the TF-IDF matrices of the train and test subsets respectively."
   ]
  },
  {
   "cell_type": "code",
   "execution_count": 4,
   "metadata": {
    "collapsed": true
   },
   "outputs": [],
   "source": [
    "np.random.seed(42);\n",
    "random.seed(42); # do I set the random here\n",
    "categories = ['comp.graphics', \n",
    "              'comp.os.ms-windows.misc',\n",
    "              'comp.sys.ibm.pc.hardware', \n",
    "              'comp.sys.mac.hardware', \n",
    "              'rec.autos', \n",
    "              'rec.motorcycles', \n",
    "              'rec.sport.baseball', \n",
    "              'rec.sport.hockey']\n",
    "\n",
    "train_dataset = fetch_20newsgroups(subset='train', categories=categories, shuffle=True, random_state=None)\n",
    "test_dataset = fetch_20newsgroups(subset='test', categories=categories, shuffle=True, random_state=None)"
   ]
  },
  {
   "cell_type": "code",
   "execution_count": 5,
   "metadata": {
    "collapsed": true
   },
   "outputs": [],
   "source": [
    "# Customize analyzer\n",
    "analyzer = CountVectorizer().build_analyzer();\n",
    "# Lemmatizer\n",
    "wnl = nltk.wordnet.WordNetLemmatizer()\n",
    "\n",
    "def penn2morphy(penntag):\n",
    "    \"\"\" Converts Penn Treebank tags to WordNet. \"\"\"\n",
    "    morphy_tag = {'NN':'n', 'JJ':'a',\n",
    "                  'VB':'v', 'RB':'r'}\n",
    "    try:\n",
    "        return morphy_tag[penntag[:2]]\n",
    "    except:\n",
    "        return 'n'\n",
    "    \n",
    "def lemmatize_sent(list_word):\n",
    "    return [wnl.lemmatize(word.lower(), pos=penn2morphy(tag)) for word, tag, in pos_tag(list_word)]\n",
    "\n",
    "def stem_rmv_punc(doc):\n",
    "    return (word for word in lemmatize_sent(analyzer(doc)) if not word.isdigit())\n",
    "count_vect = CountVectorizer(stop_words='english', min_df=3, analyzer=stem_rmv_punc)"
   ]
  },
  {
   "cell_type": "markdown",
   "metadata": {},
   "source": [
    "### Training Part"
   ]
  },
  {
   "cell_type": "code",
   "execution_count": 6,
   "metadata": {},
   "outputs": [
    {
     "data": {
      "text/plain": [
       "(4732, 16600)"
      ]
     },
     "execution_count": 6,
     "metadata": {},
     "output_type": "execute_result"
    }
   ],
   "source": [
    "tfidf_transformer = TfidfTransformer()\n",
    "X_train_counts = count_vect.fit_transform(train_dataset.data)\n",
    "X_train_tf_idf = tfidf_transformer.fit_transform(X_train_counts)\n",
    "X_train_tf_idf.shape"
   ]
  },
  {
   "cell_type": "markdown",
   "metadata": {},
   "source": [
    "### Testing Part"
   ]
  },
  {
   "cell_type": "code",
   "execution_count": 7,
   "metadata": {},
   "outputs": [
    {
     "data": {
      "text/plain": [
       "(3150, 16600)"
      ]
     },
     "execution_count": 7,
     "metadata": {},
     "output_type": "execute_result"
    }
   ],
   "source": [
    "X_test_counts = count_vect.transform(test_dataset.data)\n",
    "X_test_tf_idf = tfidf_transformer.transform(X_test_counts)\n",
    "X_test_tf_idf.shape"
   ]
  },
  {
   "cell_type": "markdown",
   "metadata": {},
   "source": [
    "# Question 3"
   ]
  },
  {
   "cell_type": "markdown",
   "metadata": {},
   "source": [
    "Reduce the dimensionality of the data using the methods above\n",
    "\n",
    "• Apply LSI to the TF-IDF matrix corresponding to the 8 categories with k = 50; so each document is mapped to a 50-dimensional vector.\n",
    "\n",
    "• Also reduce dimensionality through NMF (k = 50) and compare with LSI:\n",
    "Which one is larger, the ∥X − WH∥ F 2 in NMF or the X − U k Σ k V T k F in LSI? Why is the case?"
   ]
  },
  {
   "cell_type": "code",
   "execution_count": 8,
   "metadata": {},
   "outputs": [
    {
     "name": "stdout",
     "output_type": "stream",
     "text": [
      "NMF train shape:  (4732, 50)\n",
      "NMF test shape:  (3150, 50)\n"
     ]
    }
   ],
   "source": [
    "# NMF\n",
    "## Train\n",
    "model = NMF(n_components=50, init='random', random_state=0)\n",
    "NMF_train_reduced = model.fit_transform(X_train_tf_idf)\n",
    "## Test\n",
    "NMF_test_reduced = model.transform(X_test_tf_idf)\n",
    "print(\"NMF train shape: \", NMF_train_reduced.shape)\n",
    "print(\"NMF test shape: \", NMF_test_reduced.shape)"
   ]
  },
  {
   "cell_type": "code",
   "execution_count": 9,
   "metadata": {
    "collapsed": true
   },
   "outputs": [],
   "source": [
    "H_train = model.components_\n",
    "NMF_train_val = np.sum(np.array(X_train_tf_idf - NMF_train_reduced.dot(H_train))**2)\n",
    "NMF_test_val = np.sum(np.array(X_test_tf_idf - NMF_test_reduced.dot(H_train))**2)"
   ]
  },
  {
   "cell_type": "code",
   "execution_count": 10,
   "metadata": {},
   "outputs": [
    {
     "name": "stdout",
     "output_type": "stream",
     "text": [
      "||X-WH||^2_F Train:  3940.5577667857324\n",
      "||X-WH||^2_F Test:  2691.949309920702\n"
     ]
    }
   ],
   "source": [
    "print(\"||X-WH||^2_F Train: \", NMF_train_val)\n",
    "print(\"||X-WH||^2_F Test: \", NMF_test_val)"
   ]
  },
  {
   "cell_type": "code",
   "execution_count": 11,
   "metadata": {},
   "outputs": [
    {
     "name": "stdout",
     "output_type": "stream",
     "text": [
      "LSI train shape:  (4732, 50)\n",
      "LSI test shape:  (3150, 50)\n"
     ]
    }
   ],
   "source": [
    "# LSI\n",
    "## Train\n",
    "svd = TruncatedSVD(n_components=50, random_state=0)\n",
    "LSI_train_reduced = svd.fit_transform(X_train_tf_idf)\n",
    "## Test\n",
    "LSI_test_reduced = svd.transform(X_test_tf_idf)\n",
    "print(\"LSI train shape: \", LSI_train_reduced.shape)\n",
    "print(\"LSI test shape: \", LSI_test_reduced.shape)"
   ]
  },
  {
   "cell_type": "code",
   "execution_count": 12,
   "metadata": {
    "collapsed": true
   },
   "outputs": [],
   "source": [
    "H = svd.components_\n",
    "## Train\n",
    "LSI_train_val = np.sum(np.array(X_train_tf_idf - LSI_train_reduced.dot(H))**2)\n",
    "## Test\n",
    "LSI_test_val = np.sum(np.array(X_test_tf_idf - LSI_test_reduced.dot(H))**2)"
   ]
  },
  {
   "cell_type": "code",
   "execution_count": 13,
   "metadata": {},
   "outputs": [
    {
     "name": "stdout",
     "output_type": "stream",
     "text": [
      "||X - USigmaV^T||^2_F Train 3895.601668902094\n",
      "||X - USigmaV^T||^2_F Test 2676.5911826488655\n"
     ]
    }
   ],
   "source": [
    "print(\"||X - USigmaV^T||^2_F Train\", LSI_train_val)\n",
    "print(\"||X - USigmaV^T||^2_F Test\", LSI_test_val)"
   ]
  },
  {
   "cell_type": "markdown",
   "metadata": {
    "collapsed": true
   },
   "source": [
    "# Question 4"
   ]
  },
  {
   "cell_type": "code",
   "execution_count": 14,
   "metadata": {
    "collapsed": true
   },
   "outputs": [],
   "source": [
    "def mergeToBinary(multiClassArray):\n",
    "    res = np.copy(multiClassArray)\n",
    "    for i in range(len(multiClassArray)):\n",
    "        if multiClassArray[i] <= 3:\n",
    "            res[i] = 0\n",
    "        else:\n",
    "            res[i] = 1\n",
    "    return res"
   ]
  },
  {
   "cell_type": "code",
   "execution_count": 15,
   "metadata": {
    "collapsed": true
   },
   "outputs": [],
   "source": [
    "train_labels = mergeToBinary(train_dataset.target)\n",
    "test_labels = mergeToBinary(test_dataset.target)"
   ]
  },
  {
   "cell_type": "code",
   "execution_count": 16,
   "metadata": {
    "collapsed": true
   },
   "outputs": [],
   "source": [
    "%matplotlib inline\n",
    "def plot_roc(fpr, tpr):\n",
    "    fig, ax = plt.subplots()\n",
    "\n",
    "    roc_auc = auc(fpr,tpr)\n",
    "\n",
    "    ax.plot(fpr, tpr, lw=2, label= 'area under curve = %0.4f' % roc_auc)\n",
    "\n",
    "    ax.grid(color='0.7', linestyle='--', linewidth=1)\n",
    "\n",
    "    ax.set_xlim([-0.1, 1.1])\n",
    "    ax.set_ylim([0.0, 1.05])\n",
    "    ax.set_xlabel('False Positive Rate',fontsize=15)\n",
    "    ax.set_ylabel('True Positive Rate',fontsize=15)\n",
    "\n",
    "    ax.legend(loc=\"lower right\")\n",
    "\n",
    "    for label in ax.get_xticklabels()+ax.get_yticklabels():\n",
    "        label.set_fontsize(15)\n",
    "\n",
    "def fit_predict_and_plot_roc(pipe, train_data, train_label, test_data, test_label):\n",
    "    pipe.fit(train_data, train_label)\n",
    "    # pipeline1.predict(twenty_test.data)\n",
    "\n",
    "    if hasattr(pipe, 'decision_function'):\n",
    "        prob_score = pipe.decision_function(test_data)\n",
    "        fpr, tpr, _ = roc_curve(test_label, prob_score)\n",
    "    else:\n",
    "        prob_score = pipe.predict_proba(test_data)\n",
    "        fpr, tpr, _ = roc_curve(test_label, prob_score[:,1])\n",
    "\n",
    "    plot_roc(fpr, tpr)\n",
    "#     return pipe\n",
    "\n",
    "def confusionMatrixAndMetrics(ground_truth, predicts):\n",
    "    conf_matrix = confusion_matrix(ground_truth, predicts)\n",
    "    preci = precision_score(ground_truth, predicts)\n",
    "    recall = recall_score(ground_truth, predicts)\n",
    "    F1 = 2 / (1/recall + 1/preci)\n",
    "    print(\"precision: \", preci)\n",
    "    print(\"recall: \", recall)\n",
    "    print(\"F1 score: \", F1)\n",
    "    print (\"confusion matrix: \\n\", conf_matrix)"
   ]
  },
  {
   "cell_type": "code",
   "execution_count": 17,
   "metadata": {},
   "outputs": [
    {
     "name": "stdout",
     "output_type": "stream",
     "text": [
      "precision:  0.9358669833729216\n",
      "recall:  0.9911949685534591\n",
      "F1 score:  0.9627367135003053\n",
      "confusion matrix: \n",
      " [[1452  108]\n",
      " [  14 1576]]\n"
     ]
    },
    {
     "data": {
      "image/png": "[encoded data removed]",
      "text/plain": [
       "<matplotlib.figure.Figure at 0x1a19bb4198>"
      ]
     },
     "metadata": {},
     "output_type": "display_data"
    }
   ],
   "source": [
    "hard_model = LinearSVC(loss='hinge', C=1000)\n",
    "fit_predict_and_plot_roc(hard_model, LSI_train_reduced , train_labels, LSI_test_reduced, test_labels)\n",
    "predicts = hard_model.fit(LSI_train_reduced, train_labels).predict(LSI_test_reduced)\n",
    "confusionMatrixAndMetrics(test_labels, predicts)"
   ]
  },
  {
   "cell_type": "code",
   "execution_count": 18,
   "metadata": {},
   "outputs": [
    {
     "name": "stdout",
     "output_type": "stream",
     "text": [
      "precision:  0.5050825921219823\n",
      "recall:  1.0\n",
      "F1 score:  0.671169269734065\n",
      "confusion matrix: \n",
      " [[   2 1558]\n",
      " [   0 1590]]\n"
     ]
    },
    {
     "data": {
      "image/png": "[encoded data removed]",
      "text/plain": [
       "<matplotlib.figure.Figure at 0x1a19733080>"
      ]
     },
     "metadata": {},
     "output_type": "display_data"
    }
   ],
   "source": [
    "soft_model = LinearSVC(loss='hinge', C=0.0001)\n",
    "fit_predict_and_plot_roc(soft_model, LSI_train_reduced , train_labels, LSI_test_reduced, test_labels)\n",
    "predicts = soft_model.fit(LSI_train_reduced, train_labels).predict(LSI_test_reduced)\n",
    "confusionMatrixAndMetrics(test_labels, predicts)"
   ]
  },
  {
   "cell_type": "markdown",
   "metadata": {},
   "source": [
    "## Cross Validation"
   ]
  },
  {
   "cell_type": "code",
   "execution_count": 19,
   "metadata": {},
   "outputs": [
    {
     "name": "stdout",
     "output_type": "stream",
     "text": [
      "C:  0.001  score:  0.6325352112676057\n",
      "C:  0.01  score:  0.6328169014084507\n",
      "C:  0.1  score:  0.9643661971830987\n",
      "C:  1  score:  0.9738028169014085\n",
      "C:  10  score:  0.9759154929577466\n",
      "C:  100  score:  0.975774647887324\n",
      "C:  1000  score:  0.9749295774647887\n",
      "Best C:  1000\n",
      "precision:  0.9548229548229549\n",
      "recall:  0.9836477987421384\n",
      "F1 score:  0.969021065675341\n",
      "confusion matrix: \n",
      " [[1486   74]\n",
      " [  26 1564]]\n"
     ]
    },
    {
     "data": {
      "image/png": "[encoded data removed]",
      "text/plain": [
       "<matplotlib.figure.Figure at 0x1a0db1a860>"
      ]
     },
     "metadata": {},
     "output_type": "display_data"
    }
   ],
   "source": [
    "cv = ShuffleSplit(n_splits=5, random_state=0, test_size=0.3)\n",
    "best_score = -1\n",
    "best_i = -1;\n",
    "for i in [-3, -2, -1, 0, 1, 2, 3]:\n",
    "    clf = LinearSVC(loss='hinge', C=10**i)\n",
    "    scores = cross_val_score(clf, LSI_train_reduced, train_labels, cv=cv, scoring='accuracy')\n",
    "    print(\"C: \", 10**i, \" score: \", np.mean(scores))\n",
    "    if np.mean(scores) > best_score:\n",
    "        best_score = np.mean(scores)\n",
    "        best_i = i\n",
    "best_c = 10**i\n",
    "print(\"Best C: \", best_c)\n",
    "\n",
    "cv_model = LinearSVC(loss='hinge', C=best_c)\n",
    "fit_predict_and_plot_roc(cv_model, LSI_train_reduced , train_labels, LSI_test_reduced, test_labels)\n",
    "predicts = cv_model.fit(LSI_train_reduced, train_labels).predict(LSI_test_reduced)\n",
    "confusionMatrixAndMetrics(test_labels, predicts)"
   ]
  }
 ],
 "metadata": {
  "kernelspec": {
   "display_name": "Python 3",
   "language": "python",
   "name": "python3"
  },
  "language_info": {
   "codemirror_mode": {
    "name": "ipython",
    "version": 3
   },
   "file_extension": ".py",
   "mimetype": "text/x-python",
   "name": "python",
   "nbconvert_exporter": "python",
   "pygments_lexer": "ipython3",
   "version": "3.6.3"
  }
 },
 "nbformat": 4,
 "nbformat_minor": 2
}
