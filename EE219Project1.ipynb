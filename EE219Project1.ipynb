{
 "cells": [
  {
   "cell_type": "markdown",
   "metadata": {
    "collapsed": true
   },
   "source": [
    "# Libraries"
   ]
  },
  {
   "cell_type": "code",
   "execution_count": 1,
   "metadata": {
    "collapsed": true
   },
   "outputs": [],
   "source": [
    "import numpy as np\n",
    "import random\n",
    "from sklearn.datasets import fetch_20newsgroups #news group data set\n",
    "from matplotlib import pyplot as plt\n",
    "from sklearn.feature_extraction.text import CountVectorizer\n",
    "import nltk\n",
    "from nltk import pos_tag\n",
    "from sklearn.feature_extraction.text import TfidfTransformer\n",
    "from sklearn.decomposition import NMF\n",
    "from sklearn.decomposition import TruncatedSVD\n",
    "from sklearn.svm import LinearSVC"
   ]
  },
  {
   "cell_type": "markdown",
   "metadata": {},
   "source": [
    "# Question 1"
   ]
  },
  {
   "cell_type": "markdown",
   "metadata": {},
   "source": [
    "Plot a histogram of the number of training documents for each of the 20 categories to check if they are evenly distributed."
   ]
  },
  {
   "cell_type": "code",
   "execution_count": 2,
   "metadata": {
    "collapsed": true
   },
   "outputs": [],
   "source": [
    "newsgroups_train = fetch_20newsgroups(subset='train')"
   ]
  },
  {
   "cell_type": "code",
   "execution_count": 3,
   "metadata": {},
   "outputs": [
    {
     "data": {
      "image/png": "[encoded data removed]",
      "text/plain": [
       "<matplotlib.figure.Figure at 0x1a0a337eb8>"
      ]
     },
     "metadata": {},
     "output_type": "display_data"
    }
   ],
   "source": [
    "type(newsgroups_train.target)\n",
    "news_target = newsgroups_train.target\n",
    "plt.hist(news_target)\n",
    "plt.xlabel('Categories')\n",
    "plt.ylabel('Counts')\n",
    "plt.xticks(list(range(20)))\n",
    "plt.title('Question 1: Number of Documents for each categories')\n",
    "plt.show()"
   ]
  },
  {
   "cell_type": "markdown",
   "metadata": {},
   "source": [
    "# Question 2"
   ]
  },
  {
   "cell_type": "markdown",
   "metadata": {},
   "source": [
    "Use the following specs to extract features from the textual data:\n",
    "• Use the “english” stopwords of the CountVectorizer\n",
    "• Exclude terms that are numbers (e.g. “123”, “-45”, “6.7” etc.)\n",
    "• Perform lemmatization with nltk.wordnet.WordNetLemmatizer and pos_tag\n",
    "• Use min_df=3\n",
    "Report the shape of the TF-IDF matrices of the train and test subsets respectively."
   ]
  },
  {
   "cell_type": "code",
   "execution_count": 5,
   "metadata": {
    "collapsed": true
   },
   "outputs": [],
   "source": [
    "np.random.seed(42);\n",
    "random.seed(42); # do I set the random here\n",
    "categories = ['comp.graphics', \n",
    "              'comp.os.ms-windows.misc',\n",
    "              'comp.sys.ibm.pc.hardware', \n",
    "              'comp.sys.mac.hardware', \n",
    "              'rec.autos', \n",
    "              'rec.motorcycles', \n",
    "              'rec.sport.baseball', \n",
    "              'rec.sport.hockey']\n",
    "\n",
    "train_dataset = fetch_20newsgroups(subset='train', categories=categories, shuffle=True, random_state=None)\n",
    "test_dataset = fetch_20newsgroups(subset='test', categories=categories, shuffle=True, random_state=None)"
   ]
  },
  {
   "cell_type": "code",
   "execution_count": 6,
   "metadata": {
    "collapsed": true
   },
   "outputs": [],
   "source": [
    "# Customize analyzer\n",
    "analyzer = CountVectorizer().build_analyzer();\n",
    "# Lemmatizer\n",
    "wnl = nltk.wordnet.WordNetLemmatizer()\n",
    "\n",
    "def lemmatize_sent(list_word):\n",
    "    return [wnl.lemmatize(word.lower()) for word, tag, in pos_tag(list_word)]\n",
    "\n",
    "def stem_rmv_punc(doc):\n",
    "    return (word for word in lemmatize_sent(analyzer(doc)) if not word.isdigit())\n",
    "\n",
    "count_vect = CountVectorizer(stop_words='english', min_df=3, analyzer=stem_rmv_punc)"
   ]
  },
  {
   "cell_type": "markdown",
   "metadata": {},
   "source": [
    "### Training Part"
   ]
  },
  {
   "cell_type": "code",
   "execution_count": 7,
   "metadata": {},
   "outputs": [
    {
     "data": {
      "text/plain": [
       "(4732, 17602)"
      ]
     },
     "execution_count": 7,
     "metadata": {},
     "output_type": "execute_result"
    }
   ],
   "source": [
    "tfidf_transformer = TfidfTransformer()\n",
    "X_train_counts = count_vect.fit_transform(train_dataset.data)\n",
    "X_train_tf_idf = tfidf_transformer.fit_transform(X_train_counts)\n",
    "X_train_tf_idf.shape"
   ]
  },
  {
   "cell_type": "markdown",
   "metadata": {},
   "source": [
    "### Testing Part"
   ]
  },
  {
   "cell_type": "code",
   "execution_count": 9,
   "metadata": {},
   "outputs": [
    {
     "data": {
      "text/plain": [
       "(3150, 12399)"
      ]
     },
     "execution_count": 9,
     "metadata": {},
     "output_type": "execute_result"
    }
   ],
   "source": [
    "X_test_counts = count_vect.fit_transform(test_dataset.data)\n",
    "X_test_tf_idf = tfidf_transformer.fit_transform(X_test_counts)\n",
    "X_test_tf_idf.shape"
   ]
  },
  {
   "cell_type": "markdown",
   "metadata": {},
   "source": [
    "# Question 3"
   ]
  },
  {
   "cell_type": "markdown",
   "metadata": {},
   "source": [
    "Reduce the dimensionality of the data using the methods above\n",
    "\n",
    "• Apply LSI to the TF-IDF matrix corresponding to the 8 categories with k = 50; so each document is mapped to a 50-dimensional vector.\n",
    "\n",
    "• Also reduce dimensionality through NMF (k = 50) and compare with LSI:\n",
    "Which one is larger, the ∥X − WH∥ F 2 in NMF or the X − U k Σ k V T k F in LSI? Why is the case?"
   ]
  },
  {
   "cell_type": "code",
   "execution_count": 15,
   "metadata": {
    "collapsed": true
   },
   "outputs": [],
   "source": [
    "# NMF\n",
    "## Train\n",
    "model_train = NMF(n_components=50, init='random', random_state=0)\n",
    "NMF_train_reduced = model_train.fit_transform(X_train_tf_idf)\n",
    "## Test\n",
    "model_test = NMF(n_components=50, init='random', random_state=0)\n",
    "NMF_test_reduced = model_test.fit_transform(X_test_tf_idf)"
   ]
  },
  {
   "cell_type": "code",
   "execution_count": 17,
   "metadata": {
    "collapsed": true
   },
   "outputs": [],
   "source": [
    "H_train = model_train.components_\n",
    "H_test = model_test.components_\n",
    "NMF_train_val = np.sum(np.array(X_train_tf_idf - NMF_train_reduced.dot(H_train))**2)\n",
    "NMF_test_val = np.sum(np.array(X_test_tf_idf - NMF_test_reduced.dot(H_test))**2)"
   ]
  },
  {
   "cell_type": "code",
   "execution_count": 18,
   "metadata": {},
   "outputs": [
    {
     "name": "stdout",
     "output_type": "stream",
     "text": [
      "||X-WH||^2_F Train:  3975.5593809415495\n",
      "||X-WH||^2_F Test:  2588.077054957411\n"
     ]
    }
   ],
   "source": [
    "print(\"||X-WH||^2_F Train: \", NMF_train_val)\n",
    "print(\"||X-WH||^2_F Test: \", NMF_test_val)"
   ]
  },
  {
   "cell_type": "code",
   "execution_count": 20,
   "metadata": {
    "collapsed": true
   },
   "outputs": [],
   "source": [
    "# LSI\n",
    "## Train\n",
    "svd_train = TruncatedSVD(n_components=50, random_state=0)\n",
    "LSI_train_reduced = svd_train.fit_transform(X_train_tf_idf)\n",
    "## Test\n",
    "svd_test = TruncatedSVD(n_components=50, random_state=0)\n",
    "LSI_test_reduced = svd_test.fit_transform(X_test_tf_idf)"
   ]
  },
  {
   "cell_type": "code",
   "execution_count": 21,
   "metadata": {
    "collapsed": true
   },
   "outputs": [],
   "source": [
    "H_train = svd_train.components_\n",
    "H_test = svd_test.components_\n",
    "## Train\n",
    "LSI_train_val = np.sum(np.array(X_train_tf_idf - LSI_train_reduced.dot(H_train))**2)\n",
    "## Test\n",
    "LSI_test_val = np.sum(np.array(X_test_tf_idf - LSI_test_reduced.dot(H_test))**2)"
   ]
  },
  {
   "cell_type": "code",
   "execution_count": 22,
   "metadata": {},
   "outputs": [
    {
     "name": "stdout",
     "output_type": "stream",
     "text": [
      "||X - USigmaV^T||^2_F Train 3931.944773503225\n",
      "||X - USigmaV^T||^2_F Test 2553.5130603589096\n"
     ]
    }
   ],
   "source": [
    "print(\"||X - USigmaV^T||^2_F Train\", LSI_train_val)\n",
    "print(\"||X - USigmaV^T||^2_F Test\", LSI_test_val)"
   ]
  },
  {
   "cell_type": "markdown",
   "metadata": {
    "collapsed": true
   },
   "source": [
    "# Question 4"
   ]
  },
  {
   "cell_type": "code",
   "execution_count": 27,
   "metadata": {},
   "outputs": [
    {
     "data": {
      "text/plain": [
       "array([3, 7, 2, ..., 0, 1, 6])"
      ]
     },
     "execution_count": 27,
     "metadata": {},
     "output_type": "execute_result"
    }
   ],
   "source": [
    "svc_model = LinearSVC().fit(NMF_train_reduced, train_dataset.target)\n",
    "pred_res = svc_model.predict(NMF_test_reduced)\n",
    "pre"
   ]
  },
  {
   "cell_type": "code",
   "execution_count": 36,
   "metadata": {},
   "outputs": [
    {
     "data": {
      "text/plain": [
       "0.14761904761904762"
      ]
     },
     "execution_count": 36,
     "metadata": {},
     "output_type": "execute_result"
    }
   ],
   "source": [
    "right_cnt = 0\n",
    "for i in range(len(pred_res)):\n",
    "    if pred_res[i] == test_dataset.target[i]:\n",
    "        right_cnt += 1\n",
    "acura = right_cnt * 1.0 / len(pred_res)\n",
    "acura"
   ]
  },
  {
   "cell_type": "code",
   "execution_count": 33,
   "metadata": {},
   "outputs": [
    {
     "data": {
      "text/plain": [
       "3150"
      ]
     },
     "execution_count": 33,
     "metadata": {},
     "output_type": "execute_result"
    }
   ],
   "source": [
    "len(pred_res)"
   ]
  },
  {
   "cell_type": "code",
   "execution_count": null,
   "metadata": {
    "collapsed": true
   },
   "outputs": [],
   "source": []
  }
 ],
 "metadata": {
  "kernelspec": {
   "display_name": "Python 3",
   "language": "python",
   "name": "python3"
  },
  "language_info": {
   "codemirror_mode": {
    "name": "ipython",
    "version": 3
   },
   "file_extension": ".py",
   "mimetype": "text/x-python",
   "name": "python",
   "nbconvert_exporter": "python",
   "pygments_lexer": "ipython3",
   "version": "3.6.3"
  }
 },
 "nbformat": 4,
 "nbformat_minor": 2
}
