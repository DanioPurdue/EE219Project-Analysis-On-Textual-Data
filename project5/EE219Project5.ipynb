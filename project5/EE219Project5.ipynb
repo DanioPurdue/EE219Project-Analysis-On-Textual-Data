{
 "cells": [
  {
   "cell_type": "markdown",
   "metadata": {},
   "source": [
    "# Project 5 : Application - Twitter Data"
   ]
  },
  {
   "cell_type": "markdown",
   "metadata": {},
   "source": [
    "## Quesion 1"
   ]
  },
  {
   "cell_type": "code",
   "execution_count": 61,
   "metadata": {},
   "outputs": [],
   "source": [
    "# Question 1\n",
    "import pandas as pd\n",
    "import numpy as np\n",
    "import json\n",
    "import datetime\n",
    "from datetime import timedelta\n",
    "import matplotlib.pyplot as plt\n",
    "import pytz\n",
    "import random\n",
    "import pickle\n",
    "\n",
    "# Question 3\n",
    "from sklearn import linear_model\n",
    "from sklearn.model_selection import train_test_split\n",
    "from sklearn.metrics import mean_squared_error, r2_score\n",
    "from statsmodels.regression.linear_model import OLS\n",
    "\n",
    "random.seed(42)"
   ]
  },
  {
   "cell_type": "code",
   "execution_count": 62,
   "metadata": {},
   "outputs": [],
   "source": [
    "file_direct = \"ECE219_tweet_data/\"\n",
    "\n",
    "def readFromText(file_direct, file_name):\n",
    "    json_objects = list()\n",
    "    with open(file_direct + \"tweets_#\" + str(file_name) + \".txt\", \"r\") as file:\n",
    "        line = file.readline()\n",
    "        while line:\n",
    "            json_objects.append(json.loads(line))\n",
    "            line = file.readline()\n",
    "    return json_objects"
   ]
  },
  {
   "cell_type": "code",
   "execution_count": 63,
   "metadata": {},
   "outputs": [],
   "source": [
    "json_gopatriots = readFromText(file_direct, \"gopatriots\")\n",
    "# json_gohawks = readFromText(file_direct, \"gohawks\")\n",
    "# json_nfl = readFromText(file_direct, \"nfl\")\n",
    "# json_patriots = readFromText(file_direct, \"patriots\")\n",
    "# json_sb49 = readFromText(file_direct, \"sb49\")\n",
    "# json_superbowl = readFromText(file_direct, \"superbowl\")\n",
    "\n"
   ]
  },
  {
   "cell_type": "code",
   "execution_count": 64,
   "metadata": {},
   "outputs": [],
   "source": [
    "def creationTimeParser(unix_time, time_zone = pytz.timezone('America/Los_Angeles')):\n",
    "    date_object = datetime.datetime.fromtimestamp(unix_time, time_zone)\n",
    "    date_object = date_object.replace(minute=0, second=0, microsecond=0)\n",
    "#     res_val = (date_object.month-1)*31*24+(date_object.day-1)*24+date_object.hour\n",
    "    return date_object"
   ]
  },
  {
   "cell_type": "code",
   "execution_count": 65,
   "metadata": {},
   "outputs": [],
   "source": [
    "def getStat(json_objects):\n",
    "    hr2cnt = dict()\n",
    "    # Description:\n",
    "    # Get the the number of tweets, also features forom the tweet\n",
    "    list_cnt = 0\n",
    "    total_followers = 0\n",
    "    total_tweets = 0\n",
    "    time_zone = pytz.timezone('America/Los_Angeles')\n",
    "    for i in range(len(json_objects)):\n",
    "    # parse the avg tweet per hour\n",
    "        parsed_time = creationTimeParser(json_objects[i]['citation_date'],  time_zone)\n",
    "        if parsed_time in hr2cnt:\n",
    "          hr2cnt[parsed_time] += 1\n",
    "        else:\n",
    "          hr2cnt[parsed_time] = 1\n",
    "        total_followers += json_objects[i]['author']['followers']\n",
    "        total_tweets += json_objects[i]['metrics']['citations']['total']\n",
    "    hr_np = np.fromiter(hr2cnt.values(), dtype=np.int).reshape((len(hr2cnt),1))\n",
    "    min_time = min(hr2cnt.keys())\n",
    "    max_time = max(hr2cnt.keys())\n",
    "    diff_time = max_time - min_time + timedelta(hours=1)\n",
    "    avg_tweets = hr_np.sum() / (diff_time.total_seconds()/3600)\n",
    "    result = {'avg tweets per hour' : avg_tweets, \n",
    "          'avg followers per tweet' : total_followers / len(json_objects),\n",
    "          'avg retweets per tweet' : total_tweets / len(json_objects)}\n",
    "    print (result)\n",
    "    return result, hr2cnt"
   ]
  },
  {
   "cell_type": "code",
   "execution_count": 66,
   "metadata": {},
   "outputs": [
    {
     "name": "stdout",
     "output_type": "stream",
     "text": [
      "{'avg tweets per hour': 40.888695652173915, 'avg followers per tweet': 1427.2526051635405, 'avg retweets per tweet': 1.4081919101697078}\n"
     ]
    }
   ],
   "source": [
    "stat_gopatriots, _ = getStat(json_gopatriots)"
   ]
  },
  {
   "cell_type": "markdown",
   "metadata": {},
   "source": [
    "## Question 2"
   ]
  },
  {
   "cell_type": "code",
   "execution_count": 67,
   "metadata": {},
   "outputs": [],
   "source": [
    "#need to load nfl and superbowl data\n",
    "\n",
    "def getTweetCount(json_objects):\n",
    "    stat, hr2cnt = getStat(json_objects)\n",
    "    return hr2cnt\n",
    "    \n",
    "def getSortedKeys(hr2cnt):\n",
    "    keylist = sorted(hr2cnt.keys())\n",
    "    return keylist\n",
    "\n",
    "# TODO: change the x ticks to display properly\n",
    "def generatePlot(hr2cnt, tag_name):\n",
    "    sorted_time = getSortedKeys(hr2cnt)\n",
    "    sorted_vals = [hr2cnt[x] for x in sorted_time]\n",
    "    plt.plot(sorted_time, sorted_vals)\n",
    "    print(\"sorted_vals: \", len(sorted_vals))\n",
    "    plt.xlabel('time')\n",
    "    plt.ylabel('num of posts')\n",
    "    plt.title(\"Tag Name: \" + tag_name)\n",
    "    plt.show()\n",
    "\n",
    "def Question2(json_objects, tag_name):\n",
    "    hr2cnt = getTweetCount(json_objects)\n",
    "    keylist = getSortedKeys(hr2cnt)\n",
    "    generatePlot(hr2cnt, tag_name)"
   ]
  },
  {
   "cell_type": "code",
   "execution_count": 68,
   "metadata": {},
   "outputs": [
    {
     "name": "stdout",
     "output_type": "stream",
     "text": [
      "{'avg tweets per hour': 40.888695652173915, 'avg followers per tweet': 1427.2526051635405, 'avg retweets per tweet': 1.4081919101697078}\n",
      "sorted_vals:  441\n"
     ]
    },
    {
     "data": {
      "image/png": "[encoded data removed]",
      "text/plain": [
       "<Figure size 432x288 with 1 Axes>"
      ]
     },
     "metadata": {
      "needs_background": "light"
     },
     "output_type": "display_data"
    }
   ],
   "source": [
    "Question2(json_gopatriots, \"goPatriots\")"
   ]
  },
  {
   "cell_type": "markdown",
   "metadata": {},
   "source": [
    "## Question 3"
   ]
  },
  {
   "cell_type": "code",
   "execution_count": 69,
   "metadata": {},
   "outputs": [],
   "source": [
    "def featureExtraction(json_objects):\n",
    "    hr2feature = dict()\n",
    "    for i in range(len(json_objects)):\n",
    "        parsed_time = creationTimeParser(json_objects[i]['citation_date'])\n",
    "        if parsed_time in hr2feature:\n",
    "            hr2feature[parsed_time][\"num_tweets\"] += 1\n",
    "            hr2feature[parsed_time][\"num_retweets\"] += json_objects[i]['metrics']['citations']['total']\n",
    "            hr2feature[parsed_time][\"num_followers\"] += json_objects[i]['author']['followers']\n",
    "            hr2feature[parsed_time][\"max_followers\"] = max(hr2feature[parsed_time][\"max_followers\"], json_objects[i]['author']['followers'])\n",
    "        else:\n",
    "            hr2feature[parsed_time] = dict()\n",
    "            hr2feature[parsed_time][\"hr_of_day\"] = parsed_time.hour\n",
    "            hr2feature[parsed_time][\"num_tweets\"] = 1\n",
    "            hr2feature[parsed_time][\"num_retweets\"] = json_objects[i]['metrics']['citations']['total']\n",
    "            hr2feature[parsed_time][\"num_followers\"] = json_objects[i]['author']['followers']\n",
    "            hr2feature[parsed_time][\"max_followers\"] = json_objects[i]['author']['followers']\n",
    "    min_time = min(hr2feature.keys())\n",
    "    max_time = max(hr2feature.keys())\n",
    "    hour_time = min_time + timedelta(hours=1)\n",
    "    while hour_time < max_time:\n",
    "        if hour_time not in hr2feature:\n",
    "            hr2feature[hour_time] = dict()\n",
    "            hr2feature[hour_time][\"hr_of_day\"] = hour_time.hour\n",
    "            hr2feature[hour_time][\"num_tweets\"] = 0\n",
    "            hr2feature[hour_time][\"num_retweets\"] = 0\n",
    "            hr2feature[hour_time][\"num_followers\"] = 0\n",
    "            hr2feature[hour_time][\"max_followers\"] = 0\n",
    "        hour_time += timedelta(hours=1)\n",
    "    return hr2feature\n",
    "\n",
    "feature_list = ['hr_of_day', 'max_followers', 'num_followers', 'num_retweets', 'num_tweets', 'next_num_tweets']\n",
    "\n",
    "# convert a dictionary to numpy array\n",
    "def convertDictToNumpy(parsed_features, feature_list):\n",
    "    df = pd.DataFrame(parsed_features).T.sort_index()\n",
    "    # create the label column\n",
    "    df[\"next_num_tweets\"] = df[\"num_tweets\"].shift(-1)\n",
    "    df = df[feature_list] # reorder the column based on feature\n",
    "    df.drop(df.tail(1).index, inplace=True)\n",
    "    train_set = df.values[:,:-1]\n",
    "    labels = df.values[:,-1]\n",
    "    labels = labels.reshape((len(labels), 1))\n",
    "    return {\"features\" : train_set, \"labels\" : labels}\n",
    "\n",
    "def trainAndEvaluate(train_labels_pair):\n",
    "    # OLS Top three features and P values\n",
    "    ols = OLS(train_labels_pair[\"labels\"], train_labels_pair[\"features\"])\n",
    "    res_vals = ols.fit()\n",
    "    pred_vals = ols.predict(train_labels_pair[\"labels\"])\n",
    "    # The mean squared error\n",
    "    print(\"Mean squared error: %.2f\" % mean_squared_error(train_labels_pair[\"labels\"], pred_vals))\n",
    "    # Explained variance score: 1 is perfect prediction\n",
    "    print('R2 score: %.2f' % r2_score(y_test, y_pred))\n",
    "\n",
    "    # OLS Top three features and P values\n",
    "    ols = OLS(train_labels_pair[\"labels\"], train_labels_pair[\"features\"])\n",
    "    res_vals = ols.fit()\n",
    "    print(\"P values: \", res_vals.pvalues)\n",
    "    idx_pvals_pair = list()\n",
    "    for i in range(res_vals.pvalues.shape[0]):\n",
    "        pair = (res_vals.pvalues[i], i)\n",
    "        idx_pvals_pair.append(pair)\n",
    "    idx_pvals_pair = sorted(idx_pvals_pair, key=lambda x:x[0])\n",
    "    print(\"Top three features\")\n",
    "    for i in range(3):\n",
    "        print(\"feature:\", feature_list[idx_pvals_pair[i][1]], \", P value:\", idx_pvals_pair[i][0])\n",
    "    print (\"summary: \", res_vals.summary())\n",
    "    return"
   ]
  },
  {
   "cell_type": "code",
   "execution_count": 70,
   "metadata": {},
   "outputs": [
    {
     "ename": "ValueError",
     "evalue": "shapes (574,5) and (574,1) not aligned: 5 (dim 1) != 574 (dim 0)",
     "output_type": "error",
     "traceback": [
      "\u001b[0;31m---------------------------------------------------------------------------\u001b[0m",
      "\u001b[0;31mValueError\u001b[0m                                Traceback (most recent call last)",
      "\u001b[0;32m<ipython-input-70-288d81442090>\u001b[0m in \u001b[0;36m<module>\u001b[0;34m\u001b[0m\n\u001b[1;32m      1\u001b[0m \u001b[0mparsed_features\u001b[0m \u001b[0;34m=\u001b[0m \u001b[0mfeatureExtraction\u001b[0m\u001b[0;34m(\u001b[0m\u001b[0mjson_gopatriots\u001b[0m\u001b[0;34m)\u001b[0m\u001b[0;34m\u001b[0m\u001b[0;34m\u001b[0m\u001b[0m\n\u001b[1;32m      2\u001b[0m \u001b[0mtrain_labels_pair\u001b[0m \u001b[0;34m=\u001b[0m \u001b[0mconvertDictToNumpy\u001b[0m\u001b[0;34m(\u001b[0m\u001b[0mparsed_features\u001b[0m\u001b[0;34m,\u001b[0m \u001b[0mfeature_list\u001b[0m\u001b[0;34m)\u001b[0m\u001b[0;34m\u001b[0m\u001b[0;34m\u001b[0m\u001b[0m\n\u001b[0;32m----> 3\u001b[0;31m \u001b[0mtrainAndEvaluate\u001b[0m\u001b[0;34m(\u001b[0m\u001b[0mtrain_labels_pair\u001b[0m\u001b[0;34m)\u001b[0m\u001b[0;34m\u001b[0m\u001b[0;34m\u001b[0m\u001b[0m\n\u001b[0m",
      "\u001b[0;32m<ipython-input-69-8f104d5a3f28>\u001b[0m in \u001b[0;36mtrainAndEvaluate\u001b[0;34m(train_labels_pair)\u001b[0m\n\u001b[1;32m     47\u001b[0m     \u001b[0mols\u001b[0m \u001b[0;34m=\u001b[0m \u001b[0mOLS\u001b[0m\u001b[0;34m(\u001b[0m\u001b[0mtrain_labels_pair\u001b[0m\u001b[0;34m[\u001b[0m\u001b[0;34m\"labels\"\u001b[0m\u001b[0;34m]\u001b[0m\u001b[0;34m,\u001b[0m \u001b[0mtrain_labels_pair\u001b[0m\u001b[0;34m[\u001b[0m\u001b[0;34m\"features\"\u001b[0m\u001b[0;34m]\u001b[0m\u001b[0;34m)\u001b[0m\u001b[0;34m\u001b[0m\u001b[0;34m\u001b[0m\u001b[0m\n\u001b[1;32m     48\u001b[0m     \u001b[0mres_vals\u001b[0m \u001b[0;34m=\u001b[0m \u001b[0mols\u001b[0m\u001b[0;34m.\u001b[0m\u001b[0mfit\u001b[0m\u001b[0;34m(\u001b[0m\u001b[0;34m)\u001b[0m\u001b[0;34m\u001b[0m\u001b[0;34m\u001b[0m\u001b[0m\n\u001b[0;32m---> 49\u001b[0;31m     \u001b[0mpred_vals\u001b[0m \u001b[0;34m=\u001b[0m \u001b[0mols\u001b[0m\u001b[0;34m.\u001b[0m\u001b[0mpredict\u001b[0m\u001b[0;34m(\u001b[0m\u001b[0mtrain_labels_pair\u001b[0m\u001b[0;34m[\u001b[0m\u001b[0;34m\"labels\"\u001b[0m\u001b[0;34m]\u001b[0m\u001b[0;34m)\u001b[0m\u001b[0;34m\u001b[0m\u001b[0;34m\u001b[0m\u001b[0m\n\u001b[0m\u001b[1;32m     50\u001b[0m     \u001b[0;31m# The mean squared error\u001b[0m\u001b[0;34m\u001b[0m\u001b[0;34m\u001b[0m\u001b[0;34m\u001b[0m\u001b[0m\n\u001b[1;32m     51\u001b[0m     \u001b[0mprint\u001b[0m\u001b[0;34m(\u001b[0m\u001b[0;34m\"Mean squared error: %.2f\"\u001b[0m \u001b[0;34m%\u001b[0m \u001b[0mmean_squared_error\u001b[0m\u001b[0;34m(\u001b[0m\u001b[0mtrain_labels_pair\u001b[0m\u001b[0;34m[\u001b[0m\u001b[0;34m\"labels\"\u001b[0m\u001b[0;34m]\u001b[0m\u001b[0;34m,\u001b[0m \u001b[0mpred_vals\u001b[0m\u001b[0;34m)\u001b[0m\u001b[0;34m)\u001b[0m\u001b[0;34m\u001b[0m\u001b[0;34m\u001b[0m\u001b[0m\n",
      "\u001b[0;32m/anaconda3/lib/python3.7/site-packages/statsmodels/regression/linear_model.py\u001b[0m in \u001b[0;36mpredict\u001b[0;34m(self, params, exog)\u001b[0m\n\u001b[1;32m    343\u001b[0m             \u001b[0mexog\u001b[0m \u001b[0;34m=\u001b[0m \u001b[0mself\u001b[0m\u001b[0;34m.\u001b[0m\u001b[0mexog\u001b[0m\u001b[0;34m\u001b[0m\u001b[0;34m\u001b[0m\u001b[0m\n\u001b[1;32m    344\u001b[0m \u001b[0;34m\u001b[0m\u001b[0m\n\u001b[0;32m--> 345\u001b[0;31m         \u001b[0;32mreturn\u001b[0m \u001b[0mnp\u001b[0m\u001b[0;34m.\u001b[0m\u001b[0mdot\u001b[0m\u001b[0;34m(\u001b[0m\u001b[0mexog\u001b[0m\u001b[0;34m,\u001b[0m \u001b[0mparams\u001b[0m\u001b[0;34m)\u001b[0m\u001b[0;34m\u001b[0m\u001b[0;34m\u001b[0m\u001b[0m\n\u001b[0m\u001b[1;32m    346\u001b[0m \u001b[0;34m\u001b[0m\u001b[0m\n\u001b[1;32m    347\u001b[0m     \u001b[0;32mdef\u001b[0m \u001b[0mget_distribution\u001b[0m\u001b[0;34m(\u001b[0m\u001b[0mself\u001b[0m\u001b[0;34m,\u001b[0m \u001b[0mparams\u001b[0m\u001b[0;34m,\u001b[0m \u001b[0mscale\u001b[0m\u001b[0;34m,\u001b[0m \u001b[0mexog\u001b[0m\u001b[0;34m=\u001b[0m\u001b[0;32mNone\u001b[0m\u001b[0;34m,\u001b[0m \u001b[0mdist_class\u001b[0m\u001b[0;34m=\u001b[0m\u001b[0;32mNone\u001b[0m\u001b[0;34m)\u001b[0m\u001b[0;34m:\u001b[0m\u001b[0;34m\u001b[0m\u001b[0;34m\u001b[0m\u001b[0m\n",
      "\u001b[0;31mValueError\u001b[0m: shapes (574,5) and (574,1) not aligned: 5 (dim 1) != 574 (dim 0)"
     ]
    }
   ],
   "source": [
    "parsed_features = featureExtraction(json_gopatriots)\n",
    "train_labels_pair = convertDictToNumpy(parsed_features, feature_list)\n",
    "trainAndEvaluate(train_labels_pair)"
   ]
  },
  {
   "cell_type": "code",
   "execution_count": null,
   "metadata": {},
   "outputs": [],
   "source": []
  }
 ],
 "metadata": {
  "kernelspec": {
   "display_name": "Python 3",
   "language": "python",
   "name": "python3"
  },
  "language_info": {
   "codemirror_mode": {
    "name": "ipython",
    "version": 3
   },
   "file_extension": ".py",
   "mimetype": "text/x-python",
   "name": "python",
   "nbconvert_exporter": "python",
   "pygments_lexer": "ipython3",
   "version": "3.7.1"
  }
 },
 "nbformat": 4,
 "nbformat_minor": 2
}
