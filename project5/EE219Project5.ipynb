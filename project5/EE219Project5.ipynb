{
 "cells": [
  {
   "cell_type": "markdown",
   "metadata": {},
   "source": [
    "# Project 5 : Application - Twitter Data"
   ]
  },
  {
   "cell_type": "markdown",
   "metadata": {},
   "source": [
    "## Quesion 1"
   ]
  },
  {
   "cell_type": "code",
   "execution_count": 61,
   "metadata": {},
   "outputs": [],
   "source": [
    "# Question 1\n",
    "import pandas as pd\n",
    "import numpy as np\n",
    "import json\n",
    "import datetime\n",
    "from datetime import timedelta\n",
    "import matplotlib.pyplot as plt\n",
    "import pytz\n",
    "import random\n",
    "import pickle\n",
    "\n",
    "# Question 3\n",
    "from sklearn import linear_model\n",
    "from sklearn.model_selection import train_test_split\n",
    "from sklearn.metrics import mean_squared_error, r2_score\n",
    "from statsmodels.regression.linear_model import OLS\n",
    "\n",
    "random.seed(42)"
   ]
  },
  {
   "cell_type": "code",
   "execution_count": 62,
   "metadata": {},
   "outputs": [],
   "source": [
    "file_direct = \"ECE219_tweet_data/\"\n",
    "\n",
    "def readFromText(file_direct, file_name):\n",
    "    json_objects = list()\n",
    "    with open(file_direct + \"tweets_#\" + str(file_name) + \".txt\", \"r\") as file:\n",
    "        line = file.readline()\n",
    "        while line:\n",
    "            json_objects.append(json.loads(line))\n",
    "            line = file.readline()\n",
    "    return json_objects"
   ]
  },
  {
   "cell_type": "code",
   "execution_count": 63,
   "metadata": {},
   "outputs": [],
   "source": [
    "json_gopatriots = readFromText(file_direct, \"gopatriots\")\n",
    "# json_gohawks = readFromText(file_direct, \"gohawks\")\n",
    "# json_nfl = readFromText(file_direct, \"nfl\")\n",
    "# json_patriots = readFromText(file_direct, \"patriots\")\n",
    "# json_sb49 = readFromText(file_direct, \"sb49\")\n",
    "# json_superbowl = readFromText(file_direct, \"superbowl\")\n",
    "\n"
   ]
  },
  {
   "cell_type": "code",
   "execution_count": 64,
   "metadata": {},
   "outputs": [],
   "source": [
    "def creationTimeParser(unix_time, time_zone = pytz.timezone('America/Los_Angeles')):\n",
    "    date_object = datetime.datetime.fromtimestamp(unix_time, time_zone)\n",
    "    date_object = date_object.replace(minute=0, second=0, microsecond=0)\n",
    "#     res_val = (date_object.month-1)*31*24+(date_object.day-1)*24+date_object.hour\n",
    "    return date_object"
   ]
  },
  {
   "cell_type": "code",
   "execution_count": 65,
   "metadata": {},
   "outputs": [],
   "source": [
    "def getStat(json_objects):\n",
    "    hr2cnt = dict()\n",
    "    # Description:\n",
    "    # Get the the number of tweets, also features forom the tweet\n",
    "    list_cnt = 0\n",
    "    total_followers = 0\n",
    "    total_tweets = 0\n",
    "    time_zone = pytz.timezone('America/Los_Angeles')\n",
    "    for i in range(len(json_objects)):\n",
    "    # parse the avg tweet per hour\n",
    "        parsed_time = creationTimeParser(json_objects[i]['citation_date'],  time_zone)\n",
    "        if parsed_time in hr2cnt:\n",
    "          hr2cnt[parsed_time] += 1\n",
    "        else:\n",
    "          hr2cnt[parsed_time] = 1\n",
    "        total_followers += json_objects[i]['author']['followers']\n",
    "        total_tweets += json_objects[i]['metrics']['citations']['total']\n",
    "    hr_np = np.fromiter(hr2cnt.values(), dtype=np.int).reshape((len(hr2cnt),1))\n",
    "    min_time = min(hr2cnt.keys())\n",
    "    max_time = max(hr2cnt.keys())\n",
    "    diff_time = max_time - min_time + timedelta(hours=1)\n",
    "    avg_tweets = hr_np.sum() / (diff_time.total_seconds()/3600)\n",
    "    result = {'avg tweets per hour' : avg_tweets, \n",
    "          'avg followers per tweet' : total_followers / len(json_objects),\n",
    "          'avg retweets per tweet' : total_tweets / len(json_objects)}\n",
    "    print (result)\n",
    "    return result, hr2cnt"
   ]
  },
  {
   "cell_type": "code",
   "execution_count": 66,
   "metadata": {},
   "outputs": [
    {
     "name": "stdout",
     "output_type": "stream",
     "text": [
      "{'avg tweets per hour': 40.888695652173915, 'avg followers per tweet': 1427.2526051635405, 'avg retweets per tweet': 1.4081919101697078}\n"
     ]
    }
   ],
   "source": [
    "stat_gopatriots, _ = getStat(json_gopatriots)"
   ]
  },
  {
   "cell_type": "markdown",
   "metadata": {},
   "source": [
    "## Question 2"
   ]
  },
  {
   "cell_type": "code",
   "execution_count": 67,
   "metadata": {},
   "outputs": [],
   "source": [
    "#need to load nfl and superbowl data\n",
    "\n",
    "def getTweetCount(json_objects):\n",
    "    stat, hr2cnt = getStat(json_objects)\n",
    "    return hr2cnt\n",
    "    \n",
    "def getSortedKeys(hr2cnt):\n",
    "    keylist = sorted(hr2cnt.keys())\n",
    "    return keylist\n",
    "\n",
    "# TODO: change the x ticks to display properly\n",
    "def generatePlot(hr2cnt, tag_name):\n",
    "    sorted_time = getSortedKeys(hr2cnt)\n",
    "    sorted_vals = [hr2cnt[x] for x in sorted_time]\n",
    "    plt.plot(sorted_time, sorted_vals)\n",
    "    print(\"sorted_vals: \", len(sorted_vals))\n",
    "    plt.xlabel('time')\n",
    "    plt.ylabel('num of posts')\n",
    "    plt.title(\"Tag Name: \" + tag_name)\n",
    "    plt.show()\n",
    "\n",
    "def Question2(json_objects, tag_name):\n",
    "    hr2cnt = getTweetCount(json_objects)\n",
    "    keylist = getSortedKeys(hr2cnt)\n",
    "    generatePlot(hr2cnt, tag_name)"
   ]
  },
  {
   "cell_type": "code",
   "execution_count": 68,
   "metadata": {},
   "outputs": [
    {
     "name": "stdout",
     "output_type": "stream",
     "text": [
      "{'avg tweets per hour': 40.888695652173915, 'avg followers per tweet': 1427.2526051635405, 'avg retweets per tweet': 1.4081919101697078}\n",
      "sorted_vals:  441\n"
     ]
    },
    {
     "data": {
      "image/png": "[encoded data removed]",
      "text/plain": [
       "<Figure size 432x288 with 1 Axes>"
      ]
     },
     "metadata": {
      "needs_background": "light"
     },
     "output_type": "display_data"
    }
   ],
   "source": [
    "Question2(json_gopatriots, \"goPatriots\")"
   ]
  },
  {
   "cell_type": "markdown",
   "metadata": {},
   "source": [
    "## Question 3"
   ]
  },
  {
   "cell_type": "code",
   "execution_count": 99,
   "metadata": {},
   "outputs": [],
   "source": [
    "def featureExtraction(json_objects):\n",
    "    hr2feature = dict()\n",
    "    for i in range(len(json_objects)):\n",
    "        parsed_time = creationTimeParser(json_objects[i]['citation_date'])\n",
    "        if parsed_time in hr2feature:\n",
    "            hr2feature[parsed_time][\"num_tweets\"] += 1\n",
    "            hr2feature[parsed_time][\"num_retweets\"] += json_objects[i]['metrics']['citations']['total']\n",
    "            hr2feature[parsed_time][\"num_followers\"] += json_objects[i]['author']['followers']\n",
    "            hr2feature[parsed_time][\"max_followers\"] = max(hr2feature[parsed_time][\"max_followers\"], json_objects[i]['author']['followers'])\n",
    "        else:\n",
    "            hr2feature[parsed_time] = dict()\n",
    "            hr2feature[parsed_time][\"hr_of_day\"] = parsed_time.hour\n",
    "            hr2feature[parsed_time][\"num_tweets\"] = 1\n",
    "            hr2feature[parsed_time][\"num_retweets\"] = json_objects[i]['metrics']['citations']['total']\n",
    "            hr2feature[parsed_time][\"num_followers\"] = json_objects[i]['author']['followers']\n",
    "            hr2feature[parsed_time][\"max_followers\"] = json_objects[i]['author']['followers']\n",
    "    min_time = min(hr2feature.keys())\n",
    "    max_time = max(hr2feature.keys())\n",
    "    hour_time = min_time + timedelta(hours=1)\n",
    "    while hour_time < max_time:\n",
    "        if hour_time not in hr2feature:\n",
    "            hr2feature[hour_time] = dict()\n",
    "            hr2feature[hour_time][\"hr_of_day\"] = hour_time.hour\n",
    "            hr2feature[hour_time][\"num_tweets\"] = 0\n",
    "            hr2feature[hour_time][\"num_retweets\"] = 0\n",
    "            hr2feature[hour_time][\"num_followers\"] = 0\n",
    "            hr2feature[hour_time][\"max_followers\"] = 0\n",
    "        hour_time += timedelta(hours=1)\n",
    "    return hr2feature\n",
    "\n",
    "feature_list = ['hr_of_day', 'max_followers', 'num_followers', 'num_retweets', 'num_tweets', 'next_num_tweets']\n",
    "\n",
    "# convert a dictionary to numpy array\n",
    "def convertDictToNumpy(parsed_features, feature_list):\n",
    "    df = pd.DataFrame(parsed_features).T.sort_index()\n",
    "    # create the label column\n",
    "    df[\"next_num_tweets\"] = df[\"num_tweets\"].shift(-1)\n",
    "    df = df[feature_list] # reorder the column based on feature\n",
    "    df.drop(df.tail(1).index, inplace=True)\n",
    "    train_set = df.values[:,:-1]\n",
    "    labels = df.values[:,-1]\n",
    "    labels = labels.reshape((len(labels), 1))\n",
    "    return {\"features\" : train_set, \"labels\" : labels}\n",
    "\n",
    "def trainAndEvaluate(train_labels_pair):\n",
    "    # OLS Top three features and P values\n",
    "    ols = OLS(train_labels_pair[\"labels\"], train_labels_pair[\"features\"])\n",
    "    model = ols.fit()\n",
    "    pred_vals = model.predict(train_labels_pair[\"features\"])\n",
    "    # The mean squared error\n",
    "    print(\"Mean squared error: %.2f\" % mean_squared_error(train_labels_pair[\"labels\"], pred_vals))\n",
    "    # Explained variance score: 1 is perfect prediction\n",
    "    print('R2 score: %.2f' % r2_score(train_labels_pair[\"labels\"], pred_vals))\n",
    "\n",
    "    # OLS Top three features and P values\n",
    "    ols = OLS(train_labels_pair[\"labels\"], train_labels_pair[\"features\"])\n",
    "    res_vals = ols.fit()\n",
    "    print(\"P values: \", res_vals.pvalues)\n",
    "    idx_pvals_pair = list()\n",
    "    for i in range(res_vals.pvalues.shape[0]):\n",
    "        pair = (res_vals.pvalues[i], i)\n",
    "        idx_pvals_pair.append(pair)\n",
    "    idx_pvals_pair = sorted(idx_pvals_pair, key=lambda x:x[0])\n",
    "    print(\"Top three features\")\n",
    "    for i in range(3):\n",
    "        print(\"feature:\", feature_list[idx_pvals_pair[i][1]], \", P value:\", idx_pvals_pair[i][0])\n",
    "    print (\"summary: \", res_vals.summary())\n",
    "    return np.array(pred_vals)"
   ]
  },
  {
   "cell_type": "code",
   "execution_count": 107,
   "metadata": {},
   "outputs": [
    {
     "name": "stdout",
     "output_type": "stream",
     "text": [
      "(574, 5)\n",
      "Mean squared error: 27610.11\n",
      "R2 score: 0.63\n",
      "P values:  [0.47142064 0.95397142 0.5796288  0.00941955 0.27931161]\n",
      "Top three features\n",
      "feature: num_retweets , P value: 0.009419548144867134\n",
      "feature: num_tweets , P value: 0.27931161073495586\n",
      "feature: hr_of_day , P value: 0.4714206412129198\n",
      "summary:                              OLS Regression Results                            \n",
      "==============================================================================\n",
      "Dep. Variable:                      y   R-squared:                       0.637\n",
      "Model:                            OLS   Adj. R-squared:                  0.634\n",
      "Method:                 Least Squares   F-statistic:                     199.9\n",
      "Date:                Thu, 14 Mar 2019   Prob (F-statistic):          9.65e-123\n",
      "Time:                        14:57:03   Log-Likelihood:                -3749.3\n",
      "No. Observations:                 574   AIC:                             7509.\n",
      "Df Residuals:                     569   BIC:                             7530.\n",
      "Df Model:                           5                                         \n",
      "Covariance Type:            nonrobust                                         \n",
      "==============================================================================\n",
      "                 coef    std err          t      P>|t|      [0.025      0.975]\n",
      "------------------------------------------------------------------------------\n",
      "x1             0.3895      0.540      0.721      0.471      -0.672       1.451\n",
      "x2         -1.258e-05      0.000     -0.058      0.954      -0.000       0.000\n",
      "x3            -0.0001      0.000     -0.554      0.580      -0.001       0.000\n",
      "x4             0.4972      0.191      2.605      0.009       0.122       0.872\n",
      "x5             0.3081      0.284      1.083      0.279      -0.251       0.867\n",
      "==============================================================================\n",
      "Omnibus:                      481.475   Durbin-Watson:                   1.908\n",
      "Prob(Omnibus):                  0.000   Jarque-Bera (JB):           290672.182\n",
      "Skew:                           2.478   Prob(JB):                         0.00\n",
      "Kurtosis:                     113.132   Cond. No.                     2.98e+04\n",
      "==============================================================================\n",
      "\n",
      "Warnings:\n",
      "[1] Standard Errors assume that the covariance matrix of the errors is correctly specified.\n",
      "[2] The condition number is large, 2.98e+04. This might indicate that there are\n",
      "strong multicollinearity or other numerical problems.\n"
     ]
    }
   ],
   "source": [
    "parsed_features = featureExtraction(json_gopatriots)\n",
    "train_labels_pair = convertDictToNumpy(parsed_features, feature_list)\n",
    "_ = trainAndEvaluate(train_labels_pair)"
   ]
  },
  {
   "cell_type": "markdown",
   "metadata": {},
   "source": [
    "## Question 4"
   ]
  },
  {
   "cell_type": "code",
   "execution_count": 117,
   "metadata": {},
   "outputs": [],
   "source": [
    "def featureExtractionCustomized(json_objects):\n",
    "    hr2feature = dict()\n",
    "    for i in range(len(json_objects)):\n",
    "        parsed_time = creationTimeParser(json_objects[i]['citation_date'])\n",
    "        if parsed_time in hr2feature:\n",
    "            hr2feature[parsed_time][\"num_tweets\"] += 1\n",
    "            hr2feature[parsed_time][\"num_retweets\"] += json_objects[i]['metrics']['citations']['total']\n",
    "            hr2feature[parsed_time][\"num_followers\"] += json_objects[i]['author']['followers']\n",
    "            hr2feature[parsed_time][\"max_followers\"] = max(hr2feature[parsed_time][\"max_followers\"], json_objects[i]['author']['followers'])\n",
    "        else:\n",
    "            hr2feature[parsed_time] = dict()\n",
    "            hr2feature[parsed_time][\"hr_of_day\"] = parsed_time.hour\n",
    "            hr2feature[parsed_time][\"num_tweets\"] = 1\n",
    "            hr2feature[parsed_time][\"num_retweets\"] = json_objects[i]['metrics']['citations']['total']\n",
    "            hr2feature[parsed_time][\"num_followers\"] = json_objects[i]['author']['followers']\n",
    "            hr2feature[parsed_time][\"max_followers\"] = json_objects[i]['author']['followers']\n",
    "    return hr2feature"
   ]
  },
  {
   "cell_type": "code",
   "execution_count": 118,
   "metadata": {},
   "outputs": [
    {
     "name": "stdout",
     "output_type": "stream",
     "text": [
      "Mean squared error: 36006.78\n",
      "R2 score: 0.63\n",
      "P values:  [0.46589716 0.93543543 0.65055551 0.02602704 0.34215217]\n",
      "Top three features\n",
      "feature: num_retweets , P value: 0.026027044807714585\n",
      "feature: num_tweets , P value: 0.34215216778574864\n",
      "feature: hr_of_day , P value: 0.4658971579452139\n",
      "summary:                              OLS Regression Results                            \n",
      "==============================================================================\n",
      "Dep. Variable:                      y   R-squared:                       0.637\n",
      "Model:                            OLS   Adj. R-squared:                  0.633\n",
      "Method:                 Least Squares   F-statistic:                     152.9\n",
      "Date:                Thu, 14 Mar 2019   Prob (F-statistic):           1.92e-93\n",
      "Time:                        15:02:59   Log-Likelihood:                -2932.5\n",
      "No. Observations:                 440   AIC:                             5875.\n",
      "Df Residuals:                     435   BIC:                             5895.\n",
      "Df Model:                           5                                         \n",
      "Covariance Type:            nonrobust                                         \n",
      "==============================================================================\n",
      "                 coef    std err          t      P>|t|      [0.025      0.975]\n",
      "------------------------------------------------------------------------------\n",
      "x1             0.5188      0.711      0.730      0.466      -0.878       1.916\n",
      "x2         -2.027e-05      0.000     -0.081      0.935      -0.001       0.000\n",
      "x3            -0.0001      0.000     -0.453      0.651      -0.001       0.000\n",
      "x4             0.4896      0.219      2.233      0.026       0.059       0.921\n",
      "x5             0.3094      0.325      0.951      0.342      -0.330       0.949\n",
      "==============================================================================\n",
      "Omnibus:                      342.401   Durbin-Watson:                   1.906\n",
      "Prob(Omnibus):                  0.000   Jarque-Bera (JB):           128672.655\n",
      "Skew:                           2.150   Prob(JB):                         0.00\n",
      "Kurtosis:                      86.666   Cond. No.                     3.43e+04\n",
      "==============================================================================\n",
      "\n",
      "Warnings:\n",
      "[1] Standard Errors assume that the covariance matrix of the errors is correctly specified.\n",
      "[2] The condition number is large, 3.43e+04. This might indicate that there are\n",
      "strong multicollinearity or other numerical problems.\n"
     ]
    }
   ],
   "source": [
    "parsed_features = featureExtractionCustomized(json_gopatriots)\n",
    "train_labels_pair = convertDictToNumpy(parsed_features, feature_list)\n",
    "pred_value = trainAndEvaluate(train_labels_pair)"
   ]
  },
  {
   "cell_type": "markdown",
   "metadata": {},
   "source": [
    "## Question 5"
   ]
  },
  {
   "cell_type": "code",
   "execution_count": 125,
   "metadata": {},
   "outputs": [],
   "source": [
    "def drawScatterPlots(feature_value, predicted_Y):\n",
    "    #Fitted values against true values\n",
    "    fig, ax = plt.subplots()\n",
    "    ax.scatter(x=feature_value, y= predicted_Y)\n",
    "    ax.set_xlabel('Feature values')\n",
    "    ax.set_ylabel('Predicted values')\n",
    "    plt.show()\n"
   ]
  },
  {
   "cell_type": "code",
   "execution_count": 126,
   "metadata": {},
   "outputs": [
    {
     "name": "stdout",
     "output_type": "stream",
     "text": [
      "(440, 5)\n",
      "(440,)\n"
     ]
    },
    {
     "data": {
      "image/png": "[encoded data removed]",
      "text/plain": [
       "<Figure size 432x288 with 1 Axes>"
      ]
     },
     "metadata": {
      "needs_background": "light"
     },
     "output_type": "display_data"
    },
    {
     "data": {
      "image/png": "[encoded data removed]",
      "text/plain": [
       "<Figure size 432x288 with 1 Axes>"
      ]
     },
     "metadata": {
      "needs_background": "light"
     },
     "output_type": "display_data"
    },
    {
     "data": {
      "image/png": "[encoded data removed]",
      "text/plain": [
       "<Figure size 432x288 with 1 Axes>"
      ]
     },
     "metadata": {
      "needs_background": "light"
     },
     "output_type": "display_data"
    }
   ],
   "source": [
    "print(train_labels_pair[\"features\"].shape)\n",
    "print(pred_value.shape)\n",
    "drawScatterPlots(train_labels_pair[\"features\"][:,0], pred_value)\n",
    "drawScatterPlots(train_labels_pair[\"features\"][:,3], pred_value)\n",
    "drawScatterPlots(train_labels_pair[\"features\"][:,4], pred_value)"
   ]
  },
  {
   "cell_type": "markdown",
   "metadata": {},
   "source": [
    "## Question 6"
   ]
  },
  {
   "cell_type": "code",
   "execution_count": null,
   "metadata": {},
   "outputs": [],
   "source": []
  },
  {
   "cell_type": "code",
   "execution_count": null,
   "metadata": {},
   "outputs": [],
   "source": []
  }
 ],
 "metadata": {
  "kernelspec": {
   "display_name": "Python 3",
   "language": "python",
   "name": "python3"
  },
  "language_info": {
   "codemirror_mode": {
    "name": "ipython",
    "version": 3
   },
   "file_extension": ".py",
   "mimetype": "text/x-python",
   "name": "python",
   "nbconvert_exporter": "python",
   "pygments_lexer": "ipython3",
   "version": "3.7.1"
  }
 },
 "nbformat": 4,
 "nbformat_minor": 2
}
