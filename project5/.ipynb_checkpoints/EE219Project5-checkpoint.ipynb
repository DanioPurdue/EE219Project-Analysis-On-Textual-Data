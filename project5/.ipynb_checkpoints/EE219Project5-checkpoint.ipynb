{
 "cells": [
  {
   "cell_type": "markdown",
   "metadata": {},
   "source": [
    "# Project 5 : Application - Twitter Data"
   ]
  },
  {
   "cell_type": "markdown",
   "metadata": {},
   "source": [
    "## Quesion 1"
   ]
  },
  {
   "cell_type": "code",
   "execution_count": 150,
   "metadata": {},
   "outputs": [],
   "source": [
    "# Question 1\n",
    "import pandas as pd\n",
    "import numpy as np\n",
    "import json\n",
    "import datetime\n",
    "from datetime import timedelta\n",
    "import matplotlib.pyplot as plt\n",
    "import pytz\n",
    "import random\n",
    "import pickle\n",
    "import dateutil.parser\n",
    "\n",
    "# Question 3\n",
    "from sklearn import linear_model\n",
    "from sklearn.model_selection import train_test_split\n",
    "from sklearn.metrics import mean_squared_error, r2_score\n",
    "from statsmodels.regression.linear_model import OLS\n",
    "\n",
    "random.seed(42)"
   ]
  },
  {
   "cell_type": "code",
   "execution_count": 151,
   "metadata": {},
   "outputs": [],
   "source": [
    "file_direct = \"ECE219_tweet_data/\"\n",
    "\n",
    "def readFromText(file_direct, file_name):\n",
    "    json_objects = list()\n",
    "    with open(file_direct + \"tweets_#\" + str(file_name) + \".txt\", \"r\") as file:\n",
    "        line = file.readline()\n",
    "        while line:\n",
    "            json_objects.append(json.loads(line))\n",
    "            line = file.readline()\n",
    "    return json_objects"
   ]
  },
  {
   "cell_type": "code",
   "execution_count": 152,
   "metadata": {},
   "outputs": [],
   "source": [
    "json_gopatriots = readFromText(file_direct, \"gopatriots\")\n",
    "# json_gohawks = readFromText(file_direct, \"gohawks\")\n",
    "# json_nfl = readFromText(file_direct, \"nfl\")\n",
    "# json_patriots = readFromText(file_direct, \"patriots\")\n",
    "# json_sb49 = readFromText(file_direct, \"sb49\")\n",
    "# json_superbowl = readFromText(file_direct, \"superbowl\")\n",
    "\n"
   ]
  },
  {
   "cell_type": "code",
   "execution_count": 153,
   "metadata": {},
   "outputs": [],
   "source": [
    "def creationTimeParser(unix_time, time_zone = pytz.timezone('America/Los_Angeles')):\n",
    "    date_object = datetime.datetime.fromtimestamp(unix_time, time_zone)\n",
    "    #date_object = date_object.replace(minute=0, second=0, microsecond=0)\n",
    "#     res_val = (date_object.month-1)*31*24+(date_object.day-1)*24+date_object.hour\n",
    "    return date_object"
   ]
  },
  {
   "cell_type": "code",
   "execution_count": 154,
   "metadata": {},
   "outputs": [],
   "source": [
    "def getStat(json_objects):\n",
    "    hr2cnt = dict()\n",
    "    # Description:\n",
    "    # Get the the number of tweets, also features forom the tweet\n",
    "    list_cnt = 0\n",
    "    total_followers = 0\n",
    "    total_tweets = 0\n",
    "    time_zone = pytz.timezone('America/Los_Angeles')\n",
    "    for i in range(len(json_objects)):\n",
    "    # parse the avg tweet per hour\n",
    "        parsed_time = creationTimeParser(json_objects[i]['citation_date'],  time_zone)\n",
    "        if parsed_time in hr2cnt:\n",
    "          hr2cnt[parsed_time] += 1\n",
    "        else:\n",
    "          hr2cnt[parsed_time] = 1\n",
    "        total_followers += json_objects[i]['author']['followers']\n",
    "        total_tweets += json_objects[i]['metrics']['citations']['total']\n",
    "    hr_np = np.fromiter(hr2cnt.values(), dtype=np.int).reshape((len(hr2cnt),1))\n",
    "    min_time = min(hr2cnt.keys())\n",
    "    max_time = max(hr2cnt.keys())\n",
    "    diff_time = max_time - min_time + timedelta(hours=1)\n",
    "    avg_tweets = hr_np.sum() / (diff_time.total_seconds()/3600)\n",
    "    result = {'avg tweets per hour' : avg_tweets, \n",
    "          'avg followers per tweet' : total_followers / len(json_objects),\n",
    "          'avg retweets per tweet' : total_tweets / len(json_objects)}\n",
    "    print (result)\n",
    "    return result, hr2cnt"
   ]
  },
  {
   "cell_type": "code",
   "execution_count": 155,
   "metadata": {},
   "outputs": [
    {
     "name": "stdout",
     "output_type": "stream",
     "text": [
      "{'avg tweets per hour': 40.883481526993656, 'avg followers per tweet': 1427.2526051635405, 'avg retweets per tweet': 1.4081919101697078}\n"
     ]
    }
   ],
   "source": [
    "stat_gopatriots, _ = getStat(json_gopatriots)"
   ]
  },
  {
   "cell_type": "markdown",
   "metadata": {},
   "source": [
    "## Question 2"
   ]
  },
  {
   "cell_type": "code",
   "execution_count": 156,
   "metadata": {},
   "outputs": [],
   "source": [
    "#need to load nfl and superbowl data\n",
    "\n",
    "def getTweetCount(json_objects):\n",
    "    stat, hr2cnt = getStat(json_objects)\n",
    "    return hr2cnt\n",
    "    \n",
    "def getSortedKeys(hr2cnt):\n",
    "    keylist = sorted(hr2cnt.keys())\n",
    "    return keylist\n",
    "\n",
    "# TODO: change the x ticks to display properly\n",
    "def generatePlot(hr2cnt, tag_name):\n",
    "    sorted_time = getSortedKeys(hr2cnt)\n",
    "    sorted_vals = [hr2cnt[x] for x in sorted_time]\n",
    "    plt.plot(sorted_time, sorted_vals)\n",
    "    print(\"sorted_vals: \", len(sorted_vals))\n",
    "    plt.xlabel('time')\n",
    "    plt.ylabel('num of posts')\n",
    "    plt.title(\"Tag Name: \" + tag_name)\n",
    "    plt.show()\n",
    "\n",
    "def Question2(json_objects, tag_name):\n",
    "    hr2cnt = getTweetCount(json_objects)\n",
    "    keylist = getSortedKeys(hr2cnt)\n",
    "    generatePlot(hr2cnt, tag_name)"
   ]
  },
  {
   "cell_type": "code",
   "execution_count": 157,
   "metadata": {},
   "outputs": [
    {
     "name": "stdout",
     "output_type": "stream",
     "text": [
      "{'avg tweets per hour': 40.883481526993656, 'avg followers per tweet': 1427.2526051635405, 'avg retweets per tweet': 1.4081919101697078}\n",
      "sorted_vals:  16969\n"
     ]
    },
    {
     "data": {
      "image/png": "[encoded data removed]",
      "text/plain": [
       "<Figure size 432x288 with 1 Axes>"
      ]
     },
     "metadata": {
      "needs_background": "light"
     },
     "output_type": "display_data"
    }
   ],
   "source": [
    "Question2(json_gopatriots, \"goPatriots\")"
   ]
  },
  {
   "cell_type": "markdown",
   "metadata": {},
   "source": [
    "## Question 3"
   ]
  },
  {
   "cell_type": "code",
   "execution_count": 158,
   "metadata": {},
   "outputs": [],
   "source": [
    "def featureExtraction(json_objects):\n",
    "    hr2feature = dict()\n",
    "    for i in range(len(json_objects)):\n",
    "        parsed_time = creationTimeParser(json_objects[i]['citation_date'])\n",
    "        if parsed_time in hr2feature:\n",
    "            hr2feature[parsed_time][\"num_tweets\"] += 1\n",
    "            hr2feature[parsed_time][\"num_retweets\"] += json_objects[i]['metrics']['citations']['total']\n",
    "            hr2feature[parsed_time][\"num_followers\"] += json_objects[i]['author']['followers']\n",
    "            hr2feature[parsed_time][\"max_followers\"] = max(hr2feature[parsed_time][\"max_followers\"], json_objects[i]['author']['followers'])\n",
    "        else:\n",
    "            hr2feature[parsed_time] = dict()\n",
    "            hr2feature[parsed_time][\"hr_of_day\"] = parsed_time.hour\n",
    "            hr2feature[parsed_time][\"num_tweets\"] = 1\n",
    "            hr2feature[parsed_time][\"num_retweets\"] = json_objects[i]['metrics']['citations']['total']\n",
    "            hr2feature[parsed_time][\"num_followers\"] = json_objects[i]['author']['followers']\n",
    "            hr2feature[parsed_time][\"max_followers\"] = json_objects[i]['author']['followers']\n",
    "    min_time = min(hr2feature.keys())\n",
    "    max_time = max(hr2feature.keys())\n",
    "    hour_time = min_time + timedelta(hours=1)\n",
    "    while hour_time < max_time:\n",
    "        if hour_time not in hr2feature:\n",
    "            hr2feature[hour_time] = dict()\n",
    "            hr2feature[hour_time][\"hr_of_day\"] = hour_time.hour\n",
    "            hr2feature[hour_time][\"num_tweets\"] = 0\n",
    "            hr2feature[hour_time][\"num_retweets\"] = 0\n",
    "            hr2feature[hour_time][\"num_followers\"] = 0\n",
    "            hr2feature[hour_time][\"max_followers\"] = 0\n",
    "        hour_time += timedelta(hours=1)\n",
    "    return hr2feature\n",
    "\n",
    "feature_list = ['hr_of_day', 'max_followers', 'num_followers', 'num_retweets', 'num_tweets', 'next_num_tweets']\n",
    "\n",
    "# convert a dictionary to numpy array\n",
    "def convertDictToNumpy(parsed_features, feature_list):\n",
    "    df = pd.DataFrame(parsed_features).T.sort_index()\n",
    "    # create the label column\n",
    "    df[\"next_num_tweets\"] = df[\"num_tweets\"].shift(-1)\n",
    "    df = df[feature_list] # reorder the column based on feature\n",
    "    df.drop(df.tail(1).index, inplace=True)\n",
    "    train_set = df.values[:,:-1]\n",
    "    labels = df.values[:,-1]\n",
    "    labels = labels.reshape((len(labels), 1))\n",
    "    return {\"features\" : train_set, \"labels\" : labels}\n",
    "\n",
    "def trainAndEvaluate(train_labels_pair):\n",
    "    # OLS Top three features and P values\n",
    "    ols = OLS(train_labels_pair[\"labels\"], train_labels_pair[\"features\"])\n",
    "    model = ols.fit()\n",
    "    pred_vals = model.predict(train_labels_pair[\"features\"])\n",
    "    # The mean squared error\n",
    "    print(\"Mean squared error: %.2f\" % mean_squared_error(train_labels_pair[\"labels\"], pred_vals))\n",
    "    # Explained variance score: 1 is perfect prediction\n",
    "    print('R2 score: %.2f' % r2_score(train_labels_pair[\"labels\"], pred_vals))\n",
    "\n",
    "    # OLS Top three features and P values\n",
    "    ols = OLS(train_labels_pair[\"labels\"], train_labels_pair[\"features\"])\n",
    "    res_vals = ols.fit()\n",
    "    print(\"P values: \", res_vals.pvalues)\n",
    "    idx_pvals_pair = list()\n",
    "    for i in range(res_vals.pvalues.shape[0]):\n",
    "        pair = (res_vals.pvalues[i], i)\n",
    "        idx_pvals_pair.append(pair)\n",
    "    idx_pvals_pair = sorted(idx_pvals_pair, key=lambda x:x[0])\n",
    "    print(\"Top three features\")\n",
    "    for i in range(3):\n",
    "        print(\"feature:\", feature_list[idx_pvals_pair[i][1]], \", P value:\", idx_pvals_pair[i][0])\n",
    "    print (\"summary: \", res_vals.summary())\n",
    "    return np.array(pred_vals)"
   ]
  },
  {
   "cell_type": "code",
   "execution_count": 159,
   "metadata": {},
   "outputs": [
    {
     "name": "stdout",
     "output_type": "stream",
     "text": [
      "Mean squared error: 0.71\n",
      "R2 score: 0.29\n",
      "P values:  [0.         0.38326667 0.3805011  0.83763471 0.        ]\n",
      "Top three features\n",
      "feature: hr_of_day , P value: 0.0\n",
      "feature: num_tweets , P value: 0.0\n",
      "feature: num_followers , P value: 0.3805011035191932\n",
      "summary:                              OLS Regression Results                            \n",
      "==============================================================================\n",
      "Dep. Variable:                      y   R-squared:                       0.745\n",
      "Model:                            OLS   Adj. R-squared:                  0.745\n",
      "Method:                 Least Squares   F-statistic:                 1.026e+04\n",
      "Date:                Thu, 14 Mar 2019   Prob (F-statistic):               0.00\n",
      "Time:                        16:21:42   Log-Likelihood:                -21934.\n",
      "No. Observations:               17538   AIC:                         4.388e+04\n",
      "Df Residuals:                   17533   BIC:                         4.392e+04\n",
      "Df Model:                           5                                         \n",
      "Covariance Type:            nonrobust                                         \n",
      "==============================================================================\n",
      "                 coef    std err          t      P>|t|      [0.025      0.975]\n",
      "------------------------------------------------------------------------------\n",
      "x1             0.0405      0.001     49.529      0.000       0.039       0.042\n",
      "x2           2.43e-05   2.79e-05      0.872      0.383   -3.03e-05    7.89e-05\n",
      "x3         -2.443e-05   2.79e-05     -0.877      0.381    -7.9e-05    3.02e-05\n",
      "x4             0.0002      0.001      0.205      0.838      -0.002       0.003\n",
      "x5             0.5339      0.010     55.969      0.000       0.515       0.553\n",
      "==============================================================================\n",
      "Omnibus:                    11230.952   Durbin-Watson:                   2.370\n",
      "Prob(Omnibus):                  0.000   Jarque-Bera (JB):           259021.045\n",
      "Skew:                           2.705   Prob(JB):                         0.00\n",
      "Kurtosis:                      21.033   Cond. No.                     6.25e+04\n",
      "==============================================================================\n",
      "\n",
      "Warnings:\n",
      "[1] Standard Errors assume that the covariance matrix of the errors is correctly specified.\n",
      "[2] The condition number is large, 6.25e+04. This might indicate that there are\n",
      "strong multicollinearity or other numerical problems.\n"
     ]
    }
   ],
   "source": [
    "parsed_features = featureExtraction(json_gopatriots)\n",
    "train_labels_pair = convertDictToNumpy(parsed_features, feature_list)\n",
    "_ = trainAndEvaluate(train_labels_pair)"
   ]
  },
  {
   "cell_type": "markdown",
   "metadata": {},
   "source": [
    "## Question 4"
   ]
  },
  {
   "cell_type": "code",
   "execution_count": 160,
   "metadata": {},
   "outputs": [],
   "source": [
    "def featureExtractionCustomized(json_objects):\n",
    "    hr2feature = dict()\n",
    "    for i in range(len(json_objects)):\n",
    "        parsed_time = creationTimeParser(json_objects[i]['citation_date'])\n",
    "        if parsed_time in hr2feature:\n",
    "            hr2feature[parsed_time][\"num_tweets\"] += 1\n",
    "            hr2feature[parsed_time][\"num_retweets\"] += json_objects[i]['metrics']['citations']['total']\n",
    "            hr2feature[parsed_time][\"num_followers\"] += json_objects[i]['author']['followers']\n",
    "            hr2feature[parsed_time][\"max_followers\"] = max(hr2feature[parsed_time][\"max_followers\"], json_objects[i]['author']['followers'])\n",
    "        else:\n",
    "            hr2feature[parsed_time] = dict()\n",
    "            hr2feature[parsed_time][\"hr_of_day\"] = parsed_time.hour\n",
    "            hr2feature[parsed_time][\"num_tweets\"] = 1\n",
    "            hr2feature[parsed_time][\"num_retweets\"] = json_objects[i]['metrics']['citations']['total']\n",
    "            hr2feature[parsed_time][\"num_followers\"] = json_objects[i]['author']['followers']\n",
    "            hr2feature[parsed_time][\"max_followers\"] = json_objects[i]['author']['followers']\n",
    "    return hr2feature"
   ]
  },
  {
   "cell_type": "code",
   "execution_count": 161,
   "metadata": {},
   "outputs": [
    {
     "name": "stdout",
     "output_type": "stream",
     "text": [
      "Mean squared error: 0.70\n",
      "R2 score: 0.29\n",
      "P values:  [0.         0.02943935 0.02898202 0.63789618 0.        ]\n",
      "Top three features\n",
      "feature: hr_of_day , P value: 0.0\n",
      "feature: num_tweets , P value: 0.0\n",
      "feature: num_followers , P value: 0.028982020164508043\n",
      "summary:                              OLS Regression Results                            \n",
      "==============================================================================\n",
      "Dep. Variable:                      y   R-squared:                       0.759\n",
      "Model:                            OLS   Adj. R-squared:                  0.759\n",
      "Method:                 Least Squares   F-statistic:                 1.069e+04\n",
      "Date:                Thu, 14 Mar 2019   Prob (F-statistic):               0.00\n",
      "Time:                        16:21:44   Log-Likelihood:                -21027.\n",
      "No. Observations:               16968   AIC:                         4.206e+04\n",
      "Df Residuals:                   16963   BIC:                         4.210e+04\n",
      "Df Model:                           5                                         \n",
      "Covariance Type:            nonrobust                                         \n",
      "==============================================================================\n",
      "                 coef    std err          t      P>|t|      [0.025      0.975]\n",
      "------------------------------------------------------------------------------\n",
      "x1             0.0404      0.001     47.532      0.000       0.039       0.042\n",
      "x2          6.089e-05    2.8e-05      2.178      0.029    6.09e-06       0.000\n",
      "x3         -6.105e-05    2.8e-05     -2.184      0.029      -0.000   -6.26e-06\n",
      "x4             0.0005      0.001      0.471      0.638      -0.002       0.003\n",
      "x5             0.5485      0.010     56.097      0.000       0.529       0.568\n",
      "==============================================================================\n",
      "Omnibus:                    11347.358   Durbin-Watson:                   2.374\n",
      "Prob(Omnibus):                  0.000   Jarque-Bera (JB):           284404.423\n",
      "Skew:                           2.851   Prob(JB):                         0.00\n",
      "Kurtosis:                      22.229   Cond. No.                     6.48e+04\n",
      "==============================================================================\n",
      "\n",
      "Warnings:\n",
      "[1] Standard Errors assume that the covariance matrix of the errors is correctly specified.\n",
      "[2] The condition number is large, 6.48e+04. This might indicate that there are\n",
      "strong multicollinearity or other numerical problems.\n"
     ]
    }
   ],
   "source": [
    "parsed_features = featureExtractionCustomized(json_gopatriots)\n",
    "train_labels_pair = convertDictToNumpy(parsed_features, feature_list)\n",
    "pred_value = trainAndEvaluate(train_labels_pair)"
   ]
  },
  {
   "cell_type": "markdown",
   "metadata": {},
   "source": [
    "## Question 5"
   ]
  },
  {
   "cell_type": "code",
   "execution_count": 162,
   "metadata": {},
   "outputs": [],
   "source": [
    "def drawScatterPlots(feature_value, predicted_Y):\n",
    "    #Fitted values against true values\n",
    "    fig, ax = plt.subplots()\n",
    "    ax.scatter(x=feature_value, y= predicted_Y)\n",
    "    ax.set_xlabel('Feature values')\n",
    "    ax.set_ylabel('Predicted values')\n",
    "    plt.show()\n"
   ]
  },
  {
   "cell_type": "code",
   "execution_count": 163,
   "metadata": {},
   "outputs": [
    {
     "name": "stdout",
     "output_type": "stream",
     "text": [
      "(16968, 5)\n",
      "(16968,)\n"
     ]
    },
    {
     "data": {
      "image/png": "[encoded data removed]",
      "text/plain": [
       "<Figure size 432x288 with 1 Axes>"
      ]
     },
     "metadata": {
      "needs_background": "light"
     },
     "output_type": "display_data"
    },
    {
     "data": {
      "image/png": "[encoded data removed]",
      "text/plain": [
       "<Figure size 432x288 with 1 Axes>"
      ]
     },
     "metadata": {
      "needs_background": "light"
     },
     "output_type": "display_data"
    },
    {
     "data": {
      "image/png": "[encoded data removed]",
      "text/plain": [
       "<Figure size 432x288 with 1 Axes>"
      ]
     },
     "metadata": {
      "needs_background": "light"
     },
     "output_type": "display_data"
    }
   ],
   "source": [
    "print(train_labels_pair[\"features\"].shape)\n",
    "print(pred_value.shape)\n",
    "drawScatterPlots(train_labels_pair[\"features\"][:,0], pred_value)\n",
    "drawScatterPlots(train_labels_pair[\"features\"][:,3], pred_value)\n",
    "drawScatterPlots(train_labels_pair[\"features\"][:,4], pred_value)"
   ]
  },
  {
   "cell_type": "markdown",
   "metadata": {},
   "source": [
    "## Question 6"
   ]
  },
  {
   "cell_type": "code",
   "execution_count": 171,
   "metadata": {},
   "outputs": [],
   "source": [
    "format = '%Y-%m-%dT%H:%M:%S%z'\n",
    "datetime_start = datetime.datetime.strptime('2015-02-01T08:00:00-08:00', format)\n",
    "datetime_end = datetime.datetime.strptime('2015-02-01T20:00:00-08:00', format)\n",
    "\n",
    "def splitTweetByTimePeriod(json_objects):\n",
    "    first_period = list()\n",
    "    second_period = list()\n",
    "    third_period = list()\n",
    "    for i in range(len(json_objects)):\n",
    "        parsed_time = creationTimeParser(json_objects[i]['citation_date'])\n",
    "        if parsed_time < datetime_start:\n",
    "            first_period.append(json_objects[i])\n",
    "        elif parsed_time > datetime_end:\n",
    "            third_period.append(json_objects[i])\n",
    "        else:\n",
    "            second_period.append(json_objects[i])\n",
    "\n",
    "    return first_period, second_period, third_period\n",
    "    "
   ]
  },
  {
   "cell_type": "code",
   "execution_count": 172,
   "metadata": {},
   "outputs": [
    {
     "name": "stdout",
     "output_type": "stream",
     "text": [
      "5961 16739 811\n"
     ]
    }
   ],
   "source": [
    "first_period, second_period, third_period = splitTweetByTimePeriod(json_gopatriots)\n",
    "print (len(first_period), len(second_period), len(third_period))\n"
   ]
  },
  {
   "cell_type": "code",
   "execution_count": 177,
   "metadata": {},
   "outputs": [],
   "source": [
    "def creationTimeParserFiveMinutes(unix_time, time_zone = pytz.timezone('America/Los_Angeles')):\n",
    "    date_object = datetime.datetime.fromtimestamp(unix_time, time_zone)\n",
    "    date_object = date_object - datetime.timedelta(minutes=date_object.minute % 5,\n",
    "                             seconds=date_object.second,\n",
    "                             microseconds=date_object.microsecond)\n",
    "#     res_val = (date_object.month-1)*31*24+(date_object.day-1)*24+date_object.hour\n",
    "    return date_object"
   ]
  },
  {
   "cell_type": "code",
   "execution_count": 182,
   "metadata": {},
   "outputs": [],
   "source": [
    "def featureExtractionCustomizedFiveMinutes(json_objects):\n",
    "    hr2feature = dict()\n",
    "    for i in range(len(json_objects)):\n",
    "        parsed_time = creationTimeParserFiveMinutes(json_objects[i]['citation_date'])\n",
    "        if(i%100==0):\n",
    "            print(parsed_time)\n",
    "        if parsed_time in hr2feature:\n",
    "            hr2feature[parsed_time][\"num_tweets\"] += 1\n",
    "            hr2feature[parsed_time][\"num_retweets\"] += json_objects[i]['metrics']['citations']['total']\n",
    "            hr2feature[parsed_time][\"num_followers\"] += json_objects[i]['author']['followers']\n",
    "            hr2feature[parsed_time][\"max_followers\"] = max(hr2feature[parsed_time][\"max_followers\"], json_objects[i]['author']['followers'])\n",
    "        else:\n",
    "            hr2feature[parsed_time] = dict()\n",
    "            hr2feature[parsed_time][\"hr_of_day\"] = parsed_time.hour\n",
    "            hr2feature[parsed_time][\"num_tweets\"] = 1\n",
    "            hr2feature[parsed_time][\"num_retweets\"] = json_objects[i]['metrics']['citations']['total']\n",
    "            hr2feature[parsed_time][\"num_followers\"] = json_objects[i]['author']['followers']\n",
    "            hr2feature[parsed_time][\"max_followers\"] = json_objects[i]['author']['followers']\n",
    "    return hr2feature"
   ]
  },
  {
   "cell_type": "code",
   "execution_count": 183,
   "metadata": {},
   "outputs": [
    {
     "name": "stdout",
     "output_type": "stream",
     "text": [
      "2015-01-14 09:45:00-08:00\n",
      "2015-01-16 12:45:00-08:00\n",
      "2015-01-17 13:05:00-08:00\n",
      "2015-01-18 01:15:00-08:00\n",
      "2015-01-18 07:50:00-08:00\n",
      "2015-01-18 09:25:00-08:00\n",
      "2015-01-18 11:25:00-08:00\n",
      "2015-01-18 12:35:00-08:00\n",
      "2015-01-18 13:35:00-08:00\n",
      "2015-01-18 14:55:00-08:00\n",
      "2015-01-18 15:30:00-08:00\n",
      "2015-01-18 15:35:00-08:00\n",
      "2015-01-18 15:40:00-08:00\n",
      "2015-01-18 15:45:00-08:00\n",
      "2015-01-18 15:50:00-08:00\n",
      "2015-01-18 15:50:00-08:00\n",
      "2015-01-18 15:55:00-08:00\n",
      "2015-01-18 16:00:00-08:00\n",
      "2015-01-18 16:05:00-08:00\n",
      "2015-01-18 16:15:00-08:00\n",
      "2015-01-18 16:20:00-08:00\n",
      "2015-01-18 16:25:00-08:00\n",
      "2015-01-18 16:40:00-08:00\n",
      "2015-01-18 17:15:00-08:00\n",
      "2015-01-18 17:40:00-08:00\n",
      "2015-01-18 17:50:00-08:00\n",
      "2015-01-18 18:00:00-08:00\n",
      "2015-01-18 18:10:00-08:00\n",
      "2015-01-18 18:15:00-08:00\n",
      "2015-01-18 18:15:00-08:00\n",
      "2015-01-18 18:25:00-08:00\n",
      "2015-01-18 18:35:00-08:00\n",
      "2015-01-18 18:40:00-08:00\n",
      "2015-01-18 18:50:00-08:00\n",
      "2015-01-18 19:00:00-08:00\n",
      "2015-01-18 19:05:00-08:00\n",
      "2015-01-18 19:10:00-08:00\n",
      "2015-01-18 19:25:00-08:00\n",
      "2015-01-18 20:05:00-08:00\n",
      "2015-01-19 03:20:00-08:00\n",
      "2015-01-19 12:35:00-08:00\n",
      "2015-01-20 07:45:00-08:00\n",
      "2015-01-20 20:35:00-08:00\n",
      "2015-01-21 15:45:00-08:00\n",
      "2015-01-22 16:50:00-08:00\n",
      "2015-01-23 07:45:00-08:00\n",
      "2015-01-23 17:35:00-08:00\n",
      "2015-01-24 12:20:00-08:00\n",
      "2015-01-24 18:05:00-08:00\n",
      "2015-01-25 10:20:00-08:00\n",
      "2015-01-25 21:45:00-08:00\n",
      "2015-01-26 14:35:00-08:00\n",
      "2015-01-27 05:55:00-08:00\n",
      "2015-01-27 11:25:00-08:00\n",
      "2015-01-27 15:55:00-08:00\n",
      "2015-01-28 08:50:00-08:00\n",
      "2015-01-28 17:00:00-08:00\n",
      "2015-01-30 12:05:00-08:00\n",
      "2015-01-31 23:50:00-08:00\n",
      "2015-02-01 06:35:00-08:00\n"
     ]
    }
   ],
   "source": [
    "first = featureExtractionCustomizedFiveMinutes(first_period)"
   ]
  },
  {
   "cell_type": "code",
   "execution_count": null,
   "metadata": {},
   "outputs": [],
   "source": []
  }
 ],
 "metadata": {
  "kernelspec": {
   "display_name": "Python 3",
   "language": "python",
   "name": "python3"
  },
  "language_info": {
   "codemirror_mode": {
    "name": "ipython",
    "version": 3
   },
   "file_extension": ".py",
   "mimetype": "text/x-python",
   "name": "python",
   "nbconvert_exporter": "python",
   "pygments_lexer": "ipython3",
   "version": "3.7.1"
  }
 },
 "nbformat": 4,
 "nbformat_minor": 2
}
