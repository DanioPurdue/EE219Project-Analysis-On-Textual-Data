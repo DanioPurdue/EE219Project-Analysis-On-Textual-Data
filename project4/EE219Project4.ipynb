{
 "cells": [
  {
   "cell_type": "markdown",
   "metadata": {},
   "source": [
    "# Project 4 : Regression Analysis"
   ]
  },
  {
   "cell_type": "code",
   "execution_count": 181,
   "metadata": {},
   "outputs": [],
   "source": [
    "import numpy as np\n",
    "import pandas as pd\n",
    "import matplotlib.pyplot as plt\n",
    "import pylab as pl\n",
    "import statsmodels.api as sm\n",
    "from sklearn.linear_model import LinearRegression, Ridge, Lasso\n",
    "from sklearn.model_selection import cross_val_predict, cross_val_score\n",
    "from sklearn.metrics import mean_squared_error\n",
    "from sklearn.linear_model import RidgeCV, LassoCV\n",
    "from sklearn.model_selection import KFold\n",
    "from sklearn.preprocessing import LabelEncoder, OneHotEncoder, StandardScaler\n",
    "from sklearn.feature_selection import mutual_info_regression\n",
    "import random\n",
    "\n",
    "random.seed(42)"
   ]
  },
  {
   "cell_type": "markdown",
   "metadata": {},
   "source": [
    "## Dataset 1"
   ]
  },
  {
   "cell_type": "code",
   "execution_count": null,
   "metadata": {},
   "outputs": [],
   "source": []
  },
  {
   "cell_type": "markdown",
   "metadata": {},
   "source": [
    "## Dataset 2: Boston Housing Dataset"
   ]
  },
  {
   "cell_type": "code",
   "execution_count": 182,
   "metadata": {},
   "outputs": [
    {
     "data": {
      "text/html": [
       "<div>\n",
       "<style scoped>\n",
       "    .dataframe tbody tr th:only-of-type {\n",
       "        vertical-align: middle;\n",
       "    }\n",
       "\n",
       "    .dataframe tbody tr th {\n",
       "        vertical-align: top;\n",
       "    }\n",
       "\n",
       "    .dataframe thead th {\n",
       "        text-align: right;\n",
       "    }\n",
       "</style>\n",
       "<table border=\"1\" class=\"dataframe\">\n",
       "  <thead>\n",
       "    <tr style=\"text-align: right;\">\n",
       "      <th></th>\n",
       "      <th>CRIM</th>\n",
       "      <th>ZN</th>\n",
       "      <th>INDUS</th>\n",
       "      <th>CHAS</th>\n",
       "      <th>NOX</th>\n",
       "      <th>RM</th>\n",
       "      <th>AGE</th>\n",
       "      <th>DIS</th>\n",
       "      <th>RAD</th>\n",
       "      <th>TAX</th>\n",
       "      <th>PTRATIO</th>\n",
       "      <th>B</th>\n",
       "      <th>LSTAT</th>\n",
       "      <th>MEDV</th>\n",
       "    </tr>\n",
       "  </thead>\n",
       "  <tbody>\n",
       "    <tr>\n",
       "      <th>0</th>\n",
       "      <td>0.00632</td>\n",
       "      <td>18.0</td>\n",
       "      <td>2.31</td>\n",
       "      <td>0</td>\n",
       "      <td>0.538</td>\n",
       "      <td>6.575</td>\n",
       "      <td>65.2</td>\n",
       "      <td>4.0900</td>\n",
       "      <td>1</td>\n",
       "      <td>296</td>\n",
       "      <td>15.3</td>\n",
       "      <td>396.90</td>\n",
       "      <td>4.98</td>\n",
       "      <td>24.0</td>\n",
       "    </tr>\n",
       "    <tr>\n",
       "      <th>1</th>\n",
       "      <td>0.02731</td>\n",
       "      <td>0.0</td>\n",
       "      <td>7.07</td>\n",
       "      <td>0</td>\n",
       "      <td>0.469</td>\n",
       "      <td>6.421</td>\n",
       "      <td>78.9</td>\n",
       "      <td>4.9671</td>\n",
       "      <td>2</td>\n",
       "      <td>242</td>\n",
       "      <td>17.8</td>\n",
       "      <td>396.90</td>\n",
       "      <td>9.14</td>\n",
       "      <td>21.6</td>\n",
       "    </tr>\n",
       "    <tr>\n",
       "      <th>2</th>\n",
       "      <td>0.02729</td>\n",
       "      <td>0.0</td>\n",
       "      <td>7.07</td>\n",
       "      <td>0</td>\n",
       "      <td>0.469</td>\n",
       "      <td>7.185</td>\n",
       "      <td>61.1</td>\n",
       "      <td>4.9671</td>\n",
       "      <td>2</td>\n",
       "      <td>242</td>\n",
       "      <td>17.8</td>\n",
       "      <td>392.83</td>\n",
       "      <td>4.03</td>\n",
       "      <td>34.7</td>\n",
       "    </tr>\n",
       "    <tr>\n",
       "      <th>3</th>\n",
       "      <td>0.03237</td>\n",
       "      <td>0.0</td>\n",
       "      <td>2.18</td>\n",
       "      <td>0</td>\n",
       "      <td>0.458</td>\n",
       "      <td>6.998</td>\n",
       "      <td>45.8</td>\n",
       "      <td>6.0622</td>\n",
       "      <td>3</td>\n",
       "      <td>222</td>\n",
       "      <td>18.7</td>\n",
       "      <td>394.63</td>\n",
       "      <td>2.94</td>\n",
       "      <td>33.4</td>\n",
       "    </tr>\n",
       "    <tr>\n",
       "      <th>4</th>\n",
       "      <td>0.06905</td>\n",
       "      <td>0.0</td>\n",
       "      <td>2.18</td>\n",
       "      <td>0</td>\n",
       "      <td>0.458</td>\n",
       "      <td>7.147</td>\n",
       "      <td>54.2</td>\n",
       "      <td>6.0622</td>\n",
       "      <td>3</td>\n",
       "      <td>222</td>\n",
       "      <td>18.7</td>\n",
       "      <td>396.90</td>\n",
       "      <td>5.33</td>\n",
       "      <td>36.2</td>\n",
       "    </tr>\n",
       "  </tbody>\n",
       "</table>\n",
       "</div>"
      ],
      "text/plain": [
       "      CRIM    ZN  INDUS  CHAS    NOX     RM   AGE     DIS  RAD  TAX  PTRATIO  \\\n",
       "0  0.00632  18.0   2.31     0  0.538  6.575  65.2  4.0900    1  296     15.3   \n",
       "1  0.02731   0.0   7.07     0  0.469  6.421  78.9  4.9671    2  242     17.8   \n",
       "2  0.02729   0.0   7.07     0  0.469  7.185  61.1  4.9671    2  242     17.8   \n",
       "3  0.03237   0.0   2.18     0  0.458  6.998  45.8  6.0622    3  222     18.7   \n",
       "4  0.06905   0.0   2.18     0  0.458  7.147  54.2  6.0622    3  222     18.7   \n",
       "\n",
       "        B  LSTAT  MEDV  \n",
       "0  396.90   4.98  24.0  \n",
       "1  396.90   9.14  21.6  \n",
       "2  392.83   4.03  34.7  \n",
       "3  394.63   2.94  33.4  \n",
       "4  396.90   5.33  36.2  "
      ]
     },
     "execution_count": 182,
     "metadata": {},
     "output_type": "execute_result"
    }
   ],
   "source": [
    "housing_df = pd.read_csv(\"housing_data.csv\", names = ['CRIM','ZN','INDUS','CHAS','NOX','RM','AGE','DIS','RAD','TAX','PTRATIO','B','LSTAT','MEDV'])\n",
    "housing_df.head()"
   ]
  },
  {
   "cell_type": "markdown",
   "metadata": {},
   "source": [
    "### 2(a)"
   ]
  },
  {
   "cell_type": "code",
   "execution_count": 183,
   "metadata": {},
   "outputs": [
    {
     "data": {
      "text/html": [
       "<div>\n",
       "<style scoped>\n",
       "    .dataframe tbody tr th:only-of-type {\n",
       "        vertical-align: middle;\n",
       "    }\n",
       "\n",
       "    .dataframe tbody tr th {\n",
       "        vertical-align: top;\n",
       "    }\n",
       "\n",
       "    .dataframe thead th {\n",
       "        text-align: right;\n",
       "    }\n",
       "</style>\n",
       "<table border=\"1\" class=\"dataframe\">\n",
       "  <thead>\n",
       "    <tr style=\"text-align: right;\">\n",
       "      <th></th>\n",
       "      <th>CRIM</th>\n",
       "      <th>ZN</th>\n",
       "      <th>INDUS</th>\n",
       "      <th>CHAS</th>\n",
       "      <th>NOX</th>\n",
       "      <th>RM</th>\n",
       "      <th>AGE</th>\n",
       "      <th>DIS</th>\n",
       "      <th>RAD</th>\n",
       "      <th>TAX</th>\n",
       "      <th>PTRATIO</th>\n",
       "      <th>B</th>\n",
       "      <th>LSTAT</th>\n",
       "    </tr>\n",
       "  </thead>\n",
       "  <tbody>\n",
       "    <tr>\n",
       "      <th>0</th>\n",
       "      <td>0.00632</td>\n",
       "      <td>18.0</td>\n",
       "      <td>2.31</td>\n",
       "      <td>0</td>\n",
       "      <td>0.538</td>\n",
       "      <td>6.575</td>\n",
       "      <td>65.2</td>\n",
       "      <td>4.0900</td>\n",
       "      <td>1</td>\n",
       "      <td>296</td>\n",
       "      <td>15.3</td>\n",
       "      <td>396.90</td>\n",
       "      <td>4.98</td>\n",
       "    </tr>\n",
       "    <tr>\n",
       "      <th>1</th>\n",
       "      <td>0.02731</td>\n",
       "      <td>0.0</td>\n",
       "      <td>7.07</td>\n",
       "      <td>0</td>\n",
       "      <td>0.469</td>\n",
       "      <td>6.421</td>\n",
       "      <td>78.9</td>\n",
       "      <td>4.9671</td>\n",
       "      <td>2</td>\n",
       "      <td>242</td>\n",
       "      <td>17.8</td>\n",
       "      <td>396.90</td>\n",
       "      <td>9.14</td>\n",
       "    </tr>\n",
       "    <tr>\n",
       "      <th>2</th>\n",
       "      <td>0.02729</td>\n",
       "      <td>0.0</td>\n",
       "      <td>7.07</td>\n",
       "      <td>0</td>\n",
       "      <td>0.469</td>\n",
       "      <td>7.185</td>\n",
       "      <td>61.1</td>\n",
       "      <td>4.9671</td>\n",
       "      <td>2</td>\n",
       "      <td>242</td>\n",
       "      <td>17.8</td>\n",
       "      <td>392.83</td>\n",
       "      <td>4.03</td>\n",
       "    </tr>\n",
       "    <tr>\n",
       "      <th>3</th>\n",
       "      <td>0.03237</td>\n",
       "      <td>0.0</td>\n",
       "      <td>2.18</td>\n",
       "      <td>0</td>\n",
       "      <td>0.458</td>\n",
       "      <td>6.998</td>\n",
       "      <td>45.8</td>\n",
       "      <td>6.0622</td>\n",
       "      <td>3</td>\n",
       "      <td>222</td>\n",
       "      <td>18.7</td>\n",
       "      <td>394.63</td>\n",
       "      <td>2.94</td>\n",
       "    </tr>\n",
       "    <tr>\n",
       "      <th>4</th>\n",
       "      <td>0.06905</td>\n",
       "      <td>0.0</td>\n",
       "      <td>2.18</td>\n",
       "      <td>0</td>\n",
       "      <td>0.458</td>\n",
       "      <td>7.147</td>\n",
       "      <td>54.2</td>\n",
       "      <td>6.0622</td>\n",
       "      <td>3</td>\n",
       "      <td>222</td>\n",
       "      <td>18.7</td>\n",
       "      <td>396.90</td>\n",
       "      <td>5.33</td>\n",
       "    </tr>\n",
       "  </tbody>\n",
       "</table>\n",
       "</div>"
      ],
      "text/plain": [
       "      CRIM    ZN  INDUS  CHAS    NOX     RM   AGE     DIS  RAD  TAX  PTRATIO  \\\n",
       "0  0.00632  18.0   2.31     0  0.538  6.575  65.2  4.0900    1  296     15.3   \n",
       "1  0.02731   0.0   7.07     0  0.469  6.421  78.9  4.9671    2  242     17.8   \n",
       "2  0.02729   0.0   7.07     0  0.469  7.185  61.1  4.9671    2  242     17.8   \n",
       "3  0.03237   0.0   2.18     0  0.458  6.998  45.8  6.0622    3  222     18.7   \n",
       "4  0.06905   0.0   2.18     0  0.458  7.147  54.2  6.0622    3  222     18.7   \n",
       "\n",
       "        B  LSTAT  \n",
       "0  396.90   4.98  \n",
       "1  396.90   9.14  \n",
       "2  392.83   4.03  \n",
       "3  394.63   2.94  \n",
       "4  396.90   5.33  "
      ]
     },
     "execution_count": 183,
     "metadata": {},
     "output_type": "execute_result"
    }
   ],
   "source": [
    "housing_df_train_X = housing_df.drop(['MEDV'], axis=1)\n",
    "housing_df_train_X.head()"
   ]
  },
  {
   "cell_type": "code",
   "execution_count": 184,
   "metadata": {},
   "outputs": [
    {
     "data": {
      "text/html": [
       "<div>\n",
       "<style scoped>\n",
       "    .dataframe tbody tr th:only-of-type {\n",
       "        vertical-align: middle;\n",
       "    }\n",
       "\n",
       "    .dataframe tbody tr th {\n",
       "        vertical-align: top;\n",
       "    }\n",
       "\n",
       "    .dataframe thead th {\n",
       "        text-align: right;\n",
       "    }\n",
       "</style>\n",
       "<table border=\"1\" class=\"dataframe\">\n",
       "  <thead>\n",
       "    <tr style=\"text-align: right;\">\n",
       "      <th></th>\n",
       "      <th>MEDV</th>\n",
       "    </tr>\n",
       "  </thead>\n",
       "  <tbody>\n",
       "    <tr>\n",
       "      <th>0</th>\n",
       "      <td>24.0</td>\n",
       "    </tr>\n",
       "    <tr>\n",
       "      <th>1</th>\n",
       "      <td>21.6</td>\n",
       "    </tr>\n",
       "    <tr>\n",
       "      <th>2</th>\n",
       "      <td>34.7</td>\n",
       "    </tr>\n",
       "    <tr>\n",
       "      <th>3</th>\n",
       "      <td>33.4</td>\n",
       "    </tr>\n",
       "    <tr>\n",
       "      <th>4</th>\n",
       "      <td>36.2</td>\n",
       "    </tr>\n",
       "  </tbody>\n",
       "</table>\n",
       "</div>"
      ],
      "text/plain": [
       "   MEDV\n",
       "0  24.0\n",
       "1  21.6\n",
       "2  34.7\n",
       "3  33.4\n",
       "4  36.2"
      ]
     },
     "execution_count": 184,
     "metadata": {},
     "output_type": "execute_result"
    }
   ],
   "source": [
    "housing_df_train_Y = housing_df[['MEDV']]\n",
    "housing_df_train_Y.head()"
   ]
  },
  {
   "cell_type": "code",
   "execution_count": 185,
   "metadata": {},
   "outputs": [
    {
     "name": "stdout",
     "output_type": "stream",
     "text": [
      "                            OLS Regression Results                            \n",
      "==============================================================================\n",
      "Dep. Variable:                      y   R-squared:                       0.959\n",
      "Model:                            OLS   Adj. R-squared:                  0.958\n",
      "Method:                 Least Squares   F-statistic:                     891.3\n",
      "Date:                Sat, 02 Mar 2019   Prob (F-statistic):               0.00\n",
      "Time:                        12:15:14   Log-Likelihood:                -1523.8\n",
      "No. Observations:                 506   AIC:                             3074.\n",
      "Df Residuals:                     493   BIC:                             3128.\n",
      "Df Model:                          13                                         \n",
      "Covariance Type:            nonrobust                                         \n",
      "==============================================================================\n",
      "                 coef    std err          t      P>|t|      [0.025      0.975]\n",
      "------------------------------------------------------------------------------\n",
      "x1            -0.0929      0.034     -2.699      0.007      -0.161      -0.025\n",
      "x2             0.0487      0.014      3.382      0.001       0.020       0.077\n",
      "x3            -0.0041      0.064     -0.063      0.950      -0.131       0.123\n",
      "x4             2.8540      0.904      3.157      0.002       1.078       4.630\n",
      "x5            -2.8684      3.359     -0.854      0.394      -9.468       3.731\n",
      "x6             5.9281      0.309     19.178      0.000       5.321       6.535\n",
      "x7            -0.0073      0.014     -0.526      0.599      -0.034       0.020\n",
      "x8            -0.9685      0.196     -4.951      0.000      -1.353      -0.584\n",
      "x9             0.1712      0.067      2.564      0.011       0.040       0.302\n",
      "x10           -0.0094      0.004     -2.395      0.017      -0.017      -0.002\n",
      "x11           -0.3922      0.110     -3.570      0.000      -0.608      -0.176\n",
      "x12            0.0149      0.003      5.528      0.000       0.010       0.020\n",
      "x13           -0.4163      0.051     -8.197      0.000      -0.516      -0.317\n",
      "==============================================================================\n",
      "Omnibus:                      204.082   Durbin-Watson:                   0.999\n",
      "Prob(Omnibus):                  0.000   Jarque-Bera (JB):             1374.225\n",
      "Skew:                           1.609   Prob(JB):                    3.90e-299\n",
      "Kurtosis:                      10.404   Cond. No.                     8.50e+03\n",
      "==============================================================================\n",
      "\n",
      "Warnings:\n",
      "[1] Standard Errors assume that the covariance matrix of the errors is correctly specified.\n",
      "[2] The condition number is large, 8.5e+03. This might indicate that there are\n",
      "strong multicollinearity or other numerical problems.\n"
     ]
    }
   ],
   "source": [
    "housing_df_train_X = np.array(housing_df_train_X)\n",
    "housing_df_train_Y = np.array(housing_df_train_Y)\n",
    "mod = sm.OLS(housing_df_train_Y, housing_df_train_X)    # Describe model\n",
    "res = mod.fit()       # Fit model\n",
    "print(res.summary()) \n",
    "\n",
    "#Variable with high P value is not significant"
   ]
  },
  {
   "cell_type": "code",
   "execution_count": 186,
   "metadata": {},
   "outputs": [],
   "source": [
    "def TenFoldCV(model, train_X, train_Y):\n",
    "    kf = KFold(n_splits=10, shuffle=True, random_state=42)\n",
    "    kf.get_n_splits(train_X)\n",
    "    \n",
    "    training_rmse = list()\n",
    "    testing_rmse = list()\n",
    "    for train_index, test_index in kf.split(train_X):\n",
    "        model.fit(train_X[train_index],train_Y[train_index])\n",
    "        #training rmse\n",
    "        predicted_Y = model.predict(train_X[train_index])\n",
    "        training_rmse.append(np.sqrt(mean_squared_error(predicted_Y, train_Y[train_index])))\n",
    "        #testing rmse\n",
    "        predicted_Y = model.predict(train_X[test_index])\n",
    "        testing_rmse.append(np.sqrt(mean_squared_error(predicted_Y, train_Y[test_index])))\n",
    "    print(\"Average training RMSE: \", np.average(training_rmse))\n",
    "    print(\"Average testing RMSE: \", np.average(testing_rmse))\n",
    "    return training_rmse, testing_rmse"
   ]
  },
  {
   "cell_type": "code",
   "execution_count": 187,
   "metadata": {},
   "outputs": [],
   "source": [
    "def drawScatterPlots(train_Y, predicted_Y):\n",
    "    fig, ax = plt.subplots()\n",
    "    ax.scatter(x=train_Y, y= predicted_Y)\n",
    "    ax.plot([train_Y.min(), train_Y.max()], [train_Y.min(), train_Y.max()],  'k--', lw=3)\n",
    "    ax.set_xlabel('True values')\n",
    "    ax.set_ylabel('Fitted values')\n",
    "    plt.show()\n",
    "\n",
    "\n",
    "    residual_Y = train_Y - predicted_Y\n",
    "    fig, ax = plt.subplots()\n",
    "    ax.scatter(predicted_Y, residual_Y)\n",
    "    ax.set_xlabel('Fitted values')\n",
    "    ax.set_ylabel('Residual')\n",
    "    plt.show()"
   ]
  },
  {
   "cell_type": "code",
   "execution_count": 188,
   "metadata": {},
   "outputs": [
    {
     "name": "stdout",
     "output_type": "stream",
     "text": [
      "Average training RMSE:  4.670454144364911\n",
      "Average testing RMSE:  4.7929925360045855\n",
      "[[-1.08011358e-01  4.64204584e-02  2.05586264e-02  2.68673382e+00\n",
      "  -1.77666112e+01  3.80986521e+00  6.92224640e-04 -1.47556685e+00\n",
      "   3.06049479e-01 -1.23345939e-02 -9.52747232e-01  9.31168327e-03\n",
      "  -5.24758378e-01]]\n"
     ]
    },
    {
     "data": {
      "image/png": "[encoded data removed]",
      "text/plain": [
       "<Figure size 432x288 with 1 Axes>"
      ]
     },
     "metadata": {
      "needs_background": "light"
     },
     "output_type": "display_data"
    },
    {
     "data": {
      "image/png": "[encoded data removed]",
      "text/plain": [
       "<Figure size 432x288 with 1 Axes>"
      ]
     },
     "metadata": {
      "needs_background": "light"
     },
     "output_type": "display_data"
    }
   ],
   "source": [
    "reg = LinearRegression(normalize=True)\n",
    "TenFoldCV(reg,housing_df_train_X, housing_df_train_Y )\n",
    "\n",
    "reg.fit(housing_df_train_X,housing_df_train_Y)\n",
    "housing_df_predicted_Y = reg.predict(housing_df_train_X)\n",
    "print(reg.coef_)\n",
    "\n",
    "drawScatterPlots(housing_df_train_Y,housing_df_predicted_Y )"
   ]
  },
  {
   "cell_type": "code",
   "execution_count": 189,
   "metadata": {},
   "outputs": [
    {
     "name": "stdout",
     "output_type": "stream",
     "text": [
      "alpha: 1\n",
      "Average training RMSE:  5.545176844466782\n",
      "Average testing RMSE:  5.579532934486909\n",
      "alpha: 0.1\n",
      "Average training RMSE:  4.751909135062023\n",
      "Average testing RMSE:  4.842625212247374\n",
      "alpha: 0.01\n",
      "Average training RMSE:  4.672847000708183\n",
      "Average testing RMSE:  4.790628723005426\n",
      "alpha: 0.001\n",
      "Average training RMSE:  4.670483185518561\n",
      "Average testing RMSE:  4.792508850868982\n",
      "----------\n",
      "[[-1.03542237e-01  4.34058197e-02  5.19960647e-03  2.74630656e+00\n",
      "  -1.66255959e+01  3.86518807e+00 -3.41085552e-04 -1.41355030e+00\n",
      "   2.69158524e-01 -1.05767047e-02 -9.34595971e-01  9.28758725e-03\n",
      "  -5.15910557e-01]]\n",
      "Best Alpha value for Ridge Regression : 0.01\n",
      "Best RMSE for corresponding Alpha = 4.681570246920186\n"
     ]
    },
    {
     "name": "stderr",
     "output_type": "stream",
     "text": [
      "/anaconda3/lib/python3.7/site-packages/sklearn/model_selection/_search.py:841: DeprecationWarning: The default of the `iid` parameter will change from True to False in version 0.22 and will be removed in 0.24. This will change numeric results when test-set sizes are unequal.\n",
      "  DeprecationWarning)\n"
     ]
    }
   ],
   "source": [
    "# Ridge regression\n",
    "Alpha = [1,0.1,0.01,0.001]\n",
    "\n",
    "rmse_for_Alpha = list()\n",
    "for alpha in Alpha:\n",
    "    ridge = Ridge(normalize=True, alpha = alpha)\n",
    "    print(\"alpha: \" + str(alpha))\n",
    "    _ , testing_rmse = TenFoldCV(ridge, housing_df_train_X, housing_df_train_Y)\n",
    "    rmse_for_Alpha.append(np.average(testing_rmse))\n",
    "\n",
    "print (\"----------\")\n",
    "\n",
    "best_alpha = Alpha[np.argmin(rmse_for_Alpha)]\n",
    "ridge = RidgeCV(normalize=True,alphas= [best_alpha], cv=10)\n",
    "ridge.fit(housing_df_train_X, housing_df_train_Y)\n",
    "housing_df_predicted_Y = ridge.predict(housing_df_train_X)\n",
    "print(ridge.coef_)\n",
    "\n",
    "print (\"Best Alpha value for Ridge Regression : \" + str(best_alpha))\n",
    "print ('Best RMSE for corresponding Alpha =', np.sqrt(mean_squared_error(housing_df_train_Y, housing_df_predicted_Y)))\n"
   ]
  },
  {
   "cell_type": "code",
   "execution_count": 190,
   "metadata": {
    "scrolled": true
   },
   "outputs": [
    {
     "name": "stdout",
     "output_type": "stream",
     "text": [
      "alpha: 1\n",
      "Average training RMSE:  9.187066923162694\n",
      "Average testing RMSE:  9.175068056880152\n",
      "alpha: 0.1\n",
      "Average training RMSE:  5.8631153265534115\n",
      "Average testing RMSE:  5.8899258054840615\n",
      "alpha: 0.01\n",
      "Average training RMSE:  4.8473396474252475\n",
      "Average testing RMSE:  4.955764682248477\n",
      "alpha: 0.001\n",
      "Average training RMSE:  4.673439627316392\n",
      "Average testing RMSE:  4.787186640815802\n",
      "alpha: 0.0005\n",
      "Average training RMSE:  4.671258450235468\n",
      "Average testing RMSE:  4.789598782525104\n",
      "alpha: 0.0001\n",
      "Average training RMSE:  4.6704879302046765\n",
      "Average testing RMSE:  4.792236760244802\n",
      "----------\n",
      "[-1.00549239e-01  4.23750555e-02  0.00000000e+00  2.69026297e+00\n",
      " -1.65258561e+01  3.85232711e+00 -0.00000000e+00 -1.41597570e+00\n",
      "  2.63004585e-01 -1.02547310e-02 -9.33489599e-01  9.08023522e-03\n",
      " -5.22501984e-01]\n",
      "Best Alpha value for Lasso Regularization : 0.001\n",
      "Best RMSE for corresponding Alpha = 4.682152165446494\n"
     ]
    },
    {
     "name": "stderr",
     "output_type": "stream",
     "text": [
      "/anaconda3/lib/python3.7/site-packages/sklearn/linear_model/coordinate_descent.py:1109: DataConversionWarning: A column-vector y was passed when a 1d array was expected. Please change the shape of y to (n_samples, ), for example using ravel().\n",
      "  y = column_or_1d(y, warn=True)\n"
     ]
    }
   ],
   "source": [
    "# Lasso Regression\n",
    "\n",
    "Alpha = [1,0.1,0.01,0.001,0.0005, 0.0001]\n",
    "\n",
    "rmse_for_Alpha = list()\n",
    "for alpha in Alpha:\n",
    "    lasso = Lasso(normalize=True, alpha = alpha)\n",
    "    print(\"alpha: \" + str(alpha))\n",
    "    _ , testing_rmse = TenFoldCV(lasso, housing_df_train_X, housing_df_train_Y)\n",
    "    rmse_for_Alpha.append(np.average(testing_rmse))\n",
    "\n",
    "print (\"----------\")\n",
    "\n",
    "best_alpha = Alpha[np.argmin(rmse_for_Alpha)]\n",
    "lasso = LassoCV(normalize=True, alphas = [best_alpha], cv=10)\n",
    "lasso.fit(housing_df_train_X,housing_df_train_Y)\n",
    "housing_df_predicted_Y = lasso.predict(housing_df_train_X)\n",
    "print(lasso.coef_)\n",
    "\n",
    "print (\"Best Alpha value for Lasso Regularization : \" + str(best_alpha))\n",
    "print ('Best RMSE for corresponding Alpha =', np.sqrt(mean_squared_error(housing_df_train_Y, housing_df_predicted_Y)))"
   ]
  },
  {
   "cell_type": "markdown",
   "metadata": {},
   "source": [
    "## Dataset 3"
   ]
  },
  {
   "cell_type": "code",
   "execution_count": 191,
   "metadata": {},
   "outputs": [
    {
     "data": {
      "text/html": [
       "<div>\n",
       "<style scoped>\n",
       "    .dataframe tbody tr th:only-of-type {\n",
       "        vertical-align: middle;\n",
       "    }\n",
       "\n",
       "    .dataframe tbody tr th {\n",
       "        vertical-align: top;\n",
       "    }\n",
       "\n",
       "    .dataframe thead th {\n",
       "        text-align: right;\n",
       "    }\n",
       "</style>\n",
       "<table border=\"1\" class=\"dataframe\">\n",
       "  <thead>\n",
       "    <tr style=\"text-align: right;\">\n",
       "      <th></th>\n",
       "      <th>ft4</th>\n",
       "      <th>ft5</th>\n",
       "      <th>ft6</th>\n",
       "    </tr>\n",
       "  </thead>\n",
       "  <tbody>\n",
       "    <tr>\n",
       "      <th>0</th>\n",
       "      <td>female</td>\n",
       "      <td>yes</td>\n",
       "      <td>southwest</td>\n",
       "    </tr>\n",
       "    <tr>\n",
       "      <th>1</th>\n",
       "      <td>male</td>\n",
       "      <td>no</td>\n",
       "      <td>southeast</td>\n",
       "    </tr>\n",
       "    <tr>\n",
       "      <th>2</th>\n",
       "      <td>male</td>\n",
       "      <td>no</td>\n",
       "      <td>southeast</td>\n",
       "    </tr>\n",
       "    <tr>\n",
       "      <th>3</th>\n",
       "      <td>male</td>\n",
       "      <td>no</td>\n",
       "      <td>northwest</td>\n",
       "    </tr>\n",
       "    <tr>\n",
       "      <th>4</th>\n",
       "      <td>male</td>\n",
       "      <td>no</td>\n",
       "      <td>northwest</td>\n",
       "    </tr>\n",
       "  </tbody>\n",
       "</table>\n",
       "</div>"
      ],
      "text/plain": [
       "      ft4  ft5        ft6\n",
       "0  female  yes  southwest\n",
       "1    male   no  southeast\n",
       "2    male   no  southeast\n",
       "3    male   no  northwest\n",
       "4    male   no  northwest"
      ]
     },
     "execution_count": 191,
     "metadata": {},
     "output_type": "execute_result"
    }
   ],
   "source": [
    "insurance_df = pd.read_csv(\"insurance_data.csv\")\n",
    "insurance_df_categroical = insurance_df.select_dtypes(include=[object])\n",
    "insurance_df_categroical.head()"
   ]
  },
  {
   "cell_type": "code",
   "execution_count": 192,
   "metadata": {},
   "outputs": [],
   "source": [
    "# 1. INSTANTIATE\n",
    "enc = OneHotEncoder()\n",
    "# 2. FIT\n",
    "enc.fit(insurance_df_categroical)\n",
    "# 3. Transform\n",
    "one_hot_labels = enc.transform(insurance_df_categroical).toarray()"
   ]
  },
  {
   "cell_type": "code",
   "execution_count": 193,
   "metadata": {},
   "outputs": [],
   "source": [
    "insurance_df_train_Y = np.array(insurance_df['charges'])\n",
    "insurance_df_numerical = np.array(insurance_df[['ft1', 'ft2', 'ft3']])\n",
    "insurance_df_train_X = np.concatenate((insurance_df_numerical, one_hot_labels), axis=1)"
   ]
  },
  {
   "cell_type": "code",
   "execution_count": 194,
   "metadata": {},
   "outputs": [
    {
     "name": "stdout",
     "output_type": "stream",
     "text": [
      "Average training RMSE:  6040.352471670377\n",
      "Average testing RMSE:  6066.1961592429025\n"
     ]
    },
    {
     "data": {
      "image/png": "[encoded data removed]",
      "text/plain": [
       "<Figure size 432x288 with 1 Axes>"
      ]
     },
     "metadata": {
      "needs_background": "light"
     },
     "output_type": "display_data"
    },
    {
     "data": {
      "image/png": "[encoded data removed]",
      "text/plain": [
       "<Figure size 432x288 with 1 Axes>"
      ]
     },
     "metadata": {
      "needs_background": "light"
     },
     "output_type": "display_data"
    }
   ],
   "source": [
    "reg = LinearRegression(normalize=True)\n",
    "\n",
    "TenFoldCV(reg,insurance_df_train_X, insurance_df_train_Y )\n",
    "\n",
    "reg.fit(insurance_df_train_X,insurance_df_train_Y)\n",
    "insurance_df_predicted_Y = reg.predict(insurance_df_train_X)\n",
    "\n",
    "drawScatterPlots(insurance_df_train_Y,insurance_df_predicted_Y )"
   ]
  },
  {
   "cell_type": "code",
   "execution_count": 195,
   "metadata": {},
   "outputs": [
    {
     "name": "stdout",
     "output_type": "stream",
     "text": [
      "Average training RMSE:  6040.884853215843\n",
      "Average testing RMSE:  6072.56145214846\n"
     ]
    },
    {
     "data": {
      "image/png": "[encoded data removed]",
      "text/plain": [
       "<Figure size 432x288 with 1 Axes>"
      ]
     },
     "metadata": {
      "needs_background": "light"
     },
     "output_type": "display_data"
    },
    {
     "data": {
      "image/png": "[encoded data removed]",
      "text/plain": [
       "<Figure size 432x288 with 1 Axes>"
      ]
     },
     "metadata": {
      "needs_background": "light"
     },
     "output_type": "display_data"
    }
   ],
   "source": [
    "scaler = StandardScaler()\n",
    "standard_numerical = scaler.fit_transform(insurance_df_numerical)\n",
    "\n",
    "insurance_df_train_X = np.concatenate((standard_numerical, one_hot_labels), axis=1)\n",
    "reg = LinearRegression(normalize=True)\n",
    "\n",
    "TenFoldCV(reg,insurance_df_train_X, insurance_df_train_Y )\n",
    "\n",
    "reg.fit(insurance_df_train_X,insurance_df_train_Y)\n",
    "insurance_df_predicted_Y = reg.predict(insurance_df_train_X)\n",
    "\n",
    "drawScatterPlots(insurance_df_train_Y,insurance_df_predicted_Y )"
   ]
  },
  {
   "cell_type": "code",
   "execution_count": 196,
   "metadata": {},
   "outputs": [
    {
     "name": "stdout",
     "output_type": "stream",
     "text": [
      "Average training RMSE:  6199.837835214862\n",
      "Average testing RMSE:  6226.071276987422\n"
     ]
    },
    {
     "data": {
      "image/png": "[encoded data removed]",
      "text/plain": [
       "<Figure size 432x288 with 1 Axes>"
      ]
     },
     "metadata": {
      "needs_background": "light"
     },
     "output_type": "display_data"
    },
    {
     "data": {
      "image/png": "[encoded data removed]",
      "text/plain": [
       "<Figure size 432x288 with 1 Axes>"
      ]
     },
     "metadata": {
      "needs_background": "light"
     },
     "output_type": "display_data"
    }
   ],
   "source": [
    "insurance_df_ft1 = np.array(insurance_df['ft1'])\n",
    "insurance_df_ft2_ft3 = np.array(insurance_df[['ft2', 'ft3']])\n",
    "new_ft1 = list()\n",
    "\n",
    "for val in insurance_df_ft1:\n",
    "    if val < 30:\n",
    "        new_ft1.append([1])\n",
    "    elif val > 50:\n",
    "        new_ft1.append([3])\n",
    "    else:\n",
    "        new_ft1.append([2])\n",
    "        \n",
    "standard_ft2_ft3 = scaler.fit_transform(insurance_df_ft2_ft3)\n",
    "        \n",
    "insurance_df_train_X = np.concatenate((new_ft1,standard_ft2_ft3, one_hot_labels), axis=1)\n",
    "reg = LinearRegression(normalize=True)\n",
    "\n",
    "TenFoldCV(reg,insurance_df_train_X, insurance_df_train_Y )\n",
    "\n",
    "reg.fit(insurance_df_train_X,insurance_df_train_Y)\n",
    "insurance_df_predicted_Y = reg.predict(insurance_df_train_X)\n",
    "\n",
    "drawScatterPlots(insurance_df_train_Y,insurance_df_predicted_Y )"
   ]
  },
  {
   "cell_type": "code",
   "execution_count": 197,
   "metadata": {},
   "outputs": [],
   "source": [
    "le = LabelEncoder()\n",
    "\n",
    "ft4 = np.array(insurance_df_categroical['ft4'])\n",
    "ft5 = np.array(insurance_df_categroical['ft5'])\n",
    "ft6 = np.array(insurance_df_categroical['ft6'])\n",
    "new_ft4 = le.fit_transform(ft4)\n",
    "new_ft5 = le.fit_transform(ft5)\n",
    "new_ft6 = le.fit_transform(ft6)\n",
    "\n",
    "new_ft4 = np.reshape(new_ft4, (length,1))\n",
    "new_ft5 = np.reshape(new_ft5, (length,1))\n",
    "new_ft6 = np.reshape(new_ft6, (length,1))\n",
    "\n",
    "insurance_df_train_X = np.concatenate((insurance_df_numerical,new_ft4, new_ft5, new_ft6), axis=1)\n",
    "# numerical_labels = le.transform(insurance_df_categroical).toarray()"
   ]
  },
  {
   "cell_type": "code",
   "execution_count": null,
   "metadata": {},
   "outputs": [],
   "source": []
  }
 ],
 "metadata": {
  "kernelspec": {
   "display_name": "Python 3",
   "language": "python",
   "name": "python3"
  },
  "language_info": {
   "codemirror_mode": {
    "name": "ipython",
    "version": 3
   },
   "file_extension": ".py",
   "mimetype": "text/x-python",
   "name": "python",
   "nbconvert_exporter": "python",
   "pygments_lexer": "ipython3",
   "version": "3.7.1"
  }
 },
 "nbformat": 4,
 "nbformat_minor": 2
}
