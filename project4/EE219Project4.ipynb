{
 "cells": [
  {
   "cell_type": "markdown",
   "metadata": {},
   "source": [
    "# Project 4 : Regression Analysis"
   ]
  },
  {
   "cell_type": "code",
   "execution_count": 1,
   "metadata": {},
   "outputs": [],
   "source": [
    "import numpy as np\n",
    "import pandas as pd\n",
    "import matplotlib.pyplot as plt\n",
    "import pylab as pl\n",
    "import statsmodels.api as sm\n",
    "from sklearn.linear_model import LinearRegression, Ridge, Lasso\n",
    "from sklearn.model_selection import cross_val_predict, cross_val_score\n",
    "from sklearn.metrics import mean_squared_error\n",
    "from sklearn.linear_model import RidgeCV, LassoCV\n",
    "from sklearn.model_selection import KFold\n",
    "from sklearn.preprocessing import LabelEncoder, OneHotEncoder, StandardScaler\n",
    "import random\n",
    "\n",
    "random.seed(42)"
   ]
  },
  {
   "cell_type": "markdown",
   "metadata": {},
   "source": [
    "## Dataset 1"
   ]
  },
  {
   "cell_type": "markdown",
   "metadata": {},
   "source": [
    "## Dataset 2: Boston Housing Dataset"
   ]
  },
  {
   "cell_type": "code",
   "execution_count": 2,
   "metadata": {},
   "outputs": [
    {
     "data": {
      "text/html": [
       "<div>\n",
       "<style scoped>\n",
       "    .dataframe tbody tr th:only-of-type {\n",
       "        vertical-align: middle;\n",
       "    }\n",
       "\n",
       "    .dataframe tbody tr th {\n",
       "        vertical-align: top;\n",
       "    }\n",
       "\n",
       "    .dataframe thead th {\n",
       "        text-align: right;\n",
       "    }\n",
       "</style>\n",
       "<table border=\"1\" class=\"dataframe\">\n",
       "  <thead>\n",
       "    <tr style=\"text-align: right;\">\n",
       "      <th></th>\n",
       "      <th>CRIM</th>\n",
       "      <th>ZN</th>\n",
       "      <th>INDUS</th>\n",
       "      <th>CHAS</th>\n",
       "      <th>NOX</th>\n",
       "      <th>RM</th>\n",
       "      <th>AGE</th>\n",
       "      <th>DIS</th>\n",
       "      <th>RAD</th>\n",
       "      <th>TAX</th>\n",
       "      <th>PTRATIO</th>\n",
       "      <th>B</th>\n",
       "      <th>LSTAT</th>\n",
       "      <th>MEDV</th>\n",
       "    </tr>\n",
       "  </thead>\n",
       "  <tbody>\n",
       "    <tr>\n",
       "      <th>0</th>\n",
       "      <td>0.00632</td>\n",
       "      <td>18.0</td>\n",
       "      <td>2.31</td>\n",
       "      <td>0</td>\n",
       "      <td>0.538</td>\n",
       "      <td>6.575</td>\n",
       "      <td>65.2</td>\n",
       "      <td>4.0900</td>\n",
       "      <td>1</td>\n",
       "      <td>296</td>\n",
       "      <td>15.3</td>\n",
       "      <td>396.90</td>\n",
       "      <td>4.98</td>\n",
       "      <td>24.0</td>\n",
       "    </tr>\n",
       "    <tr>\n",
       "      <th>1</th>\n",
       "      <td>0.02731</td>\n",
       "      <td>0.0</td>\n",
       "      <td>7.07</td>\n",
       "      <td>0</td>\n",
       "      <td>0.469</td>\n",
       "      <td>6.421</td>\n",
       "      <td>78.9</td>\n",
       "      <td>4.9671</td>\n",
       "      <td>2</td>\n",
       "      <td>242</td>\n",
       "      <td>17.8</td>\n",
       "      <td>396.90</td>\n",
       "      <td>9.14</td>\n",
       "      <td>21.6</td>\n",
       "    </tr>\n",
       "    <tr>\n",
       "      <th>2</th>\n",
       "      <td>0.02729</td>\n",
       "      <td>0.0</td>\n",
       "      <td>7.07</td>\n",
       "      <td>0</td>\n",
       "      <td>0.469</td>\n",
       "      <td>7.185</td>\n",
       "      <td>61.1</td>\n",
       "      <td>4.9671</td>\n",
       "      <td>2</td>\n",
       "      <td>242</td>\n",
       "      <td>17.8</td>\n",
       "      <td>392.83</td>\n",
       "      <td>4.03</td>\n",
       "      <td>34.7</td>\n",
       "    </tr>\n",
       "    <tr>\n",
       "      <th>3</th>\n",
       "      <td>0.03237</td>\n",
       "      <td>0.0</td>\n",
       "      <td>2.18</td>\n",
       "      <td>0</td>\n",
       "      <td>0.458</td>\n",
       "      <td>6.998</td>\n",
       "      <td>45.8</td>\n",
       "      <td>6.0622</td>\n",
       "      <td>3</td>\n",
       "      <td>222</td>\n",
       "      <td>18.7</td>\n",
       "      <td>394.63</td>\n",
       "      <td>2.94</td>\n",
       "      <td>33.4</td>\n",
       "    </tr>\n",
       "    <tr>\n",
       "      <th>4</th>\n",
       "      <td>0.06905</td>\n",
       "      <td>0.0</td>\n",
       "      <td>2.18</td>\n",
       "      <td>0</td>\n",
       "      <td>0.458</td>\n",
       "      <td>7.147</td>\n",
       "      <td>54.2</td>\n",
       "      <td>6.0622</td>\n",
       "      <td>3</td>\n",
       "      <td>222</td>\n",
       "      <td>18.7</td>\n",
       "      <td>396.90</td>\n",
       "      <td>5.33</td>\n",
       "      <td>36.2</td>\n",
       "    </tr>\n",
       "  </tbody>\n",
       "</table>\n",
       "</div>"
      ],
      "text/plain": [
       "      CRIM    ZN  INDUS  CHAS    NOX     RM   AGE     DIS  RAD  TAX  PTRATIO  \\\n",
       "0  0.00632  18.0   2.31     0  0.538  6.575  65.2  4.0900    1  296     15.3   \n",
       "1  0.02731   0.0   7.07     0  0.469  6.421  78.9  4.9671    2  242     17.8   \n",
       "2  0.02729   0.0   7.07     0  0.469  7.185  61.1  4.9671    2  242     17.8   \n",
       "3  0.03237   0.0   2.18     0  0.458  6.998  45.8  6.0622    3  222     18.7   \n",
       "4  0.06905   0.0   2.18     0  0.458  7.147  54.2  6.0622    3  222     18.7   \n",
       "\n",
       "        B  LSTAT  MEDV  \n",
       "0  396.90   4.98  24.0  \n",
       "1  396.90   9.14  21.6  \n",
       "2  392.83   4.03  34.7  \n",
       "3  394.63   2.94  33.4  \n",
       "4  396.90   5.33  36.2  "
      ]
     },
     "execution_count": 2,
     "metadata": {},
     "output_type": "execute_result"
    }
   ],
   "source": [
    "housing_df = pd.read_csv(\"housing_data.csv\", names = ['CRIM','ZN','INDUS','CHAS','NOX','RM','AGE','DIS','RAD','TAX','PTRATIO','B','LSTAT','MEDV'])\n",
    "housing_df.head()"
   ]
  },
  {
   "cell_type": "markdown",
   "metadata": {},
   "source": [
    "### 2(a)"
   ]
  },
  {
   "cell_type": "code",
   "execution_count": 29,
   "metadata": {},
   "outputs": [
    {
     "data": {
      "text/html": [
       "<div>\n",
       "<style scoped>\n",
       "    .dataframe tbody tr th:only-of-type {\n",
       "        vertical-align: middle;\n",
       "    }\n",
       "\n",
       "    .dataframe tbody tr th {\n",
       "        vertical-align: top;\n",
       "    }\n",
       "\n",
       "    .dataframe thead th {\n",
       "        text-align: right;\n",
       "    }\n",
       "</style>\n",
       "<table border=\"1\" class=\"dataframe\">\n",
       "  <thead>\n",
       "    <tr style=\"text-align: right;\">\n",
       "      <th></th>\n",
       "      <th>CRIM</th>\n",
       "      <th>ZN</th>\n",
       "      <th>INDUS</th>\n",
       "      <th>CHAS</th>\n",
       "      <th>NOX</th>\n",
       "      <th>RM</th>\n",
       "      <th>AGE</th>\n",
       "      <th>DIS</th>\n",
       "      <th>RAD</th>\n",
       "      <th>TAX</th>\n",
       "      <th>PTRATIO</th>\n",
       "      <th>B</th>\n",
       "      <th>LSTAT</th>\n",
       "    </tr>\n",
       "  </thead>\n",
       "  <tbody>\n",
       "    <tr>\n",
       "      <th>0</th>\n",
       "      <td>0.00632</td>\n",
       "      <td>18.0</td>\n",
       "      <td>2.31</td>\n",
       "      <td>0</td>\n",
       "      <td>0.538</td>\n",
       "      <td>6.575</td>\n",
       "      <td>65.2</td>\n",
       "      <td>4.0900</td>\n",
       "      <td>1</td>\n",
       "      <td>296</td>\n",
       "      <td>15.3</td>\n",
       "      <td>396.90</td>\n",
       "      <td>4.98</td>\n",
       "    </tr>\n",
       "    <tr>\n",
       "      <th>1</th>\n",
       "      <td>0.02731</td>\n",
       "      <td>0.0</td>\n",
       "      <td>7.07</td>\n",
       "      <td>0</td>\n",
       "      <td>0.469</td>\n",
       "      <td>6.421</td>\n",
       "      <td>78.9</td>\n",
       "      <td>4.9671</td>\n",
       "      <td>2</td>\n",
       "      <td>242</td>\n",
       "      <td>17.8</td>\n",
       "      <td>396.90</td>\n",
       "      <td>9.14</td>\n",
       "    </tr>\n",
       "    <tr>\n",
       "      <th>2</th>\n",
       "      <td>0.02729</td>\n",
       "      <td>0.0</td>\n",
       "      <td>7.07</td>\n",
       "      <td>0</td>\n",
       "      <td>0.469</td>\n",
       "      <td>7.185</td>\n",
       "      <td>61.1</td>\n",
       "      <td>4.9671</td>\n",
       "      <td>2</td>\n",
       "      <td>242</td>\n",
       "      <td>17.8</td>\n",
       "      <td>392.83</td>\n",
       "      <td>4.03</td>\n",
       "    </tr>\n",
       "    <tr>\n",
       "      <th>3</th>\n",
       "      <td>0.03237</td>\n",
       "      <td>0.0</td>\n",
       "      <td>2.18</td>\n",
       "      <td>0</td>\n",
       "      <td>0.458</td>\n",
       "      <td>6.998</td>\n",
       "      <td>45.8</td>\n",
       "      <td>6.0622</td>\n",
       "      <td>3</td>\n",
       "      <td>222</td>\n",
       "      <td>18.7</td>\n",
       "      <td>394.63</td>\n",
       "      <td>2.94</td>\n",
       "    </tr>\n",
       "    <tr>\n",
       "      <th>4</th>\n",
       "      <td>0.06905</td>\n",
       "      <td>0.0</td>\n",
       "      <td>2.18</td>\n",
       "      <td>0</td>\n",
       "      <td>0.458</td>\n",
       "      <td>7.147</td>\n",
       "      <td>54.2</td>\n",
       "      <td>6.0622</td>\n",
       "      <td>3</td>\n",
       "      <td>222</td>\n",
       "      <td>18.7</td>\n",
       "      <td>396.90</td>\n",
       "      <td>5.33</td>\n",
       "    </tr>\n",
       "  </tbody>\n",
       "</table>\n",
       "</div>"
      ],
      "text/plain": [
       "      CRIM    ZN  INDUS  CHAS    NOX     RM   AGE     DIS  RAD  TAX  PTRATIO  \\\n",
       "0  0.00632  18.0   2.31     0  0.538  6.575  65.2  4.0900    1  296     15.3   \n",
       "1  0.02731   0.0   7.07     0  0.469  6.421  78.9  4.9671    2  242     17.8   \n",
       "2  0.02729   0.0   7.07     0  0.469  7.185  61.1  4.9671    2  242     17.8   \n",
       "3  0.03237   0.0   2.18     0  0.458  6.998  45.8  6.0622    3  222     18.7   \n",
       "4  0.06905   0.0   2.18     0  0.458  7.147  54.2  6.0622    3  222     18.7   \n",
       "\n",
       "        B  LSTAT  \n",
       "0  396.90   4.98  \n",
       "1  396.90   9.14  \n",
       "2  392.83   4.03  \n",
       "3  394.63   2.94  \n",
       "4  396.90   5.33  "
      ]
     },
     "execution_count": 29,
     "metadata": {},
     "output_type": "execute_result"
    }
   ],
   "source": [
    "housing_df_train_X = housing_df.drop(['MEDV'], axis=1)\n",
    "housing_df_train_X.head()"
   ]
  },
  {
   "cell_type": "code",
   "execution_count": 4,
   "metadata": {},
   "outputs": [
    {
     "data": {
      "text/html": [
       "<div>\n",
       "<style scoped>\n",
       "    .dataframe tbody tr th:only-of-type {\n",
       "        vertical-align: middle;\n",
       "    }\n",
       "\n",
       "    .dataframe tbody tr th {\n",
       "        vertical-align: top;\n",
       "    }\n",
       "\n",
       "    .dataframe thead th {\n",
       "        text-align: right;\n",
       "    }\n",
       "</style>\n",
       "<table border=\"1\" class=\"dataframe\">\n",
       "  <thead>\n",
       "    <tr style=\"text-align: right;\">\n",
       "      <th></th>\n",
       "      <th>MEDV</th>\n",
       "    </tr>\n",
       "  </thead>\n",
       "  <tbody>\n",
       "    <tr>\n",
       "      <th>0</th>\n",
       "      <td>24.0</td>\n",
       "    </tr>\n",
       "    <tr>\n",
       "      <th>1</th>\n",
       "      <td>21.6</td>\n",
       "    </tr>\n",
       "    <tr>\n",
       "      <th>2</th>\n",
       "      <td>34.7</td>\n",
       "    </tr>\n",
       "    <tr>\n",
       "      <th>3</th>\n",
       "      <td>33.4</td>\n",
       "    </tr>\n",
       "    <tr>\n",
       "      <th>4</th>\n",
       "      <td>36.2</td>\n",
       "    </tr>\n",
       "  </tbody>\n",
       "</table>\n",
       "</div>"
      ],
      "text/plain": [
       "   MEDV\n",
       "0  24.0\n",
       "1  21.6\n",
       "2  34.7\n",
       "3  33.4\n",
       "4  36.2"
      ]
     },
     "execution_count": 4,
     "metadata": {},
     "output_type": "execute_result"
    }
   ],
   "source": [
    "housing_df_train_Y = housing_df[['MEDV']]\n",
    "housing_df_train_Y.head()"
   ]
  },
  {
   "cell_type": "code",
   "execution_count": 5,
   "metadata": {},
   "outputs": [
    {
     "name": "stdout",
     "output_type": "stream",
     "text": [
      "                            OLS Regression Results                            \n",
      "==============================================================================\n",
      "Dep. Variable:                   MEDV   R-squared:                       0.959\n",
      "Model:                            OLS   Adj. R-squared:                  0.958\n",
      "Method:                 Least Squares   F-statistic:                     891.3\n",
      "Date:                Thu, 28 Feb 2019   Prob (F-statistic):               0.00\n",
      "Time:                        17:01:37   Log-Likelihood:                -1523.8\n",
      "No. Observations:                 506   AIC:                             3074.\n",
      "Df Residuals:                     493   BIC:                             3128.\n",
      "Df Model:                          13                                         \n",
      "Covariance Type:            nonrobust                                         \n",
      "==============================================================================\n",
      "                 coef    std err          t      P>|t|      [0.025      0.975]\n",
      "------------------------------------------------------------------------------\n",
      "CRIM          -0.0929      0.034     -2.699      0.007      -0.161      -0.025\n",
      "ZN             0.0487      0.014      3.382      0.001       0.020       0.077\n",
      "INDUS         -0.0041      0.064     -0.063      0.950      -0.131       0.123\n",
      "CHAS           2.8540      0.904      3.157      0.002       1.078       4.630\n",
      "NOX           -2.8684      3.359     -0.854      0.394      -9.468       3.731\n",
      "RM             5.9281      0.309     19.178      0.000       5.321       6.535\n",
      "AGE           -0.0073      0.014     -0.526      0.599      -0.034       0.020\n",
      "DIS           -0.9685      0.196     -4.951      0.000      -1.353      -0.584\n",
      "RAD            0.1712      0.067      2.564      0.011       0.040       0.302\n",
      "TAX           -0.0094      0.004     -2.395      0.017      -0.017      -0.002\n",
      "PTRATIO       -0.3922      0.110     -3.570      0.000      -0.608      -0.176\n",
      "B              0.0149      0.003      5.528      0.000       0.010       0.020\n",
      "LSTAT         -0.4163      0.051     -8.197      0.000      -0.516      -0.317\n",
      "==============================================================================\n",
      "Omnibus:                      204.082   Durbin-Watson:                   0.999\n",
      "Prob(Omnibus):                  0.000   Jarque-Bera (JB):             1374.225\n",
      "Skew:                           1.609   Prob(JB):                    3.90e-299\n",
      "Kurtosis:                      10.404   Cond. No.                     8.50e+03\n",
      "==============================================================================\n",
      "\n",
      "Warnings:\n",
      "[1] Standard Errors assume that the covariance matrix of the errors is correctly specified.\n",
      "[2] The condition number is large, 8.5e+03. This might indicate that there are\n",
      "strong multicollinearity or other numerical problems.\n"
     ]
    }
   ],
   "source": [
    "mod = sm.OLS(housing_df_train_Y, housing_df_train_X)    # Describe model\n",
    "res = mod.fit()       # Fit model\n",
    "print(res.summary()) "
   ]
  },
  {
   "cell_type": "code",
   "execution_count": 27,
   "metadata": {},
   "outputs": [
    {
     "name": "stdout",
     "output_type": "stream",
     "text": [
      "(506, 13)\n",
      "[3.872447917865735, 5.727523422258135, 4.195196917463274, 4.834131459135343, 5.9289588153184845, 4.376744068394966, 4.913319148699763, 4.421279503065314, 4.502016662188997, 5.158307445655851]\n",
      "('Average RMSE: ', 4.792992536004586)\n"
     ]
    },
    {
     "data": {
      "image/png": "[encoded data removed]",
      "text/plain": [
       "<matplotlib.figure.Figure at 0x7f57c6cbafd0>"
      ]
     },
     "metadata": {},
     "output_type": "display_data"
    },
    {
     "data": {
      "image/png": "[encoded data removed]",
      "text/plain": [
       "<matplotlib.figure.Figure at 0x7f57c6ce1650>"
      ]
     },
     "metadata": {},
     "output_type": "display_data"
    }
   ],
   "source": [
    "reg = LinearRegression(normalize=True)\n",
    "kf = KFold(n_splits=10, shuffle=True, random_state=42)\n",
    "\n",
    "kf.get_n_splits(housing_df_train_X)\n",
    "\n",
    "print housing_df_train_X.shape\n",
    "\n",
    "rmse = list()\n",
    "for train_index, test_index in kf.split(housing_df_train_X):\n",
    "    reg.fit(housing_df_train_X.iloc[train_index],housing_df_train_Y.iloc[train_index])\n",
    "    housing_df_predicted_Y = reg.predict(housing_df_train_X.iloc[test_index])\n",
    "    rmse.append(np.sqrt(mean_squared_error(housing_df_predicted_Y, housing_df_train_Y.iloc[test_index])))\n",
    "print (rmse)\n",
    "print(\"Average RMSE: \", np.average(rmse))\n",
    "\n",
    "housing_df_predicted_Y = cross_val_predict(reg, housing_df_train_X, housing_df_train_Y, cv=10)\n",
    "\n",
    "fig, ax = plt.subplots()\n",
    "ax.scatter(x=housing_df_train_Y, y= housing_df_predicted_Y)\n",
    "ax.plot([housing_df_train_Y.min(), housing_df_train_Y.max()], [housing_df_train_Y.min(), housing_df_train_Y.max()],  'k--', lw=3)\n",
    "ax.set_xlabel('True values')\n",
    "ax.set_ylabel('Fitted values')\n",
    "plt.show()\n",
    "\n",
    "\n",
    "housing_df_residual_Y = housing_df_train_Y - housing_df_predicted_Y\n",
    "fig, ax = plt.subplots()\n",
    "ax.scatter(housing_df_predicted_Y, housing_df_residual_Y)\n",
    "ax.set_xlabel('Fitted values')\n",
    "ax.set_ylabel('Residual')\n",
    "plt.show()"
   ]
  },
  {
   "cell_type": "code",
   "execution_count": 35,
   "metadata": {},
   "outputs": [
    {
     "name": "stdout",
     "output_type": "stream",
     "text": [
      "(506, 13)\n",
      "[4.244303967913415, 6.21210564372675, 5.322073367802636, 5.521959889997004, 6.535385284140871, 5.683875527272805, 5.863411757061045, 5.525798436777132, 5.445690040352643, 5.4407254298247985]\n",
      "('Average RMSE: ', 5.5795329344869105)\n",
      "[3.8091566182264276, 5.8592949009973525, 4.388430405714157, 4.801712030438955, 6.050651438289825, 4.495273965307879, 5.070108883157557, 4.377456546005831, 4.48169742308738, 5.092469911248388]\n",
      "('Average RMSE: ', 4.842625212247375)\n",
      "[3.8560466754453655, 5.748181107203951, 4.218401241726072, 4.816033487954131, 5.947972848919888, 4.376078872449082, 4.929578421939491, 4.394306390792238, 4.475851827676898, 5.14383635594717]\n",
      "('Average RMSE: ', 4.79062872300543)\n",
      "[3.8705073616835013, 5.7296904012668435, 4.197543585380039, 4.8319127448856305, 5.9309821344485485, 4.376175862533, 4.914866751314421, 4.418047326152296, 4.498713002537471, 5.156649338488097]\n",
      "('Average RMSE: ', 4.792508850868985)\n",
      "----------\n",
      "4.695151993608747\n",
      "4.679573505950084\n",
      "4.679195573192363\n",
      "4.679191338971784\n",
      "Best Alpha value for Ridge Regression : 1\n",
      "Best RMSE for corresponding Alpha = 4.695151993608747\n"
     ]
    }
   ],
   "source": [
    "# Ridge regression\n",
    "Alpha = [1,0.1,0.01,0.001]\n",
    "\n",
    "kf = KFold(n_splits=10, shuffle=True, random_state=42)\n",
    "kf.get_n_splits(housing_df_train_X)\n",
    "\n",
    "print housing_df_train_X.shape\n",
    "\n",
    "for alpha in Alpha:\n",
    "    rmse = list()\n",
    "    for train_index, test_index in kf.split(housing_df_train_X):\n",
    "        ridge = Ridge(normalize=True, alpha = alpha)\n",
    "        ridge.fit(housing_df_train_X.iloc[train_index],housing_df_train_Y.iloc[train_index])\n",
    "        housing_df_predicted_Y = ridge.predict(housing_df_train_X.iloc[test_index])\n",
    "        rmse.append(np.sqrt(mean_squared_error(housing_df_predicted_Y, housing_df_train_Y.iloc[test_index])))\n",
    "    print (rmse)\n",
    "    print(\"Average RMSE: \", np.average(rmse))\n",
    "\n",
    "print \"----------\"\n",
    "\n",
    "for alpha in Alpha:\n",
    "    ridge = RidgeCV(normalize=True,alphas=[alpha], cv=10)\n",
    "    ridge.fit(housing_df_train_X, housing_df_train_Y)\n",
    "    housing_df_predicted_Y = ridge.predict(housing_df_train_X)\n",
    "    print np.sqrt(mean_squared_error(housing_df_train_Y, housing_df_predicted_Y))\n",
    "\n",
    "ridge = RidgeCV(normalize=True,alphas=Alpha, cv=10)\n",
    "ridge.fit(housing_df_train_X, housing_df_train_Y)\n",
    "housing_df_predicted_Y = ridge.predict(housing_df_train_X)\n",
    "\n",
    "print \"Best Alpha value for Ridge Regression : \" + str(ridge.alpha_)\n",
    "print 'Best RMSE for corresponding Alpha =', np.sqrt(mean_squared_error(housing_df_train_Y, housing_df_predicted_Y))\n"
   ]
  },
  {
   "cell_type": "code",
   "execution_count": 36,
   "metadata": {
    "scrolled": true
   },
   "outputs": [
    {
     "name": "stdout",
     "output_type": "stream",
     "text": [
      "(506, 13)\n",
      "[8.062755503617616, 9.188767033037271, 8.834859102210826, 9.077410674464076, 9.862232874662878, 9.737938464491101, 10.177710171430562, 9.820694587172296, 8.841613826607915, 8.146698331106961]\n",
      "('Average RMSE: ', 9.175068056880152)\n",
      "[8.062755503617616, 9.188767033037271, 8.834859102210826, 9.077410674464076, 9.862232874662878, 9.737938464491101, 10.177710171430562, 9.820694587172296, 8.841613826607915, 8.146698331106961]\n",
      "('Average RMSE: ', 9.175068056880152)\n",
      "[4.683947382964237, 6.423035952997043, 5.742788231229351, 5.793562616211027, 6.539146583229234, 5.9951472934703895, 6.286883668022519, 6.1233236445565655, 5.586722147200121, 5.724700534960138]\n",
      "('Average RMSE: ', 5.889925805484062)\n",
      "[3.9987950549619415, 6.0684275601135695, 4.578790317941074, 4.87895166717999, 6.089443577108721, 4.739405042790576, 5.2305343447569514, 4.384952968845454, 4.29925890175156, 5.2890873870349315]\n",
      "('Average RMSE: ', 4.955764682248477)\n",
      "[3.8574980811651103, 5.7441377970464895, 4.213797702439086, 4.818827546303331, 5.941078714368237, 4.384121392158184, 4.9193789816073545, 4.390375212611648, 4.458522452685297, 5.144128527773288]\n",
      "('Average RMSE: ', 4.787186640815802)\n",
      "[3.8638788606841565, 5.734996573103191, 4.203457513648133, 4.826951415631021, 5.935691880275611, 4.379970819701742, 4.915605058836074, 4.405184415324206, 4.4796756668664734, 5.150575621180437]\n",
      "('Average RMSE: ', 4.789598782525104)\n",
      "[3.8705370878929384, 5.728876292197537, 4.1966698295260905, 4.833204747522248, 5.930286293317662, 4.377011157398484, 4.9136471668503, 4.417961974744401, 4.497526225920629, 5.1566468270777355]\n",
      "('Average RMSE: ', 4.792236760244803)\n",
      "----------\n",
      "9.188011545278203\n",
      "score:0.0\n",
      "9.188011545278203\n",
      "score:0.0\n",
      "5.934751084125399\n",
      "score:0.5827830418182645\n",
      "4.865853883870655\n",
      "score:0.7195373311915958\n",
      "4.682152165446495\n",
      "score:0.7403143311978406\n",
      "4.680112365551023\n",
      "score:0.740540548286407\n",
      "4.679231179618332\n",
      "score:0.7406382427336031\n",
      "score:0.7195373311915958\n",
      "Best Alpha value for Lasso Regularization : 0.01\n",
      "Best RMSE for corresponding Alpha = 4.865853883870655\n"
     ]
    },
    {
     "name": "stderr",
     "output_type": "stream",
     "text": [
      "/usr/local/lib/python2.7/dist-packages/sklearn/linear_model/coordinate_descent.py:1082: DataConversionWarning: A column-vector y was passed when a 1d array was expected. Please change the shape of y to (n_samples, ), for example using ravel().\n",
      "  y = column_or_1d(y, warn=True)\n",
      "/usr/local/lib/python2.7/dist-packages/sklearn/linear_model/coordinate_descent.py:1082: DataConversionWarning: A column-vector y was passed when a 1d array was expected. Please change the shape of y to (n_samples, ), for example using ravel().\n",
      "  y = column_or_1d(y, warn=True)\n",
      "/usr/local/lib/python2.7/dist-packages/sklearn/linear_model/coordinate_descent.py:1082: DataConversionWarning: A column-vector y was passed when a 1d array was expected. Please change the shape of y to (n_samples, ), for example using ravel().\n",
      "  y = column_or_1d(y, warn=True)\n",
      "/usr/local/lib/python2.7/dist-packages/sklearn/linear_model/coordinate_descent.py:1082: DataConversionWarning: A column-vector y was passed when a 1d array was expected. Please change the shape of y to (n_samples, ), for example using ravel().\n",
      "  y = column_or_1d(y, warn=True)\n",
      "/usr/local/lib/python2.7/dist-packages/sklearn/linear_model/coordinate_descent.py:1082: DataConversionWarning: A column-vector y was passed when a 1d array was expected. Please change the shape of y to (n_samples, ), for example using ravel().\n",
      "  y = column_or_1d(y, warn=True)\n",
      "/usr/local/lib/python2.7/dist-packages/sklearn/linear_model/coordinate_descent.py:1082: DataConversionWarning: A column-vector y was passed when a 1d array was expected. Please change the shape of y to (n_samples, ), for example using ravel().\n",
      "  y = column_or_1d(y, warn=True)\n",
      "/usr/local/lib/python2.7/dist-packages/sklearn/linear_model/coordinate_descent.py:1082: DataConversionWarning: A column-vector y was passed when a 1d array was expected. Please change the shape of y to (n_samples, ), for example using ravel().\n",
      "  y = column_or_1d(y, warn=True)\n",
      "/usr/local/lib/python2.7/dist-packages/sklearn/linear_model/coordinate_descent.py:1082: DataConversionWarning: A column-vector y was passed when a 1d array was expected. Please change the shape of y to (n_samples, ), for example using ravel().\n",
      "  y = column_or_1d(y, warn=True)\n"
     ]
    }
   ],
   "source": [
    "# Lasso Regression\n",
    "\n",
    "Alpha = [10, 1,0.1,0.01,0.001,0.0005, 0.0001]\n",
    "\n",
    "\n",
    "kf = KFold(n_splits=10, shuffle=True, random_state=42)\n",
    "kf.get_n_splits(housing_df_train_X)\n",
    "\n",
    "print housing_df_train_X.shape\n",
    "\n",
    "for alpha in Alpha:\n",
    "    rmse = list()\n",
    "    for train_index, test_index in kf.split(housing_df_train_X):\n",
    "        lasso = Lasso(normalize=True, alpha = alpha)\n",
    "        lasso.fit(housing_df_train_X.iloc[train_index],housing_df_train_Y.iloc[train_index])\n",
    "        housing_df_predicted_Y = lasso.predict(housing_df_train_X.iloc[test_index])\n",
    "        rmse.append(np.sqrt(mean_squared_error(housing_df_predicted_Y, housing_df_train_Y.iloc[test_index])))\n",
    "    print (rmse)\n",
    "    print(\"Average RMSE: \", np.average(rmse))\n",
    "\n",
    "print \"----------\"\n",
    "\n",
    "for alpha in Alpha:\n",
    "    lasso = LassoCV(normalize=True, alphas=[alpha], cv=10)\n",
    "    lasso.fit(housing_df_train_X,housing_df_train_Y)\n",
    "    housing_df_predicted_Y = lasso.predict(housing_df_train_X)\n",
    "    print np.sqrt(mean_squared_error(housing_df_train_Y, housing_df_predicted_Y))\n",
    "    print \"score:\" + str(lasso.score(housing_df_train_X, housing_df_train_Y))\n",
    "    \n",
    "lasso = LassoCV(normalize=True, alphas = Alpha, cv=10)\n",
    "lasso.fit(housing_df_train_X,housing_df_train_Y)\n",
    "housing_df_predicted_Y = lasso.predict(housing_df_train_X)\n",
    "print \"score:\" + str(lasso.score(housing_df_train_X, housing_df_train_Y))\n",
    "\n",
    "print \"Best Alpha value for Lasso Regularization : \" + str(lasso.alpha_)\n",
    "print 'Best RMSE for corresponding Alpha =', np.sqrt(mean_squared_error(housing_df_train_Y, housing_df_predicted_Y))"
   ]
  },
  {
   "cell_type": "markdown",
   "metadata": {},
   "source": [
    "## Dataset 3"
   ]
  },
  {
   "cell_type": "code",
   "execution_count": 56,
   "metadata": {},
   "outputs": [],
   "source": [
    "insurance_df = pd.read_csv(\"insurance_data.csv\")\n",
    "X = insurance_df.select_dtypes(include=[object])"
   ]
  },
  {
   "cell_type": "code",
   "execution_count": 51,
   "metadata": {},
   "outputs": [
    {
     "name": "stdout",
     "output_type": "stream",
     "text": [
      "(1338, 3)\n",
      "Index([u'ft4', u'ft5', u'ft6'], dtype='object')\n"
     ]
    }
   ],
   "source": [
    "print X.shape\n",
    "print X.columns\n"
   ]
  },
  {
   "cell_type": "code",
   "execution_count": 52,
   "metadata": {},
   "outputs": [
    {
     "data": {
      "text/html": [
       "<div>\n",
       "<style scoped>\n",
       "    .dataframe tbody tr th:only-of-type {\n",
       "        vertical-align: middle;\n",
       "    }\n",
       "\n",
       "    .dataframe tbody tr th {\n",
       "        vertical-align: top;\n",
       "    }\n",
       "\n",
       "    .dataframe thead th {\n",
       "        text-align: right;\n",
       "    }\n",
       "</style>\n",
       "<table border=\"1\" class=\"dataframe\">\n",
       "  <thead>\n",
       "    <tr style=\"text-align: right;\">\n",
       "      <th></th>\n",
       "      <th>ft4</th>\n",
       "      <th>ft5</th>\n",
       "      <th>ft6</th>\n",
       "    </tr>\n",
       "  </thead>\n",
       "  <tbody>\n",
       "    <tr>\n",
       "      <th>0</th>\n",
       "      <td>0</td>\n",
       "      <td>1</td>\n",
       "      <td>3</td>\n",
       "    </tr>\n",
       "    <tr>\n",
       "      <th>1</th>\n",
       "      <td>1</td>\n",
       "      <td>0</td>\n",
       "      <td>2</td>\n",
       "    </tr>\n",
       "    <tr>\n",
       "      <th>2</th>\n",
       "      <td>1</td>\n",
       "      <td>0</td>\n",
       "      <td>2</td>\n",
       "    </tr>\n",
       "    <tr>\n",
       "      <th>3</th>\n",
       "      <td>1</td>\n",
       "      <td>0</td>\n",
       "      <td>1</td>\n",
       "    </tr>\n",
       "    <tr>\n",
       "      <th>4</th>\n",
       "      <td>1</td>\n",
       "      <td>0</td>\n",
       "      <td>1</td>\n",
       "    </tr>\n",
       "  </tbody>\n",
       "</table>\n",
       "</div>"
      ],
      "text/plain": [
       "   ft4  ft5  ft6\n",
       "0    0    1    3\n",
       "1    1    0    2\n",
       "2    1    0    2\n",
       "3    1    0    1\n",
       "4    1    0    1"
      ]
     },
     "execution_count": 52,
     "metadata": {},
     "output_type": "execute_result"
    }
   ],
   "source": [
    "label_encoder = LabelEncoder()\n",
    "integer_encoded = X.apply(label_encoder.fit_transform)\n",
    "integer_encoded.head()"
   ]
  },
  {
   "cell_type": "code",
   "execution_count": 53,
   "metadata": {},
   "outputs": [
    {
     "data": {
      "text/plain": [
       "(1338, 8)"
      ]
     },
     "execution_count": 53,
     "metadata": {},
     "output_type": "execute_result"
    }
   ],
   "source": [
    "# 1. INSTANTIATE\n",
    "enc = OneHotEncoder()\n",
    "\n",
    "# 2. FIT\n",
    "enc.fit(integer_encoded)\n",
    "\n",
    "# 3. Transform\n",
    "onehotlabels = enc.transform(integer_encoded).toarray()\n",
    "onehotlabels.shape"
   ]
  },
  {
   "cell_type": "code",
   "execution_count": 72,
   "metadata": {},
   "outputs": [
    {
     "name": "stdout",
     "output_type": "stream",
     "text": [
      "(1338,)\n",
      "[[19.   27.9   0.  ]\n",
      " [18.   33.77  1.  ]\n",
      " [28.   33.    3.  ]\n",
      " ...\n",
      " [18.   36.85  0.  ]\n",
      " [21.   25.8   0.  ]\n",
      " [61.   29.07  0.  ]]\n",
      "[[19.   27.9   0.   ...  0.    0.    1.  ]\n",
      " [18.   33.77  1.   ...  0.    1.    0.  ]\n",
      " [28.   33.    3.   ...  0.    1.    0.  ]\n",
      " ...\n",
      " [18.   36.85  0.   ...  0.    1.    0.  ]\n",
      " [21.   25.8   0.   ...  0.    0.    1.  ]\n",
      " [61.   29.07  0.   ...  1.    0.    0.  ]]\n"
     ]
    }
   ],
   "source": [
    "train_Y = np.array(insurance_df['charges'])\n",
    "print train_Y.shape\n",
    "\n",
    "train_X = np.array(insurance_df[['ft1', 'ft2', 'ft3']])\n",
    "print train_X\n",
    "\n",
    "nc = np.concatenate((train_X, onehotlabels), axis=1)"
   ]
  },
  {
   "cell_type": "code",
   "execution_count": 73,
   "metadata": {},
   "outputs": [
    {
     "name": "stdout",
     "output_type": "stream",
     "text": [
      "                            OLS Regression Results                            \n",
      "==============================================================================\n",
      "Dep. Variable:                      y   R-squared:                       0.751\n",
      "Model:                            OLS   Adj. R-squared:                  0.749\n",
      "Method:                 Least Squares   F-statistic:                     500.8\n",
      "Date:                Thu, 28 Feb 2019   Prob (F-statistic):               0.00\n",
      "Time:                        15:15:04   Log-Likelihood:                -13548.\n",
      "No. Observations:                1338   AIC:                         2.711e+04\n",
      "Df Residuals:                    1329   BIC:                         2.716e+04\n",
      "Df Model:                           8                                         \n",
      "Covariance Type:            nonrobust                                         \n",
      "==============================================================================\n",
      "                 coef    std err          t      P>|t|      [0.025      0.975]\n",
      "------------------------------------------------------------------------------\n",
      "x1           256.8564     11.899     21.587      0.000     233.514     280.199\n",
      "x2           339.1935     28.599     11.860      0.000     283.088     395.298\n",
      "x3           475.5005    137.804      3.451      0.001     205.163     745.838\n",
      "x4          -201.1179    418.353     -0.481      0.631   -1021.823     619.587\n",
      "x5          -332.4323    425.031     -0.782      0.434   -1166.237     501.372\n",
      "x6         -1.219e+04    419.605    -29.054      0.000    -1.3e+04   -1.14e+04\n",
      "x7          1.166e+04    457.738     25.468      0.000    1.08e+04    1.26e+04\n",
      "x8           453.6217    332.155      1.366      0.172    -197.983    1105.226\n",
      "x9           100.6578    333.891      0.301      0.763    -554.352     755.668\n",
      "x10         -581.4004    381.765     -1.523      0.128   -1330.328     167.527\n",
      "x11         -506.4293    351.178     -1.442      0.150   -1195.353     182.494\n",
      "==============================================================================\n",
      "Omnibus:                      300.366   Durbin-Watson:                   2.088\n",
      "Prob(Omnibus):                  0.000   Jarque-Bera (JB):              718.887\n",
      "Skew:                           1.211   Prob(JB):                    7.86e-157\n",
      "Kurtosis:                       5.651   Cond. No.                     6.16e+17\n",
      "==============================================================================\n",
      "\n",
      "Warnings:\n",
      "[1] Standard Errors assume that the covariance matrix of the errors is correctly specified.\n",
      "[2] The smallest eigenvalue is 9.25e-30. This might indicate that there are\n",
      "strong multicollinearity problems or that the design matrix is singular.\n"
     ]
    }
   ],
   "source": [
    "mod = sm.OLS(train_Y, nc)    # Describe model\n",
    "res = mod.fit()       # Fit model\n",
    "print(res.summary()) "
   ]
  },
  {
   "cell_type": "code",
   "execution_count": 78,
   "metadata": {},
   "outputs": [
    {
     "name": "stdout",
     "output_type": "stream",
     "text": [
      "(1338, 3)\n",
      "                            OLS Regression Results                            \n",
      "==============================================================================\n",
      "Dep. Variable:                      y   R-squared:                       0.751\n",
      "Model:                            OLS   Adj. R-squared:                  0.749\n",
      "Method:                 Least Squares   F-statistic:                     500.8\n",
      "Date:                Thu, 28 Feb 2019   Prob (F-statistic):               0.00\n",
      "Time:                        15:17:56   Log-Likelihood:                -13548.\n",
      "No. Observations:                1338   AIC:                         2.711e+04\n",
      "Df Residuals:                    1329   BIC:                         2.716e+04\n",
      "Df Model:                           8                                         \n",
      "Covariance Type:            nonrobust                                         \n",
      "==============================================================================\n",
      "                 coef    std err          t      P>|t|      [0.025      0.975]\n",
      "------------------------------------------------------------------------------\n",
      "x1          3607.4727    167.116     21.587      0.000    3279.633    3935.312\n",
      "x2          2067.6920    174.340     11.860      0.000    1725.681    2409.703\n",
      "x3           572.9982    166.060      3.451      0.001     247.230     898.766\n",
      "x4          8195.6945    189.687     43.206      0.000    7823.577    8567.812\n",
      "x5          8064.3801    181.866     44.343      0.000    7707.605    8421.155\n",
      "x6         -3794.2299    170.920    -22.199      0.000   -4129.533   -3458.927\n",
      "x7          2.005e+04    264.128     75.926      0.000    1.95e+04    2.06e+04\n",
      "x8          4652.0279    296.543     15.688      0.000    4070.284    5233.772\n",
      "x9          4299.0640    297.260     14.462      0.000    3715.914    4882.214\n",
      "x10         3617.0058    290.775     12.439      0.000    3046.578    4187.433\n",
      "x11         3691.9769    294.485     12.537      0.000    3114.271    4269.682\n",
      "==============================================================================\n",
      "Omnibus:                      300.366   Durbin-Watson:                   2.088\n",
      "Prob(Omnibus):                  0.000   Jarque-Bera (JB):              718.887\n",
      "Skew:                           1.211   Prob(JB):                    7.86e-157\n",
      "Kurtosis:                       5.651   Cond. No.                     9.90e+15\n",
      "==============================================================================\n",
      "\n",
      "Warnings:\n",
      "[1] Standard Errors assume that the covariance matrix of the errors is correctly specified.\n",
      "[2] The smallest eigenvalue is 2.01e-29. This might indicate that there are\n",
      "strong multicollinearity problems or that the design matrix is singular.\n"
     ]
    }
   ],
   "source": [
    "scaler = StandardScaler()\n",
    "standard_X = scaler.fit_transform(train_X)\n",
    "print standard_X.shape\n",
    "\n",
    "nc = np.concatenate((standard_X, onehotlabels), axis=1)\n",
    "mod = sm.OLS(train_Y, nc)    # Describe model\n",
    "res = mod.fit()       # Fit model\n",
    "print(res.summary()) "
   ]
  },
  {
   "cell_type": "code",
   "execution_count": 100,
   "metadata": {},
   "outputs": [
    {
     "name": "stdout",
     "output_type": "stream",
     "text": [
      "[19 18 28 ... 18 21 61]\n",
      "(1338, 11)\n"
     ]
    }
   ],
   "source": [
    "ft1 = np.array(insurance_df['ft1'])\n",
    "ft23 = np.array(insurance_df[['ft2', 'ft3']])\n",
    "new_ft1 = list()\n",
    "print ft1\n",
    "\n",
    "for val in ft1:\n",
    "    if val < 30:\n",
    "        new_ft1.append([1])\n",
    "    elif val > 50:\n",
    "        new_ft1.append([3])\n",
    "    else:\n",
    "        new_ft1.append([2])\n",
    "        \n",
    "nc = np.concatenate((new_ft1,ft23, onehotlabels), axis=1)\n",
    "print nc.shape"
   ]
  },
  {
   "cell_type": "code",
   "execution_count": null,
   "metadata": {},
   "outputs": [],
   "source": []
  },
  {
   "cell_type": "code",
   "execution_count": null,
   "metadata": {},
   "outputs": [],
   "source": []
  }
 ],
 "metadata": {
  "kernelspec": {
   "display_name": "Python 2",
   "language": "python",
   "name": "python2"
  },
  "language_info": {
   "codemirror_mode": {
    "name": "ipython",
    "version": 2
   },
   "file_extension": ".py",
   "mimetype": "text/x-python",
   "name": "python",
   "nbconvert_exporter": "python",
   "pygments_lexer": "ipython2",
   "version": "2.7.12"
  }
 },
 "nbformat": 4,
 "nbformat_minor": 2
}
